{
 "cells": [
  {
   "cell_type": "code",
   "execution_count": 338,
   "id": "f7f34249",
   "metadata": {},
   "outputs": [],
   "source": [
    "import pandas as pd\n",
    "import numpy as np\n",
    "import matplotlib.pyplot as plt\n",
    "import seaborn as sns\n",
    "import sklearn\n",
    "\n",
    "import plotly.express as px\n",
    "import plotly.graph_objects as go\n",
    "from plotly.subplots import make_subplots\n",
    "\n",
    "from sklearn.linear_model import LogisticRegression\n",
    "from sklearn.model_selection import train_test_split\n",
    "from sklearn.metrics import confusion_matrix, f1_score, accuracy_score, classification_report\n",
    "from sklearn.preprocessing import StandardScaler\n",
    "from sklearn.model_selection import GridSearchCV\n",
    "from sklearn.preprocessing import LabelEncoder\n",
    "from sklearn.pipeline import Pipeline"
   ]
  },
  {
   "cell_type": "code",
   "execution_count": 339,
   "id": "14ce7c61",
   "metadata": {},
   "outputs": [],
   "source": [
    "workplace_df=pd.read_csv('survey.csv')"
   ]
  },
  {
   "cell_type": "code",
   "execution_count": 340,
   "id": "344829c6",
   "metadata": {
    "scrolled": true
   },
   "outputs": [
    {
     "data": {
      "text/html": [
       "<div>\n",
       "<style scoped>\n",
       "    .dataframe tbody tr th:only-of-type {\n",
       "        vertical-align: middle;\n",
       "    }\n",
       "\n",
       "    .dataframe tbody tr th {\n",
       "        vertical-align: top;\n",
       "    }\n",
       "\n",
       "    .dataframe thead th {\n",
       "        text-align: right;\n",
       "    }\n",
       "</style>\n",
       "<table border=\"1\" class=\"dataframe\">\n",
       "  <thead>\n",
       "    <tr style=\"text-align: right;\">\n",
       "      <th></th>\n",
       "      <th>Timestamp</th>\n",
       "      <th>Age</th>\n",
       "      <th>Gender</th>\n",
       "      <th>Country</th>\n",
       "      <th>state</th>\n",
       "      <th>self_employed</th>\n",
       "      <th>family_history</th>\n",
       "      <th>treatment</th>\n",
       "      <th>work_interfere</th>\n",
       "      <th>no_employees</th>\n",
       "      <th>...</th>\n",
       "      <th>leave</th>\n",
       "      <th>mental_health_consequence</th>\n",
       "      <th>phys_health_consequence</th>\n",
       "      <th>coworkers</th>\n",
       "      <th>supervisor</th>\n",
       "      <th>mental_health_interview</th>\n",
       "      <th>phys_health_interview</th>\n",
       "      <th>mental_vs_physical</th>\n",
       "      <th>obs_consequence</th>\n",
       "      <th>comments</th>\n",
       "    </tr>\n",
       "  </thead>\n",
       "  <tbody>\n",
       "    <tr>\n",
       "      <th>0</th>\n",
       "      <td>2014-08-27 11:29:31</td>\n",
       "      <td>37</td>\n",
       "      <td>Female</td>\n",
       "      <td>United States</td>\n",
       "      <td>IL</td>\n",
       "      <td>NaN</td>\n",
       "      <td>No</td>\n",
       "      <td>Yes</td>\n",
       "      <td>Often</td>\n",
       "      <td>6-25</td>\n",
       "      <td>...</td>\n",
       "      <td>Somewhat easy</td>\n",
       "      <td>No</td>\n",
       "      <td>No</td>\n",
       "      <td>Some of them</td>\n",
       "      <td>Yes</td>\n",
       "      <td>No</td>\n",
       "      <td>Maybe</td>\n",
       "      <td>Yes</td>\n",
       "      <td>No</td>\n",
       "      <td>NaN</td>\n",
       "    </tr>\n",
       "    <tr>\n",
       "      <th>1</th>\n",
       "      <td>2014-08-27 11:29:37</td>\n",
       "      <td>44</td>\n",
       "      <td>M</td>\n",
       "      <td>United States</td>\n",
       "      <td>IN</td>\n",
       "      <td>NaN</td>\n",
       "      <td>No</td>\n",
       "      <td>No</td>\n",
       "      <td>Rarely</td>\n",
       "      <td>More than 1000</td>\n",
       "      <td>...</td>\n",
       "      <td>Don't know</td>\n",
       "      <td>Maybe</td>\n",
       "      <td>No</td>\n",
       "      <td>No</td>\n",
       "      <td>No</td>\n",
       "      <td>No</td>\n",
       "      <td>No</td>\n",
       "      <td>Don't know</td>\n",
       "      <td>No</td>\n",
       "      <td>NaN</td>\n",
       "    </tr>\n",
       "    <tr>\n",
       "      <th>2</th>\n",
       "      <td>2014-08-27 11:29:44</td>\n",
       "      <td>32</td>\n",
       "      <td>Male</td>\n",
       "      <td>Canada</td>\n",
       "      <td>NaN</td>\n",
       "      <td>NaN</td>\n",
       "      <td>No</td>\n",
       "      <td>No</td>\n",
       "      <td>Rarely</td>\n",
       "      <td>6-25</td>\n",
       "      <td>...</td>\n",
       "      <td>Somewhat difficult</td>\n",
       "      <td>No</td>\n",
       "      <td>No</td>\n",
       "      <td>Yes</td>\n",
       "      <td>Yes</td>\n",
       "      <td>Yes</td>\n",
       "      <td>Yes</td>\n",
       "      <td>No</td>\n",
       "      <td>No</td>\n",
       "      <td>NaN</td>\n",
       "    </tr>\n",
       "    <tr>\n",
       "      <th>3</th>\n",
       "      <td>2014-08-27 11:29:46</td>\n",
       "      <td>31</td>\n",
       "      <td>Male</td>\n",
       "      <td>United Kingdom</td>\n",
       "      <td>NaN</td>\n",
       "      <td>NaN</td>\n",
       "      <td>Yes</td>\n",
       "      <td>Yes</td>\n",
       "      <td>Often</td>\n",
       "      <td>26-100</td>\n",
       "      <td>...</td>\n",
       "      <td>Somewhat difficult</td>\n",
       "      <td>Yes</td>\n",
       "      <td>Yes</td>\n",
       "      <td>Some of them</td>\n",
       "      <td>No</td>\n",
       "      <td>Maybe</td>\n",
       "      <td>Maybe</td>\n",
       "      <td>No</td>\n",
       "      <td>Yes</td>\n",
       "      <td>NaN</td>\n",
       "    </tr>\n",
       "    <tr>\n",
       "      <th>4</th>\n",
       "      <td>2014-08-27 11:30:22</td>\n",
       "      <td>31</td>\n",
       "      <td>Male</td>\n",
       "      <td>United States</td>\n",
       "      <td>TX</td>\n",
       "      <td>NaN</td>\n",
       "      <td>No</td>\n",
       "      <td>No</td>\n",
       "      <td>Never</td>\n",
       "      <td>100-500</td>\n",
       "      <td>...</td>\n",
       "      <td>Don't know</td>\n",
       "      <td>No</td>\n",
       "      <td>No</td>\n",
       "      <td>Some of them</td>\n",
       "      <td>Yes</td>\n",
       "      <td>Yes</td>\n",
       "      <td>Yes</td>\n",
       "      <td>Don't know</td>\n",
       "      <td>No</td>\n",
       "      <td>NaN</td>\n",
       "    </tr>\n",
       "  </tbody>\n",
       "</table>\n",
       "<p>5 rows × 27 columns</p>\n",
       "</div>"
      ],
      "text/plain": [
       "             Timestamp  Age  Gender         Country state self_employed  \\\n",
       "0  2014-08-27 11:29:31   37  Female   United States    IL           NaN   \n",
       "1  2014-08-27 11:29:37   44       M   United States    IN           NaN   \n",
       "2  2014-08-27 11:29:44   32    Male          Canada   NaN           NaN   \n",
       "3  2014-08-27 11:29:46   31    Male  United Kingdom   NaN           NaN   \n",
       "4  2014-08-27 11:30:22   31    Male   United States    TX           NaN   \n",
       "\n",
       "  family_history treatment work_interfere    no_employees  ...  \\\n",
       "0             No       Yes          Often            6-25  ...   \n",
       "1             No        No         Rarely  More than 1000  ...   \n",
       "2             No        No         Rarely            6-25  ...   \n",
       "3            Yes       Yes          Often          26-100  ...   \n",
       "4             No        No          Never         100-500  ...   \n",
       "\n",
       "                leave mental_health_consequence phys_health_consequence  \\\n",
       "0       Somewhat easy                        No                      No   \n",
       "1          Don't know                     Maybe                      No   \n",
       "2  Somewhat difficult                        No                      No   \n",
       "3  Somewhat difficult                       Yes                     Yes   \n",
       "4          Don't know                        No                      No   \n",
       "\n",
       "      coworkers supervisor mental_health_interview phys_health_interview  \\\n",
       "0  Some of them        Yes                      No                 Maybe   \n",
       "1            No         No                      No                    No   \n",
       "2           Yes        Yes                     Yes                   Yes   \n",
       "3  Some of them         No                   Maybe                 Maybe   \n",
       "4  Some of them        Yes                     Yes                   Yes   \n",
       "\n",
       "  mental_vs_physical obs_consequence comments  \n",
       "0                Yes              No      NaN  \n",
       "1         Don't know              No      NaN  \n",
       "2                 No              No      NaN  \n",
       "3                 No             Yes      NaN  \n",
       "4         Don't know              No      NaN  \n",
       "\n",
       "[5 rows x 27 columns]"
      ]
     },
     "execution_count": 340,
     "metadata": {},
     "output_type": "execute_result"
    }
   ],
   "source": [
    "workplace_df.head()"
   ]
  },
  {
   "cell_type": "code",
   "execution_count": 341,
   "id": "9113a917",
   "metadata": {
    "scrolled": false
   },
   "outputs": [
    {
     "name": "stdout",
     "output_type": "stream",
     "text": [
      "\u001b[1mEXPLORATORY DATA ANALYSIS :\u001b[0m\n",
      "\n",
      "\u001b[1mShape of the data (rows, columns):\u001b[0m\n",
      "(1259, 27) \n",
      "------------------------------------------------------------------------------------\n",
      "\n",
      "\u001b[1mAll columns from the dataframe :\u001b[0m\n",
      "Index(['Timestamp', 'Age', 'Gender', 'Country', 'state', 'self_employed',\n",
      "       'family_history', 'treatment', 'work_interfere', 'no_employees',\n",
      "       'remote_work', 'tech_company', 'benefits', 'care_options',\n",
      "       'wellness_program', 'seek_help', 'anonymity', 'leave',\n",
      "       'mental_health_consequence', 'phys_health_consequence', 'coworkers',\n",
      "       'supervisor', 'mental_health_interview', 'phys_health_interview',\n",
      "       'mental_vs_physical', 'obs_consequence', 'comments'],\n",
      "      dtype='object') \n",
      "------------------------------------------------------------------------------------\n",
      "\n",
      "\u001b[1mDatatpes and Missing values:\u001b[0m\n",
      "<class 'pandas.core.frame.DataFrame'>\n",
      "RangeIndex: 1259 entries, 0 to 1258\n",
      "Data columns (total 27 columns):\n",
      " #   Column                     Non-Null Count  Dtype \n",
      "---  ------                     --------------  ----- \n",
      " 0   Timestamp                  1259 non-null   object\n",
      " 1   Age                        1259 non-null   int64 \n",
      " 2   Gender                     1259 non-null   object\n",
      " 3   Country                    1259 non-null   object\n",
      " 4   state                      744 non-null    object\n",
      " 5   self_employed              1241 non-null   object\n",
      " 6   family_history             1259 non-null   object\n",
      " 7   treatment                  1259 non-null   object\n",
      " 8   work_interfere             995 non-null    object\n",
      " 9   no_employees               1259 non-null   object\n",
      " 10  remote_work                1259 non-null   object\n",
      " 11  tech_company               1259 non-null   object\n",
      " 12  benefits                   1259 non-null   object\n",
      " 13  care_options               1259 non-null   object\n",
      " 14  wellness_program           1259 non-null   object\n",
      " 15  seek_help                  1259 non-null   object\n",
      " 16  anonymity                  1259 non-null   object\n",
      " 17  leave                      1259 non-null   object\n",
      " 18  mental_health_consequence  1259 non-null   object\n",
      " 19  phys_health_consequence    1259 non-null   object\n",
      " 20  coworkers                  1259 non-null   object\n",
      " 21  supervisor                 1259 non-null   object\n",
      " 22  mental_health_interview    1259 non-null   object\n",
      " 23  phys_health_interview      1259 non-null   object\n",
      " 24  mental_vs_physical         1259 non-null   object\n",
      " 25  obs_consequence            1259 non-null   object\n",
      " 26  comments                   164 non-null    object\n",
      "dtypes: int64(1), object(26)\n",
      "memory usage: 265.7+ KB\n",
      "None \n",
      "------------------------------------------------------------------------------------\n",
      "\n",
      "\u001b[1mUnique values in Timestamp :\u001b[0m 1246\n",
      "\u001b[1mUnique values in Age :\u001b[0m 53\n",
      "\u001b[1mUnique values in Gender :\u001b[0m 49\n",
      "\u001b[1mUnique values in Country :\u001b[0m 48\n",
      "\u001b[1mUnique values in state :\u001b[0m 46\n",
      "\u001b[1mUnique values in self_employed :\u001b[0m 3\n",
      "\u001b[1mUnique values in family_history :\u001b[0m 2\n",
      "\u001b[1mUnique values in treatment :\u001b[0m 2\n",
      "\u001b[1mUnique values in work_interfere :\u001b[0m 5\n",
      "\u001b[1mUnique values in no_employees :\u001b[0m 6\n",
      "\u001b[1mUnique values in remote_work :\u001b[0m 2\n",
      "\u001b[1mUnique values in tech_company :\u001b[0m 2\n",
      "\u001b[1mUnique values in benefits :\u001b[0m 3\n",
      "\u001b[1mUnique values in care_options :\u001b[0m 3\n",
      "\u001b[1mUnique values in wellness_program :\u001b[0m 3\n",
      "\u001b[1mUnique values in seek_help :\u001b[0m 3\n",
      "\u001b[1mUnique values in anonymity :\u001b[0m 3\n",
      "\u001b[1mUnique values in leave :\u001b[0m 5\n",
      "\u001b[1mUnique values in mental_health_consequence :\u001b[0m 3\n",
      "\u001b[1mUnique values in phys_health_consequence :\u001b[0m 3\n",
      "\u001b[1mUnique values in coworkers :\u001b[0m 3\n",
      "\u001b[1mUnique values in supervisor :\u001b[0m 3\n",
      "\u001b[1mUnique values in mental_health_interview :\u001b[0m 3\n",
      "\u001b[1mUnique values in phys_health_interview :\u001b[0m 3\n",
      "\u001b[1mUnique values in mental_vs_physical :\u001b[0m 3\n",
      "\u001b[1mUnique values in obs_consequence :\u001b[0m 2\n",
      "\u001b[1mUnique values in comments :\u001b[0m 161\n",
      "\n",
      "------------------------------------------------------------------------------------\n",
      "\n",
      "\u001b[1mSummary statistics for the data :\u001b[0m\n",
      "                  Timestamp           Age Gender        Country state  \\\n",
      "count                  1259  1.259000e+03   1259           1259   744   \n",
      "unique                 1246           NaN     49             48    45   \n",
      "top     2014-08-27 12:44:51           NaN   Male  United States    CA   \n",
      "freq                      2           NaN    615            751   138   \n",
      "mean                    NaN  7.942815e+07    NaN            NaN   NaN   \n",
      "std                     NaN  2.818299e+09    NaN            NaN   NaN   \n",
      "min                     NaN -1.726000e+03    NaN            NaN   NaN   \n",
      "25%                     NaN  2.700000e+01    NaN            NaN   NaN   \n",
      "50%                     NaN  3.100000e+01    NaN            NaN   NaN   \n",
      "75%                     NaN  3.600000e+01    NaN            NaN   NaN   \n",
      "max                     NaN  1.000000e+11    NaN            NaN   NaN   \n",
      "\n",
      "       self_employed family_history treatment work_interfere no_employees  \\\n",
      "count           1241           1259      1259            995         1259   \n",
      "unique             2              2         2              4            6   \n",
      "top               No             No       Yes      Sometimes         6-25   \n",
      "freq            1095            767       637            465          290   \n",
      "mean             NaN            NaN       NaN            NaN          NaN   \n",
      "std              NaN            NaN       NaN            NaN          NaN   \n",
      "min              NaN            NaN       NaN            NaN          NaN   \n",
      "25%              NaN            NaN       NaN            NaN          NaN   \n",
      "50%              NaN            NaN       NaN            NaN          NaN   \n",
      "75%              NaN            NaN       NaN            NaN          NaN   \n",
      "max              NaN            NaN       NaN            NaN          NaN   \n",
      "\n",
      "        ...       leave mental_health_consequence phys_health_consequence  \\\n",
      "count   ...        1259                      1259                    1259   \n",
      "unique  ...           5                         3                       3   \n",
      "top     ...  Don't know                        No                      No   \n",
      "freq    ...         563                       490                     925   \n",
      "mean    ...         NaN                       NaN                     NaN   \n",
      "std     ...         NaN                       NaN                     NaN   \n",
      "min     ...         NaN                       NaN                     NaN   \n",
      "25%     ...         NaN                       NaN                     NaN   \n",
      "50%     ...         NaN                       NaN                     NaN   \n",
      "75%     ...         NaN                       NaN                     NaN   \n",
      "max     ...         NaN                       NaN                     NaN   \n",
      "\n",
      "           coworkers supervisor mental_health_interview phys_health_interview  \\\n",
      "count           1259       1259                    1259                  1259   \n",
      "unique             3          3                       3                     3   \n",
      "top     Some of them        Yes                      No                 Maybe   \n",
      "freq             774        516                    1008                   557   \n",
      "mean             NaN        NaN                     NaN                   NaN   \n",
      "std              NaN        NaN                     NaN                   NaN   \n",
      "min              NaN        NaN                     NaN                   NaN   \n",
      "25%              NaN        NaN                     NaN                   NaN   \n",
      "50%              NaN        NaN                     NaN                   NaN   \n",
      "75%              NaN        NaN                     NaN                   NaN   \n",
      "max              NaN        NaN                     NaN                   NaN   \n",
      "\n",
      "       mental_vs_physical obs_consequence                         comments  \n",
      "count                1259            1259                              164  \n",
      "unique                  3               2                              160  \n",
      "top            Don't know              No  * Small family business - YMMV.  \n",
      "freq                  576            1075                                5  \n",
      "mean                  NaN             NaN                              NaN  \n",
      "std                   NaN             NaN                              NaN  \n",
      "min                   NaN             NaN                              NaN  \n",
      "25%                   NaN             NaN                              NaN  \n",
      "50%                   NaN             NaN                              NaN  \n",
      "75%                   NaN             NaN                              NaN  \n",
      "max                   NaN             NaN                              NaN  \n",
      "\n",
      "[11 rows x 27 columns] \n",
      "------------------------------------------------------------------------------------\n",
      "\n",
      "\u001b[1mMemory used by the data :\u001b[0m\n",
      "Index                          128\n",
      "Timestamp                    10072\n",
      "Age                          10072\n",
      "Gender                       10072\n",
      "Country                      10072\n",
      "state                        10072\n",
      "self_employed                10072\n",
      "family_history               10072\n",
      "treatment                    10072\n",
      "work_interfere               10072\n",
      "no_employees                 10072\n",
      "remote_work                  10072\n",
      "tech_company                 10072\n",
      "benefits                     10072\n",
      "care_options                 10072\n",
      "wellness_program             10072\n",
      "seek_help                    10072\n",
      "anonymity                    10072\n",
      "leave                        10072\n",
      "mental_health_consequence    10072\n",
      "phys_health_consequence      10072\n",
      "coworkers                    10072\n",
      "supervisor                   10072\n",
      "mental_health_interview      10072\n",
      "phys_health_interview        10072\n",
      "mental_vs_physical           10072\n",
      "obs_consequence              10072\n",
      "comments                     10072\n",
      "dtype: int64 \n",
      "------------------------------------------------------------------------------------\n",
      "\n",
      "\u001b[1mNumber of duplicate values :\u001b[0m\n",
      "0\n"
     ]
    }
   ],
   "source": [
    "def EDA(workplace_df):\n",
    "    \n",
    "    print('\\033[1m' +'EXPLORATORY DATA ANALYSIS :'+ '\\033[0m\\n')\n",
    "    print('\\033[1m' + 'Shape of the data (rows, columns):' + '\\033[0m')\n",
    "    print(workplace_df.shape, \n",
    "          '\\n------------------------------------------------------------------------------------\\n')\n",
    "    \n",
    "    print('\\033[1m' + 'All columns from the dataframe :' + '\\033[0m')\n",
    "    print(workplace_df.columns, \n",
    "          '\\n------------------------------------------------------------------------------------\\n')\n",
    "    \n",
    "    print('\\033[1m' + 'Datatpes and Missing values:' + '\\033[0m')\n",
    "    print(workplace_df.info(), \n",
    "          '\\n------------------------------------------------------------------------------------\\n')\n",
    "    \n",
    "    for col in workplace_df.columns:\n",
    "        print('\\033[1m' + 'Unique values in {} :'.format(col) + '\\033[0m',len(workplace_df[col].unique()))\n",
    "    print('\\n------------------------------------------------------------------------------------\\n')\n",
    "    \n",
    "    print('\\033[1m' + 'Summary statistics for the data :' + '\\033[0m')\n",
    "    print(workplace_df.describe(include='all'), \n",
    "          '\\n------------------------------------------------------------------------------------\\n')\n",
    "    \n",
    "        \n",
    "    print('\\033[1m' + 'Memory used by the data :' + '\\033[0m')\n",
    "    print(workplace_df.memory_usage(), \n",
    "          '\\n------------------------------------------------------------------------------------\\n')\n",
    "    \n",
    "    print('\\033[1m' + 'Number of duplicate values :' + '\\033[0m')\n",
    "    print(workplace_df.duplicated().sum())\n",
    "          \n",
    "EDA(workplace_df)"
   ]
  },
  {
   "cell_type": "code",
   "execution_count": 342,
   "id": "25dbe619",
   "metadata": {},
   "outputs": [
    {
     "data": {
      "image/png": "[encoded data removed]",
      "text/plain": [
       "<Figure size 1800x450 with 1 Axes>"
      ]
     },
     "metadata": {},
     "output_type": "display_data"
    }
   ],
   "source": [
    "plt.figure(figsize=(20,5) , dpi=90)\n",
    "sns.heatmap(workplace_df.isna(), cmap='YlGn', cbar = False, alpha = 0.6)\n",
    "plt.xticks(rotation=90)\n",
    "hfont = {'fontname':'bold'}\n",
    "plt.title ('Heatmap For missing values',\n",
    "           **hfont,\n",
    "           color = '#29452a',\n",
    "           weight = 'semibold',\n",
    "           fontsize = 16,\n",
    "           alpha = 0.6)\n",
    "plt.xticks(**hfont)\n",
    "plt.show()"
   ]
  },
  {
   "cell_type": "code",
   "execution_count": 343,
   "id": "dbc2131f",
   "metadata": {},
   "outputs": [
    {
     "data": {
      "text/html": [
       "<style type=\"text/css\">\n",
       "#T_6dc71_row0_col0, #T_6dc71_row0_col1, #T_6dc71_row1_col0, #T_6dc71_row1_col1, #T_6dc71_row2_col0, #T_6dc71_row2_col1, #T_6dc71_row3_col0, #T_6dc71_row3_col1 {\n",
       "  background-color: #eaedb4;\n",
       "}\n",
       "</style>\n",
       "<table id=\"T_6dc71\">\n",
       "  <thead>\n",
       "    <tr>\n",
       "      <th class=\"blank level0\" >&nbsp;</th>\n",
       "      <th id=\"T_6dc71_level0_col0\" class=\"col_heading level0 col0\" >Column</th>\n",
       "      <th id=\"T_6dc71_level0_col1\" class=\"col_heading level0 col1\" >Missing_Proportion</th>\n",
       "    </tr>\n",
       "  </thead>\n",
       "  <tbody>\n",
       "    <tr>\n",
       "      <th id=\"T_6dc71_level0_row0\" class=\"row_heading level0 row0\" >0</th>\n",
       "      <td id=\"T_6dc71_row0_col0\" class=\"data row0 col0\" >self_employed</td>\n",
       "      <td id=\"T_6dc71_row0_col1\" class=\"data row0 col1\" >1.429706</td>\n",
       "    </tr>\n",
       "    <tr>\n",
       "      <th id=\"T_6dc71_level0_row1\" class=\"row_heading level0 row1\" >1</th>\n",
       "      <td id=\"T_6dc71_row1_col0\" class=\"data row1 col0\" >work_interfere</td>\n",
       "      <td id=\"T_6dc71_row1_col1\" class=\"data row1 col1\" >20.969023</td>\n",
       "    </tr>\n",
       "    <tr>\n",
       "      <th id=\"T_6dc71_level0_row2\" class=\"row_heading level0 row2\" >2</th>\n",
       "      <td id=\"T_6dc71_row2_col0\" class=\"data row2 col0\" >state</td>\n",
       "      <td id=\"T_6dc71_row2_col1\" class=\"data row2 col1\" >40.905481</td>\n",
       "    </tr>\n",
       "    <tr>\n",
       "      <th id=\"T_6dc71_level0_row3\" class=\"row_heading level0 row3\" >3</th>\n",
       "      <td id=\"T_6dc71_row3_col0\" class=\"data row3 col0\" >comments</td>\n",
       "      <td id=\"T_6dc71_row3_col1\" class=\"data row3 col1\" >86.973789</td>\n",
       "    </tr>\n",
       "  </tbody>\n",
       "</table>\n"
      ],
      "text/plain": [
       "<pandas.io.formats.style.Styler at 0x190ffb467c0>"
      ]
     },
     "execution_count": 343,
     "metadata": {},
     "output_type": "execute_result"
    }
   ],
   "source": [
    "cols = []\n",
    "props = []\n",
    "prop = {'Column' : cols, 'Missing_Proportion': props}\n",
    "for col in workplace_df.columns:\n",
    "    missing_prop = workplace_df[col].isna().sum() / workplace_df.shape[0] * 100\n",
    "    if missing_prop > 0:\n",
    "        cols.append(col)\n",
    "        props.append(missing_prop)\n",
    " \n",
    "prop = pd.DataFrame(prop).sort_values('Missing_Proportion', ignore_index=True)\n",
    "prop.style.applymap(lambda x : \"background-color: #eaedb4\")"
   ]
  },
  {
   "cell_type": "code",
   "execution_count": 344,
   "id": "bb339778",
   "metadata": {},
   "outputs": [
    {
     "name": "stdout",
     "output_type": "stream",
     "text": [
      "\u001b[1mTotal countries surveyed :\u001b[0m 48\n",
      "\u001b[1mUnique states in the Data :\u001b[0m\n",
      " ['IL' 'IN' nan 'TX' 'TN' 'MI' 'OH' 'CA' 'CT' 'MD' 'NY' 'NC' 'MA' 'IA' 'PA'\n",
      " 'WA' 'WI' 'UT' 'NM' 'OR' 'FL' 'MN' 'MO' 'AZ' 'CO' 'GA' 'DC' 'NE' 'WV'\n",
      " 'OK' 'KS' 'VA' 'NH' 'KY' 'AL' 'NV' 'NJ' 'SC' 'VT' 'SD' 'ID' 'MS' 'RI'\n",
      " 'WY' 'LA' 'ME']\n"
     ]
    }
   ],
   "source": [
    "print('\\033[1m' + 'Total countries surveyed :' + '\\033[0m', len(workplace_df.Country.value_counts()))\n",
    "print('\\033[1m' + 'Unique states in the Data :' + '\\033[0m\\n', workplace_df.state.unique())"
   ]
  },
  {
   "cell_type": "code",
   "execution_count": 345,
   "id": "f8166f8a",
   "metadata": {},
   "outputs": [
    {
     "name": "stdout",
     "output_type": "stream",
     "text": [
      "\u001b[1mColumns in updated Dataframe :\u001b[0m 24\n"
     ]
    }
   ],
   "source": [
    "#Dropping\n",
    "\n",
    "workplace_df = workplace_df.drop(columns=['state', 'comments', 'Timestamp'])\n",
    "print('\\033[1m' + 'Columns in updated Dataframe :' + '\\033[0m', len(df.columns))"
   ]
  },
  {
   "cell_type": "code",
   "execution_count": 346,
   "id": "c3b8eaaa",
   "metadata": {},
   "outputs": [
    {
     "name": "stdout",
     "output_type": "stream",
     "text": [
      "\u001b[1mTotal empty values in the Dataset :\u001b[0m 0\n"
     ]
    }
   ],
   "source": [
    "# Imputing\n",
    "\n",
    "workplace_df['self_employed'] = workplace_df['self_employed']\\\n",
    "                      .fillna(pd.Series(np.random.choice(['Yes', 'No'], p=[0.117647, 0.882353], size=len(workplace_df))))\n",
    "\n",
    "workplace_df['work_interfere'] = workplace_df['work_interfere']\\\n",
    "                      .fillna(pd.Series(np.random.choice(['Sometimes', 'Never', 'Rarely', 'Often']\n",
    "                                                         , p=[0.467337, 0.214070, 0.173869, 0.144724], size=len(workplace_df))))\n",
    "\n",
    "print('\\033[1m' + 'Total empty values in the Dataset :' + '\\033[0m' , workplace_df.isnull().sum().sum())"
   ]
  },
  {
   "cell_type": "code",
   "execution_count": 347,
   "id": "961b8243",
   "metadata": {},
   "outputs": [
    {
     "name": "stdout",
     "output_type": "stream",
     "text": [
      "\u001b[1mUnique values in updated Gender column :\u001b[0m ['F' 'M' 'other']\n",
      "\u001b[1mRange of column Age (Before) :\u001b[0m (18, 72)\n",
      "\u001b[1mRange of column Age :\u001b[0m (18, 72)\n"
     ]
    }
   ],
   "source": [
    "# Feature engineering\n",
    "\n",
    "age = []\n",
    "for i in workplace_df.Age:\n",
    "    if (i<18) or (i>99):\n",
    "        age.append(31)   # Median\n",
    "    else:\n",
    "        age.append(i)\n",
    "\n",
    "workplace_df['Age'] = age\n",
    "\n",
    "other  = ['A little about you', 'p', 'Nah', 'Enby', 'Trans-female','something kinda male?','queer/she/they','non-binary','All','fluid', 'Genderqueer','Androgyne', 'Agender','Guy (-ish) ^_^', 'male leaning androgynous','Trans woman','Neuter', 'Female (trans)','queer','ostensibly male, unsure what that really means','trans']\n",
    "male   = ['male', 'Male','M', 'm', 'Male-ish', 'maile','Cis Male','Mal', 'Male (CIS)','Make','Male ', 'Man', 'msle','cis male', 'Cis Man','Malr','Mail']\n",
    "female = ['Female', 'female','Cis Female', 'F','f','Femake', 'woman','Female ','cis-female/femme','Female (cis)','femail','Woman','female']\n",
    "\n",
    "workplace_df['Gender'].replace(to_replace = other, value = 'other', inplace=True)\n",
    "workplace_df['Gender'].replace(to_replace = male, value = 'M', inplace=True)\n",
    "workplace_df['Gender'].replace(to_replace = female, value = 'F', inplace=True)\n",
    "\n",
    "print('\\033[1m' + 'Unique values in updated Gender column :' + '\\033[0m', workplace_df.Gender.unique())\n",
    "print('\\033[1m' + 'Range of column Age (Before) :' + '\\033[0m', (workplace_df.Age.min(), workplace_df.Age.max()))\n",
    "print('\\033[1m' + 'Range of column Age :' + '\\033[0m', (workplace_df.Age.min(), workplace_df.Age.max()))"
   ]
  },
  {
   "cell_type": "code",
   "execution_count": 348,
   "id": "8cc5109a",
   "metadata": {},
   "outputs": [
    {
     "data": {
      "application/vnd.plotly.v1+json": {
       "config": {
        "plotlyServerURL": "https://plot.ly"
       },
       "data": [
        {
         "hole": 0.5,
         "hoverinfo": "label+percent",
         "labels": [
          "M",
          "F",
          "other"
         ],
         "marker": {
          "colors": [
           "#dbe9f6",
           "#bad6eb",
           "#89bedc",
           "#539ecd",
           "#2b7bba",
           "#0b559f"
          ],
          "line": {
           "color": "#111111",
           "width": 1
          }
         },
         "opacity": 0.9,
         "showlegend": false,
         "textfont": {
          "size": 10
         },
         "textinfo": "label+percent",
         "title": {
          "font": {
           "family": "bold",
           "size": 20
          },
          "text": "Distribution of Gender"
         },
         "type": "pie",
         "values": [
          991,
          247,
          21
         ]
        },
        {
         "hole": 0.5,
         "hoverinfo": "label+percent",
         "labels": [
          "No",
          "Yes"
         ],
         "marker": {
          "colors": [
           "#dbe9f6",
           "#bad6eb",
           "#89bedc",
           "#539ecd",
           "#2b7bba",
           "#0b559f"
          ],
          "line": {
           "color": "#111111",
           "width": 1
          }
         },
         "opacity": 0.9,
         "showlegend": false,
         "textfont": {
          "size": 10
         },
         "textinfo": "label+percent",
         "title": {
          "font": {
           "family": "bold",
           "size": 20
          },
          "text": "Distribution of self_employed"
         },
         "type": "pie",
         "values": [
          1111,
          148
         ],
         "visible": false
        },
        {
         "hole": 0.5,
         "hoverinfo": "label+percent",
         "labels": [
          "No",
          "Yes"
         ],
         "marker": {
          "colors": [
           "#dbe9f6",
           "#bad6eb",
           "#89bedc",
           "#539ecd",
           "#2b7bba",
           "#0b559f"
          ],
          "line": {
           "color": "#111111",
           "width": 1
          }
         },
         "opacity": 0.9,
         "showlegend": false,
         "textfont": {
          "size": 10
         },
         "textinfo": "label+percent",
         "title": {
          "font": {
           "family": "bold",
           "size": 20
          },
          "text": "Distribution of family_history"
         },
         "type": "pie",
         "values": [
          767,
          492
         ],
         "visible": false
        },
        {
         "hole": 0.5,
         "hoverinfo": "label+percent",
         "labels": [
          "Yes",
          "No"
         ],
         "marker": {
          "colors": [
           "#dbe9f6",
           "#bad6eb",
           "#89bedc",
           "#539ecd",
           "#2b7bba",
           "#0b559f"
          ],
          "line": {
           "color": "#111111",
           "width": 1
          }
         },
         "opacity": 0.9,
         "showlegend": false,
         "textfont": {
          "size": 10
         },
         "textinfo": "label+percent",
         "title": {
          "font": {
           "family": "bold",
           "size": 20
          },
          "text": "Distribution of treatment"
         },
         "type": "pie",
         "values": [
          637,
          622
         ],
         "visible": false
        },
        {
         "hole": 0.5,
         "hoverinfo": "label+percent",
         "labels": [
          "Sometimes",
          "Never",
          "Rarely",
          "Often"
         ],
         "marker": {
          "colors": [
           "#dbe9f6",
           "#bad6eb",
           "#89bedc",
           "#539ecd",
           "#2b7bba",
           "#0b559f"
          ],
          "line": {
           "color": "#111111",
           "width": 1
          }
         },
         "opacity": 0.9,
         "showlegend": false,
         "textfont": {
          "size": 10
         },
         "textinfo": "label+percent",
         "title": {
          "font": {
           "family": "bold",
           "size": 20
          },
          "text": "Distribution of work_interfere"
         },
         "type": "pie",
         "values": [
          602,
          264,
          214,
          179
         ],
         "visible": false
        },
        {
         "hole": 0.5,
         "hoverinfo": "label+percent",
         "labels": [
          "6-25",
          "26-100",
          "More than 1000",
          "100-500",
          "1-5",
          "500-1000"
         ],
         "marker": {
          "colors": [
           "#dbe9f6",
           "#bad6eb",
           "#89bedc",
           "#539ecd",
           "#2b7bba",
           "#0b559f"
          ],
          "line": {
           "color": "#111111",
           "width": 1
          }
         },
         "opacity": 0.9,
         "showlegend": false,
         "textfont": {
          "size": 10
         },
         "textinfo": "label+percent",
         "title": {
          "font": {
           "family": "bold",
           "size": 20
          },
          "text": "Distribution of no_employees"
         },
         "type": "pie",
         "values": [
          290,
          289,
          282,
          176,
          162,
          60
         ],
         "visible": false
        },
        {
         "hole": 0.5,
         "hoverinfo": "label+percent",
         "labels": [
          "No",
          "Yes"
         ],
         "marker": {
          "colors": [
           "#dbe9f6",
           "#bad6eb",
           "#89bedc",
           "#539ecd",
           "#2b7bba",
           "#0b559f"
          ],
          "line": {
           "color": "#111111",
           "width": 1
          }
         },
         "opacity": 0.9,
         "showlegend": false,
         "textfont": {
          "size": 10
         },
         "textinfo": "label+percent",
         "title": {
          "font": {
           "family": "bold",
           "size": 20
          },
          "text": "Distribution of remote_work"
         },
         "type": "pie",
         "values": [
          883,
          376
         ],
         "visible": false
        },
        {
         "hole": 0.5,
         "hoverinfo": "label+percent",
         "labels": [
          "Yes",
          "No"
         ],
         "marker": {
          "colors": [
           "#dbe9f6",
           "#bad6eb",
           "#89bedc",
           "#539ecd",
           "#2b7bba",
           "#0b559f"
          ],
          "line": {
           "color": "#111111",
           "width": 1
          }
         },
         "opacity": 0.9,
         "showlegend": false,
         "textfont": {
          "size": 10
         },
         "textinfo": "label+percent",
         "title": {
          "font": {
           "family": "bold",
           "size": 20
          },
          "text": "Distribution of tech_company"
         },
         "type": "pie",
         "values": [
          1031,
          228
         ],
         "visible": false
        },
        {
         "hole": 0.5,
         "hoverinfo": "label+percent",
         "labels": [
          "Yes",
          "Don't know",
          "No"
         ],
         "marker": {
          "colors": [
           "#dbe9f6",
           "#bad6eb",
           "#89bedc",
           "#539ecd",
           "#2b7bba",
           "#0b559f"
          ],
          "line": {
           "color": "#111111",
           "width": 1
          }
         },
         "opacity": 0.9,
         "showlegend": false,
         "textfont": {
          "size": 10
         },
         "textinfo": "label+percent",
         "title": {
          "font": {
           "family": "bold",
           "size": 20
          },
          "text": "Distribution of benefits"
         },
         "type": "pie",
         "values": [
          477,
          408,
          374
         ],
         "visible": false
        },
        {
         "hole": 0.5,
         "hoverinfo": "label+percent",
         "labels": [
          "No",
          "Yes",
          "Not sure"
         ],
         "marker": {
          "colors": [
           "#dbe9f6",
           "#bad6eb",
           "#89bedc",
           "#539ecd",
           "#2b7bba",
           "#0b559f"
          ],
          "line": {
           "color": "#111111",
           "width": 1
          }
         },
         "opacity": 0.9,
         "showlegend": false,
         "textfont": {
          "size": 10
         },
         "textinfo": "label+percent",
         "title": {
          "font": {
           "family": "bold",
           "size": 20
          },
          "text": "Distribution of care_options"
         },
         "type": "pie",
         "values": [
          501,
          444,
          314
         ],
         "visible": false
        },
        {
         "hole": 0.5,
         "hoverinfo": "label+percent",
         "labels": [
          "No",
          "Yes",
          "Don't know"
         ],
         "marker": {
          "colors": [
           "#dbe9f6",
           "#bad6eb",
           "#89bedc",
           "#539ecd",
           "#2b7bba",
           "#0b559f"
          ],
          "line": {
           "color": "#111111",
           "width": 1
          }
         },
         "opacity": 0.9,
         "showlegend": false,
         "textfont": {
          "size": 10
         },
         "textinfo": "label+percent",
         "title": {
          "font": {
           "family": "bold",
           "size": 20
          },
          "text": "Distribution of wellness_program"
         },
         "type": "pie",
         "values": [
          842,
          229,
          188
         ],
         "visible": false
        },
        {
         "hole": 0.5,
         "hoverinfo": "label+percent",
         "labels": [
          "No",
          "Don't know",
          "Yes"
         ],
         "marker": {
          "colors": [
           "#dbe9f6",
           "#bad6eb",
           "#89bedc",
           "#539ecd",
           "#2b7bba",
           "#0b559f"
          ],
          "line": {
           "color": "#111111",
           "width": 1
          }
         },
         "opacity": 0.9,
         "showlegend": false,
         "textfont": {
          "size": 10
         },
         "textinfo": "label+percent",
         "title": {
          "font": {
           "family": "bold",
           "size": 20
          },
          "text": "Distribution of seek_help"
         },
         "type": "pie",
         "values": [
          646,
          363,
          250
         ],
         "visible": false
        },
        {
         "hole": 0.5,
         "hoverinfo": "label+percent",
         "labels": [
          "Don't know",
          "Yes",
          "No"
         ],
         "marker": {
          "colors": [
           "#dbe9f6",
           "#bad6eb",
           "#89bedc",
           "#539ecd",
           "#2b7bba",
           "#0b559f"
          ],
          "line": {
           "color": "#111111",
           "width": 1
          }
         },
         "opacity": 0.9,
         "showlegend": false,
         "textfont": {
          "size": 10
         },
         "textinfo": "label+percent",
         "title": {
          "font": {
           "family": "bold",
           "size": 20
          },
          "text": "Distribution of anonymity"
         },
         "type": "pie",
         "values": [
          819,
          375,
          65
         ],
         "visible": false
        },
        {
         "hole": 0.5,
         "hoverinfo": "label+percent",
         "labels": [
          "Don't know",
          "Somewhat easy",
          "Very easy",
          "Somewhat difficult",
          "Very difficult"
         ],
         "marker": {
          "colors": [
           "#dbe9f6",
           "#bad6eb",
           "#89bedc",
           "#539ecd",
           "#2b7bba",
           "#0b559f"
          ],
          "line": {
           "color": "#111111",
           "width": 1
          }
         },
         "opacity": 0.9,
         "showlegend": false,
         "textfont": {
          "size": 10
         },
         "textinfo": "label+percent",
         "title": {
          "font": {
           "family": "bold",
           "size": 20
          },
          "text": "Distribution of leave"
         },
         "type": "pie",
         "values": [
          563,
          266,
          206,
          126,
          98
         ],
         "visible": false
        },
        {
         "hole": 0.5,
         "hoverinfo": "label+percent",
         "labels": [
          "No",
          "Maybe",
          "Yes"
         ],
         "marker": {
          "colors": [
           "#dbe9f6",
           "#bad6eb",
           "#89bedc",
           "#539ecd",
           "#2b7bba",
           "#0b559f"
          ],
          "line": {
           "color": "#111111",
           "width": 1
          }
         },
         "opacity": 0.9,
         "showlegend": false,
         "textfont": {
          "size": 10
         },
         "textinfo": "label+percent",
         "title": {
          "font": {
           "family": "bold",
           "size": 20
          },
          "text": "Distribution of mental_health_consequence"
         },
         "type": "pie",
         "values": [
          490,
          477,
          292
         ],
         "visible": false
        },
        {
         "hole": 0.5,
         "hoverinfo": "label+percent",
         "labels": [
          "No",
          "Maybe",
          "Yes"
         ],
         "marker": {
          "colors": [
           "#dbe9f6",
           "#bad6eb",
           "#89bedc",
           "#539ecd",
           "#2b7bba",
           "#0b559f"
          ],
          "line": {
           "color": "#111111",
           "width": 1
          }
         },
         "opacity": 0.9,
         "showlegend": false,
         "textfont": {
          "size": 10
         },
         "textinfo": "label+percent",
         "title": {
          "font": {
           "family": "bold",
           "size": 20
          },
          "text": "Distribution of phys_health_consequence"
         },
         "type": "pie",
         "values": [
          925,
          273,
          61
         ],
         "visible": false
        },
        {
         "hole": 0.5,
         "hoverinfo": "label+percent",
         "labels": [
          "Some of them",
          "No",
          "Yes"
         ],
         "marker": {
          "colors": [
           "#dbe9f6",
           "#bad6eb",
           "#89bedc",
           "#539ecd",
           "#2b7bba",
           "#0b559f"
          ],
          "line": {
           "color": "#111111",
           "width": 1
          }
         },
         "opacity": 0.9,
         "showlegend": false,
         "textfont": {
          "size": 10
         },
         "textinfo": "label+percent",
         "title": {
          "font": {
           "family": "bold",
           "size": 20
          },
          "text": "Distribution of coworkers"
         },
         "type": "pie",
         "values": [
          774,
          260,
          225
         ],
         "visible": false
        },
        {
         "hole": 0.5,
         "hoverinfo": "label+percent",
         "labels": [
          "Yes",
          "No",
          "Some of them"
         ],
         "marker": {
          "colors": [
           "#dbe9f6",
           "#bad6eb",
           "#89bedc",
           "#539ecd",
           "#2b7bba",
           "#0b559f"
          ],
          "line": {
           "color": "#111111",
           "width": 1
          }
         },
         "opacity": 0.9,
         "showlegend": false,
         "textfont": {
          "size": 10
         },
         "textinfo": "label+percent",
         "title": {
          "font": {
           "family": "bold",
           "size": 20
          },
          "text": "Distribution of supervisor"
         },
         "type": "pie",
         "values": [
          516,
          393,
          350
         ],
         "visible": false
        },
        {
         "hole": 0.5,
         "hoverinfo": "label+percent",
         "labels": [
          "No",
          "Maybe",
          "Yes"
         ],
         "marker": {
          "colors": [
           "#dbe9f6",
           "#bad6eb",
           "#89bedc",
           "#539ecd",
           "#2b7bba",
           "#0b559f"
          ],
          "line": {
           "color": "#111111",
           "width": 1
          }
         },
         "opacity": 0.9,
         "showlegend": false,
         "textfont": {
          "size": 10
         },
         "textinfo": "label+percent",
         "title": {
          "font": {
           "family": "bold",
           "size": 20
          },
          "text": "Distribution of mental_health_interview"
         },
         "type": "pie",
         "values": [
          1008,
          207,
          44
         ],
         "visible": false
        },
        {
         "hole": 0.5,
         "hoverinfo": "label+percent",
         "labels": [
          "Maybe",
          "No",
          "Yes"
         ],
         "marker": {
          "colors": [
           "#dbe9f6",
           "#bad6eb",
           "#89bedc",
           "#539ecd",
           "#2b7bba",
           "#0b559f"
          ],
          "line": {
           "color": "#111111",
           "width": 1
          }
         },
         "opacity": 0.9,
         "showlegend": false,
         "textfont": {
          "size": 10
         },
         "textinfo": "label+percent",
         "title": {
          "font": {
           "family": "bold",
           "size": 20
          },
          "text": "Distribution of phys_health_interview"
         },
         "type": "pie",
         "values": [
          557,
          500,
          202
         ],
         "visible": false
        },
        {
         "hole": 0.5,
         "hoverinfo": "label+percent",
         "labels": [
          "Don't know",
          "Yes",
          "No"
         ],
         "marker": {
          "colors": [
           "#dbe9f6",
           "#bad6eb",
           "#89bedc",
           "#539ecd",
           "#2b7bba",
           "#0b559f"
          ],
          "line": {
           "color": "#111111",
           "width": 1
          }
         },
         "opacity": 0.9,
         "showlegend": false,
         "textfont": {
          "size": 10
         },
         "textinfo": "label+percent",
         "title": {
          "font": {
           "family": "bold",
           "size": 20
          },
          "text": "Distribution of mental_vs_physical"
         },
         "type": "pie",
         "values": [
          576,
          343,
          340
         ],
         "visible": false
        },
        {
         "hole": 0.5,
         "hoverinfo": "label+percent",
         "labels": [
          "No",
          "Yes"
         ],
         "marker": {
          "colors": [
           "#dbe9f6",
           "#bad6eb",
           "#89bedc",
           "#539ecd",
           "#2b7bba",
           "#0b559f"
          ],
          "line": {
           "color": "#111111",
           "width": 1
          }
         },
         "opacity": 0.9,
         "showlegend": false,
         "textfont": {
          "size": 10
         },
         "textinfo": "label+percent",
         "title": {
          "font": {
           "family": "bold",
           "size": 20
          },
          "text": "Distribution of obs_consequence"
         },
         "type": "pie",
         "values": [
          1075,
          184
         ],
         "visible": false
        }
       ],
       "layout": {
        "annotations": [
         {
          "align": "left",
          "showarrow": false,
          "text": "<b>Choose<br>Column<b> : ",
          "x": 1.06,
          "y": 0.92,
          "yref": "paper"
         }
        ],
        "margin": {
         "b": 0,
         "l": 0,
         "r": 0,
         "t": 0
        },
        "template": {
         "data": {
          "bar": [
           {
            "error_x": {
             "color": "#2a3f5f"
            },
            "error_y": {
             "color": "#2a3f5f"
            },
            "marker": {
             "line": {
              "color": "#E5ECF6",
              "width": 0.5
             },
             "pattern": {
              "fillmode": "overlay",
              "size": 10,
              "solidity": 0.2
             }
            },
            "type": "bar"
           }
          ],
          "barpolar": [
           {
            "marker": {
             "line": {
              "color": "#E5ECF6",
              "width": 0.5
             },
             "pattern": {
              "fillmode": "overlay",
              "size": 10,
              "solidity": 0.2
             }
            },
            "type": "barpolar"
           }
          ],
          "carpet": [
           {
            "aaxis": {
             "endlinecolor": "#2a3f5f",
             "gridcolor": "white",
             "linecolor": "white",
             "minorgridcolor": "white",
             "startlinecolor": "#2a3f5f"
            },
            "baxis": {
             "endlinecolor": "#2a3f5f",
             "gridcolor": "white",
             "linecolor": "white",
             "minorgridcolor": "white",
             "startlinecolor": "#2a3f5f"
            },
            "type": "carpet"
           }
          ],
          "choropleth": [
           {
            "colorbar": {
             "outlinewidth": 0,
             "ticks": ""
            },
            "type": "choropleth"
           }
          ],
          "contour": [
           {
            "colorbar": {
             "outlinewidth": 0,
             "ticks": ""
            },
            "colorscale": [
             [
              0,
              "#0d0887"
             ],
             [
              0.1111111111111111,
              "#46039f"
             ],
             [
              0.2222222222222222,
              "#7201a8"
             ],
             [
              0.3333333333333333,
              "#9c179e"
             ],
             [
              0.4444444444444444,
              "#bd3786"
             ],
             [
              0.5555555555555556,
              "#d8576b"
             ],
             [
              0.6666666666666666,
              "#ed7953"
             ],
             [
              0.7777777777777778,
              "#fb9f3a"
             ],
             [
              0.8888888888888888,
              "#fdca26"
             ],
             [
              1,
              "#f0f921"
             ]
            ],
            "type": "contour"
           }
          ],
          "contourcarpet": [
           {
            "colorbar": {
             "outlinewidth": 0,
             "ticks": ""
            },
            "type": "contourcarpet"
           }
          ],
          "heatmap": [
           {
            "colorbar": {
             "outlinewidth": 0,
             "ticks": ""
            },
            "colorscale": [
             [
              0,
              "#0d0887"
             ],
             [
              0.1111111111111111,
              "#46039f"
             ],
             [
              0.2222222222222222,
              "#7201a8"
             ],
             [
              0.3333333333333333,
              "#9c179e"
             ],
             [
              0.4444444444444444,
              "#bd3786"
             ],
             [
              0.5555555555555556,
              "#d8576b"
             ],
             [
              0.6666666666666666,
              "#ed7953"
             ],
             [
              0.7777777777777778,
              "#fb9f3a"
             ],
             [
              0.8888888888888888,
              "#fdca26"
             ],
             [
              1,
              "#f0f921"
             ]
            ],
            "type": "heatmap"
           }
          ],
          "heatmapgl": [
           {
            "colorbar": {
             "outlinewidth": 0,
             "ticks": ""
            },
            "colorscale": [
             [
              0,
              "#0d0887"
             ],
             [
              0.1111111111111111,
              "#46039f"
             ],
             [
              0.2222222222222222,
              "#7201a8"
             ],
             [
              0.3333333333333333,
              "#9c179e"
             ],
             [
              0.4444444444444444,
              "#bd3786"
             ],
             [
              0.5555555555555556,
              "#d8576b"
             ],
             [
              0.6666666666666666,
              "#ed7953"
             ],
             [
              0.7777777777777778,
              "#fb9f3a"
             ],
             [
              0.8888888888888888,
              "#fdca26"
             ],
             [
              1,
              "#f0f921"
             ]
            ],
            "type": "heatmapgl"
           }
          ],
          "histogram": [
           {
            "marker": {
             "pattern": {
              "fillmode": "overlay",
              "size": 10,
              "solidity": 0.2
             }
            },
            "type": "histogram"
           }
          ],
          "histogram2d": [
           {
            "colorbar": {
             "outlinewidth": 0,
             "ticks": ""
            },
            "colorscale": [
             [
              0,
              "#0d0887"
             ],
             [
              0.1111111111111111,
              "#46039f"
             ],
             [
              0.2222222222222222,
              "#7201a8"
             ],
             [
              0.3333333333333333,
              "#9c179e"
             ],
             [
              0.4444444444444444,
              "#bd3786"
             ],
             [
              0.5555555555555556,
              "#d8576b"
             ],
             [
              0.6666666666666666,
              "#ed7953"
             ],
             [
              0.7777777777777778,
              "#fb9f3a"
             ],
             [
              0.8888888888888888,
              "#fdca26"
             ],
             [
              1,
              "#f0f921"
             ]
            ],
            "type": "histogram2d"
           }
          ],
          "histogram2dcontour": [
           {
            "colorbar": {
             "outlinewidth": 0,
             "ticks": ""
            },
            "colorscale": [
             [
              0,
              "#0d0887"
             ],
             [
              0.1111111111111111,
              "#46039f"
             ],
             [
              0.2222222222222222,
              "#7201a8"
             ],
             [
              0.3333333333333333,
              "#9c179e"
             ],
             [
              0.4444444444444444,
              "#bd3786"
             ],
             [
              0.5555555555555556,
              "#d8576b"
             ],
             [
              0.6666666666666666,
              "#ed7953"
             ],
             [
              0.7777777777777778,
              "#fb9f3a"
             ],
             [
              0.8888888888888888,
              "#fdca26"
             ],
             [
              1,
              "#f0f921"
             ]
            ],
            "type": "histogram2dcontour"
           }
          ],
          "mesh3d": [
           {
            "colorbar": {
             "outlinewidth": 0,
             "ticks": ""
            },
            "type": "mesh3d"
           }
          ],
          "parcoords": [
           {
            "line": {
             "colorbar": {
              "outlinewidth": 0,
              "ticks": ""
             }
            },
            "type": "parcoords"
           }
          ],
          "pie": [
           {
            "automargin": true,
            "type": "pie"
           }
          ],
          "scatter": [
           {
            "fillpattern": {
             "fillmode": "overlay",
             "size": 10,
             "solidity": 0.2
            },
            "type": "scatter"
           }
          ],
          "scatter3d": [
           {
            "line": {
             "colorbar": {
              "outlinewidth": 0,
              "ticks": ""
             }
            },
            "marker": {
             "colorbar": {
              "outlinewidth": 0,
              "ticks": ""
             }
            },
            "type": "scatter3d"
           }
          ],
          "scattercarpet": [
           {
            "marker": {
             "colorbar": {
              "outlinewidth": 0,
              "ticks": ""
             }
            },
            "type": "scattercarpet"
           }
          ],
          "scattergeo": [
           {
            "marker": {
             "colorbar": {
              "outlinewidth": 0,
              "ticks": ""
             }
            },
            "type": "scattergeo"
           }
          ],
          "scattergl": [
           {
            "marker": {
             "colorbar": {
              "outlinewidth": 0,
              "ticks": ""
             }
            },
            "type": "scattergl"
           }
          ],
          "scattermapbox": [
           {
            "marker": {
             "colorbar": {
              "outlinewidth": 0,
              "ticks": ""
             }
            },
            "type": "scattermapbox"
           }
          ],
          "scatterpolar": [
           {
            "marker": {
             "colorbar": {
              "outlinewidth": 0,
              "ticks": ""
             }
            },
            "type": "scatterpolar"
           }
          ],
          "scatterpolargl": [
           {
            "marker": {
             "colorbar": {
              "outlinewidth": 0,
              "ticks": ""
             }
            },
            "type": "scatterpolargl"
           }
          ],
          "scatterternary": [
           {
            "marker": {
             "colorbar": {
              "outlinewidth": 0,
              "ticks": ""
             }
            },
            "type": "scatterternary"
           }
          ],
          "surface": [
           {
            "colorbar": {
             "outlinewidth": 0,
             "ticks": ""
            },
            "colorscale": [
             [
              0,
              "#0d0887"
             ],
             [
              0.1111111111111111,
              "#46039f"
             ],
             [
              0.2222222222222222,
              "#7201a8"
             ],
             [
              0.3333333333333333,
              "#9c179e"
             ],
             [
              0.4444444444444444,
              "#bd3786"
             ],
             [
              0.5555555555555556,
              "#d8576b"
             ],
             [
              0.6666666666666666,
              "#ed7953"
             ],
             [
              0.7777777777777778,
              "#fb9f3a"
             ],
             [
              0.8888888888888888,
              "#fdca26"
             ],
             [
              1,
              "#f0f921"
             ]
            ],
            "type": "surface"
           }
          ],
          "table": [
           {
            "cells": {
             "fill": {
              "color": "#EBF0F8"
             },
             "line": {
              "color": "white"
             }
            },
            "header": {
             "fill": {
              "color": "#C8D4E3"
             },
             "line": {
              "color": "white"
             }
            },
            "type": "table"
           }
          ]
         },
         "layout": {
          "annotationdefaults": {
           "arrowcolor": "#2a3f5f",
           "arrowhead": 0,
           "arrowwidth": 1
          },
          "autotypenumbers": "strict",
          "coloraxis": {
           "colorbar": {
            "outlinewidth": 0,
            "ticks": ""
           }
          },
          "colorscale": {
           "diverging": [
            [
             0,
             "#8e0152"
            ],
            [
             0.1,
             "#c51b7d"
            ],
            [
             0.2,
             "#de77ae"
            ],
            [
             0.3,
             "#f1b6da"
            ],
            [
             0.4,
             "#fde0ef"
            ],
            [
             0.5,
             "#f7f7f7"
            ],
            [
             0.6,
             "#e6f5d0"
            ],
            [
             0.7,
             "#b8e186"
            ],
            [
             0.8,
             "#7fbc41"
            ],
            [
             0.9,
             "#4d9221"
            ],
            [
             1,
             "#276419"
            ]
           ],
           "sequential": [
            [
             0,
             "#0d0887"
            ],
            [
             0.1111111111111111,
             "#46039f"
            ],
            [
             0.2222222222222222,
             "#7201a8"
            ],
            [
             0.3333333333333333,
             "#9c179e"
            ],
            [
             0.4444444444444444,
             "#bd3786"
            ],
            [
             0.5555555555555556,
             "#d8576b"
            ],
            [
             0.6666666666666666,
             "#ed7953"
            ],
            [
             0.7777777777777778,
             "#fb9f3a"
            ],
            [
             0.8888888888888888,
             "#fdca26"
            ],
            [
             1,
             "#f0f921"
            ]
           ],
           "sequentialminus": [
            [
             0,
             "#0d0887"
            ],
            [
             0.1111111111111111,
             "#46039f"
            ],
            [
             0.2222222222222222,
             "#7201a8"
            ],
            [
             0.3333333333333333,
             "#9c179e"
            ],
            [
             0.4444444444444444,
             "#bd3786"
            ],
            [
             0.5555555555555556,
             "#d8576b"
            ],
            [
             0.6666666666666666,
             "#ed7953"
            ],
            [
             0.7777777777777778,
             "#fb9f3a"
            ],
            [
             0.8888888888888888,
             "#fdca26"
            ],
            [
             1,
             "#f0f921"
            ]
           ]
          },
          "colorway": [
           "#636efa",
           "#EF553B",
           "#00cc96",
           "#ab63fa",
           "#FFA15A",
           "#19d3f3",
           "#FF6692",
           "#B6E880",
           "#FF97FF",
           "#FECB52"
          ],
          "font": {
           "color": "#2a3f5f"
          },
          "geo": {
           "bgcolor": "white",
           "lakecolor": "white",
           "landcolor": "#E5ECF6",
           "showlakes": true,
           "showland": true,
           "subunitcolor": "white"
          },
          "hoverlabel": {
           "align": "left"
          },
          "hovermode": "closest",
          "mapbox": {
           "style": "light"
          },
          "paper_bgcolor": "white",
          "plot_bgcolor": "#E5ECF6",
          "polar": {
           "angularaxis": {
            "gridcolor": "white",
            "linecolor": "white",
            "ticks": ""
           },
           "bgcolor": "#E5ECF6",
           "radialaxis": {
            "gridcolor": "white",
            "linecolor": "white",
            "ticks": ""
           }
          },
          "scene": {
           "xaxis": {
            "backgroundcolor": "#E5ECF6",
            "gridcolor": "white",
            "gridwidth": 2,
            "linecolor": "white",
            "showbackground": true,
            "ticks": "",
            "zerolinecolor": "white"
           },
           "yaxis": {
            "backgroundcolor": "#E5ECF6",
            "gridcolor": "white",
            "gridwidth": 2,
            "linecolor": "white",
            "showbackground": true,
            "ticks": "",
            "zerolinecolor": "white"
           },
           "zaxis": {
            "backgroundcolor": "#E5ECF6",
            "gridcolor": "white",
            "gridwidth": 2,
            "linecolor": "white",
            "showbackground": true,
            "ticks": "",
            "zerolinecolor": "white"
           }
          },
          "shapedefaults": {
           "line": {
            "color": "#2a3f5f"
           }
          },
          "ternary": {
           "aaxis": {
            "gridcolor": "white",
            "linecolor": "white",
            "ticks": ""
           },
           "baxis": {
            "gridcolor": "white",
            "linecolor": "white",
            "ticks": ""
           },
           "bgcolor": "#E5ECF6",
           "caxis": {
            "gridcolor": "white",
            "linecolor": "white",
            "ticks": ""
           }
          },
          "title": {
           "x": 0.05
          },
          "xaxis": {
           "automargin": true,
           "gridcolor": "white",
           "linecolor": "white",
           "ticks": "",
           "title": {
            "standoff": 15
           },
           "zerolinecolor": "white",
           "zerolinewidth": 2
          },
          "yaxis": {
           "automargin": true,
           "gridcolor": "white",
           "linecolor": "white",
           "ticks": "",
           "title": {
            "standoff": 15
           },
           "zerolinecolor": "white",
           "zerolinewidth": 2
          }
         }
        },
        "updatemenus": [
         {
          "active": 0,
          "buttons": [
           {
            "args": [
             {
              "visible": [
               true,
               false,
               false,
               false,
               false,
               false,
               false,
               false,
               false,
               false,
               false,
               false,
               false,
               false,
               false,
               false,
               false,
               false,
               false,
               false,
               false,
               false,
               false,
               false
              ]
             },
             {
              "title": "Gender"
             }
            ],
            "label": "Gender",
            "method": "update"
           },
           {
            "args": [
             {
              "visible": [
               false,
               true,
               false,
               false,
               false,
               false,
               false,
               false,
               false,
               false,
               false,
               false,
               false,
               false,
               false,
               false,
               false,
               false,
               false,
               false,
               false,
               false,
               false,
               false
              ]
             },
             {
              "title": "self_employed"
             }
            ],
            "label": "self_employed",
            "method": "update"
           },
           {
            "args": [
             {
              "visible": [
               false,
               false,
               true,
               false,
               false,
               false,
               false,
               false,
               false,
               false,
               false,
               false,
               false,
               false,
               false,
               false,
               false,
               false,
               false,
               false,
               false,
               false,
               false,
               false
              ]
             },
             {
              "title": "family_history"
             }
            ],
            "label": "family_history",
            "method": "update"
           },
           {
            "args": [
             {
              "visible": [
               false,
               false,
               false,
               true,
               false,
               false,
               false,
               false,
               false,
               false,
               false,
               false,
               false,
               false,
               false,
               false,
               false,
               false,
               false,
               false,
               false,
               false,
               false,
               false
              ]
             },
             {
              "title": "treatment"
             }
            ],
            "label": "treatment",
            "method": "update"
           },
           {
            "args": [
             {
              "visible": [
               false,
               false,
               false,
               false,
               true,
               false,
               false,
               false,
               false,
               false,
               false,
               false,
               false,
               false,
               false,
               false,
               false,
               false,
               false,
               false,
               false,
               false,
               false,
               false
              ]
             },
             {
              "title": "work_interfere"
             }
            ],
            "label": "work_interfere",
            "method": "update"
           },
           {
            "args": [
             {
              "visible": [
               false,
               false,
               false,
               false,
               false,
               true,
               false,
               false,
               false,
               false,
               false,
               false,
               false,
               false,
               false,
               false,
               false,
               false,
               false,
               false,
               false,
               false,
               false,
               false
              ]
             },
             {
              "title": "no_employees"
             }
            ],
            "label": "no_employees",
            "method": "update"
           },
           {
            "args": [
             {
              "visible": [
               false,
               false,
               false,
               false,
               false,
               false,
               true,
               false,
               false,
               false,
               false,
               false,
               false,
               false,
               false,
               false,
               false,
               false,
               false,
               false,
               false,
               false,
               false,
               false
              ]
             },
             {
              "title": "remote_work"
             }
            ],
            "label": "remote_work",
            "method": "update"
           },
           {
            "args": [
             {
              "visible": [
               false,
               false,
               false,
               false,
               false,
               false,
               false,
               true,
               false,
               false,
               false,
               false,
               false,
               false,
               false,
               false,
               false,
               false,
               false,
               false,
               false,
               false,
               false,
               false
              ]
             },
             {
              "title": "tech_company"
             }
            ],
            "label": "tech_company",
            "method": "update"
           },
           {
            "args": [
             {
              "visible": [
               false,
               false,
               false,
               false,
               false,
               false,
               false,
               false,
               true,
               false,
               false,
               false,
               false,
               false,
               false,
               false,
               false,
               false,
               false,
               false,
               false,
               false,
               false,
               false
              ]
             },
             {
              "title": "benefits"
             }
            ],
            "label": "benefits",
            "method": "update"
           },
           {
            "args": [
             {
              "visible": [
               false,
               false,
               false,
               false,
               false,
               false,
               false,
               false,
               false,
               true,
               false,
               false,
               false,
               false,
               false,
               false,
               false,
               false,
               false,
               false,
               false,
               false,
               false,
               false
              ]
             },
             {
              "title": "care_options"
             }
            ],
            "label": "care_options",
            "method": "update"
           },
           {
            "args": [
             {
              "visible": [
               false,
               false,
               false,
               false,
               false,
               false,
               false,
               false,
               false,
               false,
               true,
               false,
               false,
               false,
               false,
               false,
               false,
               false,
               false,
               false,
               false,
               false,
               false,
               false
              ]
             },
             {
              "title": "wellness_program"
             }
            ],
            "label": "wellness_program",
            "method": "update"
           },
           {
            "args": [
             {
              "visible": [
               false,
               false,
               false,
               false,
               false,
               false,
               false,
               false,
               false,
               false,
               false,
               true,
               false,
               false,
               false,
               false,
               false,
               false,
               false,
               false,
               false,
               false,
               false,
               false
              ]
             },
             {
              "title": "seek_help"
             }
            ],
            "label": "seek_help",
            "method": "update"
           },
           {
            "args": [
             {
              "visible": [
               false,
               false,
               false,
               false,
               false,
               false,
               false,
               false,
               false,
               false,
               false,
               false,
               true,
               false,
               false,
               false,
               false,
               false,
               false,
               false,
               false,
               false,
               false,
               false
              ]
             },
             {
              "title": "anonymity"
             }
            ],
            "label": "anonymity",
            "method": "update"
           },
           {
            "args": [
             {
              "visible": [
               false,
               false,
               false,
               false,
               false,
               false,
               false,
               false,
               false,
               false,
               false,
               false,
               false,
               true,
               false,
               false,
               false,
               false,
               false,
               false,
               false,
               false,
               false,
               false
              ]
             },
             {
              "title": "leave"
             }
            ],
            "label": "leave",
            "method": "update"
           },
           {
            "args": [
             {
              "visible": [
               false,
               false,
               false,
               false,
               false,
               false,
               false,
               false,
               false,
               false,
               false,
               false,
               false,
               false,
               true,
               false,
               false,
               false,
               false,
               false,
               false,
               false,
               false,
               false
              ]
             },
             {
              "title": "mental_health_consequence"
             }
            ],
            "label": "mental_health_consequence",
            "method": "update"
           },
           {
            "args": [
             {
              "visible": [
               false,
               false,
               false,
               false,
               false,
               false,
               false,
               false,
               false,
               false,
               false,
               false,
               false,
               false,
               false,
               true,
               false,
               false,
               false,
               false,
               false,
               false,
               false,
               false
              ]
             },
             {
              "title": "phys_health_consequence"
             }
            ],
            "label": "phys_health_consequence",
            "method": "update"
           },
           {
            "args": [
             {
              "visible": [
               false,
               false,
               false,
               false,
               false,
               false,
               false,
               false,
               false,
               false,
               false,
               false,
               false,
               false,
               false,
               false,
               true,
               false,
               false,
               false,
               false,
               false,
               false,
               false
              ]
             },
             {
              "title": "coworkers"
             }
            ],
            "label": "coworkers",
            "method": "update"
           },
           {
            "args": [
             {
              "visible": [
               false,
               false,
               false,
               false,
               false,
               false,
               false,
               false,
               false,
               false,
               false,
               false,
               false,
               false,
               false,
               false,
               false,
               true,
               false,
               false,
               false,
               false,
               false,
               false
              ]
             },
             {
              "title": "supervisor"
             }
            ],
            "label": "supervisor",
            "method": "update"
           },
           {
            "args": [
             {
              "visible": [
               false,
               false,
               false,
               false,
               false,
               false,
               false,
               false,
               false,
               false,
               false,
               false,
               false,
               false,
               false,
               false,
               false,
               false,
               true,
               false,
               false,
               false,
               false,
               false
              ]
             },
             {
              "title": "mental_health_interview"
             }
            ],
            "label": "mental_health_interview",
            "method": "update"
           },
           {
            "args": [
             {
              "visible": [
               false,
               false,
               false,
               false,
               false,
               false,
               false,
               false,
               false,
               false,
               false,
               false,
               false,
               false,
               false,
               false,
               false,
               false,
               false,
               true,
               false,
               false,
               false,
               false
              ]
             },
             {
              "title": "phys_health_interview"
             }
            ],
            "label": "phys_health_interview",
            "method": "update"
           },
           {
            "args": [
             {
              "visible": [
               false,
               false,
               false,
               false,
               false,
               false,
               false,
               false,
               false,
               false,
               false,
               false,
               false,
               false,
               false,
               false,
               false,
               false,
               false,
               false,
               true,
               false,
               false,
               false
              ]
             },
             {
              "title": "mental_vs_physical"
             }
            ],
            "label": "mental_vs_physical",
            "method": "update"
           },
           {
            "args": [
             {
              "visible": [
               false,
               false,
               false,
               false,
               false,
               false,
               false,
               false,
               false,
               false,
               false,
               false,
               false,
               false,
               false,
               false,
               false,
               false,
               false,
               false,
               false,
               true,
               false,
               false
              ]
             },
             {
              "title": "obs_consequence"
             }
            ],
            "label": "obs_consequence",
            "method": "update"
           }
          ],
          "showactive": true,
          "type": "dropdown",
          "x": 1.15,
          "y": 0.85
         }
        ]
       }
      },
      "text/html": [
       "<div>                            <div id=\"c3cca0ed-a293-427a-9e3d-5c0855740410\" class=\"plotly-graph-div\" style=\"height:525px; width:100%;\"></div>            <script type=\"text/javascript\">                require([\"plotly\"], function(Plotly) {                    window.PLOTLYENV=window.PLOTLYENV || {};                                    if (document.getElementById(\"c3cca0ed-a293-427a-9e3d-5c0855740410\")) {                    Plotly.newPlot(                        \"c3cca0ed-a293-427a-9e3d-5c0855740410\",                        [{\"hole\":0.5,\"hoverinfo\":\"label+percent\",\"labels\":[\"M\",\"F\",\"other\"],\"title\":{\"font\":{\"family\":\"bold\",\"size\":20},\"text\":\"Distribution of Gender\"},\"values\":[991,247,21],\"type\":\"pie\",\"textfont\":{\"size\":10},\"marker\":{\"line\":{\"color\":\"#111111\",\"width\":1},\"colors\":[\"#dbe9f6\",\"#bad6eb\",\"#89bedc\",\"#539ecd\",\"#2b7bba\",\"#0b559f\"]},\"opacity\":0.9,\"showlegend\":false,\"textinfo\":\"label+percent\"},{\"hole\":0.5,\"hoverinfo\":\"label+percent\",\"labels\":[\"No\",\"Yes\"],\"title\":{\"font\":{\"family\":\"bold\",\"size\":20},\"text\":\"Distribution of self_employed\"},\"values\":[1111,148],\"type\":\"pie\",\"textfont\":{\"size\":10},\"marker\":{\"line\":{\"color\":\"#111111\",\"width\":1},\"colors\":[\"#dbe9f6\",\"#bad6eb\",\"#89bedc\",\"#539ecd\",\"#2b7bba\",\"#0b559f\"]},\"opacity\":0.9,\"showlegend\":false,\"textinfo\":\"label+percent\",\"visible\":false},{\"hole\":0.5,\"hoverinfo\":\"label+percent\",\"labels\":[\"No\",\"Yes\"],\"title\":{\"font\":{\"family\":\"bold\",\"size\":20},\"text\":\"Distribution of family_history\"},\"values\":[767,492],\"type\":\"pie\",\"textfont\":{\"size\":10},\"marker\":{\"line\":{\"color\":\"#111111\",\"width\":1},\"colors\":[\"#dbe9f6\",\"#bad6eb\",\"#89bedc\",\"#539ecd\",\"#2b7bba\",\"#0b559f\"]},\"opacity\":0.9,\"showlegend\":false,\"textinfo\":\"label+percent\",\"visible\":false},{\"hole\":0.5,\"hoverinfo\":\"label+percent\",\"labels\":[\"Yes\",\"No\"],\"title\":{\"font\":{\"family\":\"bold\",\"size\":20},\"text\":\"Distribution of treatment\"},\"values\":[637,622],\"type\":\"pie\",\"textfont\":{\"size\":10},\"marker\":{\"line\":{\"color\":\"#111111\",\"width\":1},\"colors\":[\"#dbe9f6\",\"#bad6eb\",\"#89bedc\",\"#539ecd\",\"#2b7bba\",\"#0b559f\"]},\"opacity\":0.9,\"showlegend\":false,\"textinfo\":\"label+percent\",\"visible\":false},{\"hole\":0.5,\"hoverinfo\":\"label+percent\",\"labels\":[\"Sometimes\",\"Never\",\"Rarely\",\"Often\"],\"title\":{\"font\":{\"family\":\"bold\",\"size\":20},\"text\":\"Distribution of work_interfere\"},\"values\":[602,264,214,179],\"type\":\"pie\",\"textfont\":{\"size\":10},\"marker\":{\"line\":{\"color\":\"#111111\",\"width\":1},\"colors\":[\"#dbe9f6\",\"#bad6eb\",\"#89bedc\",\"#539ecd\",\"#2b7bba\",\"#0b559f\"]},\"opacity\":0.9,\"showlegend\":false,\"textinfo\":\"label+percent\",\"visible\":false},{\"hole\":0.5,\"hoverinfo\":\"label+percent\",\"labels\":[\"6-25\",\"26-100\",\"More than 1000\",\"100-500\",\"1-5\",\"500-1000\"],\"title\":{\"font\":{\"family\":\"bold\",\"size\":20},\"text\":\"Distribution of no_employees\"},\"values\":[290,289,282,176,162,60],\"type\":\"pie\",\"textfont\":{\"size\":10},\"marker\":{\"line\":{\"color\":\"#111111\",\"width\":1},\"colors\":[\"#dbe9f6\",\"#bad6eb\",\"#89bedc\",\"#539ecd\",\"#2b7bba\",\"#0b559f\"]},\"opacity\":0.9,\"showlegend\":false,\"textinfo\":\"label+percent\",\"visible\":false},{\"hole\":0.5,\"hoverinfo\":\"label+percent\",\"labels\":[\"No\",\"Yes\"],\"title\":{\"font\":{\"family\":\"bold\",\"size\":20},\"text\":\"Distribution of remote_work\"},\"values\":[883,376],\"type\":\"pie\",\"textfont\":{\"size\":10},\"marker\":{\"line\":{\"color\":\"#111111\",\"width\":1},\"colors\":[\"#dbe9f6\",\"#bad6eb\",\"#89bedc\",\"#539ecd\",\"#2b7bba\",\"#0b559f\"]},\"opacity\":0.9,\"showlegend\":false,\"textinfo\":\"label+percent\",\"visible\":false},{\"hole\":0.5,\"hoverinfo\":\"label+percent\",\"labels\":[\"Yes\",\"No\"],\"title\":{\"font\":{\"family\":\"bold\",\"size\":20},\"text\":\"Distribution of tech_company\"},\"values\":[1031,228],\"type\":\"pie\",\"textfont\":{\"size\":10},\"marker\":{\"line\":{\"color\":\"#111111\",\"width\":1},\"colors\":[\"#dbe9f6\",\"#bad6eb\",\"#89bedc\",\"#539ecd\",\"#2b7bba\",\"#0b559f\"]},\"opacity\":0.9,\"showlegend\":false,\"textinfo\":\"label+percent\",\"visible\":false},{\"hole\":0.5,\"hoverinfo\":\"label+percent\",\"labels\":[\"Yes\",\"Don't know\",\"No\"],\"title\":{\"font\":{\"family\":\"bold\",\"size\":20},\"text\":\"Distribution of benefits\"},\"values\":[477,408,374],\"type\":\"pie\",\"textfont\":{\"size\":10},\"marker\":{\"line\":{\"color\":\"#111111\",\"width\":1},\"colors\":[\"#dbe9f6\",\"#bad6eb\",\"#89bedc\",\"#539ecd\",\"#2b7bba\",\"#0b559f\"]},\"opacity\":0.9,\"showlegend\":false,\"textinfo\":\"label+percent\",\"visible\":false},{\"hole\":0.5,\"hoverinfo\":\"label+percent\",\"labels\":[\"No\",\"Yes\",\"Not sure\"],\"title\":{\"font\":{\"family\":\"bold\",\"size\":20},\"text\":\"Distribution of care_options\"},\"values\":[501,444,314],\"type\":\"pie\",\"textfont\":{\"size\":10},\"marker\":{\"line\":{\"color\":\"#111111\",\"width\":1},\"colors\":[\"#dbe9f6\",\"#bad6eb\",\"#89bedc\",\"#539ecd\",\"#2b7bba\",\"#0b559f\"]},\"opacity\":0.9,\"showlegend\":false,\"textinfo\":\"label+percent\",\"visible\":false},{\"hole\":0.5,\"hoverinfo\":\"label+percent\",\"labels\":[\"No\",\"Yes\",\"Don't know\"],\"title\":{\"font\":{\"family\":\"bold\",\"size\":20},\"text\":\"Distribution of wellness_program\"},\"values\":[842,229,188],\"type\":\"pie\",\"textfont\":{\"size\":10},\"marker\":{\"line\":{\"color\":\"#111111\",\"width\":1},\"colors\":[\"#dbe9f6\",\"#bad6eb\",\"#89bedc\",\"#539ecd\",\"#2b7bba\",\"#0b559f\"]},\"opacity\":0.9,\"showlegend\":false,\"textinfo\":\"label+percent\",\"visible\":false},{\"hole\":0.5,\"hoverinfo\":\"label+percent\",\"labels\":[\"No\",\"Don't know\",\"Yes\"],\"title\":{\"font\":{\"family\":\"bold\",\"size\":20},\"text\":\"Distribution of seek_help\"},\"values\":[646,363,250],\"type\":\"pie\",\"textfont\":{\"size\":10},\"marker\":{\"line\":{\"color\":\"#111111\",\"width\":1},\"colors\":[\"#dbe9f6\",\"#bad6eb\",\"#89bedc\",\"#539ecd\",\"#2b7bba\",\"#0b559f\"]},\"opacity\":0.9,\"showlegend\":false,\"textinfo\":\"label+percent\",\"visible\":false},{\"hole\":0.5,\"hoverinfo\":\"label+percent\",\"labels\":[\"Don't know\",\"Yes\",\"No\"],\"title\":{\"font\":{\"family\":\"bold\",\"size\":20},\"text\":\"Distribution of anonymity\"},\"values\":[819,375,65],\"type\":\"pie\",\"textfont\":{\"size\":10},\"marker\":{\"line\":{\"color\":\"#111111\",\"width\":1},\"colors\":[\"#dbe9f6\",\"#bad6eb\",\"#89bedc\",\"#539ecd\",\"#2b7bba\",\"#0b559f\"]},\"opacity\":0.9,\"showlegend\":false,\"textinfo\":\"label+percent\",\"visible\":false},{\"hole\":0.5,\"hoverinfo\":\"label+percent\",\"labels\":[\"Don't know\",\"Somewhat easy\",\"Very easy\",\"Somewhat difficult\",\"Very difficult\"],\"title\":{\"font\":{\"family\":\"bold\",\"size\":20},\"text\":\"Distribution of leave\"},\"values\":[563,266,206,126,98],\"type\":\"pie\",\"textfont\":{\"size\":10},\"marker\":{\"line\":{\"color\":\"#111111\",\"width\":1},\"colors\":[\"#dbe9f6\",\"#bad6eb\",\"#89bedc\",\"#539ecd\",\"#2b7bba\",\"#0b559f\"]},\"opacity\":0.9,\"showlegend\":false,\"textinfo\":\"label+percent\",\"visible\":false},{\"hole\":0.5,\"hoverinfo\":\"label+percent\",\"labels\":[\"No\",\"Maybe\",\"Yes\"],\"title\":{\"font\":{\"family\":\"bold\",\"size\":20},\"text\":\"Distribution of mental_health_consequence\"},\"values\":[490,477,292],\"type\":\"pie\",\"textfont\":{\"size\":10},\"marker\":{\"line\":{\"color\":\"#111111\",\"width\":1},\"colors\":[\"#dbe9f6\",\"#bad6eb\",\"#89bedc\",\"#539ecd\",\"#2b7bba\",\"#0b559f\"]},\"opacity\":0.9,\"showlegend\":false,\"textinfo\":\"label+percent\",\"visible\":false},{\"hole\":0.5,\"hoverinfo\":\"label+percent\",\"labels\":[\"No\",\"Maybe\",\"Yes\"],\"title\":{\"font\":{\"family\":\"bold\",\"size\":20},\"text\":\"Distribution of phys_health_consequence\"},\"values\":[925,273,61],\"type\":\"pie\",\"textfont\":{\"size\":10},\"marker\":{\"line\":{\"color\":\"#111111\",\"width\":1},\"colors\":[\"#dbe9f6\",\"#bad6eb\",\"#89bedc\",\"#539ecd\",\"#2b7bba\",\"#0b559f\"]},\"opacity\":0.9,\"showlegend\":false,\"textinfo\":\"label+percent\",\"visible\":false},{\"hole\":0.5,\"hoverinfo\":\"label+percent\",\"labels\":[\"Some of them\",\"No\",\"Yes\"],\"title\":{\"font\":{\"family\":\"bold\",\"size\":20},\"text\":\"Distribution of coworkers\"},\"values\":[774,260,225],\"type\":\"pie\",\"textfont\":{\"size\":10},\"marker\":{\"line\":{\"color\":\"#111111\",\"width\":1},\"colors\":[\"#dbe9f6\",\"#bad6eb\",\"#89bedc\",\"#539ecd\",\"#2b7bba\",\"#0b559f\"]},\"opacity\":0.9,\"showlegend\":false,\"textinfo\":\"label+percent\",\"visible\":false},{\"hole\":0.5,\"hoverinfo\":\"label+percent\",\"labels\":[\"Yes\",\"No\",\"Some of them\"],\"title\":{\"font\":{\"family\":\"bold\",\"size\":20},\"text\":\"Distribution of supervisor\"},\"values\":[516,393,350],\"type\":\"pie\",\"textfont\":{\"size\":10},\"marker\":{\"line\":{\"color\":\"#111111\",\"width\":1},\"colors\":[\"#dbe9f6\",\"#bad6eb\",\"#89bedc\",\"#539ecd\",\"#2b7bba\",\"#0b559f\"]},\"opacity\":0.9,\"showlegend\":false,\"textinfo\":\"label+percent\",\"visible\":false},{\"hole\":0.5,\"hoverinfo\":\"label+percent\",\"labels\":[\"No\",\"Maybe\",\"Yes\"],\"title\":{\"font\":{\"family\":\"bold\",\"size\":20},\"text\":\"Distribution of mental_health_interview\"},\"values\":[1008,207,44],\"type\":\"pie\",\"textfont\":{\"size\":10},\"marker\":{\"line\":{\"color\":\"#111111\",\"width\":1},\"colors\":[\"#dbe9f6\",\"#bad6eb\",\"#89bedc\",\"#539ecd\",\"#2b7bba\",\"#0b559f\"]},\"opacity\":0.9,\"showlegend\":false,\"textinfo\":\"label+percent\",\"visible\":false},{\"hole\":0.5,\"hoverinfo\":\"label+percent\",\"labels\":[\"Maybe\",\"No\",\"Yes\"],\"title\":{\"font\":{\"family\":\"bold\",\"size\":20},\"text\":\"Distribution of phys_health_interview\"},\"values\":[557,500,202],\"type\":\"pie\",\"textfont\":{\"size\":10},\"marker\":{\"line\":{\"color\":\"#111111\",\"width\":1},\"colors\":[\"#dbe9f6\",\"#bad6eb\",\"#89bedc\",\"#539ecd\",\"#2b7bba\",\"#0b559f\"]},\"opacity\":0.9,\"showlegend\":false,\"textinfo\":\"label+percent\",\"visible\":false},{\"hole\":0.5,\"hoverinfo\":\"label+percent\",\"labels\":[\"Don't know\",\"Yes\",\"No\"],\"title\":{\"font\":{\"family\":\"bold\",\"size\":20},\"text\":\"Distribution of mental_vs_physical\"},\"values\":[576,343,340],\"type\":\"pie\",\"textfont\":{\"size\":10},\"marker\":{\"line\":{\"color\":\"#111111\",\"width\":1},\"colors\":[\"#dbe9f6\",\"#bad6eb\",\"#89bedc\",\"#539ecd\",\"#2b7bba\",\"#0b559f\"]},\"opacity\":0.9,\"showlegend\":false,\"textinfo\":\"label+percent\",\"visible\":false},{\"hole\":0.5,\"hoverinfo\":\"label+percent\",\"labels\":[\"No\",\"Yes\"],\"title\":{\"font\":{\"family\":\"bold\",\"size\":20},\"text\":\"Distribution of obs_consequence\"},\"values\":[1075,184],\"type\":\"pie\",\"textfont\":{\"size\":10},\"marker\":{\"line\":{\"color\":\"#111111\",\"width\":1},\"colors\":[\"#dbe9f6\",\"#bad6eb\",\"#89bedc\",\"#539ecd\",\"#2b7bba\",\"#0b559f\"]},\"opacity\":0.9,\"showlegend\":false,\"textinfo\":\"label+percent\",\"visible\":false}],                        {\"template\":{\"data\":{\"histogram2dcontour\":[{\"type\":\"histogram2dcontour\",\"colorbar\":{\"outlinewidth\":0,\"ticks\":\"\"},\"colorscale\":[[0.0,\"#0d0887\"],[0.1111111111111111,\"#46039f\"],[0.2222222222222222,\"#7201a8\"],[0.3333333333333333,\"#9c179e\"],[0.4444444444444444,\"#bd3786\"],[0.5555555555555556,\"#d8576b\"],[0.6666666666666666,\"#ed7953\"],[0.7777777777777778,\"#fb9f3a\"],[0.8888888888888888,\"#fdca26\"],[1.0,\"#f0f921\"]]}],\"choropleth\":[{\"type\":\"choropleth\",\"colorbar\":{\"outlinewidth\":0,\"ticks\":\"\"}}],\"histogram2d\":[{\"type\":\"histogram2d\",\"colorbar\":{\"outlinewidth\":0,\"ticks\":\"\"},\"colorscale\":[[0.0,\"#0d0887\"],[0.1111111111111111,\"#46039f\"],[0.2222222222222222,\"#7201a8\"],[0.3333333333333333,\"#9c179e\"],[0.4444444444444444,\"#bd3786\"],[0.5555555555555556,\"#d8576b\"],[0.6666666666666666,\"#ed7953\"],[0.7777777777777778,\"#fb9f3a\"],[0.8888888888888888,\"#fdca26\"],[1.0,\"#f0f921\"]]}],\"heatmap\":[{\"type\":\"heatmap\",\"colorbar\":{\"outlinewidth\":0,\"ticks\":\"\"},\"colorscale\":[[0.0,\"#0d0887\"],[0.1111111111111111,\"#46039f\"],[0.2222222222222222,\"#7201a8\"],[0.3333333333333333,\"#9c179e\"],[0.4444444444444444,\"#bd3786\"],[0.5555555555555556,\"#d8576b\"],[0.6666666666666666,\"#ed7953\"],[0.7777777777777778,\"#fb9f3a\"],[0.8888888888888888,\"#fdca26\"],[1.0,\"#f0f921\"]]}],\"heatmapgl\":[{\"type\":\"heatmapgl\",\"colorbar\":{\"outlinewidth\":0,\"ticks\":\"\"},\"colorscale\":[[0.0,\"#0d0887\"],[0.1111111111111111,\"#46039f\"],[0.2222222222222222,\"#7201a8\"],[0.3333333333333333,\"#9c179e\"],[0.4444444444444444,\"#bd3786\"],[0.5555555555555556,\"#d8576b\"],[0.6666666666666666,\"#ed7953\"],[0.7777777777777778,\"#fb9f3a\"],[0.8888888888888888,\"#fdca26\"],[1.0,\"#f0f921\"]]}],\"contourcarpet\":[{\"type\":\"contourcarpet\",\"colorbar\":{\"outlinewidth\":0,\"ticks\":\"\"}}],\"contour\":[{\"type\":\"contour\",\"colorbar\":{\"outlinewidth\":0,\"ticks\":\"\"},\"colorscale\":[[0.0,\"#0d0887\"],[0.1111111111111111,\"#46039f\"],[0.2222222222222222,\"#7201a8\"],[0.3333333333333333,\"#9c179e\"],[0.4444444444444444,\"#bd3786\"],[0.5555555555555556,\"#d8576b\"],[0.6666666666666666,\"#ed7953\"],[0.7777777777777778,\"#fb9f3a\"],[0.8888888888888888,\"#fdca26\"],[1.0,\"#f0f921\"]]}],\"surface\":[{\"type\":\"surface\",\"colorbar\":{\"outlinewidth\":0,\"ticks\":\"\"},\"colorscale\":[[0.0,\"#0d0887\"],[0.1111111111111111,\"#46039f\"],[0.2222222222222222,\"#7201a8\"],[0.3333333333333333,\"#9c179e\"],[0.4444444444444444,\"#bd3786\"],[0.5555555555555556,\"#d8576b\"],[0.6666666666666666,\"#ed7953\"],[0.7777777777777778,\"#fb9f3a\"],[0.8888888888888888,\"#fdca26\"],[1.0,\"#f0f921\"]]}],\"mesh3d\":[{\"type\":\"mesh3d\",\"colorbar\":{\"outlinewidth\":0,\"ticks\":\"\"}}],\"scatter\":[{\"fillpattern\":{\"fillmode\":\"overlay\",\"size\":10,\"solidity\":0.2},\"type\":\"scatter\"}],\"parcoords\":[{\"type\":\"parcoords\",\"line\":{\"colorbar\":{\"outlinewidth\":0,\"ticks\":\"\"}}}],\"scatterpolargl\":[{\"type\":\"scatterpolargl\",\"marker\":{\"colorbar\":{\"outlinewidth\":0,\"ticks\":\"\"}}}],\"bar\":[{\"error_x\":{\"color\":\"#2a3f5f\"},\"error_y\":{\"color\":\"#2a3f5f\"},\"marker\":{\"line\":{\"color\":\"#E5ECF6\",\"width\":0.5},\"pattern\":{\"fillmode\":\"overlay\",\"size\":10,\"solidity\":0.2}},\"type\":\"bar\"}],\"scattergeo\":[{\"type\":\"scattergeo\",\"marker\":{\"colorbar\":{\"outlinewidth\":0,\"ticks\":\"\"}}}],\"scatterpolar\":[{\"type\":\"scatterpolar\",\"marker\":{\"colorbar\":{\"outlinewidth\":0,\"ticks\":\"\"}}}],\"histogram\":[{\"marker\":{\"pattern\":{\"fillmode\":\"overlay\",\"size\":10,\"solidity\":0.2}},\"type\":\"histogram\"}],\"scattergl\":[{\"type\":\"scattergl\",\"marker\":{\"colorbar\":{\"outlinewidth\":0,\"ticks\":\"\"}}}],\"scatter3d\":[{\"type\":\"scatter3d\",\"line\":{\"colorbar\":{\"outlinewidth\":0,\"ticks\":\"\"}},\"marker\":{\"colorbar\":{\"outlinewidth\":0,\"ticks\":\"\"}}}],\"scattermapbox\":[{\"type\":\"scattermapbox\",\"marker\":{\"colorbar\":{\"outlinewidth\":0,\"ticks\":\"\"}}}],\"scatterternary\":[{\"type\":\"scatterternary\",\"marker\":{\"colorbar\":{\"outlinewidth\":0,\"ticks\":\"\"}}}],\"scattercarpet\":[{\"type\":\"scattercarpet\",\"marker\":{\"colorbar\":{\"outlinewidth\":0,\"ticks\":\"\"}}}],\"carpet\":[{\"aaxis\":{\"endlinecolor\":\"#2a3f5f\",\"gridcolor\":\"white\",\"linecolor\":\"white\",\"minorgridcolor\":\"white\",\"startlinecolor\":\"#2a3f5f\"},\"baxis\":{\"endlinecolor\":\"#2a3f5f\",\"gridcolor\":\"white\",\"linecolor\":\"white\",\"minorgridcolor\":\"white\",\"startlinecolor\":\"#2a3f5f\"},\"type\":\"carpet\"}],\"table\":[{\"cells\":{\"fill\":{\"color\":\"#EBF0F8\"},\"line\":{\"color\":\"white\"}},\"header\":{\"fill\":{\"color\":\"#C8D4E3\"},\"line\":{\"color\":\"white\"}},\"type\":\"table\"}],\"barpolar\":[{\"marker\":{\"line\":{\"color\":\"#E5ECF6\",\"width\":0.5},\"pattern\":{\"fillmode\":\"overlay\",\"size\":10,\"solidity\":0.2}},\"type\":\"barpolar\"}],\"pie\":[{\"automargin\":true,\"type\":\"pie\"}]},\"layout\":{\"autotypenumbers\":\"strict\",\"colorway\":[\"#636efa\",\"#EF553B\",\"#00cc96\",\"#ab63fa\",\"#FFA15A\",\"#19d3f3\",\"#FF6692\",\"#B6E880\",\"#FF97FF\",\"#FECB52\"],\"font\":{\"color\":\"#2a3f5f\"},\"hovermode\":\"closest\",\"hoverlabel\":{\"align\":\"left\"},\"paper_bgcolor\":\"white\",\"plot_bgcolor\":\"#E5ECF6\",\"polar\":{\"bgcolor\":\"#E5ECF6\",\"angularaxis\":{\"gridcolor\":\"white\",\"linecolor\":\"white\",\"ticks\":\"\"},\"radialaxis\":{\"gridcolor\":\"white\",\"linecolor\":\"white\",\"ticks\":\"\"}},\"ternary\":{\"bgcolor\":\"#E5ECF6\",\"aaxis\":{\"gridcolor\":\"white\",\"linecolor\":\"white\",\"ticks\":\"\"},\"baxis\":{\"gridcolor\":\"white\",\"linecolor\":\"white\",\"ticks\":\"\"},\"caxis\":{\"gridcolor\":\"white\",\"linecolor\":\"white\",\"ticks\":\"\"}},\"coloraxis\":{\"colorbar\":{\"outlinewidth\":0,\"ticks\":\"\"}},\"colorscale\":{\"sequential\":[[0.0,\"#0d0887\"],[0.1111111111111111,\"#46039f\"],[0.2222222222222222,\"#7201a8\"],[0.3333333333333333,\"#9c179e\"],[0.4444444444444444,\"#bd3786\"],[0.5555555555555556,\"#d8576b\"],[0.6666666666666666,\"#ed7953\"],[0.7777777777777778,\"#fb9f3a\"],[0.8888888888888888,\"#fdca26\"],[1.0,\"#f0f921\"]],\"sequentialminus\":[[0.0,\"#0d0887\"],[0.1111111111111111,\"#46039f\"],[0.2222222222222222,\"#7201a8\"],[0.3333333333333333,\"#9c179e\"],[0.4444444444444444,\"#bd3786\"],[0.5555555555555556,\"#d8576b\"],[0.6666666666666666,\"#ed7953\"],[0.7777777777777778,\"#fb9f3a\"],[0.8888888888888888,\"#fdca26\"],[1.0,\"#f0f921\"]],\"diverging\":[[0,\"#8e0152\"],[0.1,\"#c51b7d\"],[0.2,\"#de77ae\"],[0.3,\"#f1b6da\"],[0.4,\"#fde0ef\"],[0.5,\"#f7f7f7\"],[0.6,\"#e6f5d0\"],[0.7,\"#b8e186\"],[0.8,\"#7fbc41\"],[0.9,\"#4d9221\"],[1,\"#276419\"]]},\"xaxis\":{\"gridcolor\":\"white\",\"linecolor\":\"white\",\"ticks\":\"\",\"title\":{\"standoff\":15},\"zerolinecolor\":\"white\",\"automargin\":true,\"zerolinewidth\":2},\"yaxis\":{\"gridcolor\":\"white\",\"linecolor\":\"white\",\"ticks\":\"\",\"title\":{\"standoff\":15},\"zerolinecolor\":\"white\",\"automargin\":true,\"zerolinewidth\":2},\"scene\":{\"xaxis\":{\"backgroundcolor\":\"#E5ECF6\",\"gridcolor\":\"white\",\"linecolor\":\"white\",\"showbackground\":true,\"ticks\":\"\",\"zerolinecolor\":\"white\",\"gridwidth\":2},\"yaxis\":{\"backgroundcolor\":\"#E5ECF6\",\"gridcolor\":\"white\",\"linecolor\":\"white\",\"showbackground\":true,\"ticks\":\"\",\"zerolinecolor\":\"white\",\"gridwidth\":2},\"zaxis\":{\"backgroundcolor\":\"#E5ECF6\",\"gridcolor\":\"white\",\"linecolor\":\"white\",\"showbackground\":true,\"ticks\":\"\",\"zerolinecolor\":\"white\",\"gridwidth\":2}},\"shapedefaults\":{\"line\":{\"color\":\"#2a3f5f\"}},\"annotationdefaults\":{\"arrowcolor\":\"#2a3f5f\",\"arrowhead\":0,\"arrowwidth\":1},\"geo\":{\"bgcolor\":\"white\",\"landcolor\":\"#E5ECF6\",\"subunitcolor\":\"white\",\"showland\":true,\"showlakes\":true,\"lakecolor\":\"white\"},\"title\":{\"x\":0.05},\"mapbox\":{\"style\":\"light\"}}},\"margin\":{\"t\":0,\"b\":0,\"l\":0,\"r\":0},\"updatemenus\":[{\"active\":0,\"buttons\":[{\"args\":[{\"visible\":[true,false,false,false,false,false,false,false,false,false,false,false,false,false,false,false,false,false,false,false,false,false,false,false]},{\"title\":\"Gender\"}],\"label\":\"Gender\",\"method\":\"update\"},{\"args\":[{\"visible\":[false,true,false,false,false,false,false,false,false,false,false,false,false,false,false,false,false,false,false,false,false,false,false,false]},{\"title\":\"self_employed\"}],\"label\":\"self_employed\",\"method\":\"update\"},{\"args\":[{\"visible\":[false,false,true,false,false,false,false,false,false,false,false,false,false,false,false,false,false,false,false,false,false,false,false,false]},{\"title\":\"family_history\"}],\"label\":\"family_history\",\"method\":\"update\"},{\"args\":[{\"visible\":[false,false,false,true,false,false,false,false,false,false,false,false,false,false,false,false,false,false,false,false,false,false,false,false]},{\"title\":\"treatment\"}],\"label\":\"treatment\",\"method\":\"update\"},{\"args\":[{\"visible\":[false,false,false,false,true,false,false,false,false,false,false,false,false,false,false,false,false,false,false,false,false,false,false,false]},{\"title\":\"work_interfere\"}],\"label\":\"work_interfere\",\"method\":\"update\"},{\"args\":[{\"visible\":[false,false,false,false,false,true,false,false,false,false,false,false,false,false,false,false,false,false,false,false,false,false,false,false]},{\"title\":\"no_employees\"}],\"label\":\"no_employees\",\"method\":\"update\"},{\"args\":[{\"visible\":[false,false,false,false,false,false,true,false,false,false,false,false,false,false,false,false,false,false,false,false,false,false,false,false]},{\"title\":\"remote_work\"}],\"label\":\"remote_work\",\"method\":\"update\"},{\"args\":[{\"visible\":[false,false,false,false,false,false,false,true,false,false,false,false,false,false,false,false,false,false,false,false,false,false,false,false]},{\"title\":\"tech_company\"}],\"label\":\"tech_company\",\"method\":\"update\"},{\"args\":[{\"visible\":[false,false,false,false,false,false,false,false,true,false,false,false,false,false,false,false,false,false,false,false,false,false,false,false]},{\"title\":\"benefits\"}],\"label\":\"benefits\",\"method\":\"update\"},{\"args\":[{\"visible\":[false,false,false,false,false,false,false,false,false,true,false,false,false,false,false,false,false,false,false,false,false,false,false,false]},{\"title\":\"care_options\"}],\"label\":\"care_options\",\"method\":\"update\"},{\"args\":[{\"visible\":[false,false,false,false,false,false,false,false,false,false,true,false,false,false,false,false,false,false,false,false,false,false,false,false]},{\"title\":\"wellness_program\"}],\"label\":\"wellness_program\",\"method\":\"update\"},{\"args\":[{\"visible\":[false,false,false,false,false,false,false,false,false,false,false,true,false,false,false,false,false,false,false,false,false,false,false,false]},{\"title\":\"seek_help\"}],\"label\":\"seek_help\",\"method\":\"update\"},{\"args\":[{\"visible\":[false,false,false,false,false,false,false,false,false,false,false,false,true,false,false,false,false,false,false,false,false,false,false,false]},{\"title\":\"anonymity\"}],\"label\":\"anonymity\",\"method\":\"update\"},{\"args\":[{\"visible\":[false,false,false,false,false,false,false,false,false,false,false,false,false,true,false,false,false,false,false,false,false,false,false,false]},{\"title\":\"leave\"}],\"label\":\"leave\",\"method\":\"update\"},{\"args\":[{\"visible\":[false,false,false,false,false,false,false,false,false,false,false,false,false,false,true,false,false,false,false,false,false,false,false,false]},{\"title\":\"mental_health_consequence\"}],\"label\":\"mental_health_consequence\",\"method\":\"update\"},{\"args\":[{\"visible\":[false,false,false,false,false,false,false,false,false,false,false,false,false,false,false,true,false,false,false,false,false,false,false,false]},{\"title\":\"phys_health_consequence\"}],\"label\":\"phys_health_consequence\",\"method\":\"update\"},{\"args\":[{\"visible\":[false,false,false,false,false,false,false,false,false,false,false,false,false,false,false,false,true,false,false,false,false,false,false,false]},{\"title\":\"coworkers\"}],\"label\":\"coworkers\",\"method\":\"update\"},{\"args\":[{\"visible\":[false,false,false,false,false,false,false,false,false,false,false,false,false,false,false,false,false,true,false,false,false,false,false,false]},{\"title\":\"supervisor\"}],\"label\":\"supervisor\",\"method\":\"update\"},{\"args\":[{\"visible\":[false,false,false,false,false,false,false,false,false,false,false,false,false,false,false,false,false,false,true,false,false,false,false,false]},{\"title\":\"mental_health_interview\"}],\"label\":\"mental_health_interview\",\"method\":\"update\"},{\"args\":[{\"visible\":[false,false,false,false,false,false,false,false,false,false,false,false,false,false,false,false,false,false,false,true,false,false,false,false]},{\"title\":\"phys_health_interview\"}],\"label\":\"phys_health_interview\",\"method\":\"update\"},{\"args\":[{\"visible\":[false,false,false,false,false,false,false,false,false,false,false,false,false,false,false,false,false,false,false,false,true,false,false,false]},{\"title\":\"mental_vs_physical\"}],\"label\":\"mental_vs_physical\",\"method\":\"update\"},{\"args\":[{\"visible\":[false,false,false,false,false,false,false,false,false,false,false,false,false,false,false,false,false,false,false,false,false,true,false,false]},{\"title\":\"obs_consequence\"}],\"label\":\"obs_consequence\",\"method\":\"update\"}],\"showactive\":true,\"type\":\"dropdown\",\"x\":1.15,\"y\":0.85}],\"annotations\":[{\"align\":\"left\",\"showarrow\":false,\"text\":\"<b>Choose<br>Column<b> : \",\"x\":1.06,\"y\":0.92,\"yref\":\"paper\"}]},                        {\"responsive\": true}                    ).then(function(){\n",
       "                            \n",
       "var gd = document.getElementById('c3cca0ed-a293-427a-9e3d-5c0855740410');\n",
       "var x = new MutationObserver(function (mutations, observer) {{\n",
       "        var display = window.getComputedStyle(gd).display;\n",
       "        if (!display || display === 'none') {{\n",
       "            console.log([gd, 'removed!']);\n",
       "            Plotly.purge(gd);\n",
       "            observer.disconnect();\n",
       "        }}\n",
       "}});\n",
       "\n",
       "// Listen for the removal of the full notebook cells\n",
       "var notebookContainer = gd.closest('#notebook-container');\n",
       "if (notebookContainer) {{\n",
       "    x.observe(notebookContainer, {childList: true});\n",
       "}}\n",
       "\n",
       "// Listen for the clearing of the current output cell\n",
       "var outputEl = gd.closest('.output');\n",
       "if (outputEl) {{\n",
       "    x.observe(outputEl, {childList: true});\n",
       "}}\n",
       "\n",
       "                        })                };                });            </script>        </div>"
      ]
     },
     "metadata": {},
     "output_type": "display_data"
    }
   ],
   "source": [
    "# Univariate visualization of categorical variables\n",
    "\n",
    "workplace_df_ = workplace_df.drop(['Age', 'Country'], axis=1)\n",
    "\n",
    "buttons = []\n",
    "i = 0\n",
    "vis = [False] * 24\n",
    "\n",
    "for col in workplace_df_.columns:\n",
    "    vis[i] = True\n",
    "    buttons.append({'label' : col,\n",
    "             'method' : 'update',\n",
    "             'args'   : [{'visible' : vis},\n",
    "             {'title'  : col}] })\n",
    "    i+=1\n",
    "    vis = [False] * 24\n",
    "\n",
    "fig = go.Figure()\n",
    "\n",
    "for col in workplace_df_.columns:\n",
    "    fig.add_trace(go.Pie(\n",
    "             values = workplace_df_[col].value_counts(),\n",
    "             labels = workplace_df_[col].value_counts().index,\n",
    "             title = dict(text = 'Distribution of {}'.format(col),\n",
    "                          font = dict(size=20, family = 'bold'),\n",
    "                          ),\n",
    "             hole = 0.5,\n",
    "             hoverinfo='label+percent',))\n",
    "\n",
    "fig.update_traces(hoverinfo='label+percent',\n",
    "                  textinfo='label+percent',\n",
    "                  textfont_size=10,\n",
    "                  opacity = 0.9,\n",
    "                  showlegend = False,\n",
    "                  marker = dict(colors = sns.color_palette('Blues').as_hex(),\n",
    "                              line=dict(color='#111111', width=1)))\n",
    "              \n",
    "\n",
    "fig.update_layout(margin=dict(t=0, b=0, l=0, r=0),\n",
    "                  updatemenus = [dict(\n",
    "                        type = 'dropdown',\n",
    "                        x = 1.15,\n",
    "                        y = 0.85,\n",
    "                        showactive = True,\n",
    "                        active = 0,\n",
    "                        buttons = buttons)],\n",
    "                 annotations=[\n",
    "                             dict(text = \"<b>Choose<br>Column<b> : \",\n",
    "                             showarrow=False,\n",
    "                             x = 1.06, y = 0.92, yref = \"paper\", align = \"left\")])\n",
    "\n",
    "for i in range(1,22):\n",
    "    fig.data[i].visible = False\n",
    "\n",
    "fig.show()"
   ]
  },
  {
   "cell_type": "code",
   "execution_count": 349,
   "id": "f17ca4b9",
   "metadata": {},
   "outputs": [
    {
     "data": {
      "application/vnd.plotly.v1+json": {
       "config": {
        "plotlyServerURL": "https://plot.ly"
       },
       "data": [
        {
         "marker": {
          "color": "#6aa87b",
          "line": {
           "color": "blue",
           "width": 1.2
          }
         },
         "name": "Observations from Countries (Log)",
         "opacity": 0.6,
         "text": [
          751,
          185,
          72,
          45,
          27,
          27,
          21,
          13,
          10,
          8,
          7,
          7,
          7,
          7,
          6,
          6,
          6,
          5,
          4,
          4,
          3,
          3,
          3,
          3,
          2,
          2,
          2,
          2,
          2,
          1,
          1,
          1,
          1,
          1,
          1,
          1,
          1,
          1,
          1,
          1,
          1,
          1,
          1,
          1,
          1,
          1,
          1,
          1
         ],
         "textfont": {
          "family": "bold",
          "size": 10
         },
         "textposition": "outside",
         "type": "bar",
         "x": [
          "United States",
          "United Kingdom",
          "Canada",
          "Germany",
          "Ireland",
          "Netherlands",
          "Australia",
          "France",
          "India",
          "New Zealand",
          "Poland",
          "Switzerland",
          "Sweden",
          "Italy",
          "South Africa",
          "Belgium",
          "Brazil",
          "Israel",
          "Singapore",
          "Bulgaria",
          "Austria",
          "Finland",
          "Mexico",
          "Russia",
          "Denmark",
          "Greece",
          "Colombia",
          "Croatia",
          "Portugal",
          "Moldova",
          "Georgia",
          "Bahamas, The",
          "China",
          "Thailand",
          "Czech Republic",
          "Norway",
          "Romania",
          "Nigeria",
          "Japan",
          "Hungary",
          "Bosnia and Herzegovina",
          "Uruguay",
          "Spain",
          "Zimbabwe",
          "Latvia",
          "Costa Rica",
          "Slovenia",
          "Philippines"
         ],
         "xaxis": "x",
         "y": [
          751,
          185,
          72,
          45,
          27,
          27,
          21,
          13,
          10,
          8,
          7,
          7,
          7,
          7,
          6,
          6,
          6,
          5,
          4,
          4,
          3,
          3,
          3,
          3,
          2,
          2,
          2,
          2,
          2,
          1,
          1,
          1,
          1,
          1,
          1,
          1,
          1,
          1,
          1,
          1,
          1,
          1,
          1,
          1,
          1,
          1,
          1,
          1
         ],
         "yaxis": "y"
        },
        {
         "marker": {
          "color": "#6aa87b",
          "line": {
           "color": "blue",
           "width": 2
          }
         },
         "nbinsx": 8,
         "opacity": 0.6,
         "text": [
          "16",
          "500",
          "562",
          "149",
          "26",
          "5",
          "1"
         ],
         "type": "histogram",
         "x": [
          37,
          44,
          32,
          31,
          31,
          33,
          35,
          39,
          42,
          23,
          31,
          29,
          42,
          36,
          27,
          29,
          23,
          32,
          46,
          36,
          29,
          31,
          46,
          41,
          33,
          35,
          33,
          35,
          34,
          37,
          32,
          31,
          30,
          42,
          40,
          27,
          29,
          38,
          50,
          35,
          24,
          35,
          27,
          18,
          30,
          38,
          28,
          34,
          26,
          30,
          22,
          33,
          31,
          32,
          28,
          27,
          32,
          24,
          26,
          33,
          44,
          26,
          27,
          26,
          35,
          40,
          23,
          36,
          31,
          34,
          28,
          34,
          23,
          38,
          33,
          19,
          25,
          31,
          32,
          28,
          38,
          23,
          30,
          27,
          33,
          31,
          39,
          34,
          29,
          32,
          31,
          40,
          34,
          18,
          25,
          29,
          24,
          31,
          33,
          30,
          26,
          44,
          25,
          33,
          29,
          35,
          35,
          28,
          34,
          32,
          22,
          28,
          45,
          32,
          28,
          26,
          21,
          27,
          18,
          35,
          29,
          25,
          33,
          36,
          27,
          27,
          27,
          32,
          31,
          19,
          33,
          32,
          27,
          38,
          24,
          39,
          28,
          39,
          29,
          22,
          38,
          37,
          35,
          31,
          30,
          37,
          24,
          23,
          30,
          29,
          19,
          32,
          28,
          36,
          37,
          25,
          27,
          26,
          27,
          25,
          36,
          25,
          31,
          26,
          33,
          27,
          34,
          42,
          23,
          24,
          26,
          31,
          22,
          23,
          34,
          31,
          28,
          32,
          45,
          33,
          29,
          26,
          28,
          45,
          43,
          37,
          24,
          26,
          23,
          35,
          38,
          28,
          28,
          35,
          32,
          31,
          35,
          26,
          27,
          28,
          27,
          34,
          41,
          37,
          34,
          32,
          21,
          30,
          24,
          26,
          40,
          37,
          26,
          32,
          32,
          27,
          30,
          31,
          29,
          41,
          34,
          33,
          28,
          28,
          23,
          24,
          32,
          34,
          24,
          26,
          36,
          41,
          38,
          38,
          30,
          25,
          37,
          34,
          37,
          28,
          22,
          34,
          33,
          25,
          27,
          40,
          21,
          29,
          32,
          29,
          23,
          28,
          31,
          27,
          24,
          29,
          23,
          42,
          24,
          25,
          27,
          27,
          30,
          29,
          43,
          32,
          41,
          32,
          37,
          32,
          30,
          23,
          30,
          34,
          38,
          33,
          34,
          28,
          28,
          23,
          22,
          27,
          18,
          35,
          25,
          27,
          26,
          18,
          38,
          26,
          30,
          35,
          45,
          32,
          56,
          24,
          30,
          60,
          33,
          37,
          23,
          31,
          26,
          28,
          37,
          26,
          30,
          26,
          25,
          27,
          25,
          35,
          36,
          26,
          27,
          30,
          29,
          25,
          22,
          29,
          41,
          29,
          32,
          24,
          25,
          25,
          30,
          25,
          30,
          33,
          24,
          25,
          31,
          45,
          29,
          46,
          30,
          29,
          24,
          29,
          35,
          33,
          27,
          36,
          33,
          25,
          23,
          54,
          22,
          25,
          29,
          27,
          30,
          26,
          25,
          31,
          33,
          34,
          34,
          29,
          33,
          34,
          26,
          32,
          31,
          28,
          35,
          36,
          21,
          21,
          22,
          41,
          55,
          32,
          21,
          45,
          27,
          25,
          34,
          26,
          41,
          27,
          31,
          25,
          26,
          27,
          42,
          29,
          25,
          33,
          31,
          40,
          31,
          26,
          24,
          29,
          48,
          35,
          32,
          29,
          26,
          28,
          23,
          35,
          29,
          26,
          33,
          33,
          22,
          30,
          33,
          31,
          21,
          31,
          26,
          30,
          30,
          23,
          34,
          55,
          28,
          26,
          28,
          32,
          28,
          21,
          24,
          26,
          23,
          24,
          28,
          24,
          33,
          34,
          27,
          28,
          26,
          20,
          23,
          29,
          26,
          36,
          41,
          33,
          23,
          39,
          34,
          26,
          24,
          37,
          43,
          40,
          30,
          34,
          27,
          36,
          27,
          35,
          32,
          37,
          29,
          33,
          28,
          26,
          27,
          38,
          57,
          28,
          26,
          42,
          31,
          58,
          29,
          39,
          34,
          57,
          27,
          23,
          18,
          30,
          23,
          43,
          18,
          29,
          48,
          43,
          28,
          30,
          26,
          33,
          31,
          30,
          27,
          24,
          25,
          23,
          36,
          25,
          54,
          34,
          38,
          40,
          32,
          25,
          35,
          46,
          42,
          32,
          47,
          22,
          33,
          25,
          29,
          39,
          38,
          43,
          46,
          38,
          33,
          34,
          62,
          23,
          35,
          25,
          36,
          41,
          24,
          51,
          29,
          31,
          27,
          31,
          27,
          23,
          21,
          27,
          39,
          26,
          27,
          22,
          26,
          31,
          32,
          28,
          28,
          23,
          30,
          36,
          21,
          30,
          25,
          32,
          29,
          21,
          27,
          32,
          34,
          33,
          22,
          24,
          65,
          27,
          33,
          36,
          40,
          28,
          39,
          32,
          31,
          38,
          23,
          42,
          27,
          26,
          50,
          37,
          23,
          33,
          29,
          34,
          41,
          50,
          29,
          35,
          27,
          40,
          27,
          29,
          31,
          43,
          34,
          29,
          19,
          41,
          29,
          23,
          24,
          31,
          43,
          31,
          29,
          35,
          33,
          30,
          27,
          32,
          50,
          24,
          27,
          27,
          32,
          42,
          37,
          30,
          29,
          30,
          35,
          35,
          38,
          22,
          24,
          22,
          31,
          23,
          31,
          28,
          37,
          34,
          32,
          28,
          24,
          56,
          31,
          34,
          35,
          28,
          36,
          30,
          35,
          49,
          36,
          35,
          29,
          57,
          31,
          37,
          25,
          30,
          26,
          22,
          39,
          29,
          54,
          34,
          32,
          25,
          29,
          32,
          30,
          31,
          20,
          27,
          32,
          26,
          30,
          30,
          22,
          24,
          26,
          43,
          26,
          23,
          26,
          26,
          35,
          28,
          22,
          29,
          29,
          45,
          33,
          38,
          19,
          29,
          21,
          23,
          33,
          49,
          28,
          27,
          23,
          29,
          30,
          28,
          32,
          32,
          37,
          39,
          31,
          29,
          30,
          33,
          37,
          23,
          43,
          32,
          26,
          32,
          37,
          29,
          34,
          27,
          30,
          29,
          32,
          31,
          25,
          37,
          29,
          27,
          33,
          30,
          29,
          25,
          33,
          31,
          21,
          30,
          29,
          43,
          37,
          24,
          29,
          31,
          31,
          33,
          43,
          33,
          27,
          36,
          37,
          32,
          39,
          31,
          36,
          30,
          28,
          32,
          35,
          19,
          33,
          42,
          37,
          40,
          36,
          29,
          38,
          26,
          34,
          21,
          31,
          37,
          37,
          38,
          27,
          39,
          33,
          27,
          36,
          28,
          39,
          33,
          32,
          28,
          37,
          39,
          43,
          32,
          27,
          31,
          43,
          33,
          34,
          33,
          25,
          25,
          32,
          25,
          37,
          39,
          29,
          33,
          37,
          35,
          22,
          38,
          32,
          28,
          27,
          35,
          29,
          23,
          39,
          30,
          32,
          28,
          40,
          36,
          27,
          41,
          29,
          29,
          35,
          28,
          36,
          39,
          39,
          44,
          26,
          35,
          40,
          35,
          38,
          34,
          43,
          48,
          20,
          40,
          29,
          35,
          29,
          40,
          29,
          29,
          34,
          44,
          24,
          47,
          43,
          36,
          43,
          36,
          31,
          35,
          33,
          37,
          34,
          36,
          40,
          40,
          42,
          23,
          21,
          26,
          31,
          25,
          51,
          24,
          33,
          32,
          32,
          26,
          23,
          33,
          46,
          34,
          35,
          39,
          32,
          43,
          56,
          32,
          41,
          39,
          37,
          30,
          31,
          29,
          23,
          31,
          29,
          30,
          37,
          36,
          35,
          41,
          31,
          38,
          26,
          39,
          42,
          32,
          29,
          30,
          40,
          51,
          33,
          34,
          50,
          24,
          25,
          43,
          25,
          24,
          51,
          49,
          30,
          25,
          36,
          48,
          48,
          53,
          24,
          33,
          25,
          30,
          30,
          34,
          31,
          22,
          28,
          35,
          28,
          42,
          33,
          29,
          43,
          29,
          25,
          31,
          35,
          34,
          43,
          38,
          26,
          38,
          42,
          33,
          32,
          44,
          28,
          40,
          31,
          32,
          28,
          39,
          45,
          43,
          35,
          40,
          34,
          24,
          61,
          36,
          38,
          33,
          30,
          34,
          26,
          33,
          32,
          25,
          35,
          24,
          55,
          33,
          26,
          25,
          45,
          33,
          43,
          30,
          40,
          49,
          29,
          26,
          38,
          27,
          26,
          28,
          40,
          37,
          34,
          28,
          27,
          29,
          39,
          28,
          23,
          31,
          38,
          19,
          30,
          28,
          20,
          35,
          39,
          31,
          32,
          27,
          25,
          42,
          34,
          26,
          35,
          34,
          38,
          34,
          39,
          44,
          40,
          33,
          24,
          38,
          31,
          23,
          26,
          46,
          30,
          25,
          19,
          30,
          32,
          32,
          37,
          42,
          25,
          19,
          40,
          34,
          26,
          31,
          40,
          31,
          36,
          35,
          26,
          44,
          34,
          35,
          28,
          33,
          40,
          26,
          29,
          26,
          33,
          28,
          41,
          39,
          26,
          23,
          35,
          36,
          42,
          39,
          27,
          33,
          31,
          28,
          29,
          27,
          44,
          25,
          24,
          25,
          34,
          26,
          48,
          34,
          39,
          43,
          41,
          25,
          31,
          40,
          43,
          27,
          37,
          32,
          25,
          29,
          30,
          34,
          32,
          37,
          41,
          38,
          32,
          28,
          31,
          43,
          32,
          25,
          37,
          36,
          24,
          40,
          29,
          43,
          29,
          26,
          33,
          35,
          45,
          25,
          50,
          26,
          33,
          30,
          33,
          29,
          37,
          25,
          40,
          24,
          40,
          46,
          38,
          34,
          32,
          44,
          33,
          45,
          35,
          26,
          20,
          31,
          37,
          28,
          42,
          32,
          36,
          27,
          27,
          27,
          25,
          41,
          23,
          21,
          26,
          29,
          28,
          27,
          23,
          26,
          38,
          39,
          35,
          32,
          32,
          26,
          38,
          34,
          39,
          32,
          37,
          31,
          30,
          51,
          29,
          31,
          31,
          26,
          46,
          32,
          29,
          34,
          26,
          32,
          29,
          30,
          40,
          23,
          20,
          38,
          26,
          29,
          40,
          25,
          32,
          38,
          72,
          35,
          28,
          27,
          56,
          38,
          31,
          40,
          44,
          34,
          37,
          38,
          27,
          34,
          35,
          34,
          32,
          25,
          28,
          28,
          31,
          24,
          34,
          32,
          34,
          23,
          33,
          29,
          24,
          45,
          34,
          31,
          33,
          28,
          27,
          42,
          28,
          38,
          46,
          46,
          41,
          23,
          24,
          23,
          39,
          32,
          25,
          39,
          23,
          24,
          25,
          23,
          24,
          23,
          60,
          28,
          28,
          30,
          31,
          31,
          28,
          43,
          32,
          22,
          32,
          36,
          41,
          30,
          30,
          36,
          29,
          36,
          26,
          32,
          34,
          46,
          25
         ],
         "xaxis": "x2",
         "yaxis": "y2"
        }
       ],
       "layout": {
        "height": 1500,
        "showlegend": false,
        "template": {
         "data": {
          "bar": [
           {
            "error_x": {
             "color": "#2a3f5f"
            },
            "error_y": {
             "color": "#2a3f5f"
            },
            "marker": {
             "line": {
              "color": "#E5ECF6",
              "width": 0.5
             },
             "pattern": {
              "fillmode": "overlay",
              "size": 10,
              "solidity": 0.2
             }
            },
            "type": "bar"
           }
          ],
          "barpolar": [
           {
            "marker": {
             "line": {
              "color": "#E5ECF6",
              "width": 0.5
             },
             "pattern": {
              "fillmode": "overlay",
              "size": 10,
              "solidity": 0.2
             }
            },
            "type": "barpolar"
           }
          ],
          "carpet": [
           {
            "aaxis": {
             "endlinecolor": "#2a3f5f",
             "gridcolor": "white",
             "linecolor": "white",
             "minorgridcolor": "white",
             "startlinecolor": "#2a3f5f"
            },
            "baxis": {
             "endlinecolor": "#2a3f5f",
             "gridcolor": "white",
             "linecolor": "white",
             "minorgridcolor": "white",
             "startlinecolor": "#2a3f5f"
            },
            "type": "carpet"
           }
          ],
          "choropleth": [
           {
            "colorbar": {
             "outlinewidth": 0,
             "ticks": ""
            },
            "type": "choropleth"
           }
          ],
          "contour": [
           {
            "colorbar": {
             "outlinewidth": 0,
             "ticks": ""
            },
            "colorscale": [
             [
              0,
              "#0d0887"
             ],
             [
              0.1111111111111111,
              "#46039f"
             ],
             [
              0.2222222222222222,
              "#7201a8"
             ],
             [
              0.3333333333333333,
              "#9c179e"
             ],
             [
              0.4444444444444444,
              "#bd3786"
             ],
             [
              0.5555555555555556,
              "#d8576b"
             ],
             [
              0.6666666666666666,
              "#ed7953"
             ],
             [
              0.7777777777777778,
              "#fb9f3a"
             ],
             [
              0.8888888888888888,
              "#fdca26"
             ],
             [
              1,
              "#f0f921"
             ]
            ],
            "type": "contour"
           }
          ],
          "contourcarpet": [
           {
            "colorbar": {
             "outlinewidth": 0,
             "ticks": ""
            },
            "type": "contourcarpet"
           }
          ],
          "heatmap": [
           {
            "colorbar": {
             "outlinewidth": 0,
             "ticks": ""
            },
            "colorscale": [
             [
              0,
              "#0d0887"
             ],
             [
              0.1111111111111111,
              "#46039f"
             ],
             [
              0.2222222222222222,
              "#7201a8"
             ],
             [
              0.3333333333333333,
              "#9c179e"
             ],
             [
              0.4444444444444444,
              "#bd3786"
             ],
             [
              0.5555555555555556,
              "#d8576b"
             ],
             [
              0.6666666666666666,
              "#ed7953"
             ],
             [
              0.7777777777777778,
              "#fb9f3a"
             ],
             [
              0.8888888888888888,
              "#fdca26"
             ],
             [
              1,
              "#f0f921"
             ]
            ],
            "type": "heatmap"
           }
          ],
          "heatmapgl": [
           {
            "colorbar": {
             "outlinewidth": 0,
             "ticks": ""
            },
            "colorscale": [
             [
              0,
              "#0d0887"
             ],
             [
              0.1111111111111111,
              "#46039f"
             ],
             [
              0.2222222222222222,
              "#7201a8"
             ],
             [
              0.3333333333333333,
              "#9c179e"
             ],
             [
              0.4444444444444444,
              "#bd3786"
             ],
             [
              0.5555555555555556,
              "#d8576b"
             ],
             [
              0.6666666666666666,
              "#ed7953"
             ],
             [
              0.7777777777777778,
              "#fb9f3a"
             ],
             [
              0.8888888888888888,
              "#fdca26"
             ],
             [
              1,
              "#f0f921"
             ]
            ],
            "type": "heatmapgl"
           }
          ],
          "histogram": [
           {
            "marker": {
             "pattern": {
              "fillmode": "overlay",
              "size": 10,
              "solidity": 0.2
             }
            },
            "type": "histogram"
           }
          ],
          "histogram2d": [
           {
            "colorbar": {
             "outlinewidth": 0,
             "ticks": ""
            },
            "colorscale": [
             [
              0,
              "#0d0887"
             ],
             [
              0.1111111111111111,
              "#46039f"
             ],
             [
              0.2222222222222222,
              "#7201a8"
             ],
             [
              0.3333333333333333,
              "#9c179e"
             ],
             [
              0.4444444444444444,
              "#bd3786"
             ],
             [
              0.5555555555555556,
              "#d8576b"
             ],
             [
              0.6666666666666666,
              "#ed7953"
             ],
             [
              0.7777777777777778,
              "#fb9f3a"
             ],
             [
              0.8888888888888888,
              "#fdca26"
             ],
             [
              1,
              "#f0f921"
             ]
            ],
            "type": "histogram2d"
           }
          ],
          "histogram2dcontour": [
           {
            "colorbar": {
             "outlinewidth": 0,
             "ticks": ""
            },
            "colorscale": [
             [
              0,
              "#0d0887"
             ],
             [
              0.1111111111111111,
              "#46039f"
             ],
             [
              0.2222222222222222,
              "#7201a8"
             ],
             [
              0.3333333333333333,
              "#9c179e"
             ],
             [
              0.4444444444444444,
              "#bd3786"
             ],
             [
              0.5555555555555556,
              "#d8576b"
             ],
             [
              0.6666666666666666,
              "#ed7953"
             ],
             [
              0.7777777777777778,
              "#fb9f3a"
             ],
             [
              0.8888888888888888,
              "#fdca26"
             ],
             [
              1,
              "#f0f921"
             ]
            ],
            "type": "histogram2dcontour"
           }
          ],
          "mesh3d": [
           {
            "colorbar": {
             "outlinewidth": 0,
             "ticks": ""
            },
            "type": "mesh3d"
           }
          ],
          "parcoords": [
           {
            "line": {
             "colorbar": {
              "outlinewidth": 0,
              "ticks": ""
             }
            },
            "type": "parcoords"
           }
          ],
          "pie": [
           {
            "automargin": true,
            "type": "pie"
           }
          ],
          "scatter": [
           {
            "fillpattern": {
             "fillmode": "overlay",
             "size": 10,
             "solidity": 0.2
            },
            "type": "scatter"
           }
          ],
          "scatter3d": [
           {
            "line": {
             "colorbar": {
              "outlinewidth": 0,
              "ticks": ""
             }
            },
            "marker": {
             "colorbar": {
              "outlinewidth": 0,
              "ticks": ""
             }
            },
            "type": "scatter3d"
           }
          ],
          "scattercarpet": [
           {
            "marker": {
             "colorbar": {
              "outlinewidth": 0,
              "ticks": ""
             }
            },
            "type": "scattercarpet"
           }
          ],
          "scattergeo": [
           {
            "marker": {
             "colorbar": {
              "outlinewidth": 0,
              "ticks": ""
             }
            },
            "type": "scattergeo"
           }
          ],
          "scattergl": [
           {
            "marker": {
             "colorbar": {
              "outlinewidth": 0,
              "ticks": ""
             }
            },
            "type": "scattergl"
           }
          ],
          "scattermapbox": [
           {
            "marker": {
             "colorbar": {
              "outlinewidth": 0,
              "ticks": ""
             }
            },
            "type": "scattermapbox"
           }
          ],
          "scatterpolar": [
           {
            "marker": {
             "colorbar": {
              "outlinewidth": 0,
              "ticks": ""
             }
            },
            "type": "scatterpolar"
           }
          ],
          "scatterpolargl": [
           {
            "marker": {
             "colorbar": {
              "outlinewidth": 0,
              "ticks": ""
             }
            },
            "type": "scatterpolargl"
           }
          ],
          "scatterternary": [
           {
            "marker": {
             "colorbar": {
              "outlinewidth": 0,
              "ticks": ""
             }
            },
            "type": "scatterternary"
           }
          ],
          "surface": [
           {
            "colorbar": {
             "outlinewidth": 0,
             "ticks": ""
            },
            "colorscale": [
             [
              0,
              "#0d0887"
             ],
             [
              0.1111111111111111,
              "#46039f"
             ],
             [
              0.2222222222222222,
              "#7201a8"
             ],
             [
              0.3333333333333333,
              "#9c179e"
             ],
             [
              0.4444444444444444,
              "#bd3786"
             ],
             [
              0.5555555555555556,
              "#d8576b"
             ],
             [
              0.6666666666666666,
              "#ed7953"
             ],
             [
              0.7777777777777778,
              "#fb9f3a"
             ],
             [
              0.8888888888888888,
              "#fdca26"
             ],
             [
              1,
              "#f0f921"
             ]
            ],
            "type": "surface"
           }
          ],
          "table": [
           {
            "cells": {
             "fill": {
              "color": "#EBF0F8"
             },
             "line": {
              "color": "white"
             }
            },
            "header": {
             "fill": {
              "color": "#C8D4E3"
             },
             "line": {
              "color": "white"
             }
            },
            "type": "table"
           }
          ]
         },
         "layout": {
          "annotationdefaults": {
           "arrowcolor": "#2a3f5f",
           "arrowhead": 0,
           "arrowwidth": 1
          },
          "autotypenumbers": "strict",
          "coloraxis": {
           "colorbar": {
            "outlinewidth": 0,
            "ticks": ""
           }
          },
          "colorscale": {
           "diverging": [
            [
             0,
             "#8e0152"
            ],
            [
             0.1,
             "#c51b7d"
            ],
            [
             0.2,
             "#de77ae"
            ],
            [
             0.3,
             "#f1b6da"
            ],
            [
             0.4,
             "#fde0ef"
            ],
            [
             0.5,
             "#f7f7f7"
            ],
            [
             0.6,
             "#e6f5d0"
            ],
            [
             0.7,
             "#b8e186"
            ],
            [
             0.8,
             "#7fbc41"
            ],
            [
             0.9,
             "#4d9221"
            ],
            [
             1,
             "#276419"
            ]
           ],
           "sequential": [
            [
             0,
             "#0d0887"
            ],
            [
             0.1111111111111111,
             "#46039f"
            ],
            [
             0.2222222222222222,
             "#7201a8"
            ],
            [
             0.3333333333333333,
             "#9c179e"
            ],
            [
             0.4444444444444444,
             "#bd3786"
            ],
            [
             0.5555555555555556,
             "#d8576b"
            ],
            [
             0.6666666666666666,
             "#ed7953"
            ],
            [
             0.7777777777777778,
             "#fb9f3a"
            ],
            [
             0.8888888888888888,
             "#fdca26"
            ],
            [
             1,
             "#f0f921"
            ]
           ],
           "sequentialminus": [
            [
             0,
             "#0d0887"
            ],
            [
             0.1111111111111111,
             "#46039f"
            ],
            [
             0.2222222222222222,
             "#7201a8"
            ],
            [
             0.3333333333333333,
             "#9c179e"
            ],
            [
             0.4444444444444444,
             "#bd3786"
            ],
            [
             0.5555555555555556,
             "#d8576b"
            ],
            [
             0.6666666666666666,
             "#ed7953"
            ],
            [
             0.7777777777777778,
             "#fb9f3a"
            ],
            [
             0.8888888888888888,
             "#fdca26"
            ],
            [
             1,
             "#f0f921"
            ]
           ]
          },
          "colorway": [
           "#636efa",
           "#EF553B",
           "#00cc96",
           "#ab63fa",
           "#FFA15A",
           "#19d3f3",
           "#FF6692",
           "#B6E880",
           "#FF97FF",
           "#FECB52"
          ],
          "font": {
           "color": "#2a3f5f"
          },
          "geo": {
           "bgcolor": "white",
           "lakecolor": "white",
           "landcolor": "#E5ECF6",
           "showlakes": true,
           "showland": true,
           "subunitcolor": "white"
          },
          "hoverlabel": {
           "align": "left"
          },
          "hovermode": "closest",
          "mapbox": {
           "style": "light"
          },
          "paper_bgcolor": "white",
          "plot_bgcolor": "#E5ECF6",
          "polar": {
           "angularaxis": {
            "gridcolor": "white",
            "linecolor": "white",
            "ticks": ""
           },
           "bgcolor": "#E5ECF6",
           "radialaxis": {
            "gridcolor": "white",
            "linecolor": "white",
            "ticks": ""
           }
          },
          "scene": {
           "xaxis": {
            "backgroundcolor": "#E5ECF6",
            "gridcolor": "white",
            "gridwidth": 2,
            "linecolor": "white",
            "showbackground": true,
            "ticks": "",
            "zerolinecolor": "white"
           },
           "yaxis": {
            "backgroundcolor": "#E5ECF6",
            "gridcolor": "white",
            "gridwidth": 2,
            "linecolor": "white",
            "showbackground": true,
            "ticks": "",
            "zerolinecolor": "white"
           },
           "zaxis": {
            "backgroundcolor": "#E5ECF6",
            "gridcolor": "white",
            "gridwidth": 2,
            "linecolor": "white",
            "showbackground": true,
            "ticks": "",
            "zerolinecolor": "white"
           }
          },
          "shapedefaults": {
           "line": {
            "color": "#2a3f5f"
           }
          },
          "ternary": {
           "aaxis": {
            "gridcolor": "white",
            "linecolor": "white",
            "ticks": ""
           },
           "baxis": {
            "gridcolor": "white",
            "linecolor": "white",
            "ticks": ""
           },
           "bgcolor": "#E5ECF6",
           "caxis": {
            "gridcolor": "white",
            "linecolor": "white",
            "ticks": ""
           }
          },
          "title": {
           "x": 0.05
          },
          "xaxis": {
           "automargin": true,
           "gridcolor": "white",
           "linecolor": "white",
           "ticks": "",
           "title": {
            "standoff": 15
           },
           "zerolinecolor": "white",
           "zerolinewidth": 2
          },
          "yaxis": {
           "automargin": true,
           "gridcolor": "white",
           "linecolor": "white",
           "ticks": "",
           "title": {
            "standoff": 15
           },
           "zerolinecolor": "white",
           "zerolinewidth": 2
          }
         }
        },
        "title": {
         "font": {
          "color": "#27302a",
          "family": "bold",
          "size": 15
         },
         "text": "Univariate visualization of non-categorical variables<br>1. Observation from Countries(Log)<br>2. Ages Count",
         "x": 0.5
        },
        "width": 800,
        "xaxis": {
         "anchor": "y",
         "domain": [
          0,
          1
         ],
         "range": [
          -1,
          48
         ],
         "showgrid": false,
         "showline": false,
         "tickangle": 60,
         "tickfont": {
          "family": "bold",
          "size": 10
         },
         "ticklen": 6,
         "tickmode": "array",
         "ticks": "outside",
         "ticktext": [
          "United States",
          "United Kingdom",
          "Canada",
          "Germany",
          "Ireland",
          "Netherlands",
          "Australia",
          "France",
          "India",
          "New Zealand",
          "Poland",
          "Switzerland",
          "Sweden",
          "Italy",
          "South Africa",
          "Belgium",
          "Brazil",
          "Israel",
          "Singapore",
          "Bulgaria",
          "Austria",
          "Finland",
          "Mexico",
          "Russia",
          "Denmark",
          "Greece",
          "Colombia",
          "Croatia",
          "Portugal",
          "Moldova",
          "Georgia",
          "Bahamas, The",
          "China",
          "Thailand",
          "Czech Republic",
          "Norway",
          "Romania",
          "Nigeria",
          "Japan",
          "Hungary",
          "Bosnia and Herzegovina",
          "Uruguay",
          "Spain",
          "Zimbabwe",
          "Latvia",
          "Costa Rica",
          "Slovenia",
          "Philippines"
         ]
        },
        "xaxis2": {
         "anchor": "y2",
         "domain": [
          0,
          1
         ],
         "showgrid": false,
         "showline": false,
         "tickfont": {
          "color": "black",
          "family": "bold",
          "size": 15
         },
         "ticklen": 6,
         "tickmode": "array",
         "ticks": "outside",
         "ticktext": [
          "10-19",
          "20-29",
          "30-39",
          "40-49",
          "50-59",
          "60-69",
          "70-79"
         ],
         "title": {
          "font": {
           "family": "bold",
           "size": 15
          },
          "text": "Age"
         }
        },
        "yaxis": {
         "anchor": "x",
         "domain": [
          0.575,
          1
         ],
         "showgrid": false,
         "showline": false,
         "tickfont": {
          "family": "bold",
          "size": 15
         },
         "tickmode": "array",
         "ticks": "outside",
         "type": "log"
        },
        "yaxis2": {
         "anchor": "x2",
         "domain": [
          0,
          0.425
         ],
         "showgrid": false,
         "showline": false,
         "tickfont": {
          "family": "bold",
          "size": 15
         },
         "tickmode": "array",
         "ticks": "outside"
        }
       }
      },
      "text/html": [
       "<div>                            <div id=\"a8d9e145-5950-4855-a5ee-ab1ceddb378a\" class=\"plotly-graph-div\" style=\"height:1500px; width:800px;\"></div>            <script type=\"text/javascript\">                require([\"plotly\"], function(Plotly) {                    window.PLOTLYENV=window.PLOTLYENV || {};                                    if (document.getElementById(\"a8d9e145-5950-4855-a5ee-ab1ceddb378a\")) {                    Plotly.newPlot(                        \"a8d9e145-5950-4855-a5ee-ab1ceddb378a\",                        [{\"marker\":{\"color\":\"#6aa87b\",\"line\":{\"color\":\"blue\",\"width\":1.2}},\"name\":\"Observations from Countries (Log)\",\"text\":[751.0,185.0,72.0,45.0,27.0,27.0,21.0,13.0,10.0,8.0,7.0,7.0,7.0,7.0,6.0,6.0,6.0,5.0,4.0,4.0,3.0,3.0,3.0,3.0,2.0,2.0,2.0,2.0,2.0,1.0,1.0,1.0,1.0,1.0,1.0,1.0,1.0,1.0,1.0,1.0,1.0,1.0,1.0,1.0,1.0,1.0,1.0,1.0],\"textfont\":{\"family\":\"bold\",\"size\":10},\"textposition\":\"outside\",\"x\":[\"United States\",\"United Kingdom\",\"Canada\",\"Germany\",\"Ireland\",\"Netherlands\",\"Australia\",\"France\",\"India\",\"New Zealand\",\"Poland\",\"Switzerland\",\"Sweden\",\"Italy\",\"South Africa\",\"Belgium\",\"Brazil\",\"Israel\",\"Singapore\",\"Bulgaria\",\"Austria\",\"Finland\",\"Mexico\",\"Russia\",\"Denmark\",\"Greece\",\"Colombia\",\"Croatia\",\"Portugal\",\"Moldova\",\"Georgia\",\"Bahamas, The\",\"China\",\"Thailand\",\"Czech Republic\",\"Norway\",\"Romania\",\"Nigeria\",\"Japan\",\"Hungary\",\"Bosnia and Herzegovina\",\"Uruguay\",\"Spain\",\"Zimbabwe\",\"Latvia\",\"Costa Rica\",\"Slovenia\",\"Philippines\"],\"y\":[751,185,72,45,27,27,21,13,10,8,7,7,7,7,6,6,6,5,4,4,3,3,3,3,2,2,2,2,2,1,1,1,1,1,1,1,1,1,1,1,1,1,1,1,1,1,1,1],\"type\":\"bar\",\"xaxis\":\"x\",\"yaxis\":\"y\",\"opacity\":0.6},{\"marker\":{\"color\":\"#6aa87b\",\"line\":{\"color\":\"blue\",\"width\":2}},\"nbinsx\":8,\"text\":[\"16\",\"500\",\"562\",\"149\",\"26\",\"5\",\"1\"],\"x\":[37,44,32,31,31,33,35,39,42,23,31,29,42,36,27,29,23,32,46,36,29,31,46,41,33,35,33,35,34,37,32,31,30,42,40,27,29,38,50,35,24,35,27,18,30,38,28,34,26,30,22,33,31,32,28,27,32,24,26,33,44,26,27,26,35,40,23,36,31,34,28,34,23,38,33,19,25,31,32,28,38,23,30,27,33,31,39,34,29,32,31,40,34,18,25,29,24,31,33,30,26,44,25,33,29,35,35,28,34,32,22,28,45,32,28,26,21,27,18,35,29,25,33,36,27,27,27,32,31,19,33,32,27,38,24,39,28,39,29,22,38,37,35,31,30,37,24,23,30,29,19,32,28,36,37,25,27,26,27,25,36,25,31,26,33,27,34,42,23,24,26,31,22,23,34,31,28,32,45,33,29,26,28,45,43,37,24,26,23,35,38,28,28,35,32,31,35,26,27,28,27,34,41,37,34,32,21,30,24,26,40,37,26,32,32,27,30,31,29,41,34,33,28,28,23,24,32,34,24,26,36,41,38,38,30,25,37,34,37,28,22,34,33,25,27,40,21,29,32,29,23,28,31,27,24,29,23,42,24,25,27,27,30,29,43,32,41,32,37,32,30,23,30,34,38,33,34,28,28,23,22,27,18,35,25,27,26,18,38,26,30,35,45,32,56,24,30,60,33,37,23,31,26,28,37,26,30,26,25,27,25,35,36,26,27,30,29,25,22,29,41,29,32,24,25,25,30,25,30,33,24,25,31,45,29,46,30,29,24,29,35,33,27,36,33,25,23,54,22,25,29,27,30,26,25,31,33,34,34,29,33,34,26,32,31,28,35,36,21,21,22,41,55,32,21,45,27,25,34,26,41,27,31,25,26,27,42,29,25,33,31,40,31,26,24,29,48,35,32,29,26,28,23,35,29,26,33,33,22,30,33,31,21,31,26,30,30,23,34,55,28,26,28,32,28,21,24,26,23,24,28,24,33,34,27,28,26,20,23,29,26,36,41,33,23,39,34,26,24,37,43,40,30,34,27,36,27,35,32,37,29,33,28,26,27,38,57,28,26,42,31,58,29,39,34,57,27,23,18,30,23,43,18,29,48,43,28,30,26,33,31,30,27,24,25,23,36,25,54,34,38,40,32,25,35,46,42,32,47,22,33,25,29,39,38,43,46,38,33,34,62,23,35,25,36,41,24,51,29,31,27,31,27,23,21,27,39,26,27,22,26,31,32,28,28,23,30,36,21,30,25,32,29,21,27,32,34,33,22,24,65,27,33,36,40,28,39,32,31,38,23,42,27,26,50,37,23,33,29,34,41,50,29,35,27,40,27,29,31,43,34,29,19,41,29,23,24,31,43,31,29,35,33,30,27,32,50,24,27,27,32,42,37,30,29,30,35,35,38,22,24,22,31,23,31,28,37,34,32,28,24,56,31,34,35,28,36,30,35,49,36,35,29,57,31,37,25,30,26,22,39,29,54,34,32,25,29,32,30,31,20,27,32,26,30,30,22,24,26,43,26,23,26,26,35,28,22,29,29,45,33,38,19,29,21,23,33,49,28,27,23,29,30,28,32,32,37,39,31,29,30,33,37,23,43,32,26,32,37,29,34,27,30,29,32,31,25,37,29,27,33,30,29,25,33,31,21,30,29,43,37,24,29,31,31,33,43,33,27,36,37,32,39,31,36,30,28,32,35,19,33,42,37,40,36,29,38,26,34,21,31,37,37,38,27,39,33,27,36,28,39,33,32,28,37,39,43,32,27,31,43,33,34,33,25,25,32,25,37,39,29,33,37,35,22,38,32,28,27,35,29,23,39,30,32,28,40,36,27,41,29,29,35,28,36,39,39,44,26,35,40,35,38,34,43,48,20,40,29,35,29,40,29,29,34,44,24,47,43,36,43,36,31,35,33,37,34,36,40,40,42,23,21,26,31,25,51,24,33,32,32,26,23,33,46,34,35,39,32,43,56,32,41,39,37,30,31,29,23,31,29,30,37,36,35,41,31,38,26,39,42,32,29,30,40,51,33,34,50,24,25,43,25,24,51,49,30,25,36,48,48,53,24,33,25,30,30,34,31,22,28,35,28,42,33,29,43,29,25,31,35,34,43,38,26,38,42,33,32,44,28,40,31,32,28,39,45,43,35,40,34,24,61,36,38,33,30,34,26,33,32,25,35,24,55,33,26,25,45,33,43,30,40,49,29,26,38,27,26,28,40,37,34,28,27,29,39,28,23,31,38,19,30,28,20,35,39,31,32,27,25,42,34,26,35,34,38,34,39,44,40,33,24,38,31,23,26,46,30,25,19,30,32,32,37,42,25,19,40,34,26,31,40,31,36,35,26,44,34,35,28,33,40,26,29,26,33,28,41,39,26,23,35,36,42,39,27,33,31,28,29,27,44,25,24,25,34,26,48,34,39,43,41,25,31,40,43,27,37,32,25,29,30,34,32,37,41,38,32,28,31,43,32,25,37,36,24,40,29,43,29,26,33,35,45,25,50,26,33,30,33,29,37,25,40,24,40,46,38,34,32,44,33,45,35,26,20,31,37,28,42,32,36,27,27,27,25,41,23,21,26,29,28,27,23,26,38,39,35,32,32,26,38,34,39,32,37,31,30,51,29,31,31,26,46,32,29,34,26,32,29,30,40,23,20,38,26,29,40,25,32,38,72,35,28,27,56,38,31,40,44,34,37,38,27,34,35,34,32,25,28,28,31,24,34,32,34,23,33,29,24,45,34,31,33,28,27,42,28,38,46,46,41,23,24,23,39,32,25,39,23,24,25,23,24,23,60,28,28,30,31,31,28,43,32,22,32,36,41,30,30,36,29,36,26,32,34,46,25],\"type\":\"histogram\",\"xaxis\":\"x2\",\"yaxis\":\"y2\",\"opacity\":0.6}],                        {\"template\":{\"data\":{\"histogram2dcontour\":[{\"type\":\"histogram2dcontour\",\"colorbar\":{\"outlinewidth\":0,\"ticks\":\"\"},\"colorscale\":[[0.0,\"#0d0887\"],[0.1111111111111111,\"#46039f\"],[0.2222222222222222,\"#7201a8\"],[0.3333333333333333,\"#9c179e\"],[0.4444444444444444,\"#bd3786\"],[0.5555555555555556,\"#d8576b\"],[0.6666666666666666,\"#ed7953\"],[0.7777777777777778,\"#fb9f3a\"],[0.8888888888888888,\"#fdca26\"],[1.0,\"#f0f921\"]]}],\"choropleth\":[{\"type\":\"choropleth\",\"colorbar\":{\"outlinewidth\":0,\"ticks\":\"\"}}],\"histogram2d\":[{\"type\":\"histogram2d\",\"colorbar\":{\"outlinewidth\":0,\"ticks\":\"\"},\"colorscale\":[[0.0,\"#0d0887\"],[0.1111111111111111,\"#46039f\"],[0.2222222222222222,\"#7201a8\"],[0.3333333333333333,\"#9c179e\"],[0.4444444444444444,\"#bd3786\"],[0.5555555555555556,\"#d8576b\"],[0.6666666666666666,\"#ed7953\"],[0.7777777777777778,\"#fb9f3a\"],[0.8888888888888888,\"#fdca26\"],[1.0,\"#f0f921\"]]}],\"heatmap\":[{\"type\":\"heatmap\",\"colorbar\":{\"outlinewidth\":0,\"ticks\":\"\"},\"colorscale\":[[0.0,\"#0d0887\"],[0.1111111111111111,\"#46039f\"],[0.2222222222222222,\"#7201a8\"],[0.3333333333333333,\"#9c179e\"],[0.4444444444444444,\"#bd3786\"],[0.5555555555555556,\"#d8576b\"],[0.6666666666666666,\"#ed7953\"],[0.7777777777777778,\"#fb9f3a\"],[0.8888888888888888,\"#fdca26\"],[1.0,\"#f0f921\"]]}],\"heatmapgl\":[{\"type\":\"heatmapgl\",\"colorbar\":{\"outlinewidth\":0,\"ticks\":\"\"},\"colorscale\":[[0.0,\"#0d0887\"],[0.1111111111111111,\"#46039f\"],[0.2222222222222222,\"#7201a8\"],[0.3333333333333333,\"#9c179e\"],[0.4444444444444444,\"#bd3786\"],[0.5555555555555556,\"#d8576b\"],[0.6666666666666666,\"#ed7953\"],[0.7777777777777778,\"#fb9f3a\"],[0.8888888888888888,\"#fdca26\"],[1.0,\"#f0f921\"]]}],\"contourcarpet\":[{\"type\":\"contourcarpet\",\"colorbar\":{\"outlinewidth\":0,\"ticks\":\"\"}}],\"contour\":[{\"type\":\"contour\",\"colorbar\":{\"outlinewidth\":0,\"ticks\":\"\"},\"colorscale\":[[0.0,\"#0d0887\"],[0.1111111111111111,\"#46039f\"],[0.2222222222222222,\"#7201a8\"],[0.3333333333333333,\"#9c179e\"],[0.4444444444444444,\"#bd3786\"],[0.5555555555555556,\"#d8576b\"],[0.6666666666666666,\"#ed7953\"],[0.7777777777777778,\"#fb9f3a\"],[0.8888888888888888,\"#fdca26\"],[1.0,\"#f0f921\"]]}],\"surface\":[{\"type\":\"surface\",\"colorbar\":{\"outlinewidth\":0,\"ticks\":\"\"},\"colorscale\":[[0.0,\"#0d0887\"],[0.1111111111111111,\"#46039f\"],[0.2222222222222222,\"#7201a8\"],[0.3333333333333333,\"#9c179e\"],[0.4444444444444444,\"#bd3786\"],[0.5555555555555556,\"#d8576b\"],[0.6666666666666666,\"#ed7953\"],[0.7777777777777778,\"#fb9f3a\"],[0.8888888888888888,\"#fdca26\"],[1.0,\"#f0f921\"]]}],\"mesh3d\":[{\"type\":\"mesh3d\",\"colorbar\":{\"outlinewidth\":0,\"ticks\":\"\"}}],\"scatter\":[{\"fillpattern\":{\"fillmode\":\"overlay\",\"size\":10,\"solidity\":0.2},\"type\":\"scatter\"}],\"parcoords\":[{\"type\":\"parcoords\",\"line\":{\"colorbar\":{\"outlinewidth\":0,\"ticks\":\"\"}}}],\"scatterpolargl\":[{\"type\":\"scatterpolargl\",\"marker\":{\"colorbar\":{\"outlinewidth\":0,\"ticks\":\"\"}}}],\"bar\":[{\"error_x\":{\"color\":\"#2a3f5f\"},\"error_y\":{\"color\":\"#2a3f5f\"},\"marker\":{\"line\":{\"color\":\"#E5ECF6\",\"width\":0.5},\"pattern\":{\"fillmode\":\"overlay\",\"size\":10,\"solidity\":0.2}},\"type\":\"bar\"}],\"scattergeo\":[{\"type\":\"scattergeo\",\"marker\":{\"colorbar\":{\"outlinewidth\":0,\"ticks\":\"\"}}}],\"scatterpolar\":[{\"type\":\"scatterpolar\",\"marker\":{\"colorbar\":{\"outlinewidth\":0,\"ticks\":\"\"}}}],\"histogram\":[{\"marker\":{\"pattern\":{\"fillmode\":\"overlay\",\"size\":10,\"solidity\":0.2}},\"type\":\"histogram\"}],\"scattergl\":[{\"type\":\"scattergl\",\"marker\":{\"colorbar\":{\"outlinewidth\":0,\"ticks\":\"\"}}}],\"scatter3d\":[{\"type\":\"scatter3d\",\"line\":{\"colorbar\":{\"outlinewidth\":0,\"ticks\":\"\"}},\"marker\":{\"colorbar\":{\"outlinewidth\":0,\"ticks\":\"\"}}}],\"scattermapbox\":[{\"type\":\"scattermapbox\",\"marker\":{\"colorbar\":{\"outlinewidth\":0,\"ticks\":\"\"}}}],\"scatterternary\":[{\"type\":\"scatterternary\",\"marker\":{\"colorbar\":{\"outlinewidth\":0,\"ticks\":\"\"}}}],\"scattercarpet\":[{\"type\":\"scattercarpet\",\"marker\":{\"colorbar\":{\"outlinewidth\":0,\"ticks\":\"\"}}}],\"carpet\":[{\"aaxis\":{\"endlinecolor\":\"#2a3f5f\",\"gridcolor\":\"white\",\"linecolor\":\"white\",\"minorgridcolor\":\"white\",\"startlinecolor\":\"#2a3f5f\"},\"baxis\":{\"endlinecolor\":\"#2a3f5f\",\"gridcolor\":\"white\",\"linecolor\":\"white\",\"minorgridcolor\":\"white\",\"startlinecolor\":\"#2a3f5f\"},\"type\":\"carpet\"}],\"table\":[{\"cells\":{\"fill\":{\"color\":\"#EBF0F8\"},\"line\":{\"color\":\"white\"}},\"header\":{\"fill\":{\"color\":\"#C8D4E3\"},\"line\":{\"color\":\"white\"}},\"type\":\"table\"}],\"barpolar\":[{\"marker\":{\"line\":{\"color\":\"#E5ECF6\",\"width\":0.5},\"pattern\":{\"fillmode\":\"overlay\",\"size\":10,\"solidity\":0.2}},\"type\":\"barpolar\"}],\"pie\":[{\"automargin\":true,\"type\":\"pie\"}]},\"layout\":{\"autotypenumbers\":\"strict\",\"colorway\":[\"#636efa\",\"#EF553B\",\"#00cc96\",\"#ab63fa\",\"#FFA15A\",\"#19d3f3\",\"#FF6692\",\"#B6E880\",\"#FF97FF\",\"#FECB52\"],\"font\":{\"color\":\"#2a3f5f\"},\"hovermode\":\"closest\",\"hoverlabel\":{\"align\":\"left\"},\"paper_bgcolor\":\"white\",\"plot_bgcolor\":\"#E5ECF6\",\"polar\":{\"bgcolor\":\"#E5ECF6\",\"angularaxis\":{\"gridcolor\":\"white\",\"linecolor\":\"white\",\"ticks\":\"\"},\"radialaxis\":{\"gridcolor\":\"white\",\"linecolor\":\"white\",\"ticks\":\"\"}},\"ternary\":{\"bgcolor\":\"#E5ECF6\",\"aaxis\":{\"gridcolor\":\"white\",\"linecolor\":\"white\",\"ticks\":\"\"},\"baxis\":{\"gridcolor\":\"white\",\"linecolor\":\"white\",\"ticks\":\"\"},\"caxis\":{\"gridcolor\":\"white\",\"linecolor\":\"white\",\"ticks\":\"\"}},\"coloraxis\":{\"colorbar\":{\"outlinewidth\":0,\"ticks\":\"\"}},\"colorscale\":{\"sequential\":[[0.0,\"#0d0887\"],[0.1111111111111111,\"#46039f\"],[0.2222222222222222,\"#7201a8\"],[0.3333333333333333,\"#9c179e\"],[0.4444444444444444,\"#bd3786\"],[0.5555555555555556,\"#d8576b\"],[0.6666666666666666,\"#ed7953\"],[0.7777777777777778,\"#fb9f3a\"],[0.8888888888888888,\"#fdca26\"],[1.0,\"#f0f921\"]],\"sequentialminus\":[[0.0,\"#0d0887\"],[0.1111111111111111,\"#46039f\"],[0.2222222222222222,\"#7201a8\"],[0.3333333333333333,\"#9c179e\"],[0.4444444444444444,\"#bd3786\"],[0.5555555555555556,\"#d8576b\"],[0.6666666666666666,\"#ed7953\"],[0.7777777777777778,\"#fb9f3a\"],[0.8888888888888888,\"#fdca26\"],[1.0,\"#f0f921\"]],\"diverging\":[[0,\"#8e0152\"],[0.1,\"#c51b7d\"],[0.2,\"#de77ae\"],[0.3,\"#f1b6da\"],[0.4,\"#fde0ef\"],[0.5,\"#f7f7f7\"],[0.6,\"#e6f5d0\"],[0.7,\"#b8e186\"],[0.8,\"#7fbc41\"],[0.9,\"#4d9221\"],[1,\"#276419\"]]},\"xaxis\":{\"gridcolor\":\"white\",\"linecolor\":\"white\",\"ticks\":\"\",\"title\":{\"standoff\":15},\"zerolinecolor\":\"white\",\"automargin\":true,\"zerolinewidth\":2},\"yaxis\":{\"gridcolor\":\"white\",\"linecolor\":\"white\",\"ticks\":\"\",\"title\":{\"standoff\":15},\"zerolinecolor\":\"white\",\"automargin\":true,\"zerolinewidth\":2},\"scene\":{\"xaxis\":{\"backgroundcolor\":\"#E5ECF6\",\"gridcolor\":\"white\",\"linecolor\":\"white\",\"showbackground\":true,\"ticks\":\"\",\"zerolinecolor\":\"white\",\"gridwidth\":2},\"yaxis\":{\"backgroundcolor\":\"#E5ECF6\",\"gridcolor\":\"white\",\"linecolor\":\"white\",\"showbackground\":true,\"ticks\":\"\",\"zerolinecolor\":\"white\",\"gridwidth\":2},\"zaxis\":{\"backgroundcolor\":\"#E5ECF6\",\"gridcolor\":\"white\",\"linecolor\":\"white\",\"showbackground\":true,\"ticks\":\"\",\"zerolinecolor\":\"white\",\"gridwidth\":2}},\"shapedefaults\":{\"line\":{\"color\":\"#2a3f5f\"}},\"annotationdefaults\":{\"arrowcolor\":\"#2a3f5f\",\"arrowhead\":0,\"arrowwidth\":1},\"geo\":{\"bgcolor\":\"white\",\"landcolor\":\"#E5ECF6\",\"subunitcolor\":\"white\",\"showland\":true,\"showlakes\":true,\"lakecolor\":\"white\"},\"title\":{\"x\":0.05},\"mapbox\":{\"style\":\"light\"}}},\"xaxis\":{\"anchor\":\"y\",\"domain\":[0.0,1.0],\"tickfont\":{\"size\":10,\"family\":\"bold\"},\"tickmode\":\"array\",\"ticktext\":[\"United States\",\"United Kingdom\",\"Canada\",\"Germany\",\"Ireland\",\"Netherlands\",\"Australia\",\"France\",\"India\",\"New Zealand\",\"Poland\",\"Switzerland\",\"Sweden\",\"Italy\",\"South Africa\",\"Belgium\",\"Brazil\",\"Israel\",\"Singapore\",\"Bulgaria\",\"Austria\",\"Finland\",\"Mexico\",\"Russia\",\"Denmark\",\"Greece\",\"Colombia\",\"Croatia\",\"Portugal\",\"Moldova\",\"Georgia\",\"Bahamas, The\",\"China\",\"Thailand\",\"Czech Republic\",\"Norway\",\"Romania\",\"Nigeria\",\"Japan\",\"Hungary\",\"Bosnia and Herzegovina\",\"Uruguay\",\"Spain\",\"Zimbabwe\",\"Latvia\",\"Costa Rica\",\"Slovenia\",\"Philippines\"],\"tickangle\":60,\"ticklen\":6,\"showline\":false,\"showgrid\":false,\"ticks\":\"outside\",\"range\":[-1,48]},\"yaxis\":{\"anchor\":\"x\",\"domain\":[0.575,1.0],\"tickfont\":{\"size\":15,\"family\":\"bold\"},\"type\":\"log\",\"tickmode\":\"array\",\"showline\":false,\"showgrid\":false,\"ticks\":\"outside\"},\"xaxis2\":{\"anchor\":\"y2\",\"domain\":[0.0,1.0],\"title\":{\"font\":{\"size\":15,\"family\":\"bold\"},\"text\":\"Age\"},\"tickfont\":{\"size\":15,\"family\":\"bold\",\"color\":\"black\"},\"tickmode\":\"array\",\"ticktext\":[\"10-19\",\"20-29\",\"30-39\",\"40-49\",\"50-59\",\"60-69\",\"70-79\"],\"ticklen\":6,\"showline\":false,\"showgrid\":false,\"ticks\":\"outside\"},\"yaxis2\":{\"anchor\":\"x2\",\"domain\":[0.0,0.425],\"tickfont\":{\"size\":15,\"family\":\"bold\"},\"tickmode\":\"array\",\"showline\":false,\"showgrid\":false,\"ticks\":\"outside\"},\"title\":{\"font\":{\"size\":15,\"color\":\"#27302a\",\"family\":\"bold\"},\"text\":\"Univariate visualization of non-categorical variables<br>1. Observation from Countries(Log)<br>2. Ages Count\",\"x\":0.5},\"height\":1500,\"width\":800,\"showlegend\":false},                        {\"responsive\": true}                    ).then(function(){\n",
       "                            \n",
       "var gd = document.getElementById('a8d9e145-5950-4855-a5ee-ab1ceddb378a');\n",
       "var x = new MutationObserver(function (mutations, observer) {{\n",
       "        var display = window.getComputedStyle(gd).display;\n",
       "        if (!display || display === 'none') {{\n",
       "            console.log([gd, 'removed!']);\n",
       "            Plotly.purge(gd);\n",
       "            observer.disconnect();\n",
       "        }}\n",
       "}});\n",
       "\n",
       "// Listen for the removal of the full notebook cells\n",
       "var notebookContainer = gd.closest('#notebook-container');\n",
       "if (notebookContainer) {{\n",
       "    x.observe(notebookContainer, {childList: true});\n",
       "}}\n",
       "\n",
       "// Listen for the clearing of the current output cell\n",
       "var outputEl = gd.closest('.output');\n",
       "if (outputEl) {{\n",
       "    x.observe(outputEl, {childList: true});\n",
       "}}\n",
       "\n",
       "                        })                };                });            </script>        </div>"
      ]
     },
     "metadata": {},
     "output_type": "display_data"
    }
   ],
   "source": [
    "# Univariate visualization of non-categorical variables\n",
    "\n",
    "fig = make_subplots(rows = 2, cols=1)\n",
    "\n",
    "fig.append_trace(go.Bar(\n",
    "                        y = workplace_df['Country'].value_counts(),\n",
    "                        x = workplace_df['Country'].value_counts().index,\n",
    "                        name = 'Observations from Countries (Log)',\n",
    "                        text = workplace_df['Country'].value_counts(),\n",
    "                        textfont = dict(size = 10,\n",
    "                                        family = 'bold'),\n",
    "                        textposition = 'outside',\n",
    "                        marker=dict(color=\"#6aa87b\")\n",
    "                        ), row=1, col=1)\n",
    "\n",
    "fig.append_trace(go.Histogram(\n",
    "                        x = workplace_df['Age'],\n",
    "                        nbinsx = 8,\n",
    "                        text = ['16', '500', '562', '149', '26', '5', '1'],\n",
    "                        marker =  dict(color=\"#6aa87b\")),\n",
    "                        row=2, col=1)\n",
    "\n",
    "\n",
    "# For Subplot : 1\n",
    "\n",
    "fig.update_xaxes(\n",
    "        row=1, col=1,\n",
    "        tickfont = dict(size=10, family = 'bold'),\n",
    "        tickmode = 'array',\n",
    "        ticktext = workplace_df['Country'].value_counts().index,\n",
    "        tickangle = 60,\n",
    "        ticklen = 6,\n",
    "        showline = False,\n",
    "        showgrid = False,\n",
    "        ticks = 'outside')\n",
    "\n",
    "fig.update_yaxes(type = 'log',\n",
    "        row=1, col=1,\n",
    "        tickfont = dict(size=15, family = 'bold'),\n",
    "        tickmode = 'array',\n",
    "        showline = False,\n",
    "        showgrid = False,\n",
    "        ticks = 'outside')\n",
    "\n",
    "fig.update_traces(\n",
    "                  marker_line_color='blue',\n",
    "                  marker_line_width= 1.2,\n",
    "                  opacity=0.6,\n",
    "                  row = 1, col = 1)\n",
    "\n",
    "fig.update_xaxes(range=[-1,48], row = 1, col = 1)\n",
    "\n",
    "# For Subplot : 2\n",
    "\n",
    "fig.update_xaxes(        \n",
    "        title = dict(text = 'Age',\n",
    "                     font = dict(size = 15,\n",
    "                                 family = 'bold')),\n",
    "        row=2, col=1,\n",
    "        tickfont = dict(size=15, family = 'bold', color = 'black'),\n",
    "        tickmode = 'array',\n",
    "        ticktext = ['10-19', '20-29', '30-39', '40-49', '50-59', '60-69', '70-79'],\n",
    "        ticklen = 6,\n",
    "        showline = False,\n",
    "        showgrid = False,\n",
    "        ticks = 'outside')\n",
    "\n",
    "fig.update_yaxes(\n",
    "        row=2, col=1,\n",
    "        tickfont = dict(size=15, family = 'bold'),\n",
    "        tickmode = 'array',\n",
    "        showline = False,\n",
    "        showgrid = False,\n",
    "        ticks = 'outside')\n",
    "\n",
    "fig.update_traces(\n",
    "                  marker_line_color='blue',\n",
    "                  marker_line_width = 2,\n",
    "                  opacity = 0.6,\n",
    "                  row = 2, col = 1)\n",
    "\n",
    "\n",
    "fig.update_layout(height=1500, width=800,\n",
    "                  title = dict(text = 'Univariate visualization of non-categorical variables<br>1. Observation from Countries(Log)<br>2. Ages Count',\n",
    "                               x = 0.5,\n",
    "                               font = dict(size = 15, color ='#27302a',\n",
    "                               family = 'bold')),\n",
    "                 \n",
    "                showlegend = False)\n",
    "\n",
    "fig.show()"
   ]
  },
  {
   "cell_type": "code",
   "execution_count": 350,
   "id": "3122da04",
   "metadata": {},
   "outputs": [
    {
     "data": {
      "text/html": [
       "<style type=\"text/css\">\n",
       "#T_439e7_row0_col0, #T_439e7_row1_col0, #T_439e7_row2_col0 {\n",
       "  background-color: #eaedb4;\n",
       "}\n",
       "</style>\n",
       "<table id=\"T_439e7\">\n",
       "  <thead>\n",
       "    <tr>\n",
       "      <th class=\"blank level0\" >&nbsp;</th>\n",
       "      <th id=\"T_439e7_level0_col0\" class=\"col_heading level0 col0\" >Gender</th>\n",
       "    </tr>\n",
       "  </thead>\n",
       "  <tbody>\n",
       "    <tr>\n",
       "      <th id=\"T_439e7_level0_row0\" class=\"row_heading level0 row0\" >M</th>\n",
       "      <td id=\"T_439e7_row0_col0\" class=\"data row0 col0\" >0.787133</td>\n",
       "    </tr>\n",
       "    <tr>\n",
       "      <th id=\"T_439e7_level0_row1\" class=\"row_heading level0 row1\" >F</th>\n",
       "      <td id=\"T_439e7_row1_col0\" class=\"data row1 col0\" >0.196187</td>\n",
       "    </tr>\n",
       "    <tr>\n",
       "      <th id=\"T_439e7_level0_row2\" class=\"row_heading level0 row2\" >other</th>\n",
       "      <td id=\"T_439e7_row2_col0\" class=\"data row2 col0\" >0.016680</td>\n",
       "    </tr>\n",
       "  </tbody>\n",
       "</table>\n"
      ],
      "text/plain": [
       "<pandas.io.formats.style.Styler at 0x1908149d670>"
      ]
     },
     "execution_count": 350,
     "metadata": {},
     "output_type": "execute_result"
    }
   ],
   "source": [
    "prop = pd.DataFrame(workplace_df.Gender.value_counts(normalize=True))\n",
    "prop.style.applymap(lambda x : \"background-color: #eaedb4\")"
   ]
  },
  {
   "cell_type": "code",
   "execution_count": 351,
   "id": "3da89a4f",
   "metadata": {},
   "outputs": [],
   "source": [
    "male_country   = workplace_df[workplace_df['Gender'] == 'M'][['Country', 'Gender']]\n",
    "female_country = workplace_df[workplace_df['Gender'] == 'F'][['Country', 'Gender']]\n",
    "male_country   = male_country.value_counts()\n",
    "female_country = female_country.value_counts()\n",
    "\n",
    "male_country   = pd.DataFrame(male_country).reset_index().rename(columns={0:'count'}).head(15)\n",
    "female_country = pd.DataFrame(female_country).reset_index().rename(columns={0:'count'}).head(15)\n",
    "male_country['count'] = male_country['count'] * -1"
   ]
  },
  {
   "cell_type": "code",
   "execution_count": 352,
   "id": "d9d16269",
   "metadata": {},
   "outputs": [
    {
     "data": {
      "application/vnd.plotly.v1+json": {
       "config": {
        "plotlyServerURL": "https://plot.ly"
       },
       "data": [
        {
         "marker": {
          "color": "Orange"
         },
         "name": "Male responses",
         "orientation": "h",
         "text": [
          -562,
          -154,
          -56,
          -42,
          -24,
          -23,
          -16,
          -13,
          -8,
          -7,
          -7,
          -6,
          -6,
          -6,
          -5
         ],
         "textfont": {
          "color": "Orange",
          "size": 10
         },
         "textposition": "outside",
         "type": "bar",
         "x": [
          -562,
          -154,
          -56,
          -42,
          -24,
          -23,
          -16,
          -13,
          -8,
          -7,
          -7,
          -6,
          -6,
          -6,
          -5
         ],
         "xaxis": "x",
         "y": [
          "United States",
          "United Kingdom",
          "Canada",
          "Germany",
          "Netherlands",
          "Ireland",
          "Australia",
          "France",
          "India",
          "New Zealand",
          "Italy",
          "Brazil",
          "Poland",
          "Switzerland",
          "South Africa"
         ],
         "yaxis": "y"
        },
        {
         "marker": {
          "color": "Blue"
         },
         "name": "Female responses",
         "orientation": "h",
         "text": [
          180,
          26,
          14,
          5,
          4,
          3,
          2,
          2,
          2,
          1,
          1,
          1,
          1,
          1,
          1
         ],
         "textfont": {
          "color": "Blue",
          "size": 10
         },
         "textposition": "outside",
         "type": "bar",
         "x": [
          180,
          26,
          14,
          5,
          4,
          3,
          2,
          2,
          2,
          1,
          1,
          1,
          1,
          1,
          1
         ],
         "xaxis": "x2",
         "y": [
          "United States",
          "United Kingdom",
          "Canada",
          "Germany",
          "Netherlands",
          "Ireland",
          "Australia",
          "France",
          "India",
          "New Zealand",
          "Italy",
          "Brazil",
          "Poland",
          "Switzerland",
          "South Africa"
         ],
         "yaxis": "y2"
        }
       ],
       "layout": {
        "font": {
         "color": "black",
         "family": "bold"
        },
        "hoverlabel": {
         "bgcolor": "#edf2c7",
         "font": {
          "family": "bold",
          "size": 10
         }
        },
        "hovermode": "y unified",
        "legend": {
         "orientation": "h",
         "x": 0.5,
         "xanchor": "center",
         "y": 1,
         "yanchor": "bottom"
        },
        "margin": {
         "b": 0,
         "l": 70,
         "r": 40,
         "t": 80
        },
        "paper_bgcolor": "#edf2c7",
        "plot_bgcolor": "#edf2c7",
        "template": {
         "data": {
          "bar": [
           {
            "error_x": {
             "color": "#2a3f5f"
            },
            "error_y": {
             "color": "#2a3f5f"
            },
            "marker": {
             "line": {
              "color": "#E5ECF6",
              "width": 0.5
             },
             "pattern": {
              "fillmode": "overlay",
              "size": 10,
              "solidity": 0.2
             }
            },
            "type": "bar"
           }
          ],
          "barpolar": [
           {
            "marker": {
             "line": {
              "color": "#E5ECF6",
              "width": 0.5
             },
             "pattern": {
              "fillmode": "overlay",
              "size": 10,
              "solidity": 0.2
             }
            },
            "type": "barpolar"
           }
          ],
          "carpet": [
           {
            "aaxis": {
             "endlinecolor": "#2a3f5f",
             "gridcolor": "white",
             "linecolor": "white",
             "minorgridcolor": "white",
             "startlinecolor": "#2a3f5f"
            },
            "baxis": {
             "endlinecolor": "#2a3f5f",
             "gridcolor": "white",
             "linecolor": "white",
             "minorgridcolor": "white",
             "startlinecolor": "#2a3f5f"
            },
            "type": "carpet"
           }
          ],
          "choropleth": [
           {
            "colorbar": {
             "outlinewidth": 0,
             "ticks": ""
            },
            "type": "choropleth"
           }
          ],
          "contour": [
           {
            "colorbar": {
             "outlinewidth": 0,
             "ticks": ""
            },
            "colorscale": [
             [
              0,
              "#0d0887"
             ],
             [
              0.1111111111111111,
              "#46039f"
             ],
             [
              0.2222222222222222,
              "#7201a8"
             ],
             [
              0.3333333333333333,
              "#9c179e"
             ],
             [
              0.4444444444444444,
              "#bd3786"
             ],
             [
              0.5555555555555556,
              "#d8576b"
             ],
             [
              0.6666666666666666,
              "#ed7953"
             ],
             [
              0.7777777777777778,
              "#fb9f3a"
             ],
             [
              0.8888888888888888,
              "#fdca26"
             ],
             [
              1,
              "#f0f921"
             ]
            ],
            "type": "contour"
           }
          ],
          "contourcarpet": [
           {
            "colorbar": {
             "outlinewidth": 0,
             "ticks": ""
            },
            "type": "contourcarpet"
           }
          ],
          "heatmap": [
           {
            "colorbar": {
             "outlinewidth": 0,
             "ticks": ""
            },
            "colorscale": [
             [
              0,
              "#0d0887"
             ],
             [
              0.1111111111111111,
              "#46039f"
             ],
             [
              0.2222222222222222,
              "#7201a8"
             ],
             [
              0.3333333333333333,
              "#9c179e"
             ],
             [
              0.4444444444444444,
              "#bd3786"
             ],
             [
              0.5555555555555556,
              "#d8576b"
             ],
             [
              0.6666666666666666,
              "#ed7953"
             ],
             [
              0.7777777777777778,
              "#fb9f3a"
             ],
             [
              0.8888888888888888,
              "#fdca26"
             ],
             [
              1,
              "#f0f921"
             ]
            ],
            "type": "heatmap"
           }
          ],
          "heatmapgl": [
           {
            "colorbar": {
             "outlinewidth": 0,
             "ticks": ""
            },
            "colorscale": [
             [
              0,
              "#0d0887"
             ],
             [
              0.1111111111111111,
              "#46039f"
             ],
             [
              0.2222222222222222,
              "#7201a8"
             ],
             [
              0.3333333333333333,
              "#9c179e"
             ],
             [
              0.4444444444444444,
              "#bd3786"
             ],
             [
              0.5555555555555556,
              "#d8576b"
             ],
             [
              0.6666666666666666,
              "#ed7953"
             ],
             [
              0.7777777777777778,
              "#fb9f3a"
             ],
             [
              0.8888888888888888,
              "#fdca26"
             ],
             [
              1,
              "#f0f921"
             ]
            ],
            "type": "heatmapgl"
           }
          ],
          "histogram": [
           {
            "marker": {
             "pattern": {
              "fillmode": "overlay",
              "size": 10,
              "solidity": 0.2
             }
            },
            "type": "histogram"
           }
          ],
          "histogram2d": [
           {
            "colorbar": {
             "outlinewidth": 0,
             "ticks": ""
            },
            "colorscale": [
             [
              0,
              "#0d0887"
             ],
             [
              0.1111111111111111,
              "#46039f"
             ],
             [
              0.2222222222222222,
              "#7201a8"
             ],
             [
              0.3333333333333333,
              "#9c179e"
             ],
             [
              0.4444444444444444,
              "#bd3786"
             ],
             [
              0.5555555555555556,
              "#d8576b"
             ],
             [
              0.6666666666666666,
              "#ed7953"
             ],
             [
              0.7777777777777778,
              "#fb9f3a"
             ],
             [
              0.8888888888888888,
              "#fdca26"
             ],
             [
              1,
              "#f0f921"
             ]
            ],
            "type": "histogram2d"
           }
          ],
          "histogram2dcontour": [
           {
            "colorbar": {
             "outlinewidth": 0,
             "ticks": ""
            },
            "colorscale": [
             [
              0,
              "#0d0887"
             ],
             [
              0.1111111111111111,
              "#46039f"
             ],
             [
              0.2222222222222222,
              "#7201a8"
             ],
             [
              0.3333333333333333,
              "#9c179e"
             ],
             [
              0.4444444444444444,
              "#bd3786"
             ],
             [
              0.5555555555555556,
              "#d8576b"
             ],
             [
              0.6666666666666666,
              "#ed7953"
             ],
             [
              0.7777777777777778,
              "#fb9f3a"
             ],
             [
              0.8888888888888888,
              "#fdca26"
             ],
             [
              1,
              "#f0f921"
             ]
            ],
            "type": "histogram2dcontour"
           }
          ],
          "mesh3d": [
           {
            "colorbar": {
             "outlinewidth": 0,
             "ticks": ""
            },
            "type": "mesh3d"
           }
          ],
          "parcoords": [
           {
            "line": {
             "colorbar": {
              "outlinewidth": 0,
              "ticks": ""
             }
            },
            "type": "parcoords"
           }
          ],
          "pie": [
           {
            "automargin": true,
            "type": "pie"
           }
          ],
          "scatter": [
           {
            "fillpattern": {
             "fillmode": "overlay",
             "size": 10,
             "solidity": 0.2
            },
            "type": "scatter"
           }
          ],
          "scatter3d": [
           {
            "line": {
             "colorbar": {
              "outlinewidth": 0,
              "ticks": ""
             }
            },
            "marker": {
             "colorbar": {
              "outlinewidth": 0,
              "ticks": ""
             }
            },
            "type": "scatter3d"
           }
          ],
          "scattercarpet": [
           {
            "marker": {
             "colorbar": {
              "outlinewidth": 0,
              "ticks": ""
             }
            },
            "type": "scattercarpet"
           }
          ],
          "scattergeo": [
           {
            "marker": {
             "colorbar": {
              "outlinewidth": 0,
              "ticks": ""
             }
            },
            "type": "scattergeo"
           }
          ],
          "scattergl": [
           {
            "marker": {
             "colorbar": {
              "outlinewidth": 0,
              "ticks": ""
             }
            },
            "type": "scattergl"
           }
          ],
          "scattermapbox": [
           {
            "marker": {
             "colorbar": {
              "outlinewidth": 0,
              "ticks": ""
             }
            },
            "type": "scattermapbox"
           }
          ],
          "scatterpolar": [
           {
            "marker": {
             "colorbar": {
              "outlinewidth": 0,
              "ticks": ""
             }
            },
            "type": "scatterpolar"
           }
          ],
          "scatterpolargl": [
           {
            "marker": {
             "colorbar": {
              "outlinewidth": 0,
              "ticks": ""
             }
            },
            "type": "scatterpolargl"
           }
          ],
          "scatterternary": [
           {
            "marker": {
             "colorbar": {
              "outlinewidth": 0,
              "ticks": ""
             }
            },
            "type": "scatterternary"
           }
          ],
          "surface": [
           {
            "colorbar": {
             "outlinewidth": 0,
             "ticks": ""
            },
            "colorscale": [
             [
              0,
              "#0d0887"
             ],
             [
              0.1111111111111111,
              "#46039f"
             ],
             [
              0.2222222222222222,
              "#7201a8"
             ],
             [
              0.3333333333333333,
              "#9c179e"
             ],
             [
              0.4444444444444444,
              "#bd3786"
             ],
             [
              0.5555555555555556,
              "#d8576b"
             ],
             [
              0.6666666666666666,
              "#ed7953"
             ],
             [
              0.7777777777777778,
              "#fb9f3a"
             ],
             [
              0.8888888888888888,
              "#fdca26"
             ],
             [
              1,
              "#f0f921"
             ]
            ],
            "type": "surface"
           }
          ],
          "table": [
           {
            "cells": {
             "fill": {
              "color": "#EBF0F8"
             },
             "line": {
              "color": "white"
             }
            },
            "header": {
             "fill": {
              "color": "#C8D4E3"
             },
             "line": {
              "color": "white"
             }
            },
            "type": "table"
           }
          ]
         },
         "layout": {
          "annotationdefaults": {
           "arrowcolor": "#2a3f5f",
           "arrowhead": 0,
           "arrowwidth": 1
          },
          "autotypenumbers": "strict",
          "coloraxis": {
           "colorbar": {
            "outlinewidth": 0,
            "ticks": ""
           }
          },
          "colorscale": {
           "diverging": [
            [
             0,
             "#8e0152"
            ],
            [
             0.1,
             "#c51b7d"
            ],
            [
             0.2,
             "#de77ae"
            ],
            [
             0.3,
             "#f1b6da"
            ],
            [
             0.4,
             "#fde0ef"
            ],
            [
             0.5,
             "#f7f7f7"
            ],
            [
             0.6,
             "#e6f5d0"
            ],
            [
             0.7,
             "#b8e186"
            ],
            [
             0.8,
             "#7fbc41"
            ],
            [
             0.9,
             "#4d9221"
            ],
            [
             1,
             "#276419"
            ]
           ],
           "sequential": [
            [
             0,
             "#0d0887"
            ],
            [
             0.1111111111111111,
             "#46039f"
            ],
            [
             0.2222222222222222,
             "#7201a8"
            ],
            [
             0.3333333333333333,
             "#9c179e"
            ],
            [
             0.4444444444444444,
             "#bd3786"
            ],
            [
             0.5555555555555556,
             "#d8576b"
            ],
            [
             0.6666666666666666,
             "#ed7953"
            ],
            [
             0.7777777777777778,
             "#fb9f3a"
            ],
            [
             0.8888888888888888,
             "#fdca26"
            ],
            [
             1,
             "#f0f921"
            ]
           ],
           "sequentialminus": [
            [
             0,
             "#0d0887"
            ],
            [
             0.1111111111111111,
             "#46039f"
            ],
            [
             0.2222222222222222,
             "#7201a8"
            ],
            [
             0.3333333333333333,
             "#9c179e"
            ],
            [
             0.4444444444444444,
             "#bd3786"
            ],
            [
             0.5555555555555556,
             "#d8576b"
            ],
            [
             0.6666666666666666,
             "#ed7953"
            ],
            [
             0.7777777777777778,
             "#fb9f3a"
            ],
            [
             0.8888888888888888,
             "#fdca26"
            ],
            [
             1,
             "#f0f921"
            ]
           ]
          },
          "colorway": [
           "#636efa",
           "#EF553B",
           "#00cc96",
           "#ab63fa",
           "#FFA15A",
           "#19d3f3",
           "#FF6692",
           "#B6E880",
           "#FF97FF",
           "#FECB52"
          ],
          "font": {
           "color": "#2a3f5f"
          },
          "geo": {
           "bgcolor": "white",
           "lakecolor": "white",
           "landcolor": "#E5ECF6",
           "showlakes": true,
           "showland": true,
           "subunitcolor": "white"
          },
          "hoverlabel": {
           "align": "left"
          },
          "hovermode": "closest",
          "mapbox": {
           "style": "light"
          },
          "paper_bgcolor": "white",
          "plot_bgcolor": "#E5ECF6",
          "polar": {
           "angularaxis": {
            "gridcolor": "white",
            "linecolor": "white",
            "ticks": ""
           },
           "bgcolor": "#E5ECF6",
           "radialaxis": {
            "gridcolor": "white",
            "linecolor": "white",
            "ticks": ""
           }
          },
          "scene": {
           "xaxis": {
            "backgroundcolor": "#E5ECF6",
            "gridcolor": "white",
            "gridwidth": 2,
            "linecolor": "white",
            "showbackground": true,
            "ticks": "",
            "zerolinecolor": "white"
           },
           "yaxis": {
            "backgroundcolor": "#E5ECF6",
            "gridcolor": "white",
            "gridwidth": 2,
            "linecolor": "white",
            "showbackground": true,
            "ticks": "",
            "zerolinecolor": "white"
           },
           "zaxis": {
            "backgroundcolor": "#E5ECF6",
            "gridcolor": "white",
            "gridwidth": 2,
            "linecolor": "white",
            "showbackground": true,
            "ticks": "",
            "zerolinecolor": "white"
           }
          },
          "shapedefaults": {
           "line": {
            "color": "#2a3f5f"
           }
          },
          "ternary": {
           "aaxis": {
            "gridcolor": "white",
            "linecolor": "white",
            "ticks": ""
           },
           "baxis": {
            "gridcolor": "white",
            "linecolor": "white",
            "ticks": ""
           },
           "bgcolor": "#E5ECF6",
           "caxis": {
            "gridcolor": "white",
            "linecolor": "white",
            "ticks": ""
           }
          },
          "title": {
           "x": 0.05
          },
          "xaxis": {
           "automargin": true,
           "gridcolor": "white",
           "linecolor": "white",
           "ticks": "",
           "title": {
            "standoff": 15
           },
           "zerolinecolor": "white",
           "zerolinewidth": 2
          },
          "yaxis": {
           "automargin": true,
           "gridcolor": "white",
           "linecolor": "white",
           "ticks": "",
           "title": {
            "standoff": 15
           },
           "zerolinecolor": "white",
           "zerolinewidth": 2
          }
         }
        },
        "title": {
         "text": "Gender of the survey respondents across Countries",
         "x": 0.6
        },
        "xaxis": {
         "anchor": "y",
         "domain": [
          0,
          0.5
         ],
         "showgrid": false,
         "showline": false,
         "tickfont": {
          "size": 10
         },
         "ticklen": 5,
         "tickmode": "array",
         "ticks": "outside"
        },
        "xaxis2": {
         "anchor": "y2",
         "domain": [
          0.5,
          1
         ],
         "showgrid": false,
         "showline": false,
         "tickfont": {
          "size": 10
         },
         "ticklen": 5,
         "tickmode": "array",
         "ticks": "outside"
        },
        "yaxis": {
         "anchor": "x",
         "categoryorder": "total ascending",
         "domain": [
          0,
          1
         ],
         "showgrid": false,
         "showline": false,
         "ticksuffix": " "
        },
        "yaxis2": {
         "anchor": "x2",
         "categoryorder": "total ascending",
         "domain": [
          0,
          1
         ],
         "matches": "y",
         "showgrid": false,
         "showline": false,
         "showticklabels": false,
         "ticksuffix": " "
        }
       }
      },
      "text/html": [
       "<div>                            <div id=\"b865ba2c-6d6f-439e-8f00-5d0943f4544b\" class=\"plotly-graph-div\" style=\"height:525px; width:100%;\"></div>            <script type=\"text/javascript\">                require([\"plotly\"], function(Plotly) {                    window.PLOTLYENV=window.PLOTLYENV || {};                                    if (document.getElementById(\"b865ba2c-6d6f-439e-8f00-5d0943f4544b\")) {                    Plotly.newPlot(                        \"b865ba2c-6d6f-439e-8f00-5d0943f4544b\",                        [{\"marker\":{\"color\":\"Orange\"},\"name\":\"Male responses\",\"orientation\":\"h\",\"text\":[-562.0,-154.0,-56.0,-42.0,-24.0,-23.0,-16.0,-13.0,-8.0,-7.0,-7.0,-6.0,-6.0,-6.0,-5.0],\"textfont\":{\"color\":\"Orange\",\"size\":10},\"textposition\":\"outside\",\"x\":[-562,-154,-56,-42,-24,-23,-16,-13,-8,-7,-7,-6,-6,-6,-5],\"y\":[\"United States\",\"United Kingdom\",\"Canada\",\"Germany\",\"Netherlands\",\"Ireland\",\"Australia\",\"France\",\"India\",\"New Zealand\",\"Italy\",\"Brazil\",\"Poland\",\"Switzerland\",\"South Africa\"],\"type\":\"bar\",\"xaxis\":\"x\",\"yaxis\":\"y\"},{\"marker\":{\"color\":\"Blue\"},\"name\":\"Female responses\",\"orientation\":\"h\",\"text\":[180.0,26.0,14.0,5.0,4.0,3.0,2.0,2.0,2.0,1.0,1.0,1.0,1.0,1.0,1.0],\"textfont\":{\"color\":\"Blue\",\"size\":10},\"textposition\":\"outside\",\"x\":[180,26,14,5,4,3,2,2,2,1,1,1,1,1,1],\"y\":[\"United States\",\"United Kingdom\",\"Canada\",\"Germany\",\"Netherlands\",\"Ireland\",\"Australia\",\"France\",\"India\",\"New Zealand\",\"Italy\",\"Brazil\",\"Poland\",\"Switzerland\",\"South Africa\"],\"type\":\"bar\",\"xaxis\":\"x2\",\"yaxis\":\"y2\"}],                        {\"template\":{\"data\":{\"histogram2dcontour\":[{\"type\":\"histogram2dcontour\",\"colorbar\":{\"outlinewidth\":0,\"ticks\":\"\"},\"colorscale\":[[0.0,\"#0d0887\"],[0.1111111111111111,\"#46039f\"],[0.2222222222222222,\"#7201a8\"],[0.3333333333333333,\"#9c179e\"],[0.4444444444444444,\"#bd3786\"],[0.5555555555555556,\"#d8576b\"],[0.6666666666666666,\"#ed7953\"],[0.7777777777777778,\"#fb9f3a\"],[0.8888888888888888,\"#fdca26\"],[1.0,\"#f0f921\"]]}],\"choropleth\":[{\"type\":\"choropleth\",\"colorbar\":{\"outlinewidth\":0,\"ticks\":\"\"}}],\"histogram2d\":[{\"type\":\"histogram2d\",\"colorbar\":{\"outlinewidth\":0,\"ticks\":\"\"},\"colorscale\":[[0.0,\"#0d0887\"],[0.1111111111111111,\"#46039f\"],[0.2222222222222222,\"#7201a8\"],[0.3333333333333333,\"#9c179e\"],[0.4444444444444444,\"#bd3786\"],[0.5555555555555556,\"#d8576b\"],[0.6666666666666666,\"#ed7953\"],[0.7777777777777778,\"#fb9f3a\"],[0.8888888888888888,\"#fdca26\"],[1.0,\"#f0f921\"]]}],\"heatmap\":[{\"type\":\"heatmap\",\"colorbar\":{\"outlinewidth\":0,\"ticks\":\"\"},\"colorscale\":[[0.0,\"#0d0887\"],[0.1111111111111111,\"#46039f\"],[0.2222222222222222,\"#7201a8\"],[0.3333333333333333,\"#9c179e\"],[0.4444444444444444,\"#bd3786\"],[0.5555555555555556,\"#d8576b\"],[0.6666666666666666,\"#ed7953\"],[0.7777777777777778,\"#fb9f3a\"],[0.8888888888888888,\"#fdca26\"],[1.0,\"#f0f921\"]]}],\"heatmapgl\":[{\"type\":\"heatmapgl\",\"colorbar\":{\"outlinewidth\":0,\"ticks\":\"\"},\"colorscale\":[[0.0,\"#0d0887\"],[0.1111111111111111,\"#46039f\"],[0.2222222222222222,\"#7201a8\"],[0.3333333333333333,\"#9c179e\"],[0.4444444444444444,\"#bd3786\"],[0.5555555555555556,\"#d8576b\"],[0.6666666666666666,\"#ed7953\"],[0.7777777777777778,\"#fb9f3a\"],[0.8888888888888888,\"#fdca26\"],[1.0,\"#f0f921\"]]}],\"contourcarpet\":[{\"type\":\"contourcarpet\",\"colorbar\":{\"outlinewidth\":0,\"ticks\":\"\"}}],\"contour\":[{\"type\":\"contour\",\"colorbar\":{\"outlinewidth\":0,\"ticks\":\"\"},\"colorscale\":[[0.0,\"#0d0887\"],[0.1111111111111111,\"#46039f\"],[0.2222222222222222,\"#7201a8\"],[0.3333333333333333,\"#9c179e\"],[0.4444444444444444,\"#bd3786\"],[0.5555555555555556,\"#d8576b\"],[0.6666666666666666,\"#ed7953\"],[0.7777777777777778,\"#fb9f3a\"],[0.8888888888888888,\"#fdca26\"],[1.0,\"#f0f921\"]]}],\"surface\":[{\"type\":\"surface\",\"colorbar\":{\"outlinewidth\":0,\"ticks\":\"\"},\"colorscale\":[[0.0,\"#0d0887\"],[0.1111111111111111,\"#46039f\"],[0.2222222222222222,\"#7201a8\"],[0.3333333333333333,\"#9c179e\"],[0.4444444444444444,\"#bd3786\"],[0.5555555555555556,\"#d8576b\"],[0.6666666666666666,\"#ed7953\"],[0.7777777777777778,\"#fb9f3a\"],[0.8888888888888888,\"#fdca26\"],[1.0,\"#f0f921\"]]}],\"mesh3d\":[{\"type\":\"mesh3d\",\"colorbar\":{\"outlinewidth\":0,\"ticks\":\"\"}}],\"scatter\":[{\"fillpattern\":{\"fillmode\":\"overlay\",\"size\":10,\"solidity\":0.2},\"type\":\"scatter\"}],\"parcoords\":[{\"type\":\"parcoords\",\"line\":{\"colorbar\":{\"outlinewidth\":0,\"ticks\":\"\"}}}],\"scatterpolargl\":[{\"type\":\"scatterpolargl\",\"marker\":{\"colorbar\":{\"outlinewidth\":0,\"ticks\":\"\"}}}],\"bar\":[{\"error_x\":{\"color\":\"#2a3f5f\"},\"error_y\":{\"color\":\"#2a3f5f\"},\"marker\":{\"line\":{\"color\":\"#E5ECF6\",\"width\":0.5},\"pattern\":{\"fillmode\":\"overlay\",\"size\":10,\"solidity\":0.2}},\"type\":\"bar\"}],\"scattergeo\":[{\"type\":\"scattergeo\",\"marker\":{\"colorbar\":{\"outlinewidth\":0,\"ticks\":\"\"}}}],\"scatterpolar\":[{\"type\":\"scatterpolar\",\"marker\":{\"colorbar\":{\"outlinewidth\":0,\"ticks\":\"\"}}}],\"histogram\":[{\"marker\":{\"pattern\":{\"fillmode\":\"overlay\",\"size\":10,\"solidity\":0.2}},\"type\":\"histogram\"}],\"scattergl\":[{\"type\":\"scattergl\",\"marker\":{\"colorbar\":{\"outlinewidth\":0,\"ticks\":\"\"}}}],\"scatter3d\":[{\"type\":\"scatter3d\",\"line\":{\"colorbar\":{\"outlinewidth\":0,\"ticks\":\"\"}},\"marker\":{\"colorbar\":{\"outlinewidth\":0,\"ticks\":\"\"}}}],\"scattermapbox\":[{\"type\":\"scattermapbox\",\"marker\":{\"colorbar\":{\"outlinewidth\":0,\"ticks\":\"\"}}}],\"scatterternary\":[{\"type\":\"scatterternary\",\"marker\":{\"colorbar\":{\"outlinewidth\":0,\"ticks\":\"\"}}}],\"scattercarpet\":[{\"type\":\"scattercarpet\",\"marker\":{\"colorbar\":{\"outlinewidth\":0,\"ticks\":\"\"}}}],\"carpet\":[{\"aaxis\":{\"endlinecolor\":\"#2a3f5f\",\"gridcolor\":\"white\",\"linecolor\":\"white\",\"minorgridcolor\":\"white\",\"startlinecolor\":\"#2a3f5f\"},\"baxis\":{\"endlinecolor\":\"#2a3f5f\",\"gridcolor\":\"white\",\"linecolor\":\"white\",\"minorgridcolor\":\"white\",\"startlinecolor\":\"#2a3f5f\"},\"type\":\"carpet\"}],\"table\":[{\"cells\":{\"fill\":{\"color\":\"#EBF0F8\"},\"line\":{\"color\":\"white\"}},\"header\":{\"fill\":{\"color\":\"#C8D4E3\"},\"line\":{\"color\":\"white\"}},\"type\":\"table\"}],\"barpolar\":[{\"marker\":{\"line\":{\"color\":\"#E5ECF6\",\"width\":0.5},\"pattern\":{\"fillmode\":\"overlay\",\"size\":10,\"solidity\":0.2}},\"type\":\"barpolar\"}],\"pie\":[{\"automargin\":true,\"type\":\"pie\"}]},\"layout\":{\"autotypenumbers\":\"strict\",\"colorway\":[\"#636efa\",\"#EF553B\",\"#00cc96\",\"#ab63fa\",\"#FFA15A\",\"#19d3f3\",\"#FF6692\",\"#B6E880\",\"#FF97FF\",\"#FECB52\"],\"font\":{\"color\":\"#2a3f5f\"},\"hovermode\":\"closest\",\"hoverlabel\":{\"align\":\"left\"},\"paper_bgcolor\":\"white\",\"plot_bgcolor\":\"#E5ECF6\",\"polar\":{\"bgcolor\":\"#E5ECF6\",\"angularaxis\":{\"gridcolor\":\"white\",\"linecolor\":\"white\",\"ticks\":\"\"},\"radialaxis\":{\"gridcolor\":\"white\",\"linecolor\":\"white\",\"ticks\":\"\"}},\"ternary\":{\"bgcolor\":\"#E5ECF6\",\"aaxis\":{\"gridcolor\":\"white\",\"linecolor\":\"white\",\"ticks\":\"\"},\"baxis\":{\"gridcolor\":\"white\",\"linecolor\":\"white\",\"ticks\":\"\"},\"caxis\":{\"gridcolor\":\"white\",\"linecolor\":\"white\",\"ticks\":\"\"}},\"coloraxis\":{\"colorbar\":{\"outlinewidth\":0,\"ticks\":\"\"}},\"colorscale\":{\"sequential\":[[0.0,\"#0d0887\"],[0.1111111111111111,\"#46039f\"],[0.2222222222222222,\"#7201a8\"],[0.3333333333333333,\"#9c179e\"],[0.4444444444444444,\"#bd3786\"],[0.5555555555555556,\"#d8576b\"],[0.6666666666666666,\"#ed7953\"],[0.7777777777777778,\"#fb9f3a\"],[0.8888888888888888,\"#fdca26\"],[1.0,\"#f0f921\"]],\"sequentialminus\":[[0.0,\"#0d0887\"],[0.1111111111111111,\"#46039f\"],[0.2222222222222222,\"#7201a8\"],[0.3333333333333333,\"#9c179e\"],[0.4444444444444444,\"#bd3786\"],[0.5555555555555556,\"#d8576b\"],[0.6666666666666666,\"#ed7953\"],[0.7777777777777778,\"#fb9f3a\"],[0.8888888888888888,\"#fdca26\"],[1.0,\"#f0f921\"]],\"diverging\":[[0,\"#8e0152\"],[0.1,\"#c51b7d\"],[0.2,\"#de77ae\"],[0.3,\"#f1b6da\"],[0.4,\"#fde0ef\"],[0.5,\"#f7f7f7\"],[0.6,\"#e6f5d0\"],[0.7,\"#b8e186\"],[0.8,\"#7fbc41\"],[0.9,\"#4d9221\"],[1,\"#276419\"]]},\"xaxis\":{\"gridcolor\":\"white\",\"linecolor\":\"white\",\"ticks\":\"\",\"title\":{\"standoff\":15},\"zerolinecolor\":\"white\",\"automargin\":true,\"zerolinewidth\":2},\"yaxis\":{\"gridcolor\":\"white\",\"linecolor\":\"white\",\"ticks\":\"\",\"title\":{\"standoff\":15},\"zerolinecolor\":\"white\",\"automargin\":true,\"zerolinewidth\":2},\"scene\":{\"xaxis\":{\"backgroundcolor\":\"#E5ECF6\",\"gridcolor\":\"white\",\"linecolor\":\"white\",\"showbackground\":true,\"ticks\":\"\",\"zerolinecolor\":\"white\",\"gridwidth\":2},\"yaxis\":{\"backgroundcolor\":\"#E5ECF6\",\"gridcolor\":\"white\",\"linecolor\":\"white\",\"showbackground\":true,\"ticks\":\"\",\"zerolinecolor\":\"white\",\"gridwidth\":2},\"zaxis\":{\"backgroundcolor\":\"#E5ECF6\",\"gridcolor\":\"white\",\"linecolor\":\"white\",\"showbackground\":true,\"ticks\":\"\",\"zerolinecolor\":\"white\",\"gridwidth\":2}},\"shapedefaults\":{\"line\":{\"color\":\"#2a3f5f\"}},\"annotationdefaults\":{\"arrowcolor\":\"#2a3f5f\",\"arrowhead\":0,\"arrowwidth\":1},\"geo\":{\"bgcolor\":\"white\",\"landcolor\":\"#E5ECF6\",\"subunitcolor\":\"white\",\"showland\":true,\"showlakes\":true,\"lakecolor\":\"white\"},\"title\":{\"x\":0.05},\"mapbox\":{\"style\":\"light\"}}},\"xaxis\":{\"anchor\":\"y\",\"domain\":[0.0,0.5],\"tickfont\":{\"size\":10},\"tickmode\":\"array\",\"ticklen\":5,\"showline\":false,\"showgrid\":false,\"ticks\":\"outside\"},\"yaxis\":{\"anchor\":\"x\",\"domain\":[0.0,1.0],\"showgrid\":false,\"categoryorder\":\"total ascending\",\"ticksuffix\":\" \",\"showline\":false},\"xaxis2\":{\"anchor\":\"y2\",\"domain\":[0.5,1.0],\"tickfont\":{\"size\":10},\"tickmode\":\"array\",\"ticklen\":5,\"showline\":false,\"showgrid\":false,\"ticks\":\"outside\"},\"yaxis2\":{\"anchor\":\"x2\",\"domain\":[0.0,1.0],\"matches\":\"y\",\"showticklabels\":false,\"showgrid\":false,\"categoryorder\":\"total ascending\",\"ticksuffix\":\" \",\"showline\":false},\"font\":{\"family\":\"bold\",\"color\":\"black\"},\"title\":{\"text\":\"Gender of the survey respondents across Countries\",\"x\":0.6},\"margin\":{\"t\":80,\"b\":0,\"l\":70,\"r\":40},\"legend\":{\"orientation\":\"h\",\"yanchor\":\"bottom\",\"y\":1,\"xanchor\":\"center\",\"x\":0.5},\"hoverlabel\":{\"font\":{\"size\":10,\"family\":\"bold\"},\"bgcolor\":\"#edf2c7\"},\"hovermode\":\"y unified\",\"plot_bgcolor\":\"#edf2c7\",\"paper_bgcolor\":\"#edf2c7\"},                        {\"responsive\": true}                    ).then(function(){\n",
       "                            \n",
       "var gd = document.getElementById('b865ba2c-6d6f-439e-8f00-5d0943f4544b');\n",
       "var x = new MutationObserver(function (mutations, observer) {{\n",
       "        var display = window.getComputedStyle(gd).display;\n",
       "        if (!display || display === 'none') {{\n",
       "            console.log([gd, 'removed!']);\n",
       "            Plotly.purge(gd);\n",
       "            observer.disconnect();\n",
       "        }}\n",
       "}});\n",
       "\n",
       "// Listen for the removal of the full notebook cells\n",
       "var notebookContainer = gd.closest('#notebook-container');\n",
       "if (notebookContainer) {{\n",
       "    x.observe(notebookContainer, {childList: true});\n",
       "}}\n",
       "\n",
       "// Listen for the clearing of the current output cell\n",
       "var outputEl = gd.closest('.output');\n",
       "if (outputEl) {{\n",
       "    x.observe(outputEl, {childList: true});\n",
       "}}\n",
       "\n",
       "                        })                };                });            </script>        </div>"
      ]
     },
     "metadata": {},
     "output_type": "display_data"
    }
   ],
   "source": [
    "fig = make_subplots(rows=1, cols=2,\n",
    "                    specs=[[{}, {}]],\n",
    "                    shared_yaxes=True,\n",
    "                    horizontal_spacing=0)\n",
    "\n",
    "fig.append_trace(go.Bar(\n",
    "                 y = male_country.Country,\n",
    "                 x = male_country['count'],\n",
    "                 text = male_country['count'],\n",
    "                 textfont = dict(size = 10, color = 'Orange'),\n",
    "                 textposition = 'outside',\n",
    "                 name = 'Male responses',\n",
    "                 marker_color='Orange',\n",
    "                 orientation = 'h'),\n",
    "                 row=1, col=1)\n",
    "\n",
    "fig.append_trace(go.Bar(\n",
    "                 y = male_country.Country,\n",
    "                 x = female_country['count'],\n",
    "                 text = female_country['count'],\n",
    "                 textfont = dict(size = 10, color = 'Blue'),\n",
    "                 textposition = 'outside',\n",
    "                 name = 'Female responses',\n",
    "                 marker_color='Blue',\n",
    "                 orientation = 'h'),\n",
    "                 row=1, col=2)\n",
    "\n",
    "\n",
    "fig.update_xaxes(\n",
    "        tickfont = dict(size=10),\n",
    "        tickmode = 'array',\n",
    "        ticklen = 5,\n",
    "        showline = False,\n",
    "        showgrid = False,\n",
    "        ticks = 'outside')\n",
    "\n",
    "fig.update_yaxes(showgrid=False,\n",
    "                 categoryorder='total ascending',\n",
    "                 ticksuffix=' ',\n",
    "                 showline=False)\n",
    "\n",
    "fig.update_layout(\n",
    "                  font_family   = 'bold',\n",
    "                  title         = dict(text = 'Gender of the survey respondents across Countries', x = 0.6),\n",
    "                  margin        = dict(t=80, b=0, l=70, r=40),\n",
    "                  hovermode     = \"y unified\",\n",
    "                  plot_bgcolor  = '#edf2c7',\n",
    "                  paper_bgcolor = '#edf2c7',\n",
    "                  font          = dict(color='black'),\n",
    "                  legend        = dict(orientation=\"h\",\n",
    "                                       yanchor=\"bottom\", y=1,\n",
    "                                       xanchor=\"center\", x=0.5),\n",
    "                  hoverlabel    = dict(bgcolor=\"#edf2c7\", font_size=10, \n",
    "                                      font_family=\"bold\"))\n",
    "\n",
    "\n",
    "fig.show()"
   ]
  },
  {
   "cell_type": "code",
   "execution_count": 353,
   "id": "e6ab059a",
   "metadata": {},
   "outputs": [],
   "source": [
    "male   = workplace_df[workplace_df.Gender == 'M'].drop(['Gender', 'Age', 'Country'], axis=1)\n",
    "female = workplace_df[workplace_df.Gender == 'F'].drop(['Gender', 'Age', 'Country'], axis=1)\n",
    "other  = workplace_df[workplace_df.Gender == 'other'].drop(['Gender', 'Age', 'Country'], axis=1)"
   ]
  },
  {
   "cell_type": "code",
   "execution_count": 354,
   "id": "47cf8deb",
   "metadata": {},
   "outputs": [
    {
     "data": {
      "application/vnd.plotly.v1+json": {
       "config": {
        "plotlyServerURL": "https://plot.ly"
       },
       "data": [
        {
         "domain": {
          "x": [
           0,
           0.45
          ],
          "y": [
           0,
           1
          ]
         },
         "hole": 0.5,
         "hoverinfo": "label+percent",
         "labels": [
          "No",
          "Yes"
         ],
         "marker": {
          "colors": [
           "#fedbcc",
           "#fcaf93",
           "#fc8161",
           "#f44f39",
           "#d52221",
           "#aa1016"
          ],
          "line": {
           "color": "#000000",
           "width": 1
          }
         },
         "opacity": 0.9,
         "showlegend": false,
         "textfont": {
          "size": 12
         },
         "textinfo": "label+percent",
         "title": {
          "font": {
           "family": "bold",
           "size": 18
          },
          "text": "Male distribution<br>of self_employed"
         },
         "type": "pie",
         "values": [
          870,
          121
         ]
        },
        {
         "domain": {
          "x": [
           0,
           0.45
          ],
          "y": [
           0,
           1
          ]
         },
         "hole": 0.5,
         "hoverinfo": "label+percent",
         "labels": [
          "No",
          "Yes"
         ],
         "marker": {
          "colors": [
           "#fedbcc",
           "#fcaf93",
           "#fc8161",
           "#f44f39",
           "#d52221",
           "#aa1016"
          ],
          "line": {
           "color": "#000000",
           "width": 1
          }
         },
         "opacity": 0.9,
         "showlegend": false,
         "textfont": {
          "size": 12
         },
         "textinfo": "label+percent",
         "title": {
          "font": {
           "family": "bold",
           "size": 18
          },
          "text": "Male distribution<br>of family_history"
         },
         "type": "pie",
         "values": [
          643,
          348
         ],
         "visible": false
        },
        {
         "domain": {
          "x": [
           0,
           0.45
          ],
          "y": [
           0,
           1
          ]
         },
         "hole": 0.5,
         "hoverinfo": "label+percent",
         "labels": [
          "No",
          "Yes"
         ],
         "marker": {
          "colors": [
           "#fedbcc",
           "#fcaf93",
           "#fc8161",
           "#f44f39",
           "#d52221",
           "#aa1016"
          ],
          "line": {
           "color": "#000000",
           "width": 1
          }
         },
         "opacity": 0.9,
         "showlegend": false,
         "textfont": {
          "size": 12
         },
         "textinfo": "label+percent",
         "title": {
          "font": {
           "family": "bold",
           "size": 18
          },
          "text": "Male distribution<br>of treatment"
         },
         "type": "pie",
         "values": [
          541,
          450
         ],
         "visible": false
        },
        {
         "domain": {
          "x": [
           0,
           0.45
          ],
          "y": [
           0,
           1
          ]
         },
         "hole": 0.5,
         "hoverinfo": "label+percent",
         "labels": [
          "Sometimes",
          "Never",
          "Rarely",
          "Often"
         ],
         "marker": {
          "colors": [
           "#fedbcc",
           "#fcaf93",
           "#fc8161",
           "#f44f39",
           "#d52221",
           "#aa1016"
          ],
          "line": {
           "color": "#000000",
           "width": 1
          }
         },
         "opacity": 0.9,
         "showlegend": false,
         "textfont": {
          "size": 12
         },
         "textinfo": "label+percent",
         "title": {
          "font": {
           "family": "bold",
           "size": 18
          },
          "text": "Male distribution<br>of work_interfere"
         },
         "type": "pie",
         "values": [
          457,
          232,
          164,
          138
         ],
         "visible": false
        },
        {
         "domain": {
          "x": [
           0,
           0.45
          ],
          "y": [
           0,
           1
          ]
         },
         "hole": 0.5,
         "hoverinfo": "label+percent",
         "labels": [
          "6-25",
          "26-100",
          "More than 1000",
          "1-5",
          "100-500",
          "500-1000"
         ],
         "marker": {
          "colors": [
           "#fedbcc",
           "#fcaf93",
           "#fc8161",
           "#f44f39",
           "#d52221",
           "#aa1016"
          ],
          "line": {
           "color": "#000000",
           "width": 1
          }
         },
         "opacity": 0.9,
         "showlegend": false,
         "textfont": {
          "size": 12
         },
         "textinfo": "label+percent",
         "title": {
          "font": {
           "family": "bold",
           "size": 18
          },
          "text": "Male distribution<br>of no_employees"
         },
         "type": "pie",
         "values": [
          249,
          230,
          217,
          129,
          128,
          38
         ],
         "visible": false
        },
        {
         "domain": {
          "x": [
           0,
           0.45
          ],
          "y": [
           0,
           1
          ]
         },
         "hole": 0.5,
         "hoverinfo": "label+percent",
         "labels": [
          "No",
          "Yes"
         ],
         "marker": {
          "colors": [
           "#fedbcc",
           "#fcaf93",
           "#fc8161",
           "#f44f39",
           "#d52221",
           "#aa1016"
          ],
          "line": {
           "color": "#000000",
           "width": 1
          }
         },
         "opacity": 0.9,
         "showlegend": false,
         "textfont": {
          "size": 12
         },
         "textinfo": "label+percent",
         "title": {
          "font": {
           "family": "bold",
           "size": 18
          },
          "text": "Male distribution<br>of remote_work"
         },
         "type": "pie",
         "values": [
          693,
          298
         ],
         "visible": false
        },
        {
         "domain": {
          "x": [
           0,
           0.45
          ],
          "y": [
           0,
           1
          ]
         },
         "hole": 0.5,
         "hoverinfo": "label+percent",
         "labels": [
          "Yes",
          "No"
         ],
         "marker": {
          "colors": [
           "#fedbcc",
           "#fcaf93",
           "#fc8161",
           "#f44f39",
           "#d52221",
           "#aa1016"
          ],
          "line": {
           "color": "#000000",
           "width": 1
          }
         },
         "opacity": 0.9,
         "showlegend": false,
         "textfont": {
          "size": 12
         },
         "textinfo": "label+percent",
         "title": {
          "font": {
           "family": "bold",
           "size": 18
          },
          "text": "Male distribution<br>of tech_company"
         },
         "type": "pie",
         "values": [
          827,
          164
         ],
         "visible": false
        },
        {
         "domain": {
          "x": [
           0,
           0.45
          ],
          "y": [
           0,
           1
          ]
         },
         "hole": 0.5,
         "hoverinfo": "label+percent",
         "labels": [
          "Yes",
          "Don't know",
          "No"
         ],
         "marker": {
          "colors": [
           "#fedbcc",
           "#fcaf93",
           "#fc8161",
           "#f44f39",
           "#d52221",
           "#aa1016"
          ],
          "line": {
           "color": "#000000",
           "width": 1
          }
         },
         "opacity": 0.9,
         "showlegend": false,
         "textfont": {
          "size": 12
         },
         "textinfo": "label+percent",
         "title": {
          "font": {
           "family": "bold",
           "size": 18
          },
          "text": "Male distribution<br>of benefits"
         },
         "type": "pie",
         "values": [
          339,
          332,
          320
         ],
         "visible": false
        },
        {
         "domain": {
          "x": [
           0,
           0.45
          ],
          "y": [
           0,
           1
          ]
         },
         "hole": 0.5,
         "hoverinfo": "label+percent",
         "labels": [
          "No",
          "Yes",
          "Not sure"
         ],
         "marker": {
          "colors": [
           "#fedbcc",
           "#fcaf93",
           "#fc8161",
           "#f44f39",
           "#d52221",
           "#aa1016"
          ],
          "line": {
           "color": "#000000",
           "width": 1
          }
         },
         "opacity": 0.9,
         "showlegend": false,
         "textfont": {
          "size": 12
         },
         "textinfo": "label+percent",
         "title": {
          "font": {
           "family": "bold",
           "size": 18
          },
          "text": "Male distribution<br>of care_options"
         },
         "type": "pie",
         "values": [
          426,
          322,
          243
         ],
         "visible": false
        },
        {
         "domain": {
          "x": [
           0,
           0.45
          ],
          "y": [
           0,
           1
          ]
         },
         "hole": 0.5,
         "hoverinfo": "label+percent",
         "labels": [
          "No",
          "Yes",
          "Don't know"
         ],
         "marker": {
          "colors": [
           "#fedbcc",
           "#fcaf93",
           "#fc8161",
           "#f44f39",
           "#d52221",
           "#aa1016"
          ],
          "line": {
           "color": "#000000",
           "width": 1
          }
         },
         "opacity": 0.9,
         "showlegend": false,
         "textfont": {
          "size": 12
         },
         "textinfo": "label+percent",
         "title": {
          "font": {
           "family": "bold",
           "size": 18
          },
          "text": "Male distribution<br>of wellness_program"
         },
         "type": "pie",
         "values": [
          678,
          168,
          145
         ],
         "visible": false
        },
        {
         "domain": {
          "x": [
           0,
           0.45
          ],
          "y": [
           0,
           1
          ]
         },
         "hole": 0.5,
         "hoverinfo": "label+percent",
         "labels": [
          "No",
          "Don't know",
          "Yes"
         ],
         "marker": {
          "colors": [
           "#fedbcc",
           "#fcaf93",
           "#fc8161",
           "#f44f39",
           "#d52221",
           "#aa1016"
          ],
          "line": {
           "color": "#000000",
           "width": 1
          }
         },
         "opacity": 0.9,
         "showlegend": false,
         "textfont": {
          "size": 12
         },
         "textinfo": "label+percent",
         "title": {
          "font": {
           "family": "bold",
           "size": 18
          },
          "text": "Male distribution<br>of seek_help"
         },
         "type": "pie",
         "values": [
          518,
          285,
          188
         ],
         "visible": false
        },
        {
         "domain": {
          "x": [
           0,
           0.45
          ],
          "y": [
           0,
           1
          ]
         },
         "hole": 0.5,
         "hoverinfo": "label+percent",
         "labels": [
          "Don't know",
          "Yes",
          "No"
         ],
         "marker": {
          "colors": [
           "#fedbcc",
           "#fcaf93",
           "#fc8161",
           "#f44f39",
           "#d52221",
           "#aa1016"
          ],
          "line": {
           "color": "#000000",
           "width": 1
          }
         },
         "opacity": 0.9,
         "showlegend": false,
         "textfont": {
          "size": 12
         },
         "textinfo": "label+percent",
         "title": {
          "font": {
           "family": "bold",
           "size": 18
          },
          "text": "Male distribution<br>of anonymity"
         },
         "type": "pie",
         "values": [
          655,
          288,
          48
         ],
         "visible": false
        },
        {
         "domain": {
          "x": [
           0,
           0.45
          ],
          "y": [
           0,
           1
          ]
         },
         "hole": 0.5,
         "hoverinfo": "label+percent",
         "labels": [
          "Don't know",
          "Somewhat easy",
          "Very easy",
          "Somewhat difficult",
          "Very difficult"
         ],
         "marker": {
          "colors": [
           "#fedbcc",
           "#fcaf93",
           "#fc8161",
           "#f44f39",
           "#d52221",
           "#aa1016"
          ],
          "line": {
           "color": "#000000",
           "width": 1
          }
         },
         "opacity": 0.9,
         "showlegend": false,
         "textfont": {
          "size": 12
         },
         "textinfo": "label+percent",
         "title": {
          "font": {
           "family": "bold",
           "size": 18
          },
          "text": "Male distribution<br>of leave"
         },
         "type": "pie",
         "values": [
          442,
          207,
          173,
          93,
          76
         ],
         "visible": false
        },
        {
         "domain": {
          "x": [
           0,
           0.45
          ],
          "y": [
           0,
           1
          ]
         },
         "hole": 0.5,
         "hoverinfo": "label+percent",
         "labels": [
          "No",
          "Maybe",
          "Yes"
         ],
         "marker": {
          "colors": [
           "#fedbcc",
           "#fcaf93",
           "#fc8161",
           "#f44f39",
           "#d52221",
           "#aa1016"
          ],
          "line": {
           "color": "#000000",
           "width": 1
          }
         },
         "opacity": 0.9,
         "showlegend": false,
         "textfont": {
          "size": 12
         },
         "textinfo": "label+percent",
         "title": {
          "font": {
           "family": "bold",
           "size": 18
          },
          "text": "Male distribution<br>of mental_health_consequence"
         },
         "type": "pie",
         "values": [
          413,
          364,
          214
         ],
         "visible": false
        },
        {
         "domain": {
          "x": [
           0,
           0.45
          ],
          "y": [
           0,
           1
          ]
         },
         "hole": 0.5,
         "hoverinfo": "label+percent",
         "labels": [
          "No",
          "Maybe",
          "Yes"
         ],
         "marker": {
          "colors": [
           "#fedbcc",
           "#fcaf93",
           "#fc8161",
           "#f44f39",
           "#d52221",
           "#aa1016"
          ],
          "line": {
           "color": "#000000",
           "width": 1
          }
         },
         "opacity": 0.9,
         "showlegend": false,
         "textfont": {
          "size": 12
         },
         "textinfo": "label+percent",
         "title": {
          "font": {
           "family": "bold",
           "size": 18
          },
          "text": "Male distribution<br>of phys_health_consequence"
         },
         "type": "pie",
         "values": [
          751,
          199,
          41
         ],
         "visible": false
        },
        {
         "domain": {
          "x": [
           0,
           0.45
          ],
          "y": [
           0,
           1
          ]
         },
         "hole": 0.5,
         "hoverinfo": "label+percent",
         "labels": [
          "Some of them",
          "No",
          "Yes"
         ],
         "marker": {
          "colors": [
           "#fedbcc",
           "#fcaf93",
           "#fc8161",
           "#f44f39",
           "#d52221",
           "#aa1016"
          ],
          "line": {
           "color": "#000000",
           "width": 1
          }
         },
         "opacity": 0.9,
         "showlegend": false,
         "textfont": {
          "size": 12
         },
         "textinfo": "label+percent",
         "title": {
          "font": {
           "family": "bold",
           "size": 18
          },
          "text": "Male distribution<br>of coworkers"
         },
         "type": "pie",
         "values": [
          609,
          197,
          185
         ],
         "visible": false
        },
        {
         "domain": {
          "x": [
           0,
           0.45
          ],
          "y": [
           0,
           1
          ]
         },
         "hole": 0.5,
         "hoverinfo": "label+percent",
         "labels": [
          "Yes",
          "No",
          "Some of them"
         ],
         "marker": {
          "colors": [
           "#fedbcc",
           "#fcaf93",
           "#fc8161",
           "#f44f39",
           "#d52221",
           "#aa1016"
          ],
          "line": {
           "color": "#000000",
           "width": 1
          }
         },
         "opacity": 0.9,
         "showlegend": false,
         "textfont": {
          "size": 12
         },
         "textinfo": "label+percent",
         "title": {
          "font": {
           "family": "bold",
           "size": 18
          },
          "text": "Male distribution<br>of supervisor"
         },
         "type": "pie",
         "values": [
          434,
          301,
          256
         ],
         "visible": false
        },
        {
         "domain": {
          "x": [
           0,
           0.45
          ],
          "y": [
           0,
           1
          ]
         },
         "hole": 0.5,
         "hoverinfo": "label+percent",
         "labels": [
          "No",
          "Maybe",
          "Yes"
         ],
         "marker": {
          "colors": [
           "#fedbcc",
           "#fcaf93",
           "#fc8161",
           "#f44f39",
           "#d52221",
           "#aa1016"
          ],
          "line": {
           "color": "#000000",
           "width": 1
          }
         },
         "opacity": 0.9,
         "showlegend": false,
         "textfont": {
          "size": 12
         },
         "textinfo": "label+percent",
         "title": {
          "font": {
           "family": "bold",
           "size": 18
          },
          "text": "Male distribution<br>of mental_health_interview"
         },
         "type": "pie",
         "values": [
          771,
          184,
          36
         ],
         "visible": false
        },
        {
         "domain": {
          "x": [
           0,
           0.45
          ],
          "y": [
           0,
           1
          ]
         },
         "hole": 0.5,
         "hoverinfo": "label+percent",
         "labels": [
          "Maybe",
          "No",
          "Yes"
         ],
         "marker": {
          "colors": [
           "#fedbcc",
           "#fcaf93",
           "#fc8161",
           "#f44f39",
           "#d52221",
           "#aa1016"
          ],
          "line": {
           "color": "#000000",
           "width": 1
          }
         },
         "opacity": 0.9,
         "showlegend": false,
         "textfont": {
          "size": 12
         },
         "textinfo": "label+percent",
         "title": {
          "font": {
           "family": "bold",
           "size": 18
          },
          "text": "Male distribution<br>of phys_health_interview"
         },
         "type": "pie",
         "values": [
          459,
          361,
          171
         ],
         "visible": false
        },
        {
         "domain": {
          "x": [
           0,
           0.45
          ],
          "y": [
           0,
           1
          ]
         },
         "hole": 0.5,
         "hoverinfo": "label+percent",
         "labels": [
          "Don't know",
          "No",
          "Yes"
         ],
         "marker": {
          "colors": [
           "#fedbcc",
           "#fcaf93",
           "#fc8161",
           "#f44f39",
           "#d52221",
           "#aa1016"
          ],
          "line": {
           "color": "#000000",
           "width": 1
          }
         },
         "opacity": 0.9,
         "showlegend": false,
         "textfont": {
          "size": 12
         },
         "textinfo": "label+percent",
         "title": {
          "font": {
           "family": "bold",
           "size": 18
          },
          "text": "Male distribution<br>of mental_vs_physical"
         },
         "type": "pie",
         "values": [
          464,
          265,
          262
         ],
         "visible": false
        },
        {
         "domain": {
          "x": [
           0,
           0.45
          ],
          "y": [
           0,
           1
          ]
         },
         "hole": 0.5,
         "hoverinfo": "label+percent",
         "labels": [
          "No",
          "Yes"
         ],
         "marker": {
          "colors": [
           "#fedbcc",
           "#fcaf93",
           "#fc8161",
           "#f44f39",
           "#d52221",
           "#aa1016"
          ],
          "line": {
           "color": "#000000",
           "width": 1
          }
         },
         "opacity": 0.9,
         "showlegend": false,
         "textfont": {
          "size": 12
         },
         "textinfo": "label+percent",
         "title": {
          "font": {
           "family": "bold",
           "size": 18
          },
          "text": "Male distribution<br>of obs_consequence"
         },
         "type": "pie",
         "values": [
          862,
          129
         ],
         "visible": false
        },
        {
         "domain": {
          "x": [
           0.55,
           1
          ],
          "y": [
           0,
           1
          ]
         },
         "hole": 0.5,
         "hoverinfo": "label+percent",
         "labels": [
          "No",
          "Yes"
         ],
         "marker": {
          "colors": [
           "#ecebf4",
           "#d1d2e7",
           "#afaed4",
           "#8d89c0",
           "#705eaa",
           "#572c92"
          ],
          "line": {
           "color": "#000000",
           "width": 1
          }
         },
         "opacity": 0.9,
         "showlegend": false,
         "textfont": {
          "size": 12
         },
         "textinfo": "label+percent",
         "title": {
          "font": {
           "family": "bold",
           "size": 20
          },
          "text": "Female distribution<br>of self_employed"
         },
         "type": "pie",
         "values": [
          225,
          22
         ],
         "visible": true
        },
        {
         "domain": {
          "x": [
           0.55,
           1
          ],
          "y": [
           0,
           1
          ]
         },
         "hole": 0.5,
         "hoverinfo": "label+percent",
         "labels": [
          "Yes",
          "No"
         ],
         "marker": {
          "colors": [
           "#ecebf4",
           "#d1d2e7",
           "#afaed4",
           "#8d89c0",
           "#705eaa",
           "#572c92"
          ],
          "line": {
           "color": "#000000",
           "width": 1
          }
         },
         "opacity": 0.9,
         "showlegend": false,
         "textfont": {
          "size": 12
         },
         "textinfo": "label+percent",
         "title": {
          "font": {
           "family": "bold",
           "size": 20
          },
          "text": "Female distribution<br>of family_history"
         },
         "type": "pie",
         "values": [
          132,
          115
         ],
         "visible": false
        },
        {
         "domain": {
          "x": [
           0.55,
           1
          ],
          "y": [
           0,
           1
          ]
         },
         "hole": 0.5,
         "hoverinfo": "label+percent",
         "labels": [
          "Yes",
          "No"
         ],
         "marker": {
          "colors": [
           "#ecebf4",
           "#d1d2e7",
           "#afaed4",
           "#8d89c0",
           "#705eaa",
           "#572c92"
          ],
          "line": {
           "color": "#000000",
           "width": 1
          }
         },
         "opacity": 0.9,
         "showlegend": false,
         "textfont": {
          "size": 12
         },
         "textinfo": "label+percent",
         "title": {
          "font": {
           "family": "bold",
           "size": 20
          },
          "text": "Female distribution<br>of treatment"
         },
         "type": "pie",
         "values": [
          170,
          77
         ],
         "visible": false
        },
        {
         "domain": {
          "x": [
           0.55,
           1
          ],
          "y": [
           0,
           1
          ]
         },
         "hole": 0.5,
         "hoverinfo": "label+percent",
         "labels": [
          "Sometimes",
          "Rarely",
          "Often",
          "Never"
         ],
         "marker": {
          "colors": [
           "#ecebf4",
           "#d1d2e7",
           "#afaed4",
           "#8d89c0",
           "#705eaa",
           "#572c92"
          ],
          "line": {
           "color": "#000000",
           "width": 1
          }
         },
         "opacity": 0.9,
         "showlegend": false,
         "textfont": {
          "size": 12
         },
         "textinfo": "label+percent",
         "title": {
          "font": {
           "family": "bold",
           "size": 20
          },
          "text": "Female distribution<br>of work_interfere"
         },
         "type": "pie",
         "values": [
          133,
          47,
          36,
          31
         ],
         "visible": false
        },
        {
         "domain": {
          "x": [
           0.55,
           1
          ],
          "y": [
           0,
           1
          ]
         },
         "hole": 0.5,
         "hoverinfo": "label+percent",
         "labels": [
          "More than 1000",
          "26-100",
          "100-500",
          "6-25",
          "1-5",
          "500-1000"
         ],
         "marker": {
          "colors": [
           "#ecebf4",
           "#d1d2e7",
           "#afaed4",
           "#8d89c0",
           "#705eaa",
           "#572c92"
          ],
          "line": {
           "color": "#000000",
           "width": 1
          }
         },
         "opacity": 0.9,
         "showlegend": false,
         "textfont": {
          "size": 12
         },
         "textinfo": "label+percent",
         "title": {
          "font": {
           "family": "bold",
           "size": 20
          },
          "text": "Female distribution<br>of no_employees"
         },
         "type": "pie",
         "values": [
          59,
          53,
          45,
          39,
          29,
          22
         ],
         "visible": false
        },
        {
         "domain": {
          "x": [
           0.55,
           1
          ],
          "y": [
           0,
           1
          ]
         },
         "hole": 0.5,
         "hoverinfo": "label+percent",
         "labels": [
          "No",
          "Yes"
         ],
         "marker": {
          "colors": [
           "#ecebf4",
           "#d1d2e7",
           "#afaed4",
           "#8d89c0",
           "#705eaa",
           "#572c92"
          ],
          "line": {
           "color": "#000000",
           "width": 1
          }
         },
         "opacity": 0.9,
         "showlegend": false,
         "textfont": {
          "size": 12
         },
         "textinfo": "label+percent",
         "title": {
          "font": {
           "family": "bold",
           "size": 20
          },
          "text": "Female distribution<br>of remote_work"
         },
         "type": "pie",
         "values": [
          175,
          72
         ],
         "visible": false
        },
        {
         "domain": {
          "x": [
           0.55,
           1
          ],
          "y": [
           0,
           1
          ]
         },
         "hole": 0.5,
         "hoverinfo": "label+percent",
         "labels": [
          "Yes",
          "No"
         ],
         "marker": {
          "colors": [
           "#ecebf4",
           "#d1d2e7",
           "#afaed4",
           "#8d89c0",
           "#705eaa",
           "#572c92"
          ],
          "line": {
           "color": "#000000",
           "width": 1
          }
         },
         "opacity": 0.9,
         "showlegend": false,
         "textfont": {
          "size": 12
         },
         "textinfo": "label+percent",
         "title": {
          "font": {
           "family": "bold",
           "size": 20
          },
          "text": "Female distribution<br>of tech_company"
         },
         "type": "pie",
         "values": [
          188,
          59
         ],
         "visible": false
        },
        {
         "domain": {
          "x": [
           0.55,
           1
          ],
          "y": [
           0,
           1
          ]
         },
         "hole": 0.5,
         "hoverinfo": "label+percent",
         "labels": [
          "Yes",
          "Don't know",
          "No"
         ],
         "marker": {
          "colors": [
           "#ecebf4",
           "#d1d2e7",
           "#afaed4",
           "#8d89c0",
           "#705eaa",
           "#572c92"
          ],
          "line": {
           "color": "#000000",
           "width": 1
          }
         },
         "opacity": 0.9,
         "showlegend": false,
         "textfont": {
          "size": 12
         },
         "textinfo": "label+percent",
         "title": {
          "font": {
           "family": "bold",
           "size": 20
          },
          "text": "Female distribution<br>of benefits"
         },
         "type": "pie",
         "values": [
          128,
          71,
          48
         ],
         "visible": false
        },
        {
         "domain": {
          "x": [
           0.55,
           1
          ],
          "y": [
           0,
           1
          ]
         },
         "hole": 0.5,
         "hoverinfo": "label+percent",
         "labels": [
          "Yes",
          "No",
          "Not sure"
         ],
         "marker": {
          "colors": [
           "#ecebf4",
           "#d1d2e7",
           "#afaed4",
           "#8d89c0",
           "#705eaa",
           "#572c92"
          ],
          "line": {
           "color": "#000000",
           "width": 1
          }
         },
         "opacity": 0.9,
         "showlegend": false,
         "textfont": {
          "size": 12
         },
         "textinfo": "label+percent",
         "title": {
          "font": {
           "family": "bold",
           "size": 20
          },
          "text": "Female distribution<br>of care_options"
         },
         "type": "pie",
         "values": [
          109,
          72,
          66
         ],
         "visible": false
        },
        {
         "domain": {
          "x": [
           0.55,
           1
          ],
          "y": [
           0,
           1
          ]
         },
         "hole": 0.5,
         "hoverinfo": "label+percent",
         "labels": [
          "No",
          "Yes",
          "Don't know"
         ],
         "marker": {
          "colors": [
           "#ecebf4",
           "#d1d2e7",
           "#afaed4",
           "#8d89c0",
           "#705eaa",
           "#572c92"
          ],
          "line": {
           "color": "#000000",
           "width": 1
          }
         },
         "opacity": 0.9,
         "showlegend": false,
         "textfont": {
          "size": 12
         },
         "textinfo": "label+percent",
         "title": {
          "font": {
           "family": "bold",
           "size": 20
          },
          "text": "Female distribution<br>of wellness_program"
         },
         "type": "pie",
         "values": [
          151,
          54,
          42
         ],
         "visible": false
        },
        {
         "domain": {
          "x": [
           0.55,
           1
          ],
          "y": [
           0,
           1
          ]
         },
         "hole": 0.5,
         "hoverinfo": "label+percent",
         "labels": [
          "No",
          "Don't know",
          "Yes"
         ],
         "marker": {
          "colors": [
           "#ecebf4",
           "#d1d2e7",
           "#afaed4",
           "#8d89c0",
           "#705eaa",
           "#572c92"
          ],
          "line": {
           "color": "#000000",
           "width": 1
          }
         },
         "opacity": 0.9,
         "showlegend": false,
         "textfont": {
          "size": 12
         },
         "textinfo": "label+percent",
         "title": {
          "font": {
           "family": "bold",
           "size": 20
          },
          "text": "Female distribution<br>of seek_help"
         },
         "type": "pie",
         "values": [
          115,
          75,
          57
         ],
         "visible": false
        },
        {
         "domain": {
          "x": [
           0.55,
           1
          ],
          "y": [
           0,
           1
          ]
         },
         "hole": 0.5,
         "hoverinfo": "label+percent",
         "labels": [
          "Don't know",
          "Yes",
          "No"
         ],
         "marker": {
          "colors": [
           "#ecebf4",
           "#d1d2e7",
           "#afaed4",
           "#8d89c0",
           "#705eaa",
           "#572c92"
          ],
          "line": {
           "color": "#000000",
           "width": 1
          }
         },
         "opacity": 0.9,
         "showlegend": false,
         "textfont": {
          "size": 12
         },
         "textinfo": "label+percent",
         "title": {
          "font": {
           "family": "bold",
           "size": 20
          },
          "text": "Female distribution<br>of anonymity"
         },
         "type": "pie",
         "values": [
          153,
          78,
          16
         ],
         "visible": false
        },
        {
         "domain": {
          "x": [
           0.55,
           1
          ],
          "y": [
           0,
           1
          ]
         },
         "hole": 0.5,
         "hoverinfo": "label+percent",
         "labels": [
          "Don't know",
          "Somewhat easy",
          "Very easy",
          "Somewhat difficult",
          "Very difficult"
         ],
         "marker": {
          "colors": [
           "#ecebf4",
           "#d1d2e7",
           "#afaed4",
           "#8d89c0",
           "#705eaa",
           "#572c92"
          ],
          "line": {
           "color": "#000000",
           "width": 1
          }
         },
         "opacity": 0.9,
         "showlegend": false,
         "textfont": {
          "size": 12
         },
         "textinfo": "label+percent",
         "title": {
          "font": {
           "family": "bold",
           "size": 20
          },
          "text": "Female distribution<br>of leave"
         },
         "type": "pie",
         "values": [
          115,
          56,
          30,
          27,
          19
         ],
         "visible": false
        },
        {
         "domain": {
          "x": [
           0.55,
           1
          ],
          "y": [
           0,
           1
          ]
         },
         "hole": 0.5,
         "hoverinfo": "label+percent",
         "labels": [
          "Maybe",
          "No",
          "Yes"
         ],
         "marker": {
          "colors": [
           "#ecebf4",
           "#d1d2e7",
           "#afaed4",
           "#8d89c0",
           "#705eaa",
           "#572c92"
          ],
          "line": {
           "color": "#000000",
           "width": 1
          }
         },
         "opacity": 0.9,
         "showlegend": false,
         "textfont": {
          "size": 12
         },
         "textinfo": "label+percent",
         "title": {
          "font": {
           "family": "bold",
           "size": 20
          },
          "text": "Female distribution<br>of mental_health_consequence"
         },
         "type": "pie",
         "values": [
          108,
          73,
          66
         ],
         "visible": false
        },
        {
         "domain": {
          "x": [
           0.55,
           1
          ],
          "y": [
           0,
           1
          ]
         },
         "hole": 0.5,
         "hoverinfo": "label+percent",
         "labels": [
          "No",
          "Maybe",
          "Yes"
         ],
         "marker": {
          "colors": [
           "#ecebf4",
           "#d1d2e7",
           "#afaed4",
           "#8d89c0",
           "#705eaa",
           "#572c92"
          ],
          "line": {
           "color": "#000000",
           "width": 1
          }
         },
         "opacity": 0.9,
         "showlegend": false,
         "textfont": {
          "size": 12
         },
         "textinfo": "label+percent",
         "title": {
          "font": {
           "family": "bold",
           "size": 20
          },
          "text": "Female distribution<br>of phys_health_consequence"
         },
         "type": "pie",
         "values": [
          164,
          67,
          16
         ],
         "visible": false
        },
        {
         "domain": {
          "x": [
           0.55,
           1
          ],
          "y": [
           0,
           1
          ]
         },
         "hole": 0.5,
         "hoverinfo": "label+percent",
         "labels": [
          "Some of them",
          "No",
          "Yes"
         ],
         "marker": {
          "colors": [
           "#ecebf4",
           "#d1d2e7",
           "#afaed4",
           "#8d89c0",
           "#705eaa",
           "#572c92"
          ],
          "line": {
           "color": "#000000",
           "width": 1
          }
         },
         "opacity": 0.9,
         "showlegend": false,
         "textfont": {
          "size": 12
         },
         "textinfo": "label+percent",
         "title": {
          "font": {
           "family": "bold",
           "size": 20
          },
          "text": "Female distribution<br>of coworkers"
         },
         "type": "pie",
         "values": [
          155,
          58,
          34
         ],
         "visible": false
        },
        {
         "domain": {
          "x": [
           0.55,
           1
          ],
          "y": [
           0,
           1
          ]
         },
         "hole": 0.5,
         "hoverinfo": "label+percent",
         "labels": [
          "No",
          "Some of them",
          "Yes"
         ],
         "marker": {
          "colors": [
           "#ecebf4",
           "#d1d2e7",
           "#afaed4",
           "#8d89c0",
           "#705eaa",
           "#572c92"
          ],
          "line": {
           "color": "#000000",
           "width": 1
          }
         },
         "opacity": 0.9,
         "showlegend": false,
         "textfont": {
          "size": 12
         },
         "textinfo": "label+percent",
         "title": {
          "font": {
           "family": "bold",
           "size": 20
          },
          "text": "Female distribution<br>of supervisor"
         },
         "type": "pie",
         "values": [
          86,
          85,
          76
         ],
         "visible": false
        },
        {
         "domain": {
          "x": [
           0.55,
           1
          ],
          "y": [
           0,
           1
          ]
         },
         "hole": 0.5,
         "hoverinfo": "label+percent",
         "labels": [
          "No",
          "Maybe",
          "Yes"
         ],
         "marker": {
          "colors": [
           "#ecebf4",
           "#d1d2e7",
           "#afaed4",
           "#8d89c0",
           "#705eaa",
           "#572c92"
          ],
          "line": {
           "color": "#000000",
           "width": 1
          }
         },
         "opacity": 0.9,
         "showlegend": false,
         "textfont": {
          "size": 12
         },
         "textinfo": "label+percent",
         "title": {
          "font": {
           "family": "bold",
           "size": 20
          },
          "text": "Female distribution<br>of mental_health_interview"
         },
         "type": "pie",
         "values": [
          224,
          21,
          2
         ],
         "visible": false
        },
        {
         "domain": {
          "x": [
           0.55,
           1
          ],
          "y": [
           0,
           1
          ]
         },
         "hole": 0.5,
         "hoverinfo": "label+percent",
         "labels": [
          "No",
          "Maybe",
          "Yes"
         ],
         "marker": {
          "colors": [
           "#ecebf4",
           "#d1d2e7",
           "#afaed4",
           "#8d89c0",
           "#705eaa",
           "#572c92"
          ],
          "line": {
           "color": "#000000",
           "width": 1
          }
         },
         "opacity": 0.9,
         "showlegend": false,
         "textfont": {
          "size": 12
         },
         "textinfo": "label+percent",
         "title": {
          "font": {
           "family": "bold",
           "size": 20
          },
          "text": "Female distribution<br>of phys_health_interview"
         },
         "type": "pie",
         "values": [
          131,
          90,
          26
         ],
         "visible": false
        },
        {
         "domain": {
          "x": [
           0.55,
           1
          ],
          "y": [
           0,
           1
          ]
         },
         "hole": 0.5,
         "hoverinfo": "label+percent",
         "labels": [
          "Don't know",
          "Yes",
          "No"
         ],
         "marker": {
          "colors": [
           "#ecebf4",
           "#d1d2e7",
           "#afaed4",
           "#8d89c0",
           "#705eaa",
           "#572c92"
          ],
          "line": {
           "color": "#000000",
           "width": 1
          }
         },
         "opacity": 0.9,
         "showlegend": false,
         "textfont": {
          "size": 12
         },
         "textinfo": "label+percent",
         "title": {
          "font": {
           "family": "bold",
           "size": 20
          },
          "text": "Female distribution<br>of mental_vs_physical"
         },
         "type": "pie",
         "values": [
          109,
          73,
          65
         ],
         "visible": false
        },
        {
         "domain": {
          "x": [
           0.55,
           1
          ],
          "y": [
           0,
           1
          ]
         },
         "hole": 0.5,
         "hoverinfo": "label+percent",
         "labels": [
          "No",
          "Yes"
         ],
         "marker": {
          "colors": [
           "#ecebf4",
           "#d1d2e7",
           "#afaed4",
           "#8d89c0",
           "#705eaa",
           "#572c92"
          ],
          "line": {
           "color": "#000000",
           "width": 1
          }
         },
         "opacity": 0.9,
         "showlegend": false,
         "textfont": {
          "size": 12
         },
         "textinfo": "label+percent",
         "title": {
          "font": {
           "family": "bold",
           "size": 20
          },
          "text": "Female distribution<br>of obs_consequence"
         },
         "type": "pie",
         "values": [
          200,
          47
         ],
         "visible": false
        }
       ],
       "layout": {
        "annotations": [
         {
          "align": "left",
          "font": {
           "size": 14
          },
          "showarrow": false,
          "text": "<b>Choose<br>Column<b> : ",
          "x": 0.5,
          "y": 1,
          "yref": "paper"
         }
        ],
        "font": {
         "family": "bold"
        },
        "margin": {
         "b": 0,
         "l": 0,
         "r": 0,
         "t": 0
        },
        "template": {
         "data": {
          "bar": [
           {
            "error_x": {
             "color": "#2a3f5f"
            },
            "error_y": {
             "color": "#2a3f5f"
            },
            "marker": {
             "line": {
              "color": "#E5ECF6",
              "width": 0.5
             },
             "pattern": {
              "fillmode": "overlay",
              "size": 10,
              "solidity": 0.2
             }
            },
            "type": "bar"
           }
          ],
          "barpolar": [
           {
            "marker": {
             "line": {
              "color": "#E5ECF6",
              "width": 0.5
             },
             "pattern": {
              "fillmode": "overlay",
              "size": 10,
              "solidity": 0.2
             }
            },
            "type": "barpolar"
           }
          ],
          "carpet": [
           {
            "aaxis": {
             "endlinecolor": "#2a3f5f",
             "gridcolor": "white",
             "linecolor": "white",
             "minorgridcolor": "white",
             "startlinecolor": "#2a3f5f"
            },
            "baxis": {
             "endlinecolor": "#2a3f5f",
             "gridcolor": "white",
             "linecolor": "white",
             "minorgridcolor": "white",
             "startlinecolor": "#2a3f5f"
            },
            "type": "carpet"
           }
          ],
          "choropleth": [
           {
            "colorbar": {
             "outlinewidth": 0,
             "ticks": ""
            },
            "type": "choropleth"
           }
          ],
          "contour": [
           {
            "colorbar": {
             "outlinewidth": 0,
             "ticks": ""
            },
            "colorscale": [
             [
              0,
              "#0d0887"
             ],
             [
              0.1111111111111111,
              "#46039f"
             ],
             [
              0.2222222222222222,
              "#7201a8"
             ],
             [
              0.3333333333333333,
              "#9c179e"
             ],
             [
              0.4444444444444444,
              "#bd3786"
             ],
             [
              0.5555555555555556,
              "#d8576b"
             ],
             [
              0.6666666666666666,
              "#ed7953"
             ],
             [
              0.7777777777777778,
              "#fb9f3a"
             ],
             [
              0.8888888888888888,
              "#fdca26"
             ],
             [
              1,
              "#f0f921"
             ]
            ],
            "type": "contour"
           }
          ],
          "contourcarpet": [
           {
            "colorbar": {
             "outlinewidth": 0,
             "ticks": ""
            },
            "type": "contourcarpet"
           }
          ],
          "heatmap": [
           {
            "colorbar": {
             "outlinewidth": 0,
             "ticks": ""
            },
            "colorscale": [
             [
              0,
              "#0d0887"
             ],
             [
              0.1111111111111111,
              "#46039f"
             ],
             [
              0.2222222222222222,
              "#7201a8"
             ],
             [
              0.3333333333333333,
              "#9c179e"
             ],
             [
              0.4444444444444444,
              "#bd3786"
             ],
             [
              0.5555555555555556,
              "#d8576b"
             ],
             [
              0.6666666666666666,
              "#ed7953"
             ],
             [
              0.7777777777777778,
              "#fb9f3a"
             ],
             [
              0.8888888888888888,
              "#fdca26"
             ],
             [
              1,
              "#f0f921"
             ]
            ],
            "type": "heatmap"
           }
          ],
          "heatmapgl": [
           {
            "colorbar": {
             "outlinewidth": 0,
             "ticks": ""
            },
            "colorscale": [
             [
              0,
              "#0d0887"
             ],
             [
              0.1111111111111111,
              "#46039f"
             ],
             [
              0.2222222222222222,
              "#7201a8"
             ],
             [
              0.3333333333333333,
              "#9c179e"
             ],
             [
              0.4444444444444444,
              "#bd3786"
             ],
             [
              0.5555555555555556,
              "#d8576b"
             ],
             [
              0.6666666666666666,
              "#ed7953"
             ],
             [
              0.7777777777777778,
              "#fb9f3a"
             ],
             [
              0.8888888888888888,
              "#fdca26"
             ],
             [
              1,
              "#f0f921"
             ]
            ],
            "type": "heatmapgl"
           }
          ],
          "histogram": [
           {
            "marker": {
             "pattern": {
              "fillmode": "overlay",
              "size": 10,
              "solidity": 0.2
             }
            },
            "type": "histogram"
           }
          ],
          "histogram2d": [
           {
            "colorbar": {
             "outlinewidth": 0,
             "ticks": ""
            },
            "colorscale": [
             [
              0,
              "#0d0887"
             ],
             [
              0.1111111111111111,
              "#46039f"
             ],
             [
              0.2222222222222222,
              "#7201a8"
             ],
             [
              0.3333333333333333,
              "#9c179e"
             ],
             [
              0.4444444444444444,
              "#bd3786"
             ],
             [
              0.5555555555555556,
              "#d8576b"
             ],
             [
              0.6666666666666666,
              "#ed7953"
             ],
             [
              0.7777777777777778,
              "#fb9f3a"
             ],
             [
              0.8888888888888888,
              "#fdca26"
             ],
             [
              1,
              "#f0f921"
             ]
            ],
            "type": "histogram2d"
           }
          ],
          "histogram2dcontour": [
           {
            "colorbar": {
             "outlinewidth": 0,
             "ticks": ""
            },
            "colorscale": [
             [
              0,
              "#0d0887"
             ],
             [
              0.1111111111111111,
              "#46039f"
             ],
             [
              0.2222222222222222,
              "#7201a8"
             ],
             [
              0.3333333333333333,
              "#9c179e"
             ],
             [
              0.4444444444444444,
              "#bd3786"
             ],
             [
              0.5555555555555556,
              "#d8576b"
             ],
             [
              0.6666666666666666,
              "#ed7953"
             ],
             [
              0.7777777777777778,
              "#fb9f3a"
             ],
             [
              0.8888888888888888,
              "#fdca26"
             ],
             [
              1,
              "#f0f921"
             ]
            ],
            "type": "histogram2dcontour"
           }
          ],
          "mesh3d": [
           {
            "colorbar": {
             "outlinewidth": 0,
             "ticks": ""
            },
            "type": "mesh3d"
           }
          ],
          "parcoords": [
           {
            "line": {
             "colorbar": {
              "outlinewidth": 0,
              "ticks": ""
             }
            },
            "type": "parcoords"
           }
          ],
          "pie": [
           {
            "automargin": true,
            "type": "pie"
           }
          ],
          "scatter": [
           {
            "fillpattern": {
             "fillmode": "overlay",
             "size": 10,
             "solidity": 0.2
            },
            "type": "scatter"
           }
          ],
          "scatter3d": [
           {
            "line": {
             "colorbar": {
              "outlinewidth": 0,
              "ticks": ""
             }
            },
            "marker": {
             "colorbar": {
              "outlinewidth": 0,
              "ticks": ""
             }
            },
            "type": "scatter3d"
           }
          ],
          "scattercarpet": [
           {
            "marker": {
             "colorbar": {
              "outlinewidth": 0,
              "ticks": ""
             }
            },
            "type": "scattercarpet"
           }
          ],
          "scattergeo": [
           {
            "marker": {
             "colorbar": {
              "outlinewidth": 0,
              "ticks": ""
             }
            },
            "type": "scattergeo"
           }
          ],
          "scattergl": [
           {
            "marker": {
             "colorbar": {
              "outlinewidth": 0,
              "ticks": ""
             }
            },
            "type": "scattergl"
           }
          ],
          "scattermapbox": [
           {
            "marker": {
             "colorbar": {
              "outlinewidth": 0,
              "ticks": ""
             }
            },
            "type": "scattermapbox"
           }
          ],
          "scatterpolar": [
           {
            "marker": {
             "colorbar": {
              "outlinewidth": 0,
              "ticks": ""
             }
            },
            "type": "scatterpolar"
           }
          ],
          "scatterpolargl": [
           {
            "marker": {
             "colorbar": {
              "outlinewidth": 0,
              "ticks": ""
             }
            },
            "type": "scatterpolargl"
           }
          ],
          "scatterternary": [
           {
            "marker": {
             "colorbar": {
              "outlinewidth": 0,
              "ticks": ""
             }
            },
            "type": "scatterternary"
           }
          ],
          "surface": [
           {
            "colorbar": {
             "outlinewidth": 0,
             "ticks": ""
            },
            "colorscale": [
             [
              0,
              "#0d0887"
             ],
             [
              0.1111111111111111,
              "#46039f"
             ],
             [
              0.2222222222222222,
              "#7201a8"
             ],
             [
              0.3333333333333333,
              "#9c179e"
             ],
             [
              0.4444444444444444,
              "#bd3786"
             ],
             [
              0.5555555555555556,
              "#d8576b"
             ],
             [
              0.6666666666666666,
              "#ed7953"
             ],
             [
              0.7777777777777778,
              "#fb9f3a"
             ],
             [
              0.8888888888888888,
              "#fdca26"
             ],
             [
              1,
              "#f0f921"
             ]
            ],
            "type": "surface"
           }
          ],
          "table": [
           {
            "cells": {
             "fill": {
              "color": "#EBF0F8"
             },
             "line": {
              "color": "white"
             }
            },
            "header": {
             "fill": {
              "color": "#C8D4E3"
             },
             "line": {
              "color": "white"
             }
            },
            "type": "table"
           }
          ]
         },
         "layout": {
          "annotationdefaults": {
           "arrowcolor": "#2a3f5f",
           "arrowhead": 0,
           "arrowwidth": 1
          },
          "autotypenumbers": "strict",
          "coloraxis": {
           "colorbar": {
            "outlinewidth": 0,
            "ticks": ""
           }
          },
          "colorscale": {
           "diverging": [
            [
             0,
             "#8e0152"
            ],
            [
             0.1,
             "#c51b7d"
            ],
            [
             0.2,
             "#de77ae"
            ],
            [
             0.3,
             "#f1b6da"
            ],
            [
             0.4,
             "#fde0ef"
            ],
            [
             0.5,
             "#f7f7f7"
            ],
            [
             0.6,
             "#e6f5d0"
            ],
            [
             0.7,
             "#b8e186"
            ],
            [
             0.8,
             "#7fbc41"
            ],
            [
             0.9,
             "#4d9221"
            ],
            [
             1,
             "#276419"
            ]
           ],
           "sequential": [
            [
             0,
             "#0d0887"
            ],
            [
             0.1111111111111111,
             "#46039f"
            ],
            [
             0.2222222222222222,
             "#7201a8"
            ],
            [
             0.3333333333333333,
             "#9c179e"
            ],
            [
             0.4444444444444444,
             "#bd3786"
            ],
            [
             0.5555555555555556,
             "#d8576b"
            ],
            [
             0.6666666666666666,
             "#ed7953"
            ],
            [
             0.7777777777777778,
             "#fb9f3a"
            ],
            [
             0.8888888888888888,
             "#fdca26"
            ],
            [
             1,
             "#f0f921"
            ]
           ],
           "sequentialminus": [
            [
             0,
             "#0d0887"
            ],
            [
             0.1111111111111111,
             "#46039f"
            ],
            [
             0.2222222222222222,
             "#7201a8"
            ],
            [
             0.3333333333333333,
             "#9c179e"
            ],
            [
             0.4444444444444444,
             "#bd3786"
            ],
            [
             0.5555555555555556,
             "#d8576b"
            ],
            [
             0.6666666666666666,
             "#ed7953"
            ],
            [
             0.7777777777777778,
             "#fb9f3a"
            ],
            [
             0.8888888888888888,
             "#fdca26"
            ],
            [
             1,
             "#f0f921"
            ]
           ]
          },
          "colorway": [
           "#636efa",
           "#EF553B",
           "#00cc96",
           "#ab63fa",
           "#FFA15A",
           "#19d3f3",
           "#FF6692",
           "#B6E880",
           "#FF97FF",
           "#FECB52"
          ],
          "font": {
           "color": "#2a3f5f"
          },
          "geo": {
           "bgcolor": "white",
           "lakecolor": "white",
           "landcolor": "#E5ECF6",
           "showlakes": true,
           "showland": true,
           "subunitcolor": "white"
          },
          "hoverlabel": {
           "align": "left"
          },
          "hovermode": "closest",
          "mapbox": {
           "style": "light"
          },
          "paper_bgcolor": "white",
          "plot_bgcolor": "#E5ECF6",
          "polar": {
           "angularaxis": {
            "gridcolor": "white",
            "linecolor": "white",
            "ticks": ""
           },
           "bgcolor": "#E5ECF6",
           "radialaxis": {
            "gridcolor": "white",
            "linecolor": "white",
            "ticks": ""
           }
          },
          "scene": {
           "xaxis": {
            "backgroundcolor": "#E5ECF6",
            "gridcolor": "white",
            "gridwidth": 2,
            "linecolor": "white",
            "showbackground": true,
            "ticks": "",
            "zerolinecolor": "white"
           },
           "yaxis": {
            "backgroundcolor": "#E5ECF6",
            "gridcolor": "white",
            "gridwidth": 2,
            "linecolor": "white",
            "showbackground": true,
            "ticks": "",
            "zerolinecolor": "white"
           },
           "zaxis": {
            "backgroundcolor": "#E5ECF6",
            "gridcolor": "white",
            "gridwidth": 2,
            "linecolor": "white",
            "showbackground": true,
            "ticks": "",
            "zerolinecolor": "white"
           }
          },
          "shapedefaults": {
           "line": {
            "color": "#2a3f5f"
           }
          },
          "ternary": {
           "aaxis": {
            "gridcolor": "white",
            "linecolor": "white",
            "ticks": ""
           },
           "baxis": {
            "gridcolor": "white",
            "linecolor": "white",
            "ticks": ""
           },
           "bgcolor": "#E5ECF6",
           "caxis": {
            "gridcolor": "white",
            "linecolor": "white",
            "ticks": ""
           }
          },
          "title": {
           "x": 0.05
          },
          "xaxis": {
           "automargin": true,
           "gridcolor": "white",
           "linecolor": "white",
           "ticks": "",
           "title": {
            "standoff": 15
           },
           "zerolinecolor": "white",
           "zerolinewidth": 2
          },
          "yaxis": {
           "automargin": true,
           "gridcolor": "white",
           "linecolor": "white",
           "ticks": "",
           "title": {
            "standoff": 15
           },
           "zerolinecolor": "white",
           "zerolinewidth": 2
          }
         }
        },
        "updatemenus": [
         {
          "active": 0,
          "buttons": [
           {
            "args": [
             {
              "visible": [
               true,
               false,
               false,
               false,
               false,
               false,
               false,
               false,
               false,
               false,
               false,
               false,
               false,
               false,
               false,
               false,
               false,
               false,
               false,
               false,
               false
              ]
             },
             {
              "title": "self_employed"
             }
            ],
            "label": "self_employed",
            "method": "update"
           },
           {
            "args": [
             {
              "visible": [
               false,
               true,
               false,
               false,
               false,
               false,
               false,
               false,
               false,
               false,
               false,
               false,
               false,
               false,
               false,
               false,
               false,
               false,
               false,
               false,
               false
              ]
             },
             {
              "title": "family_history"
             }
            ],
            "label": "family_history",
            "method": "update"
           },
           {
            "args": [
             {
              "visible": [
               false,
               false,
               true,
               false,
               false,
               false,
               false,
               false,
               false,
               false,
               false,
               false,
               false,
               false,
               false,
               false,
               false,
               false,
               false,
               false,
               false
              ]
             },
             {
              "title": "treatment"
             }
            ],
            "label": "treatment",
            "method": "update"
           },
           {
            "args": [
             {
              "visible": [
               false,
               false,
               false,
               true,
               false,
               false,
               false,
               false,
               false,
               false,
               false,
               false,
               false,
               false,
               false,
               false,
               false,
               false,
               false,
               false,
               false
              ]
             },
             {
              "title": "work_interfere"
             }
            ],
            "label": "work_interfere",
            "method": "update"
           },
           {
            "args": [
             {
              "visible": [
               false,
               false,
               false,
               false,
               true,
               false,
               false,
               false,
               false,
               false,
               false,
               false,
               false,
               false,
               false,
               false,
               false,
               false,
               false,
               false,
               false
              ]
             },
             {
              "title": "no_employees"
             }
            ],
            "label": "no_employees",
            "method": "update"
           },
           {
            "args": [
             {
              "visible": [
               false,
               false,
               false,
               false,
               false,
               true,
               false,
               false,
               false,
               false,
               false,
               false,
               false,
               false,
               false,
               false,
               false,
               false,
               false,
               false,
               false
              ]
             },
             {
              "title": "remote_work"
             }
            ],
            "label": "remote_work",
            "method": "update"
           },
           {
            "args": [
             {
              "visible": [
               false,
               false,
               false,
               false,
               false,
               false,
               true,
               false,
               false,
               false,
               false,
               false,
               false,
               false,
               false,
               false,
               false,
               false,
               false,
               false,
               false
              ]
             },
             {
              "title": "tech_company"
             }
            ],
            "label": "tech_company",
            "method": "update"
           },
           {
            "args": [
             {
              "visible": [
               false,
               false,
               false,
               false,
               false,
               false,
               false,
               true,
               false,
               false,
               false,
               false,
               false,
               false,
               false,
               false,
               false,
               false,
               false,
               false,
               false
              ]
             },
             {
              "title": "benefits"
             }
            ],
            "label": "benefits",
            "method": "update"
           },
           {
            "args": [
             {
              "visible": [
               false,
               false,
               false,
               false,
               false,
               false,
               false,
               false,
               true,
               false,
               false,
               false,
               false,
               false,
               false,
               false,
               false,
               false,
               false,
               false,
               false
              ]
             },
             {
              "title": "care_options"
             }
            ],
            "label": "care_options",
            "method": "update"
           },
           {
            "args": [
             {
              "visible": [
               false,
               false,
               false,
               false,
               false,
               false,
               false,
               false,
               false,
               true,
               false,
               false,
               false,
               false,
               false,
               false,
               false,
               false,
               false,
               false,
               false
              ]
             },
             {
              "title": "wellness_program"
             }
            ],
            "label": "wellness_program",
            "method": "update"
           },
           {
            "args": [
             {
              "visible": [
               false,
               false,
               false,
               false,
               false,
               false,
               false,
               false,
               false,
               false,
               true,
               false,
               false,
               false,
               false,
               false,
               false,
               false,
               false,
               false,
               false
              ]
             },
             {
              "title": "seek_help"
             }
            ],
            "label": "seek_help",
            "method": "update"
           },
           {
            "args": [
             {
              "visible": [
               false,
               false,
               false,
               false,
               false,
               false,
               false,
               false,
               false,
               false,
               false,
               true,
               false,
               false,
               false,
               false,
               false,
               false,
               false,
               false,
               false
              ]
             },
             {
              "title": "anonymity"
             }
            ],
            "label": "anonymity",
            "method": "update"
           },
           {
            "args": [
             {
              "visible": [
               false,
               false,
               false,
               false,
               false,
               false,
               false,
               false,
               false,
               false,
               false,
               false,
               true,
               false,
               false,
               false,
               false,
               false,
               false,
               false,
               false
              ]
             },
             {
              "title": "leave"
             }
            ],
            "label": "leave",
            "method": "update"
           },
           {
            "args": [
             {
              "visible": [
               false,
               false,
               false,
               false,
               false,
               false,
               false,
               false,
               false,
               false,
               false,
               false,
               false,
               true,
               false,
               false,
               false,
               false,
               false,
               false,
               false
              ]
             },
             {
              "title": "mental_health_consequence"
             }
            ],
            "label": "mental_health_consequence",
            "method": "update"
           },
           {
            "args": [
             {
              "visible": [
               false,
               false,
               false,
               false,
               false,
               false,
               false,
               false,
               false,
               false,
               false,
               false,
               false,
               false,
               true,
               false,
               false,
               false,
               false,
               false,
               false
              ]
             },
             {
              "title": "phys_health_consequence"
             }
            ],
            "label": "phys_health_consequence",
            "method": "update"
           },
           {
            "args": [
             {
              "visible": [
               false,
               false,
               false,
               false,
               false,
               false,
               false,
               false,
               false,
               false,
               false,
               false,
               false,
               false,
               false,
               true,
               false,
               false,
               false,
               false,
               false
              ]
             },
             {
              "title": "coworkers"
             }
            ],
            "label": "coworkers",
            "method": "update"
           },
           {
            "args": [
             {
              "visible": [
               false,
               false,
               false,
               false,
               false,
               false,
               false,
               false,
               false,
               false,
               false,
               false,
               false,
               false,
               false,
               false,
               true,
               false,
               false,
               false,
               false
              ]
             },
             {
              "title": "supervisor"
             }
            ],
            "label": "supervisor",
            "method": "update"
           },
           {
            "args": [
             {
              "visible": [
               false,
               false,
               false,
               false,
               false,
               false,
               false,
               false,
               false,
               false,
               false,
               false,
               false,
               false,
               false,
               false,
               false,
               true,
               false,
               false,
               false
              ]
             },
             {
              "title": "mental_health_interview"
             }
            ],
            "label": "mental_health_interview",
            "method": "update"
           },
           {
            "args": [
             {
              "visible": [
               false,
               false,
               false,
               false,
               false,
               false,
               false,
               false,
               false,
               false,
               false,
               false,
               false,
               false,
               false,
               false,
               false,
               false,
               true,
               false,
               false
              ]
             },
             {
              "title": "phys_health_interview"
             }
            ],
            "label": "phys_health_interview",
            "method": "update"
           },
           {
            "args": [
             {
              "visible": [
               false,
               false,
               false,
               false,
               false,
               false,
               false,
               false,
               false,
               false,
               false,
               false,
               false,
               false,
               false,
               false,
               false,
               false,
               false,
               true,
               false
              ]
             },
             {
              "title": "mental_vs_physical"
             }
            ],
            "label": "mental_vs_physical",
            "method": "update"
           },
           {
            "args": [
             {
              "visible": [
               false,
               false,
               false,
               false,
               false,
               false,
               false,
               false,
               false,
               false,
               false,
               false,
               false,
               false,
               false,
               false,
               false,
               false,
               false,
               false,
               true
              ]
             },
             {
              "title": "obs_consequence"
             }
            ],
            "label": "obs_consequence",
            "method": "update"
           }
          ],
          "showactive": true,
          "type": "dropdown",
          "x": 0.62,
          "y": 0.91
         }
        ]
       }
      },
      "text/html": [
       "<div>                            <div id=\"d8c654d6-b848-4b98-b5ba-9a08ea19c2c6\" class=\"plotly-graph-div\" style=\"height:525px; width:100%;\"></div>            <script type=\"text/javascript\">                require([\"plotly\"], function(Plotly) {                    window.PLOTLYENV=window.PLOTLYENV || {};                                    if (document.getElementById(\"d8c654d6-b848-4b98-b5ba-9a08ea19c2c6\")) {                    Plotly.newPlot(                        \"d8c654d6-b848-4b98-b5ba-9a08ea19c2c6\",                        [{\"hole\":0.5,\"hoverinfo\":\"label+percent\",\"labels\":[\"No\",\"Yes\"],\"title\":{\"font\":{\"family\":\"bold\",\"size\":18},\"text\":\"Male distribution<br>of self_employed\"},\"values\":[870,121],\"type\":\"pie\",\"domain\":{\"x\":[0.0,0.45],\"y\":[0.0,1.0]},\"textfont\":{\"size\":12},\"marker\":{\"line\":{\"color\":\"#000000\",\"width\":1},\"colors\":[\"#fedbcc\",\"#fcaf93\",\"#fc8161\",\"#f44f39\",\"#d52221\",\"#aa1016\"]},\"opacity\":0.9,\"showlegend\":false,\"textinfo\":\"label+percent\"},{\"hole\":0.5,\"hoverinfo\":\"label+percent\",\"labels\":[\"No\",\"Yes\"],\"title\":{\"font\":{\"family\":\"bold\",\"size\":18},\"text\":\"Male distribution<br>of family_history\"},\"values\":[643,348],\"type\":\"pie\",\"domain\":{\"x\":[0.0,0.45],\"y\":[0.0,1.0]},\"textfont\":{\"size\":12},\"marker\":{\"line\":{\"color\":\"#000000\",\"width\":1},\"colors\":[\"#fedbcc\",\"#fcaf93\",\"#fc8161\",\"#f44f39\",\"#d52221\",\"#aa1016\"]},\"opacity\":0.9,\"showlegend\":false,\"textinfo\":\"label+percent\",\"visible\":false},{\"hole\":0.5,\"hoverinfo\":\"label+percent\",\"labels\":[\"No\",\"Yes\"],\"title\":{\"font\":{\"family\":\"bold\",\"size\":18},\"text\":\"Male distribution<br>of treatment\"},\"values\":[541,450],\"type\":\"pie\",\"domain\":{\"x\":[0.0,0.45],\"y\":[0.0,1.0]},\"textfont\":{\"size\":12},\"marker\":{\"line\":{\"color\":\"#000000\",\"width\":1},\"colors\":[\"#fedbcc\",\"#fcaf93\",\"#fc8161\",\"#f44f39\",\"#d52221\",\"#aa1016\"]},\"opacity\":0.9,\"showlegend\":false,\"textinfo\":\"label+percent\",\"visible\":false},{\"hole\":0.5,\"hoverinfo\":\"label+percent\",\"labels\":[\"Sometimes\",\"Never\",\"Rarely\",\"Often\"],\"title\":{\"font\":{\"family\":\"bold\",\"size\":18},\"text\":\"Male distribution<br>of work_interfere\"},\"values\":[457,232,164,138],\"type\":\"pie\",\"domain\":{\"x\":[0.0,0.45],\"y\":[0.0,1.0]},\"textfont\":{\"size\":12},\"marker\":{\"line\":{\"color\":\"#000000\",\"width\":1},\"colors\":[\"#fedbcc\",\"#fcaf93\",\"#fc8161\",\"#f44f39\",\"#d52221\",\"#aa1016\"]},\"opacity\":0.9,\"showlegend\":false,\"textinfo\":\"label+percent\",\"visible\":false},{\"hole\":0.5,\"hoverinfo\":\"label+percent\",\"labels\":[\"6-25\",\"26-100\",\"More than 1000\",\"1-5\",\"100-500\",\"500-1000\"],\"title\":{\"font\":{\"family\":\"bold\",\"size\":18},\"text\":\"Male distribution<br>of no_employees\"},\"values\":[249,230,217,129,128,38],\"type\":\"pie\",\"domain\":{\"x\":[0.0,0.45],\"y\":[0.0,1.0]},\"textfont\":{\"size\":12},\"marker\":{\"line\":{\"color\":\"#000000\",\"width\":1},\"colors\":[\"#fedbcc\",\"#fcaf93\",\"#fc8161\",\"#f44f39\",\"#d52221\",\"#aa1016\"]},\"opacity\":0.9,\"showlegend\":false,\"textinfo\":\"label+percent\",\"visible\":false},{\"hole\":0.5,\"hoverinfo\":\"label+percent\",\"labels\":[\"No\",\"Yes\"],\"title\":{\"font\":{\"family\":\"bold\",\"size\":18},\"text\":\"Male distribution<br>of remote_work\"},\"values\":[693,298],\"type\":\"pie\",\"domain\":{\"x\":[0.0,0.45],\"y\":[0.0,1.0]},\"textfont\":{\"size\":12},\"marker\":{\"line\":{\"color\":\"#000000\",\"width\":1},\"colors\":[\"#fedbcc\",\"#fcaf93\",\"#fc8161\",\"#f44f39\",\"#d52221\",\"#aa1016\"]},\"opacity\":0.9,\"showlegend\":false,\"textinfo\":\"label+percent\",\"visible\":false},{\"hole\":0.5,\"hoverinfo\":\"label+percent\",\"labels\":[\"Yes\",\"No\"],\"title\":{\"font\":{\"family\":\"bold\",\"size\":18},\"text\":\"Male distribution<br>of tech_company\"},\"values\":[827,164],\"type\":\"pie\",\"domain\":{\"x\":[0.0,0.45],\"y\":[0.0,1.0]},\"textfont\":{\"size\":12},\"marker\":{\"line\":{\"color\":\"#000000\",\"width\":1},\"colors\":[\"#fedbcc\",\"#fcaf93\",\"#fc8161\",\"#f44f39\",\"#d52221\",\"#aa1016\"]},\"opacity\":0.9,\"showlegend\":false,\"textinfo\":\"label+percent\",\"visible\":false},{\"hole\":0.5,\"hoverinfo\":\"label+percent\",\"labels\":[\"Yes\",\"Don't know\",\"No\"],\"title\":{\"font\":{\"family\":\"bold\",\"size\":18},\"text\":\"Male distribution<br>of benefits\"},\"values\":[339,332,320],\"type\":\"pie\",\"domain\":{\"x\":[0.0,0.45],\"y\":[0.0,1.0]},\"textfont\":{\"size\":12},\"marker\":{\"line\":{\"color\":\"#000000\",\"width\":1},\"colors\":[\"#fedbcc\",\"#fcaf93\",\"#fc8161\",\"#f44f39\",\"#d52221\",\"#aa1016\"]},\"opacity\":0.9,\"showlegend\":false,\"textinfo\":\"label+percent\",\"visible\":false},{\"hole\":0.5,\"hoverinfo\":\"label+percent\",\"labels\":[\"No\",\"Yes\",\"Not sure\"],\"title\":{\"font\":{\"family\":\"bold\",\"size\":18},\"text\":\"Male distribution<br>of care_options\"},\"values\":[426,322,243],\"type\":\"pie\",\"domain\":{\"x\":[0.0,0.45],\"y\":[0.0,1.0]},\"textfont\":{\"size\":12},\"marker\":{\"line\":{\"color\":\"#000000\",\"width\":1},\"colors\":[\"#fedbcc\",\"#fcaf93\",\"#fc8161\",\"#f44f39\",\"#d52221\",\"#aa1016\"]},\"opacity\":0.9,\"showlegend\":false,\"textinfo\":\"label+percent\",\"visible\":false},{\"hole\":0.5,\"hoverinfo\":\"label+percent\",\"labels\":[\"No\",\"Yes\",\"Don't know\"],\"title\":{\"font\":{\"family\":\"bold\",\"size\":18},\"text\":\"Male distribution<br>of wellness_program\"},\"values\":[678,168,145],\"type\":\"pie\",\"domain\":{\"x\":[0.0,0.45],\"y\":[0.0,1.0]},\"textfont\":{\"size\":12},\"marker\":{\"line\":{\"color\":\"#000000\",\"width\":1},\"colors\":[\"#fedbcc\",\"#fcaf93\",\"#fc8161\",\"#f44f39\",\"#d52221\",\"#aa1016\"]},\"opacity\":0.9,\"showlegend\":false,\"textinfo\":\"label+percent\",\"visible\":false},{\"hole\":0.5,\"hoverinfo\":\"label+percent\",\"labels\":[\"No\",\"Don't know\",\"Yes\"],\"title\":{\"font\":{\"family\":\"bold\",\"size\":18},\"text\":\"Male distribution<br>of seek_help\"},\"values\":[518,285,188],\"type\":\"pie\",\"domain\":{\"x\":[0.0,0.45],\"y\":[0.0,1.0]},\"textfont\":{\"size\":12},\"marker\":{\"line\":{\"color\":\"#000000\",\"width\":1},\"colors\":[\"#fedbcc\",\"#fcaf93\",\"#fc8161\",\"#f44f39\",\"#d52221\",\"#aa1016\"]},\"opacity\":0.9,\"showlegend\":false,\"textinfo\":\"label+percent\",\"visible\":false},{\"hole\":0.5,\"hoverinfo\":\"label+percent\",\"labels\":[\"Don't know\",\"Yes\",\"No\"],\"title\":{\"font\":{\"family\":\"bold\",\"size\":18},\"text\":\"Male distribution<br>of anonymity\"},\"values\":[655,288,48],\"type\":\"pie\",\"domain\":{\"x\":[0.0,0.45],\"y\":[0.0,1.0]},\"textfont\":{\"size\":12},\"marker\":{\"line\":{\"color\":\"#000000\",\"width\":1},\"colors\":[\"#fedbcc\",\"#fcaf93\",\"#fc8161\",\"#f44f39\",\"#d52221\",\"#aa1016\"]},\"opacity\":0.9,\"showlegend\":false,\"textinfo\":\"label+percent\",\"visible\":false},{\"hole\":0.5,\"hoverinfo\":\"label+percent\",\"labels\":[\"Don't know\",\"Somewhat easy\",\"Very easy\",\"Somewhat difficult\",\"Very difficult\"],\"title\":{\"font\":{\"family\":\"bold\",\"size\":18},\"text\":\"Male distribution<br>of leave\"},\"values\":[442,207,173,93,76],\"type\":\"pie\",\"domain\":{\"x\":[0.0,0.45],\"y\":[0.0,1.0]},\"textfont\":{\"size\":12},\"marker\":{\"line\":{\"color\":\"#000000\",\"width\":1},\"colors\":[\"#fedbcc\",\"#fcaf93\",\"#fc8161\",\"#f44f39\",\"#d52221\",\"#aa1016\"]},\"opacity\":0.9,\"showlegend\":false,\"textinfo\":\"label+percent\",\"visible\":false},{\"hole\":0.5,\"hoverinfo\":\"label+percent\",\"labels\":[\"No\",\"Maybe\",\"Yes\"],\"title\":{\"font\":{\"family\":\"bold\",\"size\":18},\"text\":\"Male distribution<br>of mental_health_consequence\"},\"values\":[413,364,214],\"type\":\"pie\",\"domain\":{\"x\":[0.0,0.45],\"y\":[0.0,1.0]},\"textfont\":{\"size\":12},\"marker\":{\"line\":{\"color\":\"#000000\",\"width\":1},\"colors\":[\"#fedbcc\",\"#fcaf93\",\"#fc8161\",\"#f44f39\",\"#d52221\",\"#aa1016\"]},\"opacity\":0.9,\"showlegend\":false,\"textinfo\":\"label+percent\",\"visible\":false},{\"hole\":0.5,\"hoverinfo\":\"label+percent\",\"labels\":[\"No\",\"Maybe\",\"Yes\"],\"title\":{\"font\":{\"family\":\"bold\",\"size\":18},\"text\":\"Male distribution<br>of phys_health_consequence\"},\"values\":[751,199,41],\"type\":\"pie\",\"domain\":{\"x\":[0.0,0.45],\"y\":[0.0,1.0]},\"textfont\":{\"size\":12},\"marker\":{\"line\":{\"color\":\"#000000\",\"width\":1},\"colors\":[\"#fedbcc\",\"#fcaf93\",\"#fc8161\",\"#f44f39\",\"#d52221\",\"#aa1016\"]},\"opacity\":0.9,\"showlegend\":false,\"textinfo\":\"label+percent\",\"visible\":false},{\"hole\":0.5,\"hoverinfo\":\"label+percent\",\"labels\":[\"Some of them\",\"No\",\"Yes\"],\"title\":{\"font\":{\"family\":\"bold\",\"size\":18},\"text\":\"Male distribution<br>of coworkers\"},\"values\":[609,197,185],\"type\":\"pie\",\"domain\":{\"x\":[0.0,0.45],\"y\":[0.0,1.0]},\"textfont\":{\"size\":12},\"marker\":{\"line\":{\"color\":\"#000000\",\"width\":1},\"colors\":[\"#fedbcc\",\"#fcaf93\",\"#fc8161\",\"#f44f39\",\"#d52221\",\"#aa1016\"]},\"opacity\":0.9,\"showlegend\":false,\"textinfo\":\"label+percent\",\"visible\":false},{\"hole\":0.5,\"hoverinfo\":\"label+percent\",\"labels\":[\"Yes\",\"No\",\"Some of them\"],\"title\":{\"font\":{\"family\":\"bold\",\"size\":18},\"text\":\"Male distribution<br>of supervisor\"},\"values\":[434,301,256],\"type\":\"pie\",\"domain\":{\"x\":[0.0,0.45],\"y\":[0.0,1.0]},\"textfont\":{\"size\":12},\"marker\":{\"line\":{\"color\":\"#000000\",\"width\":1},\"colors\":[\"#fedbcc\",\"#fcaf93\",\"#fc8161\",\"#f44f39\",\"#d52221\",\"#aa1016\"]},\"opacity\":0.9,\"showlegend\":false,\"textinfo\":\"label+percent\",\"visible\":false},{\"hole\":0.5,\"hoverinfo\":\"label+percent\",\"labels\":[\"No\",\"Maybe\",\"Yes\"],\"title\":{\"font\":{\"family\":\"bold\",\"size\":18},\"text\":\"Male distribution<br>of mental_health_interview\"},\"values\":[771,184,36],\"type\":\"pie\",\"domain\":{\"x\":[0.0,0.45],\"y\":[0.0,1.0]},\"textfont\":{\"size\":12},\"marker\":{\"line\":{\"color\":\"#000000\",\"width\":1},\"colors\":[\"#fedbcc\",\"#fcaf93\",\"#fc8161\",\"#f44f39\",\"#d52221\",\"#aa1016\"]},\"opacity\":0.9,\"showlegend\":false,\"textinfo\":\"label+percent\",\"visible\":false},{\"hole\":0.5,\"hoverinfo\":\"label+percent\",\"labels\":[\"Maybe\",\"No\",\"Yes\"],\"title\":{\"font\":{\"family\":\"bold\",\"size\":18},\"text\":\"Male distribution<br>of phys_health_interview\"},\"values\":[459,361,171],\"type\":\"pie\",\"domain\":{\"x\":[0.0,0.45],\"y\":[0.0,1.0]},\"textfont\":{\"size\":12},\"marker\":{\"line\":{\"color\":\"#000000\",\"width\":1},\"colors\":[\"#fedbcc\",\"#fcaf93\",\"#fc8161\",\"#f44f39\",\"#d52221\",\"#aa1016\"]},\"opacity\":0.9,\"showlegend\":false,\"textinfo\":\"label+percent\",\"visible\":false},{\"hole\":0.5,\"hoverinfo\":\"label+percent\",\"labels\":[\"Don't know\",\"No\",\"Yes\"],\"title\":{\"font\":{\"family\":\"bold\",\"size\":18},\"text\":\"Male distribution<br>of mental_vs_physical\"},\"values\":[464,265,262],\"type\":\"pie\",\"domain\":{\"x\":[0.0,0.45],\"y\":[0.0,1.0]},\"textfont\":{\"size\":12},\"marker\":{\"line\":{\"color\":\"#000000\",\"width\":1},\"colors\":[\"#fedbcc\",\"#fcaf93\",\"#fc8161\",\"#f44f39\",\"#d52221\",\"#aa1016\"]},\"opacity\":0.9,\"showlegend\":false,\"textinfo\":\"label+percent\",\"visible\":false},{\"hole\":0.5,\"hoverinfo\":\"label+percent\",\"labels\":[\"No\",\"Yes\"],\"title\":{\"font\":{\"family\":\"bold\",\"size\":18},\"text\":\"Male distribution<br>of obs_consequence\"},\"values\":[862,129],\"type\":\"pie\",\"domain\":{\"x\":[0.0,0.45],\"y\":[0.0,1.0]},\"textfont\":{\"size\":12},\"marker\":{\"line\":{\"color\":\"#000000\",\"width\":1},\"colors\":[\"#fedbcc\",\"#fcaf93\",\"#fc8161\",\"#f44f39\",\"#d52221\",\"#aa1016\"]},\"opacity\":0.9,\"showlegend\":false,\"textinfo\":\"label+percent\",\"visible\":false},{\"hole\":0.5,\"hoverinfo\":\"label+percent\",\"labels\":[\"No\",\"Yes\"],\"title\":{\"font\":{\"family\":\"bold\",\"size\":20},\"text\":\"Female distribution<br>of self_employed\"},\"values\":[225,22],\"type\":\"pie\",\"domain\":{\"x\":[0.55,1.0],\"y\":[0.0,1.0]},\"textfont\":{\"size\":12},\"marker\":{\"line\":{\"color\":\"#000000\",\"width\":1},\"colors\":[\"#ecebf4\",\"#d1d2e7\",\"#afaed4\",\"#8d89c0\",\"#705eaa\",\"#572c92\"]},\"opacity\":0.9,\"showlegend\":false,\"textinfo\":\"label+percent\",\"visible\":true},{\"hole\":0.5,\"hoverinfo\":\"label+percent\",\"labels\":[\"Yes\",\"No\"],\"title\":{\"font\":{\"family\":\"bold\",\"size\":20},\"text\":\"Female distribution<br>of family_history\"},\"values\":[132,115],\"type\":\"pie\",\"domain\":{\"x\":[0.55,1.0],\"y\":[0.0,1.0]},\"textfont\":{\"size\":12},\"marker\":{\"line\":{\"color\":\"#000000\",\"width\":1},\"colors\":[\"#ecebf4\",\"#d1d2e7\",\"#afaed4\",\"#8d89c0\",\"#705eaa\",\"#572c92\"]},\"opacity\":0.9,\"showlegend\":false,\"textinfo\":\"label+percent\",\"visible\":false},{\"hole\":0.5,\"hoverinfo\":\"label+percent\",\"labels\":[\"Yes\",\"No\"],\"title\":{\"font\":{\"family\":\"bold\",\"size\":20},\"text\":\"Female distribution<br>of treatment\"},\"values\":[170,77],\"type\":\"pie\",\"domain\":{\"x\":[0.55,1.0],\"y\":[0.0,1.0]},\"textfont\":{\"size\":12},\"marker\":{\"line\":{\"color\":\"#000000\",\"width\":1},\"colors\":[\"#ecebf4\",\"#d1d2e7\",\"#afaed4\",\"#8d89c0\",\"#705eaa\",\"#572c92\"]},\"opacity\":0.9,\"showlegend\":false,\"textinfo\":\"label+percent\",\"visible\":false},{\"hole\":0.5,\"hoverinfo\":\"label+percent\",\"labels\":[\"Sometimes\",\"Rarely\",\"Often\",\"Never\"],\"title\":{\"font\":{\"family\":\"bold\",\"size\":20},\"text\":\"Female distribution<br>of work_interfere\"},\"values\":[133,47,36,31],\"type\":\"pie\",\"domain\":{\"x\":[0.55,1.0],\"y\":[0.0,1.0]},\"textfont\":{\"size\":12},\"marker\":{\"line\":{\"color\":\"#000000\",\"width\":1},\"colors\":[\"#ecebf4\",\"#d1d2e7\",\"#afaed4\",\"#8d89c0\",\"#705eaa\",\"#572c92\"]},\"opacity\":0.9,\"showlegend\":false,\"textinfo\":\"label+percent\",\"visible\":false},{\"hole\":0.5,\"hoverinfo\":\"label+percent\",\"labels\":[\"More than 1000\",\"26-100\",\"100-500\",\"6-25\",\"1-5\",\"500-1000\"],\"title\":{\"font\":{\"family\":\"bold\",\"size\":20},\"text\":\"Female distribution<br>of no_employees\"},\"values\":[59,53,45,39,29,22],\"type\":\"pie\",\"domain\":{\"x\":[0.55,1.0],\"y\":[0.0,1.0]},\"textfont\":{\"size\":12},\"marker\":{\"line\":{\"color\":\"#000000\",\"width\":1},\"colors\":[\"#ecebf4\",\"#d1d2e7\",\"#afaed4\",\"#8d89c0\",\"#705eaa\",\"#572c92\"]},\"opacity\":0.9,\"showlegend\":false,\"textinfo\":\"label+percent\",\"visible\":false},{\"hole\":0.5,\"hoverinfo\":\"label+percent\",\"labels\":[\"No\",\"Yes\"],\"title\":{\"font\":{\"family\":\"bold\",\"size\":20},\"text\":\"Female distribution<br>of remote_work\"},\"values\":[175,72],\"type\":\"pie\",\"domain\":{\"x\":[0.55,1.0],\"y\":[0.0,1.0]},\"textfont\":{\"size\":12},\"marker\":{\"line\":{\"color\":\"#000000\",\"width\":1},\"colors\":[\"#ecebf4\",\"#d1d2e7\",\"#afaed4\",\"#8d89c0\",\"#705eaa\",\"#572c92\"]},\"opacity\":0.9,\"showlegend\":false,\"textinfo\":\"label+percent\",\"visible\":false},{\"hole\":0.5,\"hoverinfo\":\"label+percent\",\"labels\":[\"Yes\",\"No\"],\"title\":{\"font\":{\"family\":\"bold\",\"size\":20},\"text\":\"Female distribution<br>of tech_company\"},\"values\":[188,59],\"type\":\"pie\",\"domain\":{\"x\":[0.55,1.0],\"y\":[0.0,1.0]},\"textfont\":{\"size\":12},\"marker\":{\"line\":{\"color\":\"#000000\",\"width\":1},\"colors\":[\"#ecebf4\",\"#d1d2e7\",\"#afaed4\",\"#8d89c0\",\"#705eaa\",\"#572c92\"]},\"opacity\":0.9,\"showlegend\":false,\"textinfo\":\"label+percent\",\"visible\":false},{\"hole\":0.5,\"hoverinfo\":\"label+percent\",\"labels\":[\"Yes\",\"Don't know\",\"No\"],\"title\":{\"font\":{\"family\":\"bold\",\"size\":20},\"text\":\"Female distribution<br>of benefits\"},\"values\":[128,71,48],\"type\":\"pie\",\"domain\":{\"x\":[0.55,1.0],\"y\":[0.0,1.0]},\"textfont\":{\"size\":12},\"marker\":{\"line\":{\"color\":\"#000000\",\"width\":1},\"colors\":[\"#ecebf4\",\"#d1d2e7\",\"#afaed4\",\"#8d89c0\",\"#705eaa\",\"#572c92\"]},\"opacity\":0.9,\"showlegend\":false,\"textinfo\":\"label+percent\",\"visible\":false},{\"hole\":0.5,\"hoverinfo\":\"label+percent\",\"labels\":[\"Yes\",\"No\",\"Not sure\"],\"title\":{\"font\":{\"family\":\"bold\",\"size\":20},\"text\":\"Female distribution<br>of care_options\"},\"values\":[109,72,66],\"type\":\"pie\",\"domain\":{\"x\":[0.55,1.0],\"y\":[0.0,1.0]},\"textfont\":{\"size\":12},\"marker\":{\"line\":{\"color\":\"#000000\",\"width\":1},\"colors\":[\"#ecebf4\",\"#d1d2e7\",\"#afaed4\",\"#8d89c0\",\"#705eaa\",\"#572c92\"]},\"opacity\":0.9,\"showlegend\":false,\"textinfo\":\"label+percent\",\"visible\":false},{\"hole\":0.5,\"hoverinfo\":\"label+percent\",\"labels\":[\"No\",\"Yes\",\"Don't know\"],\"title\":{\"font\":{\"family\":\"bold\",\"size\":20},\"text\":\"Female distribution<br>of wellness_program\"},\"values\":[151,54,42],\"type\":\"pie\",\"domain\":{\"x\":[0.55,1.0],\"y\":[0.0,1.0]},\"textfont\":{\"size\":12},\"marker\":{\"line\":{\"color\":\"#000000\",\"width\":1},\"colors\":[\"#ecebf4\",\"#d1d2e7\",\"#afaed4\",\"#8d89c0\",\"#705eaa\",\"#572c92\"]},\"opacity\":0.9,\"showlegend\":false,\"textinfo\":\"label+percent\",\"visible\":false},{\"hole\":0.5,\"hoverinfo\":\"label+percent\",\"labels\":[\"No\",\"Don't know\",\"Yes\"],\"title\":{\"font\":{\"family\":\"bold\",\"size\":20},\"text\":\"Female distribution<br>of seek_help\"},\"values\":[115,75,57],\"type\":\"pie\",\"domain\":{\"x\":[0.55,1.0],\"y\":[0.0,1.0]},\"textfont\":{\"size\":12},\"marker\":{\"line\":{\"color\":\"#000000\",\"width\":1},\"colors\":[\"#ecebf4\",\"#d1d2e7\",\"#afaed4\",\"#8d89c0\",\"#705eaa\",\"#572c92\"]},\"opacity\":0.9,\"showlegend\":false,\"textinfo\":\"label+percent\",\"visible\":false},{\"hole\":0.5,\"hoverinfo\":\"label+percent\",\"labels\":[\"Don't know\",\"Yes\",\"No\"],\"title\":{\"font\":{\"family\":\"bold\",\"size\":20},\"text\":\"Female distribution<br>of anonymity\"},\"values\":[153,78,16],\"type\":\"pie\",\"domain\":{\"x\":[0.55,1.0],\"y\":[0.0,1.0]},\"textfont\":{\"size\":12},\"marker\":{\"line\":{\"color\":\"#000000\",\"width\":1},\"colors\":[\"#ecebf4\",\"#d1d2e7\",\"#afaed4\",\"#8d89c0\",\"#705eaa\",\"#572c92\"]},\"opacity\":0.9,\"showlegend\":false,\"textinfo\":\"label+percent\",\"visible\":false},{\"hole\":0.5,\"hoverinfo\":\"label+percent\",\"labels\":[\"Don't know\",\"Somewhat easy\",\"Very easy\",\"Somewhat difficult\",\"Very difficult\"],\"title\":{\"font\":{\"family\":\"bold\",\"size\":20},\"text\":\"Female distribution<br>of leave\"},\"values\":[115,56,30,27,19],\"type\":\"pie\",\"domain\":{\"x\":[0.55,1.0],\"y\":[0.0,1.0]},\"textfont\":{\"size\":12},\"marker\":{\"line\":{\"color\":\"#000000\",\"width\":1},\"colors\":[\"#ecebf4\",\"#d1d2e7\",\"#afaed4\",\"#8d89c0\",\"#705eaa\",\"#572c92\"]},\"opacity\":0.9,\"showlegend\":false,\"textinfo\":\"label+percent\",\"visible\":false},{\"hole\":0.5,\"hoverinfo\":\"label+percent\",\"labels\":[\"Maybe\",\"No\",\"Yes\"],\"title\":{\"font\":{\"family\":\"bold\",\"size\":20},\"text\":\"Female distribution<br>of mental_health_consequence\"},\"values\":[108,73,66],\"type\":\"pie\",\"domain\":{\"x\":[0.55,1.0],\"y\":[0.0,1.0]},\"textfont\":{\"size\":12},\"marker\":{\"line\":{\"color\":\"#000000\",\"width\":1},\"colors\":[\"#ecebf4\",\"#d1d2e7\",\"#afaed4\",\"#8d89c0\",\"#705eaa\",\"#572c92\"]},\"opacity\":0.9,\"showlegend\":false,\"textinfo\":\"label+percent\",\"visible\":false},{\"hole\":0.5,\"hoverinfo\":\"label+percent\",\"labels\":[\"No\",\"Maybe\",\"Yes\"],\"title\":{\"font\":{\"family\":\"bold\",\"size\":20},\"text\":\"Female distribution<br>of phys_health_consequence\"},\"values\":[164,67,16],\"type\":\"pie\",\"domain\":{\"x\":[0.55,1.0],\"y\":[0.0,1.0]},\"textfont\":{\"size\":12},\"marker\":{\"line\":{\"color\":\"#000000\",\"width\":1},\"colors\":[\"#ecebf4\",\"#d1d2e7\",\"#afaed4\",\"#8d89c0\",\"#705eaa\",\"#572c92\"]},\"opacity\":0.9,\"showlegend\":false,\"textinfo\":\"label+percent\",\"visible\":false},{\"hole\":0.5,\"hoverinfo\":\"label+percent\",\"labels\":[\"Some of them\",\"No\",\"Yes\"],\"title\":{\"font\":{\"family\":\"bold\",\"size\":20},\"text\":\"Female distribution<br>of coworkers\"},\"values\":[155,58,34],\"type\":\"pie\",\"domain\":{\"x\":[0.55,1.0],\"y\":[0.0,1.0]},\"textfont\":{\"size\":12},\"marker\":{\"line\":{\"color\":\"#000000\",\"width\":1},\"colors\":[\"#ecebf4\",\"#d1d2e7\",\"#afaed4\",\"#8d89c0\",\"#705eaa\",\"#572c92\"]},\"opacity\":0.9,\"showlegend\":false,\"textinfo\":\"label+percent\",\"visible\":false},{\"hole\":0.5,\"hoverinfo\":\"label+percent\",\"labels\":[\"No\",\"Some of them\",\"Yes\"],\"title\":{\"font\":{\"family\":\"bold\",\"size\":20},\"text\":\"Female distribution<br>of supervisor\"},\"values\":[86,85,76],\"type\":\"pie\",\"domain\":{\"x\":[0.55,1.0],\"y\":[0.0,1.0]},\"textfont\":{\"size\":12},\"marker\":{\"line\":{\"color\":\"#000000\",\"width\":1},\"colors\":[\"#ecebf4\",\"#d1d2e7\",\"#afaed4\",\"#8d89c0\",\"#705eaa\",\"#572c92\"]},\"opacity\":0.9,\"showlegend\":false,\"textinfo\":\"label+percent\",\"visible\":false},{\"hole\":0.5,\"hoverinfo\":\"label+percent\",\"labels\":[\"No\",\"Maybe\",\"Yes\"],\"title\":{\"font\":{\"family\":\"bold\",\"size\":20},\"text\":\"Female distribution<br>of mental_health_interview\"},\"values\":[224,21,2],\"type\":\"pie\",\"domain\":{\"x\":[0.55,1.0],\"y\":[0.0,1.0]},\"textfont\":{\"size\":12},\"marker\":{\"line\":{\"color\":\"#000000\",\"width\":1},\"colors\":[\"#ecebf4\",\"#d1d2e7\",\"#afaed4\",\"#8d89c0\",\"#705eaa\",\"#572c92\"]},\"opacity\":0.9,\"showlegend\":false,\"textinfo\":\"label+percent\",\"visible\":false},{\"hole\":0.5,\"hoverinfo\":\"label+percent\",\"labels\":[\"No\",\"Maybe\",\"Yes\"],\"title\":{\"font\":{\"family\":\"bold\",\"size\":20},\"text\":\"Female distribution<br>of phys_health_interview\"},\"values\":[131,90,26],\"type\":\"pie\",\"domain\":{\"x\":[0.55,1.0],\"y\":[0.0,1.0]},\"textfont\":{\"size\":12},\"marker\":{\"line\":{\"color\":\"#000000\",\"width\":1},\"colors\":[\"#ecebf4\",\"#d1d2e7\",\"#afaed4\",\"#8d89c0\",\"#705eaa\",\"#572c92\"]},\"opacity\":0.9,\"showlegend\":false,\"textinfo\":\"label+percent\",\"visible\":false},{\"hole\":0.5,\"hoverinfo\":\"label+percent\",\"labels\":[\"Don't know\",\"Yes\",\"No\"],\"title\":{\"font\":{\"family\":\"bold\",\"size\":20},\"text\":\"Female distribution<br>of mental_vs_physical\"},\"values\":[109,73,65],\"type\":\"pie\",\"domain\":{\"x\":[0.55,1.0],\"y\":[0.0,1.0]},\"textfont\":{\"size\":12},\"marker\":{\"line\":{\"color\":\"#000000\",\"width\":1},\"colors\":[\"#ecebf4\",\"#d1d2e7\",\"#afaed4\",\"#8d89c0\",\"#705eaa\",\"#572c92\"]},\"opacity\":0.9,\"showlegend\":false,\"textinfo\":\"label+percent\",\"visible\":false},{\"hole\":0.5,\"hoverinfo\":\"label+percent\",\"labels\":[\"No\",\"Yes\"],\"title\":{\"font\":{\"family\":\"bold\",\"size\":20},\"text\":\"Female distribution<br>of obs_consequence\"},\"values\":[200,47],\"type\":\"pie\",\"domain\":{\"x\":[0.55,1.0],\"y\":[0.0,1.0]},\"textfont\":{\"size\":12},\"marker\":{\"line\":{\"color\":\"#000000\",\"width\":1},\"colors\":[\"#ecebf4\",\"#d1d2e7\",\"#afaed4\",\"#8d89c0\",\"#705eaa\",\"#572c92\"]},\"opacity\":0.9,\"showlegend\":false,\"textinfo\":\"label+percent\",\"visible\":false}],                        {\"template\":{\"data\":{\"histogram2dcontour\":[{\"type\":\"histogram2dcontour\",\"colorbar\":{\"outlinewidth\":0,\"ticks\":\"\"},\"colorscale\":[[0.0,\"#0d0887\"],[0.1111111111111111,\"#46039f\"],[0.2222222222222222,\"#7201a8\"],[0.3333333333333333,\"#9c179e\"],[0.4444444444444444,\"#bd3786\"],[0.5555555555555556,\"#d8576b\"],[0.6666666666666666,\"#ed7953\"],[0.7777777777777778,\"#fb9f3a\"],[0.8888888888888888,\"#fdca26\"],[1.0,\"#f0f921\"]]}],\"choropleth\":[{\"type\":\"choropleth\",\"colorbar\":{\"outlinewidth\":0,\"ticks\":\"\"}}],\"histogram2d\":[{\"type\":\"histogram2d\",\"colorbar\":{\"outlinewidth\":0,\"ticks\":\"\"},\"colorscale\":[[0.0,\"#0d0887\"],[0.1111111111111111,\"#46039f\"],[0.2222222222222222,\"#7201a8\"],[0.3333333333333333,\"#9c179e\"],[0.4444444444444444,\"#bd3786\"],[0.5555555555555556,\"#d8576b\"],[0.6666666666666666,\"#ed7953\"],[0.7777777777777778,\"#fb9f3a\"],[0.8888888888888888,\"#fdca26\"],[1.0,\"#f0f921\"]]}],\"heatmap\":[{\"type\":\"heatmap\",\"colorbar\":{\"outlinewidth\":0,\"ticks\":\"\"},\"colorscale\":[[0.0,\"#0d0887\"],[0.1111111111111111,\"#46039f\"],[0.2222222222222222,\"#7201a8\"],[0.3333333333333333,\"#9c179e\"],[0.4444444444444444,\"#bd3786\"],[0.5555555555555556,\"#d8576b\"],[0.6666666666666666,\"#ed7953\"],[0.7777777777777778,\"#fb9f3a\"],[0.8888888888888888,\"#fdca26\"],[1.0,\"#f0f921\"]]}],\"heatmapgl\":[{\"type\":\"heatmapgl\",\"colorbar\":{\"outlinewidth\":0,\"ticks\":\"\"},\"colorscale\":[[0.0,\"#0d0887\"],[0.1111111111111111,\"#46039f\"],[0.2222222222222222,\"#7201a8\"],[0.3333333333333333,\"#9c179e\"],[0.4444444444444444,\"#bd3786\"],[0.5555555555555556,\"#d8576b\"],[0.6666666666666666,\"#ed7953\"],[0.7777777777777778,\"#fb9f3a\"],[0.8888888888888888,\"#fdca26\"],[1.0,\"#f0f921\"]]}],\"contourcarpet\":[{\"type\":\"contourcarpet\",\"colorbar\":{\"outlinewidth\":0,\"ticks\":\"\"}}],\"contour\":[{\"type\":\"contour\",\"colorbar\":{\"outlinewidth\":0,\"ticks\":\"\"},\"colorscale\":[[0.0,\"#0d0887\"],[0.1111111111111111,\"#46039f\"],[0.2222222222222222,\"#7201a8\"],[0.3333333333333333,\"#9c179e\"],[0.4444444444444444,\"#bd3786\"],[0.5555555555555556,\"#d8576b\"],[0.6666666666666666,\"#ed7953\"],[0.7777777777777778,\"#fb9f3a\"],[0.8888888888888888,\"#fdca26\"],[1.0,\"#f0f921\"]]}],\"surface\":[{\"type\":\"surface\",\"colorbar\":{\"outlinewidth\":0,\"ticks\":\"\"},\"colorscale\":[[0.0,\"#0d0887\"],[0.1111111111111111,\"#46039f\"],[0.2222222222222222,\"#7201a8\"],[0.3333333333333333,\"#9c179e\"],[0.4444444444444444,\"#bd3786\"],[0.5555555555555556,\"#d8576b\"],[0.6666666666666666,\"#ed7953\"],[0.7777777777777778,\"#fb9f3a\"],[0.8888888888888888,\"#fdca26\"],[1.0,\"#f0f921\"]]}],\"mesh3d\":[{\"type\":\"mesh3d\",\"colorbar\":{\"outlinewidth\":0,\"ticks\":\"\"}}],\"scatter\":[{\"fillpattern\":{\"fillmode\":\"overlay\",\"size\":10,\"solidity\":0.2},\"type\":\"scatter\"}],\"parcoords\":[{\"type\":\"parcoords\",\"line\":{\"colorbar\":{\"outlinewidth\":0,\"ticks\":\"\"}}}],\"scatterpolargl\":[{\"type\":\"scatterpolargl\",\"marker\":{\"colorbar\":{\"outlinewidth\":0,\"ticks\":\"\"}}}],\"bar\":[{\"error_x\":{\"color\":\"#2a3f5f\"},\"error_y\":{\"color\":\"#2a3f5f\"},\"marker\":{\"line\":{\"color\":\"#E5ECF6\",\"width\":0.5},\"pattern\":{\"fillmode\":\"overlay\",\"size\":10,\"solidity\":0.2}},\"type\":\"bar\"}],\"scattergeo\":[{\"type\":\"scattergeo\",\"marker\":{\"colorbar\":{\"outlinewidth\":0,\"ticks\":\"\"}}}],\"scatterpolar\":[{\"type\":\"scatterpolar\",\"marker\":{\"colorbar\":{\"outlinewidth\":0,\"ticks\":\"\"}}}],\"histogram\":[{\"marker\":{\"pattern\":{\"fillmode\":\"overlay\",\"size\":10,\"solidity\":0.2}},\"type\":\"histogram\"}],\"scattergl\":[{\"type\":\"scattergl\",\"marker\":{\"colorbar\":{\"outlinewidth\":0,\"ticks\":\"\"}}}],\"scatter3d\":[{\"type\":\"scatter3d\",\"line\":{\"colorbar\":{\"outlinewidth\":0,\"ticks\":\"\"}},\"marker\":{\"colorbar\":{\"outlinewidth\":0,\"ticks\":\"\"}}}],\"scattermapbox\":[{\"type\":\"scattermapbox\",\"marker\":{\"colorbar\":{\"outlinewidth\":0,\"ticks\":\"\"}}}],\"scatterternary\":[{\"type\":\"scatterternary\",\"marker\":{\"colorbar\":{\"outlinewidth\":0,\"ticks\":\"\"}}}],\"scattercarpet\":[{\"type\":\"scattercarpet\",\"marker\":{\"colorbar\":{\"outlinewidth\":0,\"ticks\":\"\"}}}],\"carpet\":[{\"aaxis\":{\"endlinecolor\":\"#2a3f5f\",\"gridcolor\":\"white\",\"linecolor\":\"white\",\"minorgridcolor\":\"white\",\"startlinecolor\":\"#2a3f5f\"},\"baxis\":{\"endlinecolor\":\"#2a3f5f\",\"gridcolor\":\"white\",\"linecolor\":\"white\",\"minorgridcolor\":\"white\",\"startlinecolor\":\"#2a3f5f\"},\"type\":\"carpet\"}],\"table\":[{\"cells\":{\"fill\":{\"color\":\"#EBF0F8\"},\"line\":{\"color\":\"white\"}},\"header\":{\"fill\":{\"color\":\"#C8D4E3\"},\"line\":{\"color\":\"white\"}},\"type\":\"table\"}],\"barpolar\":[{\"marker\":{\"line\":{\"color\":\"#E5ECF6\",\"width\":0.5},\"pattern\":{\"fillmode\":\"overlay\",\"size\":10,\"solidity\":0.2}},\"type\":\"barpolar\"}],\"pie\":[{\"automargin\":true,\"type\":\"pie\"}]},\"layout\":{\"autotypenumbers\":\"strict\",\"colorway\":[\"#636efa\",\"#EF553B\",\"#00cc96\",\"#ab63fa\",\"#FFA15A\",\"#19d3f3\",\"#FF6692\",\"#B6E880\",\"#FF97FF\",\"#FECB52\"],\"font\":{\"color\":\"#2a3f5f\"},\"hovermode\":\"closest\",\"hoverlabel\":{\"align\":\"left\"},\"paper_bgcolor\":\"white\",\"plot_bgcolor\":\"#E5ECF6\",\"polar\":{\"bgcolor\":\"#E5ECF6\",\"angularaxis\":{\"gridcolor\":\"white\",\"linecolor\":\"white\",\"ticks\":\"\"},\"radialaxis\":{\"gridcolor\":\"white\",\"linecolor\":\"white\",\"ticks\":\"\"}},\"ternary\":{\"bgcolor\":\"#E5ECF6\",\"aaxis\":{\"gridcolor\":\"white\",\"linecolor\":\"white\",\"ticks\":\"\"},\"baxis\":{\"gridcolor\":\"white\",\"linecolor\":\"white\",\"ticks\":\"\"},\"caxis\":{\"gridcolor\":\"white\",\"linecolor\":\"white\",\"ticks\":\"\"}},\"coloraxis\":{\"colorbar\":{\"outlinewidth\":0,\"ticks\":\"\"}},\"colorscale\":{\"sequential\":[[0.0,\"#0d0887\"],[0.1111111111111111,\"#46039f\"],[0.2222222222222222,\"#7201a8\"],[0.3333333333333333,\"#9c179e\"],[0.4444444444444444,\"#bd3786\"],[0.5555555555555556,\"#d8576b\"],[0.6666666666666666,\"#ed7953\"],[0.7777777777777778,\"#fb9f3a\"],[0.8888888888888888,\"#fdca26\"],[1.0,\"#f0f921\"]],\"sequentialminus\":[[0.0,\"#0d0887\"],[0.1111111111111111,\"#46039f\"],[0.2222222222222222,\"#7201a8\"],[0.3333333333333333,\"#9c179e\"],[0.4444444444444444,\"#bd3786\"],[0.5555555555555556,\"#d8576b\"],[0.6666666666666666,\"#ed7953\"],[0.7777777777777778,\"#fb9f3a\"],[0.8888888888888888,\"#fdca26\"],[1.0,\"#f0f921\"]],\"diverging\":[[0,\"#8e0152\"],[0.1,\"#c51b7d\"],[0.2,\"#de77ae\"],[0.3,\"#f1b6da\"],[0.4,\"#fde0ef\"],[0.5,\"#f7f7f7\"],[0.6,\"#e6f5d0\"],[0.7,\"#b8e186\"],[0.8,\"#7fbc41\"],[0.9,\"#4d9221\"],[1,\"#276419\"]]},\"xaxis\":{\"gridcolor\":\"white\",\"linecolor\":\"white\",\"ticks\":\"\",\"title\":{\"standoff\":15},\"zerolinecolor\":\"white\",\"automargin\":true,\"zerolinewidth\":2},\"yaxis\":{\"gridcolor\":\"white\",\"linecolor\":\"white\",\"ticks\":\"\",\"title\":{\"standoff\":15},\"zerolinecolor\":\"white\",\"automargin\":true,\"zerolinewidth\":2},\"scene\":{\"xaxis\":{\"backgroundcolor\":\"#E5ECF6\",\"gridcolor\":\"white\",\"linecolor\":\"white\",\"showbackground\":true,\"ticks\":\"\",\"zerolinecolor\":\"white\",\"gridwidth\":2},\"yaxis\":{\"backgroundcolor\":\"#E5ECF6\",\"gridcolor\":\"white\",\"linecolor\":\"white\",\"showbackground\":true,\"ticks\":\"\",\"zerolinecolor\":\"white\",\"gridwidth\":2},\"zaxis\":{\"backgroundcolor\":\"#E5ECF6\",\"gridcolor\":\"white\",\"linecolor\":\"white\",\"showbackground\":true,\"ticks\":\"\",\"zerolinecolor\":\"white\",\"gridwidth\":2}},\"shapedefaults\":{\"line\":{\"color\":\"#2a3f5f\"}},\"annotationdefaults\":{\"arrowcolor\":\"#2a3f5f\",\"arrowhead\":0,\"arrowwidth\":1},\"geo\":{\"bgcolor\":\"white\",\"landcolor\":\"#E5ECF6\",\"subunitcolor\":\"white\",\"showland\":true,\"showlakes\":true,\"lakecolor\":\"white\"},\"title\":{\"x\":0.05},\"mapbox\":{\"style\":\"light\"}}},\"margin\":{\"t\":0,\"b\":0,\"l\":0,\"r\":0},\"font\":{\"family\":\"bold\"},\"updatemenus\":[{\"active\":0,\"buttons\":[{\"args\":[{\"visible\":[true,false,false,false,false,false,false,false,false,false,false,false,false,false,false,false,false,false,false,false,false]},{\"title\":\"self_employed\"}],\"label\":\"self_employed\",\"method\":\"update\"},{\"args\":[{\"visible\":[false,true,false,false,false,false,false,false,false,false,false,false,false,false,false,false,false,false,false,false,false]},{\"title\":\"family_history\"}],\"label\":\"family_history\",\"method\":\"update\"},{\"args\":[{\"visible\":[false,false,true,false,false,false,false,false,false,false,false,false,false,false,false,false,false,false,false,false,false]},{\"title\":\"treatment\"}],\"label\":\"treatment\",\"method\":\"update\"},{\"args\":[{\"visible\":[false,false,false,true,false,false,false,false,false,false,false,false,false,false,false,false,false,false,false,false,false]},{\"title\":\"work_interfere\"}],\"label\":\"work_interfere\",\"method\":\"update\"},{\"args\":[{\"visible\":[false,false,false,false,true,false,false,false,false,false,false,false,false,false,false,false,false,false,false,false,false]},{\"title\":\"no_employees\"}],\"label\":\"no_employees\",\"method\":\"update\"},{\"args\":[{\"visible\":[false,false,false,false,false,true,false,false,false,false,false,false,false,false,false,false,false,false,false,false,false]},{\"title\":\"remote_work\"}],\"label\":\"remote_work\",\"method\":\"update\"},{\"args\":[{\"visible\":[false,false,false,false,false,false,true,false,false,false,false,false,false,false,false,false,false,false,false,false,false]},{\"title\":\"tech_company\"}],\"label\":\"tech_company\",\"method\":\"update\"},{\"args\":[{\"visible\":[false,false,false,false,false,false,false,true,false,false,false,false,false,false,false,false,false,false,false,false,false]},{\"title\":\"benefits\"}],\"label\":\"benefits\",\"method\":\"update\"},{\"args\":[{\"visible\":[false,false,false,false,false,false,false,false,true,false,false,false,false,false,false,false,false,false,false,false,false]},{\"title\":\"care_options\"}],\"label\":\"care_options\",\"method\":\"update\"},{\"args\":[{\"visible\":[false,false,false,false,false,false,false,false,false,true,false,false,false,false,false,false,false,false,false,false,false]},{\"title\":\"wellness_program\"}],\"label\":\"wellness_program\",\"method\":\"update\"},{\"args\":[{\"visible\":[false,false,false,false,false,false,false,false,false,false,true,false,false,false,false,false,false,false,false,false,false]},{\"title\":\"seek_help\"}],\"label\":\"seek_help\",\"method\":\"update\"},{\"args\":[{\"visible\":[false,false,false,false,false,false,false,false,false,false,false,true,false,false,false,false,false,false,false,false,false]},{\"title\":\"anonymity\"}],\"label\":\"anonymity\",\"method\":\"update\"},{\"args\":[{\"visible\":[false,false,false,false,false,false,false,false,false,false,false,false,true,false,false,false,false,false,false,false,false]},{\"title\":\"leave\"}],\"label\":\"leave\",\"method\":\"update\"},{\"args\":[{\"visible\":[false,false,false,false,false,false,false,false,false,false,false,false,false,true,false,false,false,false,false,false,false]},{\"title\":\"mental_health_consequence\"}],\"label\":\"mental_health_consequence\",\"method\":\"update\"},{\"args\":[{\"visible\":[false,false,false,false,false,false,false,false,false,false,false,false,false,false,true,false,false,false,false,false,false]},{\"title\":\"phys_health_consequence\"}],\"label\":\"phys_health_consequence\",\"method\":\"update\"},{\"args\":[{\"visible\":[false,false,false,false,false,false,false,false,false,false,false,false,false,false,false,true,false,false,false,false,false]},{\"title\":\"coworkers\"}],\"label\":\"coworkers\",\"method\":\"update\"},{\"args\":[{\"visible\":[false,false,false,false,false,false,false,false,false,false,false,false,false,false,false,false,true,false,false,false,false]},{\"title\":\"supervisor\"}],\"label\":\"supervisor\",\"method\":\"update\"},{\"args\":[{\"visible\":[false,false,false,false,false,false,false,false,false,false,false,false,false,false,false,false,false,true,false,false,false]},{\"title\":\"mental_health_interview\"}],\"label\":\"mental_health_interview\",\"method\":\"update\"},{\"args\":[{\"visible\":[false,false,false,false,false,false,false,false,false,false,false,false,false,false,false,false,false,false,true,false,false]},{\"title\":\"phys_health_interview\"}],\"label\":\"phys_health_interview\",\"method\":\"update\"},{\"args\":[{\"visible\":[false,false,false,false,false,false,false,false,false,false,false,false,false,false,false,false,false,false,false,true,false]},{\"title\":\"mental_vs_physical\"}],\"label\":\"mental_vs_physical\",\"method\":\"update\"},{\"args\":[{\"visible\":[false,false,false,false,false,false,false,false,false,false,false,false,false,false,false,false,false,false,false,false,true]},{\"title\":\"obs_consequence\"}],\"label\":\"obs_consequence\",\"method\":\"update\"}],\"showactive\":true,\"type\":\"dropdown\",\"x\":0.62,\"y\":0.91}],\"annotations\":[{\"align\":\"left\",\"font\":{\"size\":14},\"showarrow\":false,\"text\":\"<b>Choose<br>Column<b> : \",\"x\":0.5,\"y\":1,\"yref\":\"paper\"}]},                        {\"responsive\": true}                    ).then(function(){\n",
       "                            \n",
       "var gd = document.getElementById('d8c654d6-b848-4b98-b5ba-9a08ea19c2c6');\n",
       "var x = new MutationObserver(function (mutations, observer) {{\n",
       "        var display = window.getComputedStyle(gd).display;\n",
       "        if (!display || display === 'none') {{\n",
       "            console.log([gd, 'removed!']);\n",
       "            Plotly.purge(gd);\n",
       "            observer.disconnect();\n",
       "        }}\n",
       "}});\n",
       "\n",
       "// Listen for the removal of the full notebook cells\n",
       "var notebookContainer = gd.closest('#notebook-container');\n",
       "if (notebookContainer) {{\n",
       "    x.observe(notebookContainer, {childList: true});\n",
       "}}\n",
       "\n",
       "// Listen for the clearing of the current output cell\n",
       "var outputEl = gd.closest('.output');\n",
       "if (outputEl) {{\n",
       "    x.observe(outputEl, {childList: true});\n",
       "}}\n",
       "\n",
       "                        })                };                });            </script>        </div>"
      ]
     },
     "metadata": {},
     "output_type": "display_data"
    }
   ],
   "source": [
    "buttons = []\n",
    "i = 0\n",
    "vis = [False] * 21\n",
    "\n",
    "for col in male.columns:\n",
    "    vis[i] = True\n",
    "    buttons.append({'label' : col,\n",
    "             'method' : 'update',\n",
    "             'args'   : [{'visible' : vis},\n",
    "             {'title'  : col}] })\n",
    "    i+=1\n",
    "    vis = [False] * 21\n",
    "\n",
    "fig = make_subplots(rows=1, cols=2,\n",
    "                    specs=[[{'type':'domain'}, {'type':'domain'}]])\n",
    "\n",
    "for col in male.columns:\n",
    "    fig.add_trace(go.Pie(\n",
    "             values = male[col].value_counts(),\n",
    "             labels = male[col].value_counts().index,\n",
    "             title = dict(text = 'Male distribution<br>of {}'.format(col),\n",
    "                          font = dict(size=18, family = 'bold'),\n",
    "                          ),\n",
    "             hole = 0.5,\n",
    "             hoverinfo='label+percent',),1,1)\n",
    "\n",
    "\n",
    "for col in female.columns:\n",
    "    fig.add_trace(go.Pie(\n",
    "             values = female[col].value_counts(),\n",
    "             labels = female[col].value_counts().index,\n",
    "             title = dict(text = 'Female distribution<br>of {}'.format(col),\n",
    "                          font = dict(size=20, family = 'bold'),\n",
    "                          ),\n",
    "             hole = 0.5,\n",
    "             hoverinfo='label+percent',),1,2)\n",
    "\n",
    "fig.update_traces(hoverinfo='label+percent',\n",
    "                  textinfo='label+percent',\n",
    "                  textfont_size=12,\n",
    "                  opacity = 0.9,\n",
    "                  showlegend = False,\n",
    "                  marker = dict(colors = sns.color_palette('Reds').as_hex(),\n",
    "                              line=dict(color='#000000', width=1)))\n",
    "\n",
    "fig.update_traces(row=1, col=2, hoverinfo='label+percent',\n",
    "                  textinfo='label+percent',\n",
    "                  textfont_size=12,\n",
    "                  opacity = 0.9,\n",
    "                  showlegend = False,\n",
    "                  marker = dict(colors = sns.color_palette('Purples').as_hex(),\n",
    "                              line=dict(color='#000000', width=1)))\n",
    "              \n",
    "\n",
    "fig.update_layout(margin=dict(t=0, b=0, l=0, r=0),\n",
    "                  font_family   = 'bold',\n",
    "                  updatemenus = [dict(\n",
    "                        type = 'dropdown',\n",
    "                        x = 0.62,\n",
    "                        y = 0.91,\n",
    "                        showactive = True,\n",
    "                        active = 0,\n",
    "                        buttons = buttons)],\n",
    "                 annotations=[\n",
    "                             dict(text = \"<b>Choose<br>Column<b> : \",\n",
    "                                  font = dict(size = 14),\n",
    "                             showarrow=False,\n",
    "                             x = 0.5, y = 1, yref = \"paper\", align = \"left\")])\n",
    "\n",
    "for i in range(1,42):\n",
    "    fig.data[i].visible = False\n",
    "fig.data[21].visible = True\n",
    "\n",
    "fig.show()"
   ]
  },
  {
   "cell_type": "code",
   "execution_count": 355,
   "id": "a6e164d0",
   "metadata": {},
   "outputs": [
    {
     "data": {
      "image/png": "[encoded data removed]",
      "text/plain": [
       "<Figure size 500x300 with 1 Axes>"
      ]
     },
     "metadata": {},
     "output_type": "display_data"
    }
   ],
   "source": [
    "sns.set_style(\"whitegrid\")\n",
    "plt.figure(figsize = (5,3))\n",
    "plt.title('Get Treatment of Survey Respondents', fontsize=18, fontweight='bold')\n",
    "eda_percentage = workplace_df['treatment'].value_counts(normalize = True).rename_axis('Treatment').reset_index(name = 'Percentage')\n",
    "\n",
    "ax = sns.barplot(x = 'Treatment', y = 'Percentage', data = eda_percentage.head(10), palette='Greys')\n",
    "for p in ax.patches:\n",
    "    width = p.get_width()\n",
    "    height = p.get_height()\n",
    "    x, y = p.get_xy() \n",
    "    ax.annotate(f'{height:.0%}', (x + width/2, y + height*1.02), ha='center', fontweight='bold')"
   ]
  },
  {
   "cell_type": "code",
   "execution_count": 356,
   "id": "7855fb6b",
   "metadata": {},
   "outputs": [
    {
     "name": "stderr",
     "output_type": "stream",
     "text": [
      "No artists with labels found to put in legend.  Note that artists whose label start with an underscore are ignored when legend() is called with no argument.\n"
     ]
    },
    {
     "data": {
      "image/png": "[encoded data removed]",
      "text/plain": [
       "<Figure size 2000x500 with 2 Axes>"
      ]
     },
     "metadata": {},
     "output_type": "display_data"
    }
   ],
   "source": [
    "plt.figure(figsize = (20,5))\n",
    "plt.subplot(1,2,1)\n",
    "eda_percentage = workplace_df['family_history'].value_counts(normalize = True).rename_axis('family_history').reset_index(name = 'Percentage')\n",
    "ax = sns.barplot(x = 'family_history', y = 'Percentage', data = eda_percentage, palette='Blues')\n",
    "for p in ax.patches:\n",
    "    width = p.get_width()\n",
    "    height = p.get_height()\n",
    "    x, y = p.get_xy() \n",
    "    ax.annotate(f'{height:.0%}', (x + width/2, y + height*1.02), ha='center', fontweight='bold')\n",
    "\n",
    "plt.title('Family History of Survey Respondents', fontsize=18, fontweight='bold')\n",
    "plt.xticks(fontsize=16)\n",
    "plt.yticks(fontsize=16)\n",
    "plt.legend(fontsize=16)\n",
    "\n",
    "plt.subplot(1,2,2)\n",
    "sns.countplot(workplace_df['family_history'], hue = workplace_df['treatment'], palette='Blues')\n",
    "plt.title('Family History of Survey Respondents', fontsize=18, fontweight='bold')\n",
    "plt.xticks(fontsize=16)\n",
    "plt.yticks(fontsize=16)\n",
    "plt.legend(fontsize=16)\n",
    "plt.show()"
   ]
  },
  {
   "cell_type": "code",
   "execution_count": 357,
   "id": "a8abca25",
   "metadata": {},
   "outputs": [
    {
     "name": "stderr",
     "output_type": "stream",
     "text": [
      "No artists with labels found to put in legend.  Note that artists whose label start with an underscore are ignored when legend() is called with no argument.\n"
     ]
    },
    {
     "data": {
      "text/plain": [
       "<matplotlib.legend.Legend at 0x190814f8c70>"
      ]
     },
     "execution_count": 357,
     "metadata": {},
     "output_type": "execute_result"
    },
    {
     "data": {
      "image/png": "[encoded data removed]",
      "text/plain": [
       "<Figure size 2000x500 with 2 Axes>"
      ]
     },
     "metadata": {},
     "output_type": "display_data"
    }
   ],
   "source": [
    "plt.figure(figsize = (20,5))\n",
    "plt.subplot(1,2,1)\n",
    "eda_percentage = workplace_df['work_interfere'].value_counts(normalize = True).rename_axis('work_interfere').reset_index(name = 'Percentage')\n",
    "ax = sns.barplot(x = 'work_interfere', y = 'Percentage', data = eda_percentage, palette='Purples')\n",
    "for p in ax.patches:\n",
    "    width = p.get_width()\n",
    "    height = p.get_height()\n",
    "    x, y = p.get_xy() \n",
    "    ax.annotate(f'{height:.0%}', (x + width/2, y + height*1.02), ha='center', fontweight='bold')\n",
    "\n",
    "plt.title('Work Interference of Survey Respondents', fontsize=18, fontweight='bold')\n",
    "plt.xticks(fontsize=16)\n",
    "plt.yticks(fontsize=16)\n",
    "plt.legend(fontsize=16)\n",
    "\n",
    "plt.subplot(1,2,2)\n",
    "sns.countplot(workplace_df['work_interfere'], hue = workplace_df['treatment'], palette = 'Purples')\n",
    "plt.title('Work Interference of Survey Respondents', fontsize=18, fontweight='bold')\n",
    "plt.xticks(fontsize=16)\n",
    "plt.yticks(fontsize=16)\n",
    "plt.legend(fontsize=16)"
   ]
  },
  {
   "cell_type": "code",
   "execution_count": 358,
   "id": "564e59e9",
   "metadata": {},
   "outputs": [
    {
     "name": "stderr",
     "output_type": "stream",
     "text": [
      "No artists with labels found to put in legend.  Note that artists whose label start with an underscore are ignored when legend() is called with no argument.\n"
     ]
    },
    {
     "data": {
      "text/plain": [
       "<matplotlib.legend.Legend at 0x19081208400>"
      ]
     },
     "execution_count": 358,
     "metadata": {},
     "output_type": "execute_result"
    },
    {
     "data": {
      "image/png": "[encoded data removed]",
      "text/plain": [
       "<Figure size 2000x500 with 2 Axes>"
      ]
     },
     "metadata": {},
     "output_type": "display_data"
    }
   ],
   "source": [
    "plt.figure(figsize = (20,5))\n",
    "plt.subplot(1,2,1)\n",
    "eda_percentage = workplace_df['benefits'].value_counts(normalize = True).rename_axis('benefits').reset_index(name = 'Percentage')\n",
    "ax = sns.barplot(x = 'benefits', y = 'Percentage', data = eda_percentage, palette='Purples')\n",
    "for p in ax.patches:\n",
    "    width = p.get_width()\n",
    "    height = p.get_height()\n",
    "    x, y = p.get_xy() \n",
    "    ax.annotate(f'{height:.0%}', (x + width/2, y + height*1.02), ha='center', fontweight='bold')\n",
    "\n",
    "plt.title('Benefits provided to the Employees', fontsize=18, fontweight='bold')\n",
    "plt.xticks(fontsize=16)\n",
    "plt.yticks(fontsize=16)\n",
    "plt.legend(fontsize=16)\n",
    "\n",
    "plt.subplot(1,2,2)\n",
    "sns.countplot(workplace_df['benefits'], hue = workplace_df['treatment'], palette='Purples')\n",
    "plt.title('Benefits provided to the Employees', fontsize=18, fontweight='bold')\n",
    "plt.xticks(fontsize=16)\n",
    "plt.yticks(fontsize=16)\n",
    "plt.legend(fontsize=16)"
   ]
  },
  {
   "cell_type": "code",
   "execution_count": null,
   "id": "e2ef12c2",
   "metadata": {},
   "outputs": [],
   "source": []
  },
  {
   "cell_type": "code",
   "execution_count": 359,
   "id": "32c1aa51",
   "metadata": {},
   "outputs": [],
   "source": [
    "# Choosing countries with more than 30 observations\n",
    "\n",
    "us = workplace_df[workplace_df.Country == 'United States'].drop(['Age', 'Country'], axis=1)\n",
    "uk = workplace_df[workplace_df.Country == 'United Kingdom'].drop(['Age', 'Country'], axis=1)\n",
    "cd = workplace_df[workplace_df.Country == 'Canada'].drop(['Age', 'Country'], axis=1)\n",
    "gr = workplace_df[workplace_df.Country == 'Germany'].drop(['Age', 'Country'], axis=1)"
   ]
  },
  {
   "cell_type": "code",
   "execution_count": 360,
   "id": "ba21fa67",
   "metadata": {},
   "outputs": [
    {
     "data": {
      "application/vnd.plotly.v1+json": {
       "config": {
        "plotlyServerURL": "https://plot.ly"
       },
       "data": [
        {
         "domain": {
          "x": [
           0,
           0.45
          ],
          "y": [
           0.55,
           1
          ]
         },
         "hole": 0.5,
         "hoverinfo": "label+percent",
         "labels": [
          "M",
          "F",
          "other"
         ],
         "marker": {
          "colors": [
           "#fee3c8",
           "#fdc692",
           "#fda057",
           "#f67824",
           "#e05206",
           "#ad3803"
          ],
          "line": {
           "color": "#000000",
           "width": 1
          }
         },
         "opacity": 0.9,
         "showlegend": false,
         "textfont": {
          "size": 12
         },
         "textinfo": "label+percent",
         "title": {
          "font": {
           "family": "bold",
           "size": 18
          },
          "text": "U.S. distribution<br>of Gender"
         },
         "type": "pie",
         "values": [
          562,
          180,
          9
         ],
         "visible": true
        },
        {
         "domain": {
          "x": [
           0,
           0.45
          ],
          "y": [
           0.55,
           1
          ]
         },
         "hole": 0.5,
         "hoverinfo": "label+percent",
         "labels": [
          "No",
          "Yes"
         ],
         "marker": {
          "colors": [
           "#fee3c8",
           "#fdc692",
           "#fda057",
           "#f67824",
           "#e05206",
           "#ad3803"
          ],
          "line": {
           "color": "#000000",
           "width": 1
          }
         },
         "opacity": 0.9,
         "showlegend": false,
         "textfont": {
          "size": 12
         },
         "textinfo": "label+percent",
         "title": {
          "font": {
           "family": "bold",
           "size": 18
          },
          "text": "U.S. distribution<br>of self_employed"
         },
         "type": "pie",
         "values": [
          694,
          57
         ],
         "visible": false
        },
        {
         "domain": {
          "x": [
           0,
           0.45
          ],
          "y": [
           0.55,
           1
          ]
         },
         "hole": 0.5,
         "hoverinfo": "label+percent",
         "labels": [
          "No",
          "Yes"
         ],
         "marker": {
          "colors": [
           "#fee3c8",
           "#fdc692",
           "#fda057",
           "#f67824",
           "#e05206",
           "#ad3803"
          ],
          "line": {
           "color": "#000000",
           "width": 1
          }
         },
         "opacity": 0.9,
         "showlegend": false,
         "textfont": {
          "size": 12
         },
         "textinfo": "label+percent",
         "title": {
          "font": {
           "family": "bold",
           "size": 18
          },
          "text": "U.S. distribution<br>of family_history"
         },
         "type": "pie",
         "values": [
          421,
          330
         ],
         "visible": false
        },
        {
         "domain": {
          "x": [
           0,
           0.45
          ],
          "y": [
           0.55,
           1
          ]
         },
         "hole": 0.5,
         "hoverinfo": "label+percent",
         "labels": [
          "Yes",
          "No"
         ],
         "marker": {
          "colors": [
           "#fee3c8",
           "#fdc692",
           "#fda057",
           "#f67824",
           "#e05206",
           "#ad3803"
          ],
          "line": {
           "color": "#000000",
           "width": 1
          }
         },
         "opacity": 0.9,
         "showlegend": false,
         "textfont": {
          "size": 12
         },
         "textinfo": "label+percent",
         "title": {
          "font": {
           "family": "bold",
           "size": 18
          },
          "text": "U.S. distribution<br>of treatment"
         },
         "type": "pie",
         "values": [
          410,
          341
         ],
         "visible": false
        },
        {
         "domain": {
          "x": [
           0,
           0.45
          ],
          "y": [
           0.55,
           1
          ]
         },
         "hole": 0.5,
         "hoverinfo": "label+percent",
         "labels": [
          "Sometimes",
          "Never",
          "Rarely",
          "Often"
         ],
         "marker": {
          "colors": [
           "#fee3c8",
           "#fdc692",
           "#fda057",
           "#f67824",
           "#e05206",
           "#ad3803"
          ],
          "line": {
           "color": "#000000",
           "width": 1
          }
         },
         "opacity": 0.9,
         "showlegend": false,
         "textfont": {
          "size": 12
         },
         "textinfo": "label+percent",
         "title": {
          "font": {
           "family": "bold",
           "size": 18
          },
          "text": "U.S. distribution<br>of work_interfere"
         },
         "type": "pie",
         "values": [
          367,
          155,
          130,
          99
         ],
         "visible": false
        },
        {
         "domain": {
          "x": [
           0,
           0.45
          ],
          "y": [
           0.55,
           1
          ]
         },
         "hole": 0.5,
         "hoverinfo": "label+percent",
         "labels": [
          "More than 1000",
          "26-100",
          "6-25",
          "100-500",
          "1-5",
          "500-1000"
         ],
         "marker": {
          "colors": [
           "#fee3c8",
           "#fdc692",
           "#fda057",
           "#f67824",
           "#e05206",
           "#ad3803"
          ],
          "line": {
           "color": "#000000",
           "width": 1
          }
         },
         "opacity": 0.9,
         "showlegend": false,
         "textfont": {
          "size": 12
         },
         "textinfo": "label+percent",
         "title": {
          "font": {
           "family": "bold",
           "size": 18
          },
          "text": "U.S. distribution<br>of no_employees"
         },
         "type": "pie",
         "values": [
          216,
          170,
          134,
          113,
          76,
          42
         ],
         "visible": false
        },
        {
         "domain": {
          "x": [
           0,
           0.45
          ],
          "y": [
           0.55,
           1
          ]
         },
         "hole": 0.5,
         "hoverinfo": "label+percent",
         "labels": [
          "No",
          "Yes"
         ],
         "marker": {
          "colors": [
           "#fee3c8",
           "#fdc692",
           "#fda057",
           "#f67824",
           "#e05206",
           "#ad3803"
          ],
          "line": {
           "color": "#000000",
           "width": 1
          }
         },
         "opacity": 0.9,
         "showlegend": false,
         "textfont": {
          "size": 12
         },
         "textinfo": "label+percent",
         "title": {
          "font": {
           "family": "bold",
           "size": 18
          },
          "text": "U.S. distribution<br>of remote_work"
         },
         "type": "pie",
         "values": [
          513,
          238
         ],
         "visible": false
        },
        {
         "domain": {
          "x": [
           0,
           0.45
          ],
          "y": [
           0.55,
           1
          ]
         },
         "hole": 0.5,
         "hoverinfo": "label+percent",
         "labels": [
          "Yes",
          "No"
         ],
         "marker": {
          "colors": [
           "#fee3c8",
           "#fdc692",
           "#fda057",
           "#f67824",
           "#e05206",
           "#ad3803"
          ],
          "line": {
           "color": "#000000",
           "width": 1
          }
         },
         "opacity": 0.9,
         "showlegend": false,
         "textfont": {
          "size": 12
         },
         "textinfo": "label+percent",
         "title": {
          "font": {
           "family": "bold",
           "size": 18
          },
          "text": "U.S. distribution<br>of tech_company"
         },
         "type": "pie",
         "values": [
          611,
          140
         ],
         "visible": false
        },
        {
         "domain": {
          "x": [
           0,
           0.45
          ],
          "y": [
           0.55,
           1
          ]
         },
         "hole": 0.5,
         "hoverinfo": "label+percent",
         "labels": [
          "Yes",
          "Don't know",
          "No"
         ],
         "marker": {
          "colors": [
           "#fee3c8",
           "#fdc692",
           "#fda057",
           "#f67824",
           "#e05206",
           "#ad3803"
          ],
          "line": {
           "color": "#000000",
           "width": 1
          }
         },
         "opacity": 0.9,
         "showlegend": false,
         "textfont": {
          "size": 12
         },
         "textinfo": "label+percent",
         "title": {
          "font": {
           "family": "bold",
           "size": 18
          },
          "text": "U.S. distribution<br>of benefits"
         },
         "type": "pie",
         "values": [
          398,
          236,
          117
         ],
         "visible": false
        },
        {
         "domain": {
          "x": [
           0,
           0.45
          ],
          "y": [
           0.55,
           1
          ]
         },
         "hole": 0.5,
         "hoverinfo": "label+percent",
         "labels": [
          "Yes",
          "No",
          "Not sure"
         ],
         "marker": {
          "colors": [
           "#fee3c8",
           "#fdc692",
           "#fda057",
           "#f67824",
           "#e05206",
           "#ad3803"
          ],
          "line": {
           "color": "#000000",
           "width": 1
          }
         },
         "opacity": 0.9,
         "showlegend": false,
         "textfont": {
          "size": 12
         },
         "textinfo": "label+percent",
         "title": {
          "font": {
           "family": "bold",
           "size": 18
          },
          "text": "U.S. distribution<br>of care_options"
         },
         "type": "pie",
         "values": [
          311,
          239,
          201
         ],
         "visible": false
        },
        {
         "domain": {
          "x": [
           0,
           0.45
          ],
          "y": [
           0.55,
           1
          ]
         },
         "hole": 0.5,
         "hoverinfo": "label+percent",
         "labels": [
          "No",
          "Yes",
          "Don't know"
         ],
         "marker": {
          "colors": [
           "#fee3c8",
           "#fdc692",
           "#fda057",
           "#f67824",
           "#e05206",
           "#ad3803"
          ],
          "line": {
           "color": "#000000",
           "width": 1
          }
         },
         "opacity": 0.9,
         "showlegend": false,
         "textfont": {
          "size": 12
         },
         "textinfo": "label+percent",
         "title": {
          "font": {
           "family": "bold",
           "size": 18
          },
          "text": "U.S. distribution<br>of wellness_program"
         },
         "type": "pie",
         "values": [
          455,
          167,
          129
         ],
         "visible": false
        },
        {
         "domain": {
          "x": [
           0,
           0.45
          ],
          "y": [
           0.55,
           1
          ]
         },
         "hole": 0.5,
         "hoverinfo": "label+percent",
         "labels": [
          "No",
          "Don't know",
          "Yes"
         ],
         "marker": {
          "colors": [
           "#fee3c8",
           "#fdc692",
           "#fda057",
           "#f67824",
           "#e05206",
           "#ad3803"
          ],
          "line": {
           "color": "#000000",
           "width": 1
          }
         },
         "opacity": 0.9,
         "showlegend": false,
         "textfont": {
          "size": 12
         },
         "textinfo": "label+percent",
         "title": {
          "font": {
           "family": "bold",
           "size": 18
          },
          "text": "U.S. distribution<br>of seek_help"
         },
         "type": "pie",
         "values": [
          300,
          262,
          189
         ],
         "visible": false
        },
        {
         "domain": {
          "x": [
           0,
           0.45
          ],
          "y": [
           0.55,
           1
          ]
         },
         "hole": 0.5,
         "hoverinfo": "label+percent",
         "labels": [
          "Don't know",
          "Yes",
          "No"
         ],
         "marker": {
          "colors": [
           "#fee3c8",
           "#fdc692",
           "#fda057",
           "#f67824",
           "#e05206",
           "#ad3803"
          ],
          "line": {
           "color": "#000000",
           "width": 1
          }
         },
         "opacity": 0.9,
         "showlegend": false,
         "textfont": {
          "size": 12
         },
         "textinfo": "label+percent",
         "title": {
          "font": {
           "family": "bold",
           "size": 18
          },
          "text": "U.S. distribution<br>of anonymity"
         },
         "type": "pie",
         "values": [
          495,
          237,
          19
         ],
         "visible": false
        },
        {
         "domain": {
          "x": [
           0,
           0.45
          ],
          "y": [
           0.55,
           1
          ]
         },
         "hole": 0.5,
         "hoverinfo": "label+percent",
         "labels": [
          "Don't know",
          "Somewhat easy",
          "Very easy",
          "Somewhat difficult",
          "Very difficult"
         ],
         "marker": {
          "colors": [
           "#fee3c8",
           "#fdc692",
           "#fda057",
           "#f67824",
           "#e05206",
           "#ad3803"
          ],
          "line": {
           "color": "#000000",
           "width": 1
          }
         },
         "opacity": 0.9,
         "showlegend": false,
         "textfont": {
          "size": 12
         },
         "textinfo": "label+percent",
         "title": {
          "font": {
           "family": "bold",
           "size": 18
          },
          "text": "U.S. distribution<br>of leave"
         },
         "type": "pie",
         "values": [
          385,
          137,
          108,
          68,
          53
         ],
         "visible": false
        },
        {
         "domain": {
          "x": [
           0,
           0.45
          ],
          "y": [
           0.55,
           1
          ]
         },
         "hole": 0.5,
         "hoverinfo": "label+percent",
         "labels": [
          "Maybe",
          "No",
          "Yes"
         ],
         "marker": {
          "colors": [
           "#fee3c8",
           "#fdc692",
           "#fda057",
           "#f67824",
           "#e05206",
           "#ad3803"
          ],
          "line": {
           "color": "#000000",
           "width": 1
          }
         },
         "opacity": 0.9,
         "showlegend": false,
         "textfont": {
          "size": 12
         },
         "textinfo": "label+percent",
         "title": {
          "font": {
           "family": "bold",
           "size": 18
          },
          "text": "U.S. distribution<br>of mental_health_consequence"
         },
         "type": "pie",
         "values": [
          300,
          280,
          171
         ],
         "visible": false
        },
        {
         "domain": {
          "x": [
           0,
           0.45
          ],
          "y": [
           0.55,
           1
          ]
         },
         "hole": 0.5,
         "hoverinfo": "label+percent",
         "labels": [
          "No",
          "Maybe",
          "Yes"
         ],
         "marker": {
          "colors": [
           "#fee3c8",
           "#fdc692",
           "#fda057",
           "#f67824",
           "#e05206",
           "#ad3803"
          ],
          "line": {
           "color": "#000000",
           "width": 1
          }
         },
         "opacity": 0.9,
         "showlegend": false,
         "textfont": {
          "size": 12
         },
         "textinfo": "label+percent",
         "title": {
          "font": {
           "family": "bold",
           "size": 18
          },
          "text": "U.S. distribution<br>of phys_health_consequence"
         },
         "type": "pie",
         "values": [
          571,
          150,
          30
         ],
         "visible": false
        },
        {
         "domain": {
          "x": [
           0,
           0.45
          ],
          "y": [
           0.55,
           1
          ]
         },
         "hole": 0.5,
         "hoverinfo": "label+percent",
         "labels": [
          "Some of them",
          "No",
          "Yes"
         ],
         "marker": {
          "colors": [
           "#fee3c8",
           "#fdc692",
           "#fda057",
           "#f67824",
           "#e05206",
           "#ad3803"
          ],
          "line": {
           "color": "#000000",
           "width": 1
          }
         },
         "opacity": 0.9,
         "showlegend": false,
         "textfont": {
          "size": 12
         },
         "textinfo": "label+percent",
         "title": {
          "font": {
           "family": "bold",
           "size": 18
          },
          "text": "U.S. distribution<br>of coworkers"
         },
         "type": "pie",
         "values": [
          471,
          156,
          124
         ],
         "visible": false
        },
        {
         "domain": {
          "x": [
           0,
           0.45
          ],
          "y": [
           0.55,
           1
          ]
         },
         "hole": 0.5,
         "hoverinfo": "label+percent",
         "labels": [
          "Yes",
          "No",
          "Some of them"
         ],
         "marker": {
          "colors": [
           "#fee3c8",
           "#fdc692",
           "#fda057",
           "#f67824",
           "#e05206",
           "#ad3803"
          ],
          "line": {
           "color": "#000000",
           "width": 1
          }
         },
         "opacity": 0.9,
         "showlegend": false,
         "textfont": {
          "size": 12
         },
         "textinfo": "label+percent",
         "title": {
          "font": {
           "family": "bold",
           "size": 18
          },
          "text": "U.S. distribution<br>of supervisor"
         },
         "type": "pie",
         "values": [
          304,
          238,
          209
         ],
         "visible": false
        },
        {
         "domain": {
          "x": [
           0,
           0.45
          ],
          "y": [
           0.55,
           1
          ]
         },
         "hole": 0.5,
         "hoverinfo": "label+percent",
         "labels": [
          "No",
          "Maybe",
          "Yes"
         ],
         "marker": {
          "colors": [
           "#fee3c8",
           "#fdc692",
           "#fda057",
           "#f67824",
           "#e05206",
           "#ad3803"
          ],
          "line": {
           "color": "#000000",
           "width": 1
          }
         },
         "opacity": 0.9,
         "showlegend": false,
         "textfont": {
          "size": 12
         },
         "textinfo": "label+percent",
         "title": {
          "font": {
           "family": "bold",
           "size": 18
          },
          "text": "U.S. distribution<br>of mental_health_interview"
         },
         "type": "pie",
         "values": [
          635,
          100,
          16
         ],
         "visible": false
        },
        {
         "domain": {
          "x": [
           0,
           0.45
          ],
          "y": [
           0.55,
           1
          ]
         },
         "hole": 0.5,
         "hoverinfo": "label+percent",
         "labels": [
          "No",
          "Maybe",
          "Yes"
         ],
         "marker": {
          "colors": [
           "#fee3c8",
           "#fdc692",
           "#fda057",
           "#f67824",
           "#e05206",
           "#ad3803"
          ],
          "line": {
           "color": "#000000",
           "width": 1
          }
         },
         "opacity": 0.9,
         "showlegend": false,
         "textfont": {
          "size": 12
         },
         "textinfo": "label+percent",
         "title": {
          "font": {
           "family": "bold",
           "size": 18
          },
          "text": "U.S. distribution<br>of phys_health_interview"
         },
         "type": "pie",
         "values": [
          339,
          320,
          92
         ],
         "visible": false
        },
        {
         "domain": {
          "x": [
           0,
           0.45
          ],
          "y": [
           0.55,
           1
          ]
         },
         "hole": 0.5,
         "hoverinfo": "label+percent",
         "labels": [
          "Don't know",
          "Yes",
          "No"
         ],
         "marker": {
          "colors": [
           "#fee3c8",
           "#fdc692",
           "#fda057",
           "#f67824",
           "#e05206",
           "#ad3803"
          ],
          "line": {
           "color": "#000000",
           "width": 1
          }
         },
         "opacity": 0.9,
         "showlegend": false,
         "textfont": {
          "size": 12
         },
         "textinfo": "label+percent",
         "title": {
          "font": {
           "family": "bold",
           "size": 18
          },
          "text": "U.S. distribution<br>of mental_vs_physical"
         },
         "type": "pie",
         "values": [
          363,
          201,
          187
         ],
         "visible": false
        },
        {
         "domain": {
          "x": [
           0,
           0.45
          ],
          "y": [
           0.55,
           1
          ]
         },
         "hole": 0.5,
         "hoverinfo": "label+percent",
         "labels": [
          "No",
          "Yes"
         ],
         "marker": {
          "colors": [
           "#fee3c8",
           "#fdc692",
           "#fda057",
           "#f67824",
           "#e05206",
           "#ad3803"
          ],
          "line": {
           "color": "#000000",
           "width": 1
          }
         },
         "opacity": 0.9,
         "showlegend": false,
         "textfont": {
          "size": 12
         },
         "textinfo": "label+percent",
         "title": {
          "font": {
           "family": "bold",
           "size": 18
          },
          "text": "U.S. distribution<br>of obs_consequence"
         },
         "type": "pie",
         "values": [
          662,
          89
         ],
         "visible": false
        },
        {
         "domain": {
          "x": [
           0.55,
           1
          ],
          "y": [
           0.55,
           1
          ]
         },
         "hole": 0.5,
         "hoverinfo": "label+percent",
         "labels": [
          "M",
          "F",
          "other"
         ],
         "marker": {
          "colors": [
           "#fee3c8",
           "#fdc692",
           "#fda057",
           "#f67824",
           "#e05206",
           "#ad3803"
          ],
          "line": {
           "color": "#000000",
           "width": 1
          }
         },
         "opacity": 0.9,
         "showlegend": false,
         "textfont": {
          "size": 12
         },
         "textinfo": "label+percent",
         "title": {
          "font": {
           "family": "bold",
           "size": 18
          },
          "text": "U.K. distribution<br>of Gender"
         },
         "type": "pie",
         "values": [
          154,
          26,
          5
         ],
         "visible": true
        },
        {
         "domain": {
          "x": [
           0.55,
           1
          ],
          "y": [
           0.55,
           1
          ]
         },
         "hole": 0.5,
         "hoverinfo": "label+percent",
         "labels": [
          "No",
          "Yes"
         ],
         "marker": {
          "colors": [
           "#fee3c8",
           "#fdc692",
           "#fda057",
           "#f67824",
           "#e05206",
           "#ad3803"
          ],
          "line": {
           "color": "#000000",
           "width": 1
          }
         },
         "opacity": 0.9,
         "showlegend": false,
         "textfont": {
          "size": 12
         },
         "textinfo": "label+percent",
         "title": {
          "font": {
           "family": "bold",
           "size": 18
          },
          "text": "U.K. distribution<br>of self_employed"
         },
         "type": "pie",
         "values": [
          157,
          28
         ],
         "visible": false
        },
        {
         "domain": {
          "x": [
           0.55,
           1
          ],
          "y": [
           0.55,
           1
          ]
         },
         "hole": 0.5,
         "hoverinfo": "label+percent",
         "labels": [
          "No",
          "Yes"
         ],
         "marker": {
          "colors": [
           "#fee3c8",
           "#fdc692",
           "#fda057",
           "#f67824",
           "#e05206",
           "#ad3803"
          ],
          "line": {
           "color": "#000000",
           "width": 1
          }
         },
         "opacity": 0.9,
         "showlegend": false,
         "textfont": {
          "size": 12
         },
         "textinfo": "label+percent",
         "title": {
          "font": {
           "family": "bold",
           "size": 18
          },
          "text": "U.K. distribution<br>of family_history"
         },
         "type": "pie",
         "values": [
          127,
          58
         ],
         "visible": false
        },
        {
         "domain": {
          "x": [
           0.55,
           1
          ],
          "y": [
           0.55,
           1
          ]
         },
         "hole": 0.5,
         "hoverinfo": "label+percent",
         "labels": [
          "Yes",
          "No"
         ],
         "marker": {
          "colors": [
           "#fee3c8",
           "#fdc692",
           "#fda057",
           "#f67824",
           "#e05206",
           "#ad3803"
          ],
          "line": {
           "color": "#000000",
           "width": 1
          }
         },
         "opacity": 0.9,
         "showlegend": false,
         "textfont": {
          "size": 12
         },
         "textinfo": "label+percent",
         "title": {
          "font": {
           "family": "bold",
           "size": 18
          },
          "text": "U.K. distribution<br>of treatment"
         },
         "type": "pie",
         "values": [
          93,
          92
         ],
         "visible": false
        },
        {
         "domain": {
          "x": [
           0.55,
           1
          ],
          "y": [
           0.55,
           1
          ]
         },
         "hole": 0.5,
         "hoverinfo": "label+percent",
         "labels": [
          "Sometimes",
          "Never",
          "Rarely",
          "Often"
         ],
         "marker": {
          "colors": [
           "#fee3c8",
           "#fdc692",
           "#fda057",
           "#f67824",
           "#e05206",
           "#ad3803"
          ],
          "line": {
           "color": "#000000",
           "width": 1
          }
         },
         "opacity": 0.9,
         "showlegend": false,
         "textfont": {
          "size": 12
         },
         "textinfo": "label+percent",
         "title": {
          "font": {
           "family": "bold",
           "size": 18
          },
          "text": "U.K. distribution<br>of work_interfere"
         },
         "type": "pie",
         "values": [
          95,
          38,
          31,
          21
         ],
         "visible": false
        },
        {
         "domain": {
          "x": [
           0.55,
           1
          ],
          "y": [
           0.55,
           1
          ]
         },
         "hole": 0.5,
         "hoverinfo": "label+percent",
         "labels": [
          "6-25",
          "26-100",
          "1-5",
          "More than 1000",
          "100-500",
          "500-1000"
         ],
         "marker": {
          "colors": [
           "#fee3c8",
           "#fdc692",
           "#fda057",
           "#f67824",
           "#e05206",
           "#ad3803"
          ],
          "line": {
           "color": "#000000",
           "width": 1
          }
         },
         "opacity": 0.9,
         "showlegend": false,
         "textfont": {
          "size": 12
         },
         "textinfo": "label+percent",
         "title": {
          "font": {
           "family": "bold",
           "size": 18
          },
          "text": "U.K. distribution<br>of no_employees"
         },
         "type": "pie",
         "values": [
          58,
          40,
          31,
          29,
          20,
          7
         ],
         "visible": false
        },
        {
         "domain": {
          "x": [
           0.55,
           1
          ],
          "y": [
           0.55,
           1
          ]
         },
         "hole": 0.5,
         "hoverinfo": "label+percent",
         "labels": [
          "No",
          "Yes"
         ],
         "marker": {
          "colors": [
           "#fee3c8",
           "#fdc692",
           "#fda057",
           "#f67824",
           "#e05206",
           "#ad3803"
          ],
          "line": {
           "color": "#000000",
           "width": 1
          }
         },
         "opacity": 0.9,
         "showlegend": false,
         "textfont": {
          "size": 12
         },
         "textinfo": "label+percent",
         "title": {
          "font": {
           "family": "bold",
           "size": 18
          },
          "text": "U.K. distribution<br>of remote_work"
         },
         "type": "pie",
         "values": [
          144,
          41
         ],
         "visible": false
        },
        {
         "domain": {
          "x": [
           0.55,
           1
          ],
          "y": [
           0.55,
           1
          ]
         },
         "hole": 0.5,
         "hoverinfo": "label+percent",
         "labels": [
          "Yes",
          "No"
         ],
         "marker": {
          "colors": [
           "#fee3c8",
           "#fdc692",
           "#fda057",
           "#f67824",
           "#e05206",
           "#ad3803"
          ],
          "line": {
           "color": "#000000",
           "width": 1
          }
         },
         "opacity": 0.9,
         "showlegend": false,
         "textfont": {
          "size": 12
         },
         "textinfo": "label+percent",
         "title": {
          "font": {
           "family": "bold",
           "size": 18
          },
          "text": "U.K. distribution<br>of tech_company"
         },
         "type": "pie",
         "values": [
          139,
          46
         ],
         "visible": false
        },
        {
         "domain": {
          "x": [
           0.55,
           1
          ],
          "y": [
           0.55,
           1
          ]
         },
         "hole": 0.5,
         "hoverinfo": "label+percent",
         "labels": [
          "No",
          "Don't know",
          "Yes"
         ],
         "marker": {
          "colors": [
           "#fee3c8",
           "#fdc692",
           "#fda057",
           "#f67824",
           "#e05206",
           "#ad3803"
          ],
          "line": {
           "color": "#000000",
           "width": 1
          }
         },
         "opacity": 0.9,
         "showlegend": false,
         "textfont": {
          "size": 12
         },
         "textinfo": "label+percent",
         "title": {
          "font": {
           "family": "bold",
           "size": 18
          },
          "text": "U.K. distribution<br>of benefits"
         },
         "type": "pie",
         "values": [
          93,
          72,
          20
         ],
         "visible": false
        },
        {
         "domain": {
          "x": [
           0.55,
           1
          ],
          "y": [
           0.55,
           1
          ]
         },
         "hole": 0.5,
         "hoverinfo": "label+percent",
         "labels": [
          "No",
          "Not sure",
          "Yes"
         ],
         "marker": {
          "colors": [
           "#fee3c8",
           "#fdc692",
           "#fda057",
           "#f67824",
           "#e05206",
           "#ad3803"
          ],
          "line": {
           "color": "#000000",
           "width": 1
          }
         },
         "opacity": 0.9,
         "showlegend": false,
         "textfont": {
          "size": 12
         },
         "textinfo": "label+percent",
         "title": {
          "font": {
           "family": "bold",
           "size": 18
          },
          "text": "U.K. distribution<br>of care_options"
         },
         "type": "pie",
         "values": [
          103,
          43,
          39
         ],
         "visible": false
        },
        {
         "domain": {
          "x": [
           0.55,
           1
          ],
          "y": [
           0.55,
           1
          ]
         },
         "hole": 0.5,
         "hoverinfo": "label+percent",
         "labels": [
          "No",
          "Yes",
          "Don't know"
         ],
         "marker": {
          "colors": [
           "#fee3c8",
           "#fdc692",
           "#fda057",
           "#f67824",
           "#e05206",
           "#ad3803"
          ],
          "line": {
           "color": "#000000",
           "width": 1
          }
         },
         "opacity": 0.9,
         "showlegend": false,
         "textfont": {
          "size": 12
         },
         "textinfo": "label+percent",
         "title": {
          "font": {
           "family": "bold",
           "size": 18
          },
          "text": "U.K. distribution<br>of wellness_program"
         },
         "type": "pie",
         "values": [
          151,
          18,
          16
         ],
         "visible": false
        },
        {
         "domain": {
          "x": [
           0.55,
           1
          ],
          "y": [
           0.55,
           1
          ]
         },
         "hole": 0.5,
         "hoverinfo": "label+percent",
         "labels": [
          "No",
          "Don't know",
          "Yes"
         ],
         "marker": {
          "colors": [
           "#fee3c8",
           "#fdc692",
           "#fda057",
           "#f67824",
           "#e05206",
           "#ad3803"
          ],
          "line": {
           "color": "#000000",
           "width": 1
          }
         },
         "opacity": 0.9,
         "showlegend": false,
         "textfont": {
          "size": 12
         },
         "textinfo": "label+percent",
         "title": {
          "font": {
           "family": "bold",
           "size": 18
          },
          "text": "U.K. distribution<br>of seek_help"
         },
         "type": "pie",
         "values": [
          117,
          42,
          26
         ],
         "visible": false
        },
        {
         "domain": {
          "x": [
           0.55,
           1
          ],
          "y": [
           0.55,
           1
          ]
         },
         "hole": 0.5,
         "hoverinfo": "label+percent",
         "labels": [
          "Don't know",
          "Yes",
          "No"
         ],
         "marker": {
          "colors": [
           "#fee3c8",
           "#fdc692",
           "#fda057",
           "#f67824",
           "#e05206",
           "#ad3803"
          ],
          "line": {
           "color": "#000000",
           "width": 1
          }
         },
         "opacity": 0.9,
         "showlegend": false,
         "textfont": {
          "size": 12
         },
         "textinfo": "label+percent",
         "title": {
          "font": {
           "family": "bold",
           "size": 18
          },
          "text": "U.K. distribution<br>of anonymity"
         },
         "type": "pie",
         "values": [
          123,
          49,
          13
         ],
         "visible": false
        },
        {
         "domain": {
          "x": [
           0.55,
           1
          ],
          "y": [
           0.55,
           1
          ]
         },
         "hole": 0.5,
         "hoverinfo": "label+percent",
         "labels": [
          "Don't know",
          "Very easy",
          "Somewhat easy",
          "Somewhat difficult",
          "Very difficult"
         ],
         "marker": {
          "colors": [
           "#fee3c8",
           "#fdc692",
           "#fda057",
           "#f67824",
           "#e05206",
           "#ad3803"
          ],
          "line": {
           "color": "#000000",
           "width": 1
          }
         },
         "opacity": 0.9,
         "showlegend": false,
         "textfont": {
          "size": 12
         },
         "textinfo": "label+percent",
         "title": {
          "font": {
           "family": "bold",
           "size": 18
          },
          "text": "U.K. distribution<br>of leave"
         },
         "type": "pie",
         "values": [
          70,
          42,
          40,
          21,
          12
         ],
         "visible": false
        },
        {
         "domain": {
          "x": [
           0.55,
           1
          ],
          "y": [
           0.55,
           1
          ]
         },
         "hole": 0.5,
         "hoverinfo": "label+percent",
         "labels": [
          "Maybe",
          "No",
          "Yes"
         ],
         "marker": {
          "colors": [
           "#fee3c8",
           "#fdc692",
           "#fda057",
           "#f67824",
           "#e05206",
           "#ad3803"
          ],
          "line": {
           "color": "#000000",
           "width": 1
          }
         },
         "opacity": 0.9,
         "showlegend": false,
         "textfont": {
          "size": 12
         },
         "textinfo": "label+percent",
         "title": {
          "font": {
           "family": "bold",
           "size": 18
          },
          "text": "U.K. distribution<br>of mental_health_consequence"
         },
         "type": "pie",
         "values": [
          73,
          69,
          43
         ],
         "visible": false
        },
        {
         "domain": {
          "x": [
           0.55,
           1
          ],
          "y": [
           0.55,
           1
          ]
         },
         "hole": 0.5,
         "hoverinfo": "label+percent",
         "labels": [
          "No",
          "Maybe",
          "Yes"
         ],
         "marker": {
          "colors": [
           "#fee3c8",
           "#fdc692",
           "#fda057",
           "#f67824",
           "#e05206",
           "#ad3803"
          ],
          "line": {
           "color": "#000000",
           "width": 1
          }
         },
         "opacity": 0.9,
         "showlegend": false,
         "textfont": {
          "size": 12
         },
         "textinfo": "label+percent",
         "title": {
          "font": {
           "family": "bold",
           "size": 18
          },
          "text": "U.K. distribution<br>of phys_health_consequence"
         },
         "type": "pie",
         "values": [
          121,
          54,
          10
         ],
         "visible": false
        },
        {
         "domain": {
          "x": [
           0.55,
           1
          ],
          "y": [
           0.55,
           1
          ]
         },
         "hole": 0.5,
         "hoverinfo": "label+percent",
         "labels": [
          "Some of them",
          "Yes",
          "No"
         ],
         "marker": {
          "colors": [
           "#fee3c8",
           "#fdc692",
           "#fda057",
           "#f67824",
           "#e05206",
           "#ad3803"
          ],
          "line": {
           "color": "#000000",
           "width": 1
          }
         },
         "opacity": 0.9,
         "showlegend": false,
         "textfont": {
          "size": 12
         },
         "textinfo": "label+percent",
         "title": {
          "font": {
           "family": "bold",
           "size": 18
          },
          "text": "U.K. distribution<br>of coworkers"
         },
         "type": "pie",
         "values": [
          109,
          38,
          38
         ],
         "visible": false
        },
        {
         "domain": {
          "x": [
           0.55,
           1
          ],
          "y": [
           0.55,
           1
          ]
         },
         "hole": 0.5,
         "hoverinfo": "label+percent",
         "labels": [
          "Yes",
          "No",
          "Some of them"
         ],
         "marker": {
          "colors": [
           "#fee3c8",
           "#fdc692",
           "#fda057",
           "#f67824",
           "#e05206",
           "#ad3803"
          ],
          "line": {
           "color": "#000000",
           "width": 1
          }
         },
         "opacity": 0.9,
         "showlegend": false,
         "textfont": {
          "size": 12
         },
         "textinfo": "label+percent",
         "title": {
          "font": {
           "family": "bold",
           "size": 18
          },
          "text": "U.K. distribution<br>of supervisor"
         },
         "type": "pie",
         "values": [
          83,
          54,
          48
         ],
         "visible": false
        },
        {
         "domain": {
          "x": [
           0.55,
           1
          ],
          "y": [
           0.55,
           1
          ]
         },
         "hole": 0.5,
         "hoverinfo": "label+percent",
         "labels": [
          "No",
          "Maybe",
          "Yes"
         ],
         "marker": {
          "colors": [
           "#fee3c8",
           "#fdc692",
           "#fda057",
           "#f67824",
           "#e05206",
           "#ad3803"
          ],
          "line": {
           "color": "#000000",
           "width": 1
          }
         },
         "opacity": 0.9,
         "showlegend": false,
         "textfont": {
          "size": 12
         },
         "textinfo": "label+percent",
         "title": {
          "font": {
           "family": "bold",
           "size": 18
          },
          "text": "U.K. distribution<br>of mental_health_interview"
         },
         "type": "pie",
         "values": [
          140,
          34,
          11
         ],
         "visible": false
        },
        {
         "domain": {
          "x": [
           0.55,
           1
          ],
          "y": [
           0.55,
           1
          ]
         },
         "hole": 0.5,
         "hoverinfo": "label+percent",
         "labels": [
          "Maybe",
          "No",
          "Yes"
         ],
         "marker": {
          "colors": [
           "#fee3c8",
           "#fdc692",
           "#fda057",
           "#f67824",
           "#e05206",
           "#ad3803"
          ],
          "line": {
           "color": "#000000",
           "width": 1
          }
         },
         "opacity": 0.9,
         "showlegend": false,
         "textfont": {
          "size": 12
         },
         "textinfo": "label+percent",
         "title": {
          "font": {
           "family": "bold",
           "size": 18
          },
          "text": "U.K. distribution<br>of phys_health_interview"
         },
         "type": "pie",
         "values": [
          94,
          46,
          45
         ],
         "visible": false
        },
        {
         "domain": {
          "x": [
           0.55,
           1
          ],
          "y": [
           0.55,
           1
          ]
         },
         "hole": 0.5,
         "hoverinfo": "label+percent",
         "labels": [
          "Don't know",
          "No",
          "Yes"
         ],
         "marker": {
          "colors": [
           "#fee3c8",
           "#fdc692",
           "#fda057",
           "#f67824",
           "#e05206",
           "#ad3803"
          ],
          "line": {
           "color": "#000000",
           "width": 1
          }
         },
         "opacity": 0.9,
         "showlegend": false,
         "textfont": {
          "size": 12
         },
         "textinfo": "label+percent",
         "title": {
          "font": {
           "family": "bold",
           "size": 18
          },
          "text": "U.K. distribution<br>of mental_vs_physical"
         },
         "type": "pie",
         "values": [
          75,
          57,
          53
         ],
         "visible": false
        },
        {
         "domain": {
          "x": [
           0.55,
           1
          ],
          "y": [
           0.55,
           1
          ]
         },
         "hole": 0.5,
         "hoverinfo": "label+percent",
         "labels": [
          "No",
          "Yes"
         ],
         "marker": {
          "colors": [
           "#fee3c8",
           "#fdc692",
           "#fda057",
           "#f67824",
           "#e05206",
           "#ad3803"
          ],
          "line": {
           "color": "#000000",
           "width": 1
          }
         },
         "opacity": 0.9,
         "showlegend": false,
         "textfont": {
          "size": 12
         },
         "textinfo": "label+percent",
         "title": {
          "font": {
           "family": "bold",
           "size": 18
          },
          "text": "U.K. distribution<br>of obs_consequence"
         },
         "type": "pie",
         "values": [
          148,
          37
         ],
         "visible": false
        },
        {
         "domain": {
          "x": [
           0,
           0.45
          ],
          "y": [
           0,
           0.45
          ]
         },
         "hole": 0.5,
         "hoverinfo": "label+percent",
         "labels": [
          "M",
          "F",
          "other"
         ],
         "marker": {
          "colors": [
           "#ededed",
           "#d1d1d1",
           "#adadad",
           "#828282",
           "#5c5c5c",
           "#2b2b2b"
          ],
          "line": {
           "color": "#000000",
           "width": 1
          }
         },
         "opacity": 0.9,
         "showlegend": false,
         "textfont": {
          "size": 12
         },
         "textinfo": "label+percent",
         "title": {
          "font": {
           "family": "bold",
           "size": 18
          },
          "text": "Canada distribution<br>of Gender"
         },
         "type": "pie",
         "values": [
          56,
          14,
          2
         ],
         "visible": true
        },
        {
         "domain": {
          "x": [
           0,
           0.45
          ],
          "y": [
           0,
           0.45
          ]
         },
         "hole": 0.5,
         "hoverinfo": "label+percent",
         "labels": [
          "No",
          "Yes"
         ],
         "marker": {
          "colors": [
           "#ededed",
           "#d1d1d1",
           "#adadad",
           "#828282",
           "#5c5c5c",
           "#2b2b2b"
          ],
          "line": {
           "color": "#000000",
           "width": 1
          }
         },
         "opacity": 0.9,
         "showlegend": false,
         "textfont": {
          "size": 12
         },
         "textinfo": "label+percent",
         "title": {
          "font": {
           "family": "bold",
           "size": 18
          },
          "text": "Canada distribution<br>of self_employed"
         },
         "type": "pie",
         "values": [
          60,
          12
         ],
         "visible": false
        },
        {
         "domain": {
          "x": [
           0,
           0.45
          ],
          "y": [
           0,
           0.45
          ]
         },
         "hole": 0.5,
         "hoverinfo": "label+percent",
         "labels": [
          "No",
          "Yes"
         ],
         "marker": {
          "colors": [
           "#ededed",
           "#d1d1d1",
           "#adadad",
           "#828282",
           "#5c5c5c",
           "#2b2b2b"
          ],
          "line": {
           "color": "#000000",
           "width": 1
          }
         },
         "opacity": 0.9,
         "showlegend": false,
         "textfont": {
          "size": 12
         },
         "textinfo": "label+percent",
         "title": {
          "font": {
           "family": "bold",
           "size": 18
          },
          "text": "Canada distribution<br>of family_history"
         },
         "type": "pie",
         "values": [
          45,
          27
         ],
         "visible": false
        },
        {
         "domain": {
          "x": [
           0,
           0.45
          ],
          "y": [
           0,
           0.45
          ]
         },
         "hole": 0.5,
         "hoverinfo": "label+percent",
         "labels": [
          "Yes",
          "No"
         ],
         "marker": {
          "colors": [
           "#ededed",
           "#d1d1d1",
           "#adadad",
           "#828282",
           "#5c5c5c",
           "#2b2b2b"
          ],
          "line": {
           "color": "#000000",
           "width": 1
          }
         },
         "opacity": 0.9,
         "showlegend": false,
         "textfont": {
          "size": 12
         },
         "textinfo": "label+percent",
         "title": {
          "font": {
           "family": "bold",
           "size": 18
          },
          "text": "Canada distribution<br>of treatment"
         },
         "type": "pie",
         "values": [
          37,
          35
         ],
         "visible": false
        },
        {
         "domain": {
          "x": [
           0,
           0.45
          ],
          "y": [
           0,
           0.45
          ]
         },
         "hole": 0.5,
         "hoverinfo": "label+percent",
         "labels": [
          "Sometimes",
          "Never",
          "Often",
          "Rarely"
         ],
         "marker": {
          "colors": [
           "#ededed",
           "#d1d1d1",
           "#adadad",
           "#828282",
           "#5c5c5c",
           "#2b2b2b"
          ],
          "line": {
           "color": "#000000",
           "width": 1
          }
         },
         "opacity": 0.9,
         "showlegend": false,
         "textfont": {
          "size": 12
         },
         "textinfo": "label+percent",
         "title": {
          "font": {
           "family": "bold",
           "size": 18
          },
          "text": "Canada distribution<br>of work_interfere"
         },
         "type": "pie",
         "values": [
          32,
          18,
          13,
          9
         ],
         "visible": false
        },
        {
         "domain": {
          "x": [
           0,
           0.45
          ],
          "y": [
           0,
           0.45
          ]
         },
         "hole": 0.5,
         "hoverinfo": "label+percent",
         "labels": [
          "6-25",
          "26-100",
          "1-5",
          "100-500",
          "More than 1000",
          "500-1000"
         ],
         "marker": {
          "colors": [
           "#ededed",
           "#d1d1d1",
           "#adadad",
           "#828282",
           "#5c5c5c",
           "#2b2b2b"
          ],
          "line": {
           "color": "#000000",
           "width": 1
          }
         },
         "opacity": 0.9,
         "showlegend": false,
         "textfont": {
          "size": 12
         },
         "textinfo": "label+percent",
         "title": {
          "font": {
           "family": "bold",
           "size": 18
          },
          "text": "Canada distribution<br>of no_employees"
         },
         "type": "pie",
         "values": [
          21,
          18,
          11,
          11,
          10,
          1
         ],
         "visible": false
        },
        {
         "domain": {
          "x": [
           0,
           0.45
          ],
          "y": [
           0,
           0.45
          ]
         },
         "hole": 0.5,
         "hoverinfo": "label+percent",
         "labels": [
          "No",
          "Yes"
         ],
         "marker": {
          "colors": [
           "#ededed",
           "#d1d1d1",
           "#adadad",
           "#828282",
           "#5c5c5c",
           "#2b2b2b"
          ],
          "line": {
           "color": "#000000",
           "width": 1
          }
         },
         "opacity": 0.9,
         "showlegend": false,
         "textfont": {
          "size": 12
         },
         "textinfo": "label+percent",
         "title": {
          "font": {
           "family": "bold",
           "size": 18
          },
          "text": "Canada distribution<br>of remote_work"
         },
         "type": "pie",
         "values": [
          50,
          22
         ],
         "visible": false
        },
        {
         "domain": {
          "x": [
           0,
           0.45
          ],
          "y": [
           0,
           0.45
          ]
         },
         "hole": 0.5,
         "hoverinfo": "label+percent",
         "labels": [
          "Yes",
          "No"
         ],
         "marker": {
          "colors": [
           "#ededed",
           "#d1d1d1",
           "#adadad",
           "#828282",
           "#5c5c5c",
           "#2b2b2b"
          ],
          "line": {
           "color": "#000000",
           "width": 1
          }
         },
         "opacity": 0.9,
         "showlegend": false,
         "textfont": {
          "size": 12
         },
         "textinfo": "label+percent",
         "title": {
          "font": {
           "family": "bold",
           "size": 18
          },
          "text": "Canada distribution<br>of tech_company"
         },
         "type": "pie",
         "values": [
          56,
          16
         ],
         "visible": false
        },
        {
         "domain": {
          "x": [
           0,
           0.45
          ],
          "y": [
           0,
           0.45
          ]
         },
         "hole": 0.5,
         "hoverinfo": "label+percent",
         "labels": [
          "Yes",
          "Don't know",
          "No"
         ],
         "marker": {
          "colors": [
           "#ededed",
           "#d1d1d1",
           "#adadad",
           "#828282",
           "#5c5c5c",
           "#2b2b2b"
          ],
          "line": {
           "color": "#000000",
           "width": 1
          }
         },
         "opacity": 0.9,
         "showlegend": false,
         "textfont": {
          "size": 12
         },
         "textinfo": "label+percent",
         "title": {
          "font": {
           "family": "bold",
           "size": 18
          },
          "text": "Canada distribution<br>of benefits"
         },
         "type": "pie",
         "values": [
          29,
          22,
          21
         ],
         "visible": false
        },
        {
         "domain": {
          "x": [
           0,
           0.45
          ],
          "y": [
           0,
           0.45
          ]
         },
         "hole": 0.5,
         "hoverinfo": "label+percent",
         "labels": [
          "Yes",
          "No",
          "Not sure"
         ],
         "marker": {
          "colors": [
           "#ededed",
           "#d1d1d1",
           "#adadad",
           "#828282",
           "#5c5c5c",
           "#2b2b2b"
          ],
          "line": {
           "color": "#000000",
           "width": 1
          }
         },
         "opacity": 0.9,
         "showlegend": false,
         "textfont": {
          "size": 12
         },
         "textinfo": "label+percent",
         "title": {
          "font": {
           "family": "bold",
           "size": 18
          },
          "text": "Canada distribution<br>of care_options"
         },
         "type": "pie",
         "values": [
          28,
          22,
          22
         ],
         "visible": false
        },
        {
         "domain": {
          "x": [
           0,
           0.45
          ],
          "y": [
           0,
           0.45
          ]
         },
         "hole": 0.5,
         "hoverinfo": "label+percent",
         "labels": [
          "No",
          "Yes",
          "Don't know"
         ],
         "marker": {
          "colors": [
           "#ededed",
           "#d1d1d1",
           "#adadad",
           "#828282",
           "#5c5c5c",
           "#2b2b2b"
          ],
          "line": {
           "color": "#000000",
           "width": 1
          }
         },
         "opacity": 0.9,
         "showlegend": false,
         "textfont": {
          "size": 12
         },
         "textinfo": "label+percent",
         "title": {
          "font": {
           "family": "bold",
           "size": 18
          },
          "text": "Canada distribution<br>of wellness_program"
         },
         "type": "pie",
         "values": [
          48,
          13,
          11
         ],
         "visible": false
        },
        {
         "domain": {
          "x": [
           0,
           0.45
          ],
          "y": [
           0,
           0.45
          ]
         },
         "hole": 0.5,
         "hoverinfo": "label+percent",
         "labels": [
          "No",
          "Don't know",
          "Yes"
         ],
         "marker": {
          "colors": [
           "#ededed",
           "#d1d1d1",
           "#adadad",
           "#828282",
           "#5c5c5c",
           "#2b2b2b"
          ],
          "line": {
           "color": "#000000",
           "width": 1
          }
         },
         "opacity": 0.9,
         "showlegend": false,
         "textfont": {
          "size": 12
         },
         "textinfo": "label+percent",
         "title": {
          "font": {
           "family": "bold",
           "size": 18
          },
          "text": "Canada distribution<br>of seek_help"
         },
         "type": "pie",
         "values": [
          42,
          21,
          9
         ],
         "visible": false
        },
        {
         "domain": {
          "x": [
           0,
           0.45
          ],
          "y": [
           0,
           0.45
          ]
         },
         "hole": 0.5,
         "hoverinfo": "label+percent",
         "labels": [
          "Don't know",
          "Yes",
          "No"
         ],
         "marker": {
          "colors": [
           "#ededed",
           "#d1d1d1",
           "#adadad",
           "#828282",
           "#5c5c5c",
           "#2b2b2b"
          ],
          "line": {
           "color": "#000000",
           "width": 1
          }
         },
         "opacity": 0.9,
         "showlegend": false,
         "textfont": {
          "size": 12
         },
         "textinfo": "label+percent",
         "title": {
          "font": {
           "family": "bold",
           "size": 18
          },
          "text": "Canada distribution<br>of anonymity"
         },
         "type": "pie",
         "values": [
          45,
          22,
          5
         ],
         "visible": false
        },
        {
         "domain": {
          "x": [
           0,
           0.45
          ],
          "y": [
           0,
           0.45
          ]
         },
         "hole": 0.5,
         "hoverinfo": "label+percent",
         "labels": [
          "Don't know",
          "Somewhat easy",
          "Somewhat difficult",
          "Very easy",
          "Very difficult"
         ],
         "marker": {
          "colors": [
           "#ededed",
           "#d1d1d1",
           "#adadad",
           "#828282",
           "#5c5c5c",
           "#2b2b2b"
          ],
          "line": {
           "color": "#000000",
           "width": 1
          }
         },
         "opacity": 0.9,
         "showlegend": false,
         "textfont": {
          "size": 12
         },
         "textinfo": "label+percent",
         "title": {
          "font": {
           "family": "bold",
           "size": 18
          },
          "text": "Canada distribution<br>of leave"
         },
         "type": "pie",
         "values": [
          26,
          18,
          10,
          9,
          9
         ],
         "visible": false
        },
        {
         "domain": {
          "x": [
           0,
           0.45
          ],
          "y": [
           0,
           0.45
          ]
         },
         "hole": 0.5,
         "hoverinfo": "label+percent",
         "labels": [
          "No",
          "Maybe",
          "Yes"
         ],
         "marker": {
          "colors": [
           "#ededed",
           "#d1d1d1",
           "#adadad",
           "#828282",
           "#5c5c5c",
           "#2b2b2b"
          ],
          "line": {
           "color": "#000000",
           "width": 1
          }
         },
         "opacity": 0.9,
         "showlegend": false,
         "textfont": {
          "size": 12
         },
         "textinfo": "label+percent",
         "title": {
          "font": {
           "family": "bold",
           "size": 18
          },
          "text": "Canada distribution<br>of mental_health_consequence"
         },
         "type": "pie",
         "values": [
          31,
          25,
          16
         ],
         "visible": false
        },
        {
         "domain": {
          "x": [
           0,
           0.45
          ],
          "y": [
           0,
           0.45
          ]
         },
         "hole": 0.5,
         "hoverinfo": "label+percent",
         "labels": [
          "No",
          "Maybe",
          "Yes"
         ],
         "marker": {
          "colors": [
           "#ededed",
           "#d1d1d1",
           "#adadad",
           "#828282",
           "#5c5c5c",
           "#2b2b2b"
          ],
          "line": {
           "color": "#000000",
           "width": 1
          }
         },
         "opacity": 0.9,
         "showlegend": false,
         "textfont": {
          "size": 12
         },
         "textinfo": "label+percent",
         "title": {
          "font": {
           "family": "bold",
           "size": 18
          },
          "text": "Canada distribution<br>of phys_health_consequence"
         },
         "type": "pie",
         "values": [
          56,
          14,
          2
         ],
         "visible": false
        },
        {
         "domain": {
          "x": [
           0,
           0.45
          ],
          "y": [
           0,
           0.45
          ]
         },
         "hole": 0.5,
         "hoverinfo": "label+percent",
         "labels": [
          "Some of them",
          "No",
          "Yes"
         ],
         "marker": {
          "colors": [
           "#ededed",
           "#d1d1d1",
           "#adadad",
           "#828282",
           "#5c5c5c",
           "#2b2b2b"
          ],
          "line": {
           "color": "#000000",
           "width": 1
          }
         },
         "opacity": 0.9,
         "showlegend": false,
         "textfont": {
          "size": 12
         },
         "textinfo": "label+percent",
         "title": {
          "font": {
           "family": "bold",
           "size": 18
          },
          "text": "Canada distribution<br>of coworkers"
         },
         "type": "pie",
         "values": [
          49,
          12,
          11
         ],
         "visible": false
        },
        {
         "domain": {
          "x": [
           0,
           0.45
          ],
          "y": [
           0,
           0.45
          ]
         },
         "hole": 0.5,
         "hoverinfo": "label+percent",
         "labels": [
          "Yes",
          "Some of them",
          "No"
         ],
         "marker": {
          "colors": [
           "#ededed",
           "#d1d1d1",
           "#adadad",
           "#828282",
           "#5c5c5c",
           "#2b2b2b"
          ],
          "line": {
           "color": "#000000",
           "width": 1
          }
         },
         "opacity": 0.9,
         "showlegend": false,
         "textfont": {
          "size": 12
         },
         "textinfo": "label+percent",
         "title": {
          "font": {
           "family": "bold",
           "size": 18
          },
          "text": "Canada distribution<br>of supervisor"
         },
         "type": "pie",
         "values": [
          28,
          24,
          20
         ],
         "visible": false
        },
        {
         "domain": {
          "x": [
           0,
           0.45
          ],
          "y": [
           0,
           0.45
          ]
         },
         "hole": 0.5,
         "hoverinfo": "label+percent",
         "labels": [
          "No",
          "Maybe",
          "Yes"
         ],
         "marker": {
          "colors": [
           "#ededed",
           "#d1d1d1",
           "#adadad",
           "#828282",
           "#5c5c5c",
           "#2b2b2b"
          ],
          "line": {
           "color": "#000000",
           "width": 1
          }
         },
         "opacity": 0.9,
         "showlegend": false,
         "textfont": {
          "size": 12
         },
         "textinfo": "label+percent",
         "title": {
          "font": {
           "family": "bold",
           "size": 18
          },
          "text": "Canada distribution<br>of mental_health_interview"
         },
         "type": "pie",
         "values": [
          60,
          10,
          2
         ],
         "visible": false
        },
        {
         "domain": {
          "x": [
           0,
           0.45
          ],
          "y": [
           0,
           0.45
          ]
         },
         "hole": 0.5,
         "hoverinfo": "label+percent",
         "labels": [
          "Maybe",
          "No",
          "Yes"
         ],
         "marker": {
          "colors": [
           "#ededed",
           "#d1d1d1",
           "#adadad",
           "#828282",
           "#5c5c5c",
           "#2b2b2b"
          ],
          "line": {
           "color": "#000000",
           "width": 1
          }
         },
         "opacity": 0.9,
         "showlegend": false,
         "textfont": {
          "size": 12
         },
         "textinfo": "label+percent",
         "title": {
          "font": {
           "family": "bold",
           "size": 18
          },
          "text": "Canada distribution<br>of phys_health_interview"
         },
         "type": "pie",
         "values": [
          33,
          30,
          9
         ],
         "visible": false
        },
        {
         "domain": {
          "x": [
           0,
           0.45
          ],
          "y": [
           0,
           0.45
          ]
         },
         "hole": 0.5,
         "hoverinfo": "label+percent",
         "labels": [
          "Don't know",
          "No",
          "Yes"
         ],
         "marker": {
          "colors": [
           "#ededed",
           "#d1d1d1",
           "#adadad",
           "#828282",
           "#5c5c5c",
           "#2b2b2b"
          ],
          "line": {
           "color": "#000000",
           "width": 1
          }
         },
         "opacity": 0.9,
         "showlegend": false,
         "textfont": {
          "size": 12
         },
         "textinfo": "label+percent",
         "title": {
          "font": {
           "family": "bold",
           "size": 18
          },
          "text": "Canada distribution<br>of mental_vs_physical"
         },
         "type": "pie",
         "values": [
          33,
          20,
          19
         ],
         "visible": false
        },
        {
         "domain": {
          "x": [
           0,
           0.45
          ],
          "y": [
           0,
           0.45
          ]
         },
         "hole": 0.5,
         "hoverinfo": "label+percent",
         "labels": [
          "No",
          "Yes"
         ],
         "marker": {
          "colors": [
           "#ededed",
           "#d1d1d1",
           "#adadad",
           "#828282",
           "#5c5c5c",
           "#2b2b2b"
          ],
          "line": {
           "color": "#000000",
           "width": 1
          }
         },
         "opacity": 0.9,
         "showlegend": false,
         "textfont": {
          "size": 12
         },
         "textinfo": "label+percent",
         "title": {
          "font": {
           "family": "bold",
           "size": 18
          },
          "text": "Canada distribution<br>of obs_consequence"
         },
         "type": "pie",
         "values": [
          62,
          10
         ],
         "visible": false
        },
        {
         "domain": {
          "x": [
           0.55,
           1
          ],
          "y": [
           0,
           0.45
          ]
         },
         "hole": 0.5,
         "hoverinfo": "label+percent",
         "labels": [
          "M",
          "other",
          "F"
         ],
         "marker": {
          "colors": [
           "#ededed",
           "#d1d1d1",
           "#adadad",
           "#828282",
           "#5c5c5c",
           "#2b2b2b"
          ],
          "line": {
           "color": "#000000",
           "width": 1
          }
         },
         "opacity": 0.9,
         "showlegend": false,
         "textfont": {
          "size": 12
         },
         "textinfo": "label+percent",
         "title": {
          "font": {
           "family": "bold",
           "size": 18
          },
          "text": "Germany distribution<br>of Gender"
         },
         "type": "pie",
         "values": [
          42,
          2,
          1
         ],
         "visible": true
        },
        {
         "domain": {
          "x": [
           0.55,
           1
          ],
          "y": [
           0,
           0.45
          ]
         },
         "hole": 0.5,
         "hoverinfo": "label+percent",
         "labels": [
          "No",
          "Yes"
         ],
         "marker": {
          "colors": [
           "#ededed",
           "#d1d1d1",
           "#adadad",
           "#828282",
           "#5c5c5c",
           "#2b2b2b"
          ],
          "line": {
           "color": "#000000",
           "width": 1
          }
         },
         "opacity": 0.9,
         "showlegend": false,
         "textfont": {
          "size": 12
         },
         "textinfo": "label+percent",
         "title": {
          "font": {
           "family": "bold",
           "size": 18
          },
          "text": "Germany distribution<br>of self_employed"
         },
         "type": "pie",
         "values": [
          33,
          12
         ],
         "visible": false
        },
        {
         "domain": {
          "x": [
           0.55,
           1
          ],
          "y": [
           0,
           0.45
          ]
         },
         "hole": 0.5,
         "hoverinfo": "label+percent",
         "labels": [
          "No",
          "Yes"
         ],
         "marker": {
          "colors": [
           "#ededed",
           "#d1d1d1",
           "#adadad",
           "#828282",
           "#5c5c5c",
           "#2b2b2b"
          ],
          "line": {
           "color": "#000000",
           "width": 1
          }
         },
         "opacity": 0.9,
         "showlegend": false,
         "textfont": {
          "size": 12
         },
         "textinfo": "label+percent",
         "title": {
          "font": {
           "family": "bold",
           "size": 18
          },
          "text": "Germany distribution<br>of family_history"
         },
         "type": "pie",
         "values": [
          31,
          14
         ],
         "visible": false
        },
        {
         "domain": {
          "x": [
           0.55,
           1
          ],
          "y": [
           0,
           0.45
          ]
         },
         "hole": 0.5,
         "hoverinfo": "label+percent",
         "labels": [
          "No",
          "Yes"
         ],
         "marker": {
          "colors": [
           "#ededed",
           "#d1d1d1",
           "#adadad",
           "#828282",
           "#5c5c5c",
           "#2b2b2b"
          ],
          "line": {
           "color": "#000000",
           "width": 1
          }
         },
         "opacity": 0.9,
         "showlegend": false,
         "textfont": {
          "size": 12
         },
         "textinfo": "label+percent",
         "title": {
          "font": {
           "family": "bold",
           "size": 18
          },
          "text": "Germany distribution<br>of treatment"
         },
         "type": "pie",
         "values": [
          24,
          21
         ],
         "visible": false
        },
        {
         "domain": {
          "x": [
           0.55,
           1
          ],
          "y": [
           0,
           0.45
          ]
         },
         "hole": 0.5,
         "hoverinfo": "label+percent",
         "labels": [
          "Sometimes",
          "Often",
          "Rarely",
          "Never"
         ],
         "marker": {
          "colors": [
           "#ededed",
           "#d1d1d1",
           "#adadad",
           "#828282",
           "#5c5c5c",
           "#2b2b2b"
          ],
          "line": {
           "color": "#000000",
           "width": 1
          }
         },
         "opacity": 0.9,
         "showlegend": false,
         "textfont": {
          "size": 12
         },
         "textinfo": "label+percent",
         "title": {
          "font": {
           "family": "bold",
           "size": 18
          },
          "text": "Germany distribution<br>of work_interfere"
         },
         "type": "pie",
         "values": [
          27,
          7,
          6,
          5
         ],
         "visible": false
        },
        {
         "domain": {
          "x": [
           0.55,
           1
          ],
          "y": [
           0,
           0.45
          ]
         },
         "hole": 0.5,
         "hoverinfo": "label+percent",
         "labels": [
          "6-25",
          "26-100",
          "1-5",
          "100-500",
          "More than 1000",
          "500-1000"
         ],
         "marker": {
          "colors": [
           "#ededed",
           "#d1d1d1",
           "#adadad",
           "#828282",
           "#5c5c5c",
           "#2b2b2b"
          ],
          "line": {
           "color": "#000000",
           "width": 1
          }
         },
         "opacity": 0.9,
         "showlegend": false,
         "textfont": {
          "size": 12
         },
         "textinfo": "label+percent",
         "title": {
          "font": {
           "family": "bold",
           "size": 18
          },
          "text": "Germany distribution<br>of no_employees"
         },
         "type": "pie",
         "values": [
          14,
          14,
          7,
          5,
          3,
          2
         ],
         "visible": false
        },
        {
         "domain": {
          "x": [
           0.55,
           1
          ],
          "y": [
           0,
           0.45
          ]
         },
         "hole": 0.5,
         "hoverinfo": "label+percent",
         "labels": [
          "No",
          "Yes"
         ],
         "marker": {
          "colors": [
           "#ededed",
           "#d1d1d1",
           "#adadad",
           "#828282",
           "#5c5c5c",
           "#2b2b2b"
          ],
          "line": {
           "color": "#000000",
           "width": 1
          }
         },
         "opacity": 0.9,
         "showlegend": false,
         "textfont": {
          "size": 12
         },
         "textinfo": "label+percent",
         "title": {
          "font": {
           "family": "bold",
           "size": 18
          },
          "text": "Germany distribution<br>of remote_work"
         },
         "type": "pie",
         "values": [
          29,
          16
         ],
         "visible": false
        },
        {
         "domain": {
          "x": [
           0.55,
           1
          ],
          "y": [
           0,
           0.45
          ]
         },
         "hole": 0.5,
         "hoverinfo": "label+percent",
         "labels": [
          "Yes",
          "No"
         ],
         "marker": {
          "colors": [
           "#ededed",
           "#d1d1d1",
           "#adadad",
           "#828282",
           "#5c5c5c",
           "#2b2b2b"
          ],
          "line": {
           "color": "#000000",
           "width": 1
          }
         },
         "opacity": 0.9,
         "showlegend": false,
         "textfont": {
          "size": 12
         },
         "textinfo": "label+percent",
         "title": {
          "font": {
           "family": "bold",
           "size": 18
          },
          "text": "Germany distribution<br>of tech_company"
         },
         "type": "pie",
         "values": [
          40,
          5
         ],
         "visible": false
        },
        {
         "domain": {
          "x": [
           0.55,
           1
          ],
          "y": [
           0,
           0.45
          ]
         },
         "hole": 0.5,
         "hoverinfo": "label+percent",
         "labels": [
          "Don't know",
          "No",
          "Yes"
         ],
         "marker": {
          "colors": [
           "#ededed",
           "#d1d1d1",
           "#adadad",
           "#828282",
           "#5c5c5c",
           "#2b2b2b"
          ],
          "line": {
           "color": "#000000",
           "width": 1
          }
         },
         "opacity": 0.9,
         "showlegend": false,
         "textfont": {
          "size": 12
         },
         "textinfo": "label+percent",
         "title": {
          "font": {
           "family": "bold",
           "size": 18
          },
          "text": "Germany distribution<br>of benefits"
         },
         "type": "pie",
         "values": [
          20,
          20,
          5
         ],
         "visible": false
        },
        {
         "domain": {
          "x": [
           0.55,
           1
          ],
          "y": [
           0,
           0.45
          ]
         },
         "hole": 0.5,
         "hoverinfo": "label+percent",
         "labels": [
          "No",
          "Not sure",
          "Yes"
         ],
         "marker": {
          "colors": [
           "#ededed",
           "#d1d1d1",
           "#adadad",
           "#828282",
           "#5c5c5c",
           "#2b2b2b"
          ],
          "line": {
           "color": "#000000",
           "width": 1
          }
         },
         "opacity": 0.9,
         "showlegend": false,
         "textfont": {
          "size": 12
         },
         "textinfo": "label+percent",
         "title": {
          "font": {
           "family": "bold",
           "size": 18
          },
          "text": "Germany distribution<br>of care_options"
         },
         "type": "pie",
         "values": [
          26,
          11,
          8
         ],
         "visible": false
        },
        {
         "domain": {
          "x": [
           0.55,
           1
          ],
          "y": [
           0,
           0.45
          ]
         },
         "hole": 0.5,
         "hoverinfo": "label+percent",
         "labels": [
          "No",
          "Don't know",
          "Yes"
         ],
         "marker": {
          "colors": [
           "#ededed",
           "#d1d1d1",
           "#adadad",
           "#828282",
           "#5c5c5c",
           "#2b2b2b"
          ],
          "line": {
           "color": "#000000",
           "width": 1
          }
         },
         "opacity": 0.9,
         "showlegend": false,
         "textfont": {
          "size": 12
         },
         "textinfo": "label+percent",
         "title": {
          "font": {
           "family": "bold",
           "size": 18
          },
          "text": "Germany distribution<br>of wellness_program"
         },
         "type": "pie",
         "values": [
          34,
          7,
          4
         ],
         "visible": false
        },
        {
         "domain": {
          "x": [
           0.55,
           1
          ],
          "y": [
           0,
           0.45
          ]
         },
         "hole": 0.5,
         "hoverinfo": "label+percent",
         "labels": [
          "No",
          "Don't know",
          "Yes"
         ],
         "marker": {
          "colors": [
           "#ededed",
           "#d1d1d1",
           "#adadad",
           "#828282",
           "#5c5c5c",
           "#2b2b2b"
          ],
          "line": {
           "color": "#000000",
           "width": 1
          }
         },
         "opacity": 0.9,
         "showlegend": false,
         "textfont": {
          "size": 12
         },
         "textinfo": "label+percent",
         "title": {
          "font": {
           "family": "bold",
           "size": 18
          },
          "text": "Germany distribution<br>of seek_help"
         },
         "type": "pie",
         "values": [
          34,
          7,
          4
         ],
         "visible": false
        },
        {
         "domain": {
          "x": [
           0.55,
           1
          ],
          "y": [
           0,
           0.45
          ]
         },
         "hole": 0.5,
         "hoverinfo": "label+percent",
         "labels": [
          "Don't know",
          "Yes",
          "No"
         ],
         "marker": {
          "colors": [
           "#ededed",
           "#d1d1d1",
           "#adadad",
           "#828282",
           "#5c5c5c",
           "#2b2b2b"
          ],
          "line": {
           "color": "#000000",
           "width": 1
          }
         },
         "opacity": 0.9,
         "showlegend": false,
         "textfont": {
          "size": 12
         },
         "textinfo": "label+percent",
         "title": {
          "font": {
           "family": "bold",
           "size": 18
          },
          "text": "Germany distribution<br>of anonymity"
         },
         "type": "pie",
         "values": [
          27,
          17,
          1
         ],
         "visible": false
        },
        {
         "domain": {
          "x": [
           0.55,
           1
          ],
          "y": [
           0,
           0.45
          ]
         },
         "hole": 0.5,
         "hoverinfo": "label+percent",
         "labels": [
          "Somewhat easy",
          "Very easy",
          "Somewhat difficult",
          "Don't know",
          "Very difficult"
         ],
         "marker": {
          "colors": [
           "#ededed",
           "#d1d1d1",
           "#adadad",
           "#828282",
           "#5c5c5c",
           "#2b2b2b"
          ],
          "line": {
           "color": "#000000",
           "width": 1
          }
         },
         "opacity": 0.9,
         "showlegend": false,
         "textfont": {
          "size": 12
         },
         "textinfo": "label+percent",
         "title": {
          "font": {
           "family": "bold",
           "size": 18
          },
          "text": "Germany distribution<br>of leave"
         },
         "type": "pie",
         "values": [
          16,
          13,
          7,
          7,
          2
         ],
         "visible": false
        },
        {
         "domain": {
          "x": [
           0.55,
           1
          ],
          "y": [
           0,
           0.45
          ]
         },
         "hole": 0.5,
         "hoverinfo": "label+percent",
         "labels": [
          "No",
          "Maybe",
          "Yes"
         ],
         "marker": {
          "colors": [
           "#ededed",
           "#d1d1d1",
           "#adadad",
           "#828282",
           "#5c5c5c",
           "#2b2b2b"
          ],
          "line": {
           "color": "#000000",
           "width": 1
          }
         },
         "opacity": 0.9,
         "showlegend": false,
         "textfont": {
          "size": 12
         },
         "textinfo": "label+percent",
         "title": {
          "font": {
           "family": "bold",
           "size": 18
          },
          "text": "Germany distribution<br>of mental_health_consequence"
         },
         "type": "pie",
         "values": [
          28,
          12,
          5
         ],
         "visible": false
        },
        {
         "domain": {
          "x": [
           0.55,
           1
          ],
          "y": [
           0,
           0.45
          ]
         },
         "hole": 0.5,
         "hoverinfo": "label+percent",
         "labels": [
          "No",
          "Maybe",
          "Yes"
         ],
         "marker": {
          "colors": [
           "#ededed",
           "#d1d1d1",
           "#adadad",
           "#828282",
           "#5c5c5c",
           "#2b2b2b"
          ],
          "line": {
           "color": "#000000",
           "width": 1
          }
         },
         "opacity": 0.9,
         "showlegend": false,
         "textfont": {
          "size": 12
         },
         "textinfo": "label+percent",
         "title": {
          "font": {
           "family": "bold",
           "size": 18
          },
          "text": "Germany distribution<br>of phys_health_consequence"
         },
         "type": "pie",
         "values": [
          35,
          7,
          3
         ],
         "visible": false
        },
        {
         "domain": {
          "x": [
           0.55,
           1
          ],
          "y": [
           0,
           0.45
          ]
         },
         "hole": 0.5,
         "hoverinfo": "label+percent",
         "labels": [
          "Some of them",
          "Yes",
          "No"
         ],
         "marker": {
          "colors": [
           "#ededed",
           "#d1d1d1",
           "#adadad",
           "#828282",
           "#5c5c5c",
           "#2b2b2b"
          ],
          "line": {
           "color": "#000000",
           "width": 1
          }
         },
         "opacity": 0.9,
         "showlegend": false,
         "textfont": {
          "size": 12
         },
         "textinfo": "label+percent",
         "title": {
          "font": {
           "family": "bold",
           "size": 18
          },
          "text": "Germany distribution<br>of coworkers"
         },
         "type": "pie",
         "values": [
          29,
          13,
          3
         ],
         "visible": false
        },
        {
         "domain": {
          "x": [
           0.55,
           1
          ],
          "y": [
           0,
           0.45
          ]
         },
         "hole": 0.5,
         "hoverinfo": "label+percent",
         "labels": [
          "Yes",
          "Some of them",
          "No"
         ],
         "marker": {
          "colors": [
           "#ededed",
           "#d1d1d1",
           "#adadad",
           "#828282",
           "#5c5c5c",
           "#2b2b2b"
          ],
          "line": {
           "color": "#000000",
           "width": 1
          }
         },
         "opacity": 0.9,
         "showlegend": false,
         "textfont": {
          "size": 12
         },
         "textinfo": "label+percent",
         "title": {
          "font": {
           "family": "bold",
           "size": 18
          },
          "text": "Germany distribution<br>of supervisor"
         },
         "type": "pie",
         "values": [
          22,
          14,
          9
         ],
         "visible": false
        },
        {
         "domain": {
          "x": [
           0.55,
           1
          ],
          "y": [
           0,
           0.45
          ]
         },
         "hole": 0.5,
         "hoverinfo": "label+percent",
         "labels": [
          "No",
          "Maybe",
          "Yes"
         ],
         "marker": {
          "colors": [
           "#ededed",
           "#d1d1d1",
           "#adadad",
           "#828282",
           "#5c5c5c",
           "#2b2b2b"
          ],
          "line": {
           "color": "#000000",
           "width": 1
          }
         },
         "opacity": 0.9,
         "showlegend": false,
         "textfont": {
          "size": 12
         },
         "textinfo": "label+percent",
         "title": {
          "font": {
           "family": "bold",
           "size": 18
          },
          "text": "Germany distribution<br>of mental_health_interview"
         },
         "type": "pie",
         "values": [
          20,
          19,
          6
         ],
         "visible": false
        },
        {
         "domain": {
          "x": [
           0.55,
           1
          ],
          "y": [
           0,
           0.45
          ]
         },
         "hole": 0.5,
         "hoverinfo": "label+percent",
         "labels": [
          "Maybe",
          "Yes",
          "No"
         ],
         "marker": {
          "colors": [
           "#ededed",
           "#d1d1d1",
           "#adadad",
           "#828282",
           "#5c5c5c",
           "#2b2b2b"
          ],
          "line": {
           "color": "#000000",
           "width": 1
          }
         },
         "opacity": 0.9,
         "showlegend": false,
         "textfont": {
          "size": 12
         },
         "textinfo": "label+percent",
         "title": {
          "font": {
           "family": "bold",
           "size": 18
          },
          "text": "Germany distribution<br>of phys_health_interview"
         },
         "type": "pie",
         "values": [
          18,
          16,
          11
         ],
         "visible": false
        },
        {
         "domain": {
          "x": [
           0.55,
           1
          ],
          "y": [
           0,
           0.45
          ]
         },
         "hole": 0.5,
         "hoverinfo": "label+percent",
         "labels": [
          "Don't know",
          "Yes",
          "No"
         ],
         "marker": {
          "colors": [
           "#ededed",
           "#d1d1d1",
           "#adadad",
           "#828282",
           "#5c5c5c",
           "#2b2b2b"
          ],
          "line": {
           "color": "#000000",
           "width": 1
          }
         },
         "opacity": 0.9,
         "showlegend": false,
         "textfont": {
          "size": 12
         },
         "textinfo": "label+percent",
         "title": {
          "font": {
           "family": "bold",
           "size": 18
          },
          "text": "Germany distribution<br>of mental_vs_physical"
         },
         "type": "pie",
         "values": [
          19,
          17,
          9
         ],
         "visible": false
        },
        {
         "domain": {
          "x": [
           0.55,
           1
          ],
          "y": [
           0,
           0.45
          ]
         },
         "hole": 0.5,
         "hoverinfo": "label+percent",
         "labels": [
          "No",
          "Yes"
         ],
         "marker": {
          "colors": [
           "#ededed",
           "#d1d1d1",
           "#adadad",
           "#828282",
           "#5c5c5c",
           "#2b2b2b"
          ],
          "line": {
           "color": "#000000",
           "width": 1
          }
         },
         "opacity": 0.9,
         "showlegend": false,
         "textfont": {
          "size": 12
         },
         "textinfo": "label+percent",
         "title": {
          "font": {
           "family": "bold",
           "size": 18
          },
          "text": "Germany distribution<br>of obs_consequence"
         },
         "type": "pie",
         "values": [
          40,
          5
         ],
         "visible": false
        }
       ],
       "layout": {
        "annotations": [
         {
          "align": "left",
          "font": {
           "size": 15
          },
          "showarrow": false,
          "text": "<b>Choose<br>Column<b> : ",
          "x": 0.48,
          "y": 1,
          "yref": "paper"
         }
        ],
        "font": {
         "family": "bold"
        },
        "height": 1000,
        "margin": {
         "b": 0,
         "l": 0,
         "r": 0,
         "t": 0
        },
        "paper_bgcolor": "#edf2c7",
        "template": {
         "data": {
          "bar": [
           {
            "error_x": {
             "color": "#2a3f5f"
            },
            "error_y": {
             "color": "#2a3f5f"
            },
            "marker": {
             "line": {
              "color": "#E5ECF6",
              "width": 0.5
             },
             "pattern": {
              "fillmode": "overlay",
              "size": 10,
              "solidity": 0.2
             }
            },
            "type": "bar"
           }
          ],
          "barpolar": [
           {
            "marker": {
             "line": {
              "color": "#E5ECF6",
              "width": 0.5
             },
             "pattern": {
              "fillmode": "overlay",
              "size": 10,
              "solidity": 0.2
             }
            },
            "type": "barpolar"
           }
          ],
          "carpet": [
           {
            "aaxis": {
             "endlinecolor": "#2a3f5f",
             "gridcolor": "white",
             "linecolor": "white",
             "minorgridcolor": "white",
             "startlinecolor": "#2a3f5f"
            },
            "baxis": {
             "endlinecolor": "#2a3f5f",
             "gridcolor": "white",
             "linecolor": "white",
             "minorgridcolor": "white",
             "startlinecolor": "#2a3f5f"
            },
            "type": "carpet"
           }
          ],
          "choropleth": [
           {
            "colorbar": {
             "outlinewidth": 0,
             "ticks": ""
            },
            "type": "choropleth"
           }
          ],
          "contour": [
           {
            "colorbar": {
             "outlinewidth": 0,
             "ticks": ""
            },
            "colorscale": [
             [
              0,
              "#0d0887"
             ],
             [
              0.1111111111111111,
              "#46039f"
             ],
             [
              0.2222222222222222,
              "#7201a8"
             ],
             [
              0.3333333333333333,
              "#9c179e"
             ],
             [
              0.4444444444444444,
              "#bd3786"
             ],
             [
              0.5555555555555556,
              "#d8576b"
             ],
             [
              0.6666666666666666,
              "#ed7953"
             ],
             [
              0.7777777777777778,
              "#fb9f3a"
             ],
             [
              0.8888888888888888,
              "#fdca26"
             ],
             [
              1,
              "#f0f921"
             ]
            ],
            "type": "contour"
           }
          ],
          "contourcarpet": [
           {
            "colorbar": {
             "outlinewidth": 0,
             "ticks": ""
            },
            "type": "contourcarpet"
           }
          ],
          "heatmap": [
           {
            "colorbar": {
             "outlinewidth": 0,
             "ticks": ""
            },
            "colorscale": [
             [
              0,
              "#0d0887"
             ],
             [
              0.1111111111111111,
              "#46039f"
             ],
             [
              0.2222222222222222,
              "#7201a8"
             ],
             [
              0.3333333333333333,
              "#9c179e"
             ],
             [
              0.4444444444444444,
              "#bd3786"
             ],
             [
              0.5555555555555556,
              "#d8576b"
             ],
             [
              0.6666666666666666,
              "#ed7953"
             ],
             [
              0.7777777777777778,
              "#fb9f3a"
             ],
             [
              0.8888888888888888,
              "#fdca26"
             ],
             [
              1,
              "#f0f921"
             ]
            ],
            "type": "heatmap"
           }
          ],
          "heatmapgl": [
           {
            "colorbar": {
             "outlinewidth": 0,
             "ticks": ""
            },
            "colorscale": [
             [
              0,
              "#0d0887"
             ],
             [
              0.1111111111111111,
              "#46039f"
             ],
             [
              0.2222222222222222,
              "#7201a8"
             ],
             [
              0.3333333333333333,
              "#9c179e"
             ],
             [
              0.4444444444444444,
              "#bd3786"
             ],
             [
              0.5555555555555556,
              "#d8576b"
             ],
             [
              0.6666666666666666,
              "#ed7953"
             ],
             [
              0.7777777777777778,
              "#fb9f3a"
             ],
             [
              0.8888888888888888,
              "#fdca26"
             ],
             [
              1,
              "#f0f921"
             ]
            ],
            "type": "heatmapgl"
           }
          ],
          "histogram": [
           {
            "marker": {
             "pattern": {
              "fillmode": "overlay",
              "size": 10,
              "solidity": 0.2
             }
            },
            "type": "histogram"
           }
          ],
          "histogram2d": [
           {
            "colorbar": {
             "outlinewidth": 0,
             "ticks": ""
            },
            "colorscale": [
             [
              0,
              "#0d0887"
             ],
             [
              0.1111111111111111,
              "#46039f"
             ],
             [
              0.2222222222222222,
              "#7201a8"
             ],
             [
              0.3333333333333333,
              "#9c179e"
             ],
             [
              0.4444444444444444,
              "#bd3786"
             ],
             [
              0.5555555555555556,
              "#d8576b"
             ],
             [
              0.6666666666666666,
              "#ed7953"
             ],
             [
              0.7777777777777778,
              "#fb9f3a"
             ],
             [
              0.8888888888888888,
              "#fdca26"
             ],
             [
              1,
              "#f0f921"
             ]
            ],
            "type": "histogram2d"
           }
          ],
          "histogram2dcontour": [
           {
            "colorbar": {
             "outlinewidth": 0,
             "ticks": ""
            },
            "colorscale": [
             [
              0,
              "#0d0887"
             ],
             [
              0.1111111111111111,
              "#46039f"
             ],
             [
              0.2222222222222222,
              "#7201a8"
             ],
             [
              0.3333333333333333,
              "#9c179e"
             ],
             [
              0.4444444444444444,
              "#bd3786"
             ],
             [
              0.5555555555555556,
              "#d8576b"
             ],
             [
              0.6666666666666666,
              "#ed7953"
             ],
             [
              0.7777777777777778,
              "#fb9f3a"
             ],
             [
              0.8888888888888888,
              "#fdca26"
             ],
             [
              1,
              "#f0f921"
             ]
            ],
            "type": "histogram2dcontour"
           }
          ],
          "mesh3d": [
           {
            "colorbar": {
             "outlinewidth": 0,
             "ticks": ""
            },
            "type": "mesh3d"
           }
          ],
          "parcoords": [
           {
            "line": {
             "colorbar": {
              "outlinewidth": 0,
              "ticks": ""
             }
            },
            "type": "parcoords"
           }
          ],
          "pie": [
           {
            "automargin": true,
            "type": "pie"
           }
          ],
          "scatter": [
           {
            "fillpattern": {
             "fillmode": "overlay",
             "size": 10,
             "solidity": 0.2
            },
            "type": "scatter"
           }
          ],
          "scatter3d": [
           {
            "line": {
             "colorbar": {
              "outlinewidth": 0,
              "ticks": ""
             }
            },
            "marker": {
             "colorbar": {
              "outlinewidth": 0,
              "ticks": ""
             }
            },
            "type": "scatter3d"
           }
          ],
          "scattercarpet": [
           {
            "marker": {
             "colorbar": {
              "outlinewidth": 0,
              "ticks": ""
             }
            },
            "type": "scattercarpet"
           }
          ],
          "scattergeo": [
           {
            "marker": {
             "colorbar": {
              "outlinewidth": 0,
              "ticks": ""
             }
            },
            "type": "scattergeo"
           }
          ],
          "scattergl": [
           {
            "marker": {
             "colorbar": {
              "outlinewidth": 0,
              "ticks": ""
             }
            },
            "type": "scattergl"
           }
          ],
          "scattermapbox": [
           {
            "marker": {
             "colorbar": {
              "outlinewidth": 0,
              "ticks": ""
             }
            },
            "type": "scattermapbox"
           }
          ],
          "scatterpolar": [
           {
            "marker": {
             "colorbar": {
              "outlinewidth": 0,
              "ticks": ""
             }
            },
            "type": "scatterpolar"
           }
          ],
          "scatterpolargl": [
           {
            "marker": {
             "colorbar": {
              "outlinewidth": 0,
              "ticks": ""
             }
            },
            "type": "scatterpolargl"
           }
          ],
          "scatterternary": [
           {
            "marker": {
             "colorbar": {
              "outlinewidth": 0,
              "ticks": ""
             }
            },
            "type": "scatterternary"
           }
          ],
          "surface": [
           {
            "colorbar": {
             "outlinewidth": 0,
             "ticks": ""
            },
            "colorscale": [
             [
              0,
              "#0d0887"
             ],
             [
              0.1111111111111111,
              "#46039f"
             ],
             [
              0.2222222222222222,
              "#7201a8"
             ],
             [
              0.3333333333333333,
              "#9c179e"
             ],
             [
              0.4444444444444444,
              "#bd3786"
             ],
             [
              0.5555555555555556,
              "#d8576b"
             ],
             [
              0.6666666666666666,
              "#ed7953"
             ],
             [
              0.7777777777777778,
              "#fb9f3a"
             ],
             [
              0.8888888888888888,
              "#fdca26"
             ],
             [
              1,
              "#f0f921"
             ]
            ],
            "type": "surface"
           }
          ],
          "table": [
           {
            "cells": {
             "fill": {
              "color": "#EBF0F8"
             },
             "line": {
              "color": "white"
             }
            },
            "header": {
             "fill": {
              "color": "#C8D4E3"
             },
             "line": {
              "color": "white"
             }
            },
            "type": "table"
           }
          ]
         },
         "layout": {
          "annotationdefaults": {
           "arrowcolor": "#2a3f5f",
           "arrowhead": 0,
           "arrowwidth": 1
          },
          "autotypenumbers": "strict",
          "coloraxis": {
           "colorbar": {
            "outlinewidth": 0,
            "ticks": ""
           }
          },
          "colorscale": {
           "diverging": [
            [
             0,
             "#8e0152"
            ],
            [
             0.1,
             "#c51b7d"
            ],
            [
             0.2,
             "#de77ae"
            ],
            [
             0.3,
             "#f1b6da"
            ],
            [
             0.4,
             "#fde0ef"
            ],
            [
             0.5,
             "#f7f7f7"
            ],
            [
             0.6,
             "#e6f5d0"
            ],
            [
             0.7,
             "#b8e186"
            ],
            [
             0.8,
             "#7fbc41"
            ],
            [
             0.9,
             "#4d9221"
            ],
            [
             1,
             "#276419"
            ]
           ],
           "sequential": [
            [
             0,
             "#0d0887"
            ],
            [
             0.1111111111111111,
             "#46039f"
            ],
            [
             0.2222222222222222,
             "#7201a8"
            ],
            [
             0.3333333333333333,
             "#9c179e"
            ],
            [
             0.4444444444444444,
             "#bd3786"
            ],
            [
             0.5555555555555556,
             "#d8576b"
            ],
            [
             0.6666666666666666,
             "#ed7953"
            ],
            [
             0.7777777777777778,
             "#fb9f3a"
            ],
            [
             0.8888888888888888,
             "#fdca26"
            ],
            [
             1,
             "#f0f921"
            ]
           ],
           "sequentialminus": [
            [
             0,
             "#0d0887"
            ],
            [
             0.1111111111111111,
             "#46039f"
            ],
            [
             0.2222222222222222,
             "#7201a8"
            ],
            [
             0.3333333333333333,
             "#9c179e"
            ],
            [
             0.4444444444444444,
             "#bd3786"
            ],
            [
             0.5555555555555556,
             "#d8576b"
            ],
            [
             0.6666666666666666,
             "#ed7953"
            ],
            [
             0.7777777777777778,
             "#fb9f3a"
            ],
            [
             0.8888888888888888,
             "#fdca26"
            ],
            [
             1,
             "#f0f921"
            ]
           ]
          },
          "colorway": [
           "#636efa",
           "#EF553B",
           "#00cc96",
           "#ab63fa",
           "#FFA15A",
           "#19d3f3",
           "#FF6692",
           "#B6E880",
           "#FF97FF",
           "#FECB52"
          ],
          "font": {
           "color": "#2a3f5f"
          },
          "geo": {
           "bgcolor": "white",
           "lakecolor": "white",
           "landcolor": "#E5ECF6",
           "showlakes": true,
           "showland": true,
           "subunitcolor": "white"
          },
          "hoverlabel": {
           "align": "left"
          },
          "hovermode": "closest",
          "mapbox": {
           "style": "light"
          },
          "paper_bgcolor": "white",
          "plot_bgcolor": "#E5ECF6",
          "polar": {
           "angularaxis": {
            "gridcolor": "white",
            "linecolor": "white",
            "ticks": ""
           },
           "bgcolor": "#E5ECF6",
           "radialaxis": {
            "gridcolor": "white",
            "linecolor": "white",
            "ticks": ""
           }
          },
          "scene": {
           "xaxis": {
            "backgroundcolor": "#E5ECF6",
            "gridcolor": "white",
            "gridwidth": 2,
            "linecolor": "white",
            "showbackground": true,
            "ticks": "",
            "zerolinecolor": "white"
           },
           "yaxis": {
            "backgroundcolor": "#E5ECF6",
            "gridcolor": "white",
            "gridwidth": 2,
            "linecolor": "white",
            "showbackground": true,
            "ticks": "",
            "zerolinecolor": "white"
           },
           "zaxis": {
            "backgroundcolor": "#E5ECF6",
            "gridcolor": "white",
            "gridwidth": 2,
            "linecolor": "white",
            "showbackground": true,
            "ticks": "",
            "zerolinecolor": "white"
           }
          },
          "shapedefaults": {
           "line": {
            "color": "#2a3f5f"
           }
          },
          "ternary": {
           "aaxis": {
            "gridcolor": "white",
            "linecolor": "white",
            "ticks": ""
           },
           "baxis": {
            "gridcolor": "white",
            "linecolor": "white",
            "ticks": ""
           },
           "bgcolor": "#E5ECF6",
           "caxis": {
            "gridcolor": "white",
            "linecolor": "white",
            "ticks": ""
           }
          },
          "title": {
           "x": 0.05
          },
          "xaxis": {
           "automargin": true,
           "gridcolor": "white",
           "linecolor": "white",
           "ticks": "",
           "title": {
            "standoff": 15
           },
           "zerolinecolor": "white",
           "zerolinewidth": 2
          },
          "yaxis": {
           "automargin": true,
           "gridcolor": "white",
           "linecolor": "white",
           "ticks": "",
           "title": {
            "standoff": 15
           },
           "zerolinecolor": "white",
           "zerolinewidth": 2
          }
         }
        },
        "updatemenus": [
         {
          "active": 0,
          "buttons": [
           {
            "args": [
             {
              "visible": [
               true,
               false,
               false,
               false,
               false,
               false,
               false,
               false,
               false,
               false,
               false,
               false,
               false,
               false,
               false,
               false,
               false,
               false,
               false,
               false,
               false,
               false
              ]
             },
             {
              "title": "Gender"
             }
            ],
            "label": "Gender",
            "method": "update"
           },
           {
            "args": [
             {
              "visible": [
               false,
               true,
               false,
               false,
               false,
               false,
               false,
               false,
               false,
               false,
               false,
               false,
               false,
               false,
               false,
               false,
               false,
               false,
               false,
               false,
               false,
               false
              ]
             },
             {
              "title": "self_employed"
             }
            ],
            "label": "self_employed",
            "method": "update"
           },
           {
            "args": [
             {
              "visible": [
               false,
               false,
               true,
               false,
               false,
               false,
               false,
               false,
               false,
               false,
               false,
               false,
               false,
               false,
               false,
               false,
               false,
               false,
               false,
               false,
               false,
               false
              ]
             },
             {
              "title": "family_history"
             }
            ],
            "label": "family_history",
            "method": "update"
           },
           {
            "args": [
             {
              "visible": [
               false,
               false,
               false,
               true,
               false,
               false,
               false,
               false,
               false,
               false,
               false,
               false,
               false,
               false,
               false,
               false,
               false,
               false,
               false,
               false,
               false,
               false
              ]
             },
             {
              "title": "treatment"
             }
            ],
            "label": "treatment",
            "method": "update"
           },
           {
            "args": [
             {
              "visible": [
               false,
               false,
               false,
               false,
               true,
               false,
               false,
               false,
               false,
               false,
               false,
               false,
               false,
               false,
               false,
               false,
               false,
               false,
               false,
               false,
               false,
               false
              ]
             },
             {
              "title": "work_interfere"
             }
            ],
            "label": "work_interfere",
            "method": "update"
           },
           {
            "args": [
             {
              "visible": [
               false,
               false,
               false,
               false,
               false,
               true,
               false,
               false,
               false,
               false,
               false,
               false,
               false,
               false,
               false,
               false,
               false,
               false,
               false,
               false,
               false,
               false
              ]
             },
             {
              "title": "no_employees"
             }
            ],
            "label": "no_employees",
            "method": "update"
           },
           {
            "args": [
             {
              "visible": [
               false,
               false,
               false,
               false,
               false,
               false,
               true,
               false,
               false,
               false,
               false,
               false,
               false,
               false,
               false,
               false,
               false,
               false,
               false,
               false,
               false,
               false
              ]
             },
             {
              "title": "remote_work"
             }
            ],
            "label": "remote_work",
            "method": "update"
           },
           {
            "args": [
             {
              "visible": [
               false,
               false,
               false,
               false,
               false,
               false,
               false,
               true,
               false,
               false,
               false,
               false,
               false,
               false,
               false,
               false,
               false,
               false,
               false,
               false,
               false,
               false
              ]
             },
             {
              "title": "tech_company"
             }
            ],
            "label": "tech_company",
            "method": "update"
           },
           {
            "args": [
             {
              "visible": [
               false,
               false,
               false,
               false,
               false,
               false,
               false,
               false,
               true,
               false,
               false,
               false,
               false,
               false,
               false,
               false,
               false,
               false,
               false,
               false,
               false,
               false
              ]
             },
             {
              "title": "benefits"
             }
            ],
            "label": "benefits",
            "method": "update"
           },
           {
            "args": [
             {
              "visible": [
               false,
               false,
               false,
               false,
               false,
               false,
               false,
               false,
               false,
               true,
               false,
               false,
               false,
               false,
               false,
               false,
               false,
               false,
               false,
               false,
               false,
               false
              ]
             },
             {
              "title": "care_options"
             }
            ],
            "label": "care_options",
            "method": "update"
           },
           {
            "args": [
             {
              "visible": [
               false,
               false,
               false,
               false,
               false,
               false,
               false,
               false,
               false,
               false,
               true,
               false,
               false,
               false,
               false,
               false,
               false,
               false,
               false,
               false,
               false,
               false
              ]
             },
             {
              "title": "wellness_program"
             }
            ],
            "label": "wellness_program",
            "method": "update"
           },
           {
            "args": [
             {
              "visible": [
               false,
               false,
               false,
               false,
               false,
               false,
               false,
               false,
               false,
               false,
               false,
               true,
               false,
               false,
               false,
               false,
               false,
               false,
               false,
               false,
               false,
               false
              ]
             },
             {
              "title": "seek_help"
             }
            ],
            "label": "seek_help",
            "method": "update"
           },
           {
            "args": [
             {
              "visible": [
               false,
               false,
               false,
               false,
               false,
               false,
               false,
               false,
               false,
               false,
               false,
               false,
               true,
               false,
               false,
               false,
               false,
               false,
               false,
               false,
               false,
               false
              ]
             },
             {
              "title": "anonymity"
             }
            ],
            "label": "anonymity",
            "method": "update"
           },
           {
            "args": [
             {
              "visible": [
               false,
               false,
               false,
               false,
               false,
               false,
               false,
               false,
               false,
               false,
               false,
               false,
               false,
               true,
               false,
               false,
               false,
               false,
               false,
               false,
               false,
               false
              ]
             },
             {
              "title": "leave"
             }
            ],
            "label": "leave",
            "method": "update"
           },
           {
            "args": [
             {
              "visible": [
               false,
               false,
               false,
               false,
               false,
               false,
               false,
               false,
               false,
               false,
               false,
               false,
               false,
               false,
               true,
               false,
               false,
               false,
               false,
               false,
               false,
               false
              ]
             },
             {
              "title": "mental_health_consequence"
             }
            ],
            "label": "mental_health_consequence",
            "method": "update"
           },
           {
            "args": [
             {
              "visible": [
               false,
               false,
               false,
               false,
               false,
               false,
               false,
               false,
               false,
               false,
               false,
               false,
               false,
               false,
               false,
               true,
               false,
               false,
               false,
               false,
               false,
               false
              ]
             },
             {
              "title": "phys_health_consequence"
             }
            ],
            "label": "phys_health_consequence",
            "method": "update"
           },
           {
            "args": [
             {
              "visible": [
               false,
               false,
               false,
               false,
               false,
               false,
               false,
               false,
               false,
               false,
               false,
               false,
               false,
               false,
               false,
               false,
               true,
               false,
               false,
               false,
               false,
               false
              ]
             },
             {
              "title": "coworkers"
             }
            ],
            "label": "coworkers",
            "method": "update"
           },
           {
            "args": [
             {
              "visible": [
               false,
               false,
               false,
               false,
               false,
               false,
               false,
               false,
               false,
               false,
               false,
               false,
               false,
               false,
               false,
               false,
               false,
               true,
               false,
               false,
               false,
               false
              ]
             },
             {
              "title": "supervisor"
             }
            ],
            "label": "supervisor",
            "method": "update"
           },
           {
            "args": [
             {
              "visible": [
               false,
               false,
               false,
               false,
               false,
               false,
               false,
               false,
               false,
               false,
               false,
               false,
               false,
               false,
               false,
               false,
               false,
               false,
               true,
               false,
               false,
               false
              ]
             },
             {
              "title": "mental_health_interview"
             }
            ],
            "label": "mental_health_interview",
            "method": "update"
           },
           {
            "args": [
             {
              "visible": [
               false,
               false,
               false,
               false,
               false,
               false,
               false,
               false,
               false,
               false,
               false,
               false,
               false,
               false,
               false,
               false,
               false,
               false,
               false,
               true,
               false,
               false
              ]
             },
             {
              "title": "phys_health_interview"
             }
            ],
            "label": "phys_health_interview",
            "method": "update"
           },
           {
            "args": [
             {
              "visible": [
               false,
               false,
               false,
               false,
               false,
               false,
               false,
               false,
               false,
               false,
               false,
               false,
               false,
               false,
               false,
               false,
               false,
               false,
               false,
               false,
               true,
               false
              ]
             },
             {
              "title": "mental_vs_physical"
             }
            ],
            "label": "mental_vs_physical",
            "method": "update"
           },
           {
            "args": [
             {
              "visible": [
               false,
               false,
               false,
               false,
               false,
               false,
               false,
               false,
               false,
               false,
               false,
               false,
               false,
               false,
               false,
               false,
               false,
               false,
               false,
               false,
               false,
               true
              ]
             },
             {
              "title": "obs_consequence"
             }
            ],
            "label": "obs_consequence",
            "method": "update"
           }
          ],
          "showactive": true,
          "type": "dropdown",
          "x": 0.6,
          "y": 0.96
         }
        ]
       }
      },
      "text/html": [
       "<div>                            <div id=\"dbdb5c94-bf49-4267-8db0-c7ae41d65ebb\" class=\"plotly-graph-div\" style=\"height:1000px; width:100%;\"></div>            <script type=\"text/javascript\">                require([\"plotly\"], function(Plotly) {                    window.PLOTLYENV=window.PLOTLYENV || {};                                    if (document.getElementById(\"dbdb5c94-bf49-4267-8db0-c7ae41d65ebb\")) {                    Plotly.newPlot(                        \"dbdb5c94-bf49-4267-8db0-c7ae41d65ebb\",                        [{\"hole\":0.5,\"hoverinfo\":\"label+percent\",\"labels\":[\"M\",\"F\",\"other\"],\"title\":{\"font\":{\"family\":\"bold\",\"size\":18},\"text\":\"U.S. distribution<br>of Gender\"},\"values\":[562,180,9],\"type\":\"pie\",\"domain\":{\"x\":[0.0,0.45],\"y\":[0.55,1.0]},\"textfont\":{\"size\":12},\"marker\":{\"line\":{\"color\":\"#000000\",\"width\":1},\"colors\":[\"#fee3c8\",\"#fdc692\",\"#fda057\",\"#f67824\",\"#e05206\",\"#ad3803\"]},\"opacity\":0.9,\"showlegend\":false,\"textinfo\":\"label+percent\",\"visible\":true},{\"hole\":0.5,\"hoverinfo\":\"label+percent\",\"labels\":[\"No\",\"Yes\"],\"title\":{\"font\":{\"family\":\"bold\",\"size\":18},\"text\":\"U.S. distribution<br>of self_employed\"},\"values\":[694,57],\"type\":\"pie\",\"domain\":{\"x\":[0.0,0.45],\"y\":[0.55,1.0]},\"textfont\":{\"size\":12},\"marker\":{\"line\":{\"color\":\"#000000\",\"width\":1},\"colors\":[\"#fee3c8\",\"#fdc692\",\"#fda057\",\"#f67824\",\"#e05206\",\"#ad3803\"]},\"opacity\":0.9,\"showlegend\":false,\"textinfo\":\"label+percent\",\"visible\":false},{\"hole\":0.5,\"hoverinfo\":\"label+percent\",\"labels\":[\"No\",\"Yes\"],\"title\":{\"font\":{\"family\":\"bold\",\"size\":18},\"text\":\"U.S. distribution<br>of family_history\"},\"values\":[421,330],\"type\":\"pie\",\"domain\":{\"x\":[0.0,0.45],\"y\":[0.55,1.0]},\"textfont\":{\"size\":12},\"marker\":{\"line\":{\"color\":\"#000000\",\"width\":1},\"colors\":[\"#fee3c8\",\"#fdc692\",\"#fda057\",\"#f67824\",\"#e05206\",\"#ad3803\"]},\"opacity\":0.9,\"showlegend\":false,\"textinfo\":\"label+percent\",\"visible\":false},{\"hole\":0.5,\"hoverinfo\":\"label+percent\",\"labels\":[\"Yes\",\"No\"],\"title\":{\"font\":{\"family\":\"bold\",\"size\":18},\"text\":\"U.S. distribution<br>of treatment\"},\"values\":[410,341],\"type\":\"pie\",\"domain\":{\"x\":[0.0,0.45],\"y\":[0.55,1.0]},\"textfont\":{\"size\":12},\"marker\":{\"line\":{\"color\":\"#000000\",\"width\":1},\"colors\":[\"#fee3c8\",\"#fdc692\",\"#fda057\",\"#f67824\",\"#e05206\",\"#ad3803\"]},\"opacity\":0.9,\"showlegend\":false,\"textinfo\":\"label+percent\",\"visible\":false},{\"hole\":0.5,\"hoverinfo\":\"label+percent\",\"labels\":[\"Sometimes\",\"Never\",\"Rarely\",\"Often\"],\"title\":{\"font\":{\"family\":\"bold\",\"size\":18},\"text\":\"U.S. distribution<br>of work_interfere\"},\"values\":[367,155,130,99],\"type\":\"pie\",\"domain\":{\"x\":[0.0,0.45],\"y\":[0.55,1.0]},\"textfont\":{\"size\":12},\"marker\":{\"line\":{\"color\":\"#000000\",\"width\":1},\"colors\":[\"#fee3c8\",\"#fdc692\",\"#fda057\",\"#f67824\",\"#e05206\",\"#ad3803\"]},\"opacity\":0.9,\"showlegend\":false,\"textinfo\":\"label+percent\",\"visible\":false},{\"hole\":0.5,\"hoverinfo\":\"label+percent\",\"labels\":[\"More than 1000\",\"26-100\",\"6-25\",\"100-500\",\"1-5\",\"500-1000\"],\"title\":{\"font\":{\"family\":\"bold\",\"size\":18},\"text\":\"U.S. distribution<br>of no_employees\"},\"values\":[216,170,134,113,76,42],\"type\":\"pie\",\"domain\":{\"x\":[0.0,0.45],\"y\":[0.55,1.0]},\"textfont\":{\"size\":12},\"marker\":{\"line\":{\"color\":\"#000000\",\"width\":1},\"colors\":[\"#fee3c8\",\"#fdc692\",\"#fda057\",\"#f67824\",\"#e05206\",\"#ad3803\"]},\"opacity\":0.9,\"showlegend\":false,\"textinfo\":\"label+percent\",\"visible\":false},{\"hole\":0.5,\"hoverinfo\":\"label+percent\",\"labels\":[\"No\",\"Yes\"],\"title\":{\"font\":{\"family\":\"bold\",\"size\":18},\"text\":\"U.S. distribution<br>of remote_work\"},\"values\":[513,238],\"type\":\"pie\",\"domain\":{\"x\":[0.0,0.45],\"y\":[0.55,1.0]},\"textfont\":{\"size\":12},\"marker\":{\"line\":{\"color\":\"#000000\",\"width\":1},\"colors\":[\"#fee3c8\",\"#fdc692\",\"#fda057\",\"#f67824\",\"#e05206\",\"#ad3803\"]},\"opacity\":0.9,\"showlegend\":false,\"textinfo\":\"label+percent\",\"visible\":false},{\"hole\":0.5,\"hoverinfo\":\"label+percent\",\"labels\":[\"Yes\",\"No\"],\"title\":{\"font\":{\"family\":\"bold\",\"size\":18},\"text\":\"U.S. distribution<br>of tech_company\"},\"values\":[611,140],\"type\":\"pie\",\"domain\":{\"x\":[0.0,0.45],\"y\":[0.55,1.0]},\"textfont\":{\"size\":12},\"marker\":{\"line\":{\"color\":\"#000000\",\"width\":1},\"colors\":[\"#fee3c8\",\"#fdc692\",\"#fda057\",\"#f67824\",\"#e05206\",\"#ad3803\"]},\"opacity\":0.9,\"showlegend\":false,\"textinfo\":\"label+percent\",\"visible\":false},{\"hole\":0.5,\"hoverinfo\":\"label+percent\",\"labels\":[\"Yes\",\"Don't know\",\"No\"],\"title\":{\"font\":{\"family\":\"bold\",\"size\":18},\"text\":\"U.S. distribution<br>of benefits\"},\"values\":[398,236,117],\"type\":\"pie\",\"domain\":{\"x\":[0.0,0.45],\"y\":[0.55,1.0]},\"textfont\":{\"size\":12},\"marker\":{\"line\":{\"color\":\"#000000\",\"width\":1},\"colors\":[\"#fee3c8\",\"#fdc692\",\"#fda057\",\"#f67824\",\"#e05206\",\"#ad3803\"]},\"opacity\":0.9,\"showlegend\":false,\"textinfo\":\"label+percent\",\"visible\":false},{\"hole\":0.5,\"hoverinfo\":\"label+percent\",\"labels\":[\"Yes\",\"No\",\"Not sure\"],\"title\":{\"font\":{\"family\":\"bold\",\"size\":18},\"text\":\"U.S. distribution<br>of care_options\"},\"values\":[311,239,201],\"type\":\"pie\",\"domain\":{\"x\":[0.0,0.45],\"y\":[0.55,1.0]},\"textfont\":{\"size\":12},\"marker\":{\"line\":{\"color\":\"#000000\",\"width\":1},\"colors\":[\"#fee3c8\",\"#fdc692\",\"#fda057\",\"#f67824\",\"#e05206\",\"#ad3803\"]},\"opacity\":0.9,\"showlegend\":false,\"textinfo\":\"label+percent\",\"visible\":false},{\"hole\":0.5,\"hoverinfo\":\"label+percent\",\"labels\":[\"No\",\"Yes\",\"Don't know\"],\"title\":{\"font\":{\"family\":\"bold\",\"size\":18},\"text\":\"U.S. distribution<br>of wellness_program\"},\"values\":[455,167,129],\"type\":\"pie\",\"domain\":{\"x\":[0.0,0.45],\"y\":[0.55,1.0]},\"textfont\":{\"size\":12},\"marker\":{\"line\":{\"color\":\"#000000\",\"width\":1},\"colors\":[\"#fee3c8\",\"#fdc692\",\"#fda057\",\"#f67824\",\"#e05206\",\"#ad3803\"]},\"opacity\":0.9,\"showlegend\":false,\"textinfo\":\"label+percent\",\"visible\":false},{\"hole\":0.5,\"hoverinfo\":\"label+percent\",\"labels\":[\"No\",\"Don't know\",\"Yes\"],\"title\":{\"font\":{\"family\":\"bold\",\"size\":18},\"text\":\"U.S. distribution<br>of seek_help\"},\"values\":[300,262,189],\"type\":\"pie\",\"domain\":{\"x\":[0.0,0.45],\"y\":[0.55,1.0]},\"textfont\":{\"size\":12},\"marker\":{\"line\":{\"color\":\"#000000\",\"width\":1},\"colors\":[\"#fee3c8\",\"#fdc692\",\"#fda057\",\"#f67824\",\"#e05206\",\"#ad3803\"]},\"opacity\":0.9,\"showlegend\":false,\"textinfo\":\"label+percent\",\"visible\":false},{\"hole\":0.5,\"hoverinfo\":\"label+percent\",\"labels\":[\"Don't know\",\"Yes\",\"No\"],\"title\":{\"font\":{\"family\":\"bold\",\"size\":18},\"text\":\"U.S. distribution<br>of anonymity\"},\"values\":[495,237,19],\"type\":\"pie\",\"domain\":{\"x\":[0.0,0.45],\"y\":[0.55,1.0]},\"textfont\":{\"size\":12},\"marker\":{\"line\":{\"color\":\"#000000\",\"width\":1},\"colors\":[\"#fee3c8\",\"#fdc692\",\"#fda057\",\"#f67824\",\"#e05206\",\"#ad3803\"]},\"opacity\":0.9,\"showlegend\":false,\"textinfo\":\"label+percent\",\"visible\":false},{\"hole\":0.5,\"hoverinfo\":\"label+percent\",\"labels\":[\"Don't know\",\"Somewhat easy\",\"Very easy\",\"Somewhat difficult\",\"Very difficult\"],\"title\":{\"font\":{\"family\":\"bold\",\"size\":18},\"text\":\"U.S. distribution<br>of leave\"},\"values\":[385,137,108,68,53],\"type\":\"pie\",\"domain\":{\"x\":[0.0,0.45],\"y\":[0.55,1.0]},\"textfont\":{\"size\":12},\"marker\":{\"line\":{\"color\":\"#000000\",\"width\":1},\"colors\":[\"#fee3c8\",\"#fdc692\",\"#fda057\",\"#f67824\",\"#e05206\",\"#ad3803\"]},\"opacity\":0.9,\"showlegend\":false,\"textinfo\":\"label+percent\",\"visible\":false},{\"hole\":0.5,\"hoverinfo\":\"label+percent\",\"labels\":[\"Maybe\",\"No\",\"Yes\"],\"title\":{\"font\":{\"family\":\"bold\",\"size\":18},\"text\":\"U.S. distribution<br>of mental_health_consequence\"},\"values\":[300,280,171],\"type\":\"pie\",\"domain\":{\"x\":[0.0,0.45],\"y\":[0.55,1.0]},\"textfont\":{\"size\":12},\"marker\":{\"line\":{\"color\":\"#000000\",\"width\":1},\"colors\":[\"#fee3c8\",\"#fdc692\",\"#fda057\",\"#f67824\",\"#e05206\",\"#ad3803\"]},\"opacity\":0.9,\"showlegend\":false,\"textinfo\":\"label+percent\",\"visible\":false},{\"hole\":0.5,\"hoverinfo\":\"label+percent\",\"labels\":[\"No\",\"Maybe\",\"Yes\"],\"title\":{\"font\":{\"family\":\"bold\",\"size\":18},\"text\":\"U.S. distribution<br>of phys_health_consequence\"},\"values\":[571,150,30],\"type\":\"pie\",\"domain\":{\"x\":[0.0,0.45],\"y\":[0.55,1.0]},\"textfont\":{\"size\":12},\"marker\":{\"line\":{\"color\":\"#000000\",\"width\":1},\"colors\":[\"#fee3c8\",\"#fdc692\",\"#fda057\",\"#f67824\",\"#e05206\",\"#ad3803\"]},\"opacity\":0.9,\"showlegend\":false,\"textinfo\":\"label+percent\",\"visible\":false},{\"hole\":0.5,\"hoverinfo\":\"label+percent\",\"labels\":[\"Some of them\",\"No\",\"Yes\"],\"title\":{\"font\":{\"family\":\"bold\",\"size\":18},\"text\":\"U.S. distribution<br>of coworkers\"},\"values\":[471,156,124],\"type\":\"pie\",\"domain\":{\"x\":[0.0,0.45],\"y\":[0.55,1.0]},\"textfont\":{\"size\":12},\"marker\":{\"line\":{\"color\":\"#000000\",\"width\":1},\"colors\":[\"#fee3c8\",\"#fdc692\",\"#fda057\",\"#f67824\",\"#e05206\",\"#ad3803\"]},\"opacity\":0.9,\"showlegend\":false,\"textinfo\":\"label+percent\",\"visible\":false},{\"hole\":0.5,\"hoverinfo\":\"label+percent\",\"labels\":[\"Yes\",\"No\",\"Some of them\"],\"title\":{\"font\":{\"family\":\"bold\",\"size\":18},\"text\":\"U.S. distribution<br>of supervisor\"},\"values\":[304,238,209],\"type\":\"pie\",\"domain\":{\"x\":[0.0,0.45],\"y\":[0.55,1.0]},\"textfont\":{\"size\":12},\"marker\":{\"line\":{\"color\":\"#000000\",\"width\":1},\"colors\":[\"#fee3c8\",\"#fdc692\",\"#fda057\",\"#f67824\",\"#e05206\",\"#ad3803\"]},\"opacity\":0.9,\"showlegend\":false,\"textinfo\":\"label+percent\",\"visible\":false},{\"hole\":0.5,\"hoverinfo\":\"label+percent\",\"labels\":[\"No\",\"Maybe\",\"Yes\"],\"title\":{\"font\":{\"family\":\"bold\",\"size\":18},\"text\":\"U.S. distribution<br>of mental_health_interview\"},\"values\":[635,100,16],\"type\":\"pie\",\"domain\":{\"x\":[0.0,0.45],\"y\":[0.55,1.0]},\"textfont\":{\"size\":12},\"marker\":{\"line\":{\"color\":\"#000000\",\"width\":1},\"colors\":[\"#fee3c8\",\"#fdc692\",\"#fda057\",\"#f67824\",\"#e05206\",\"#ad3803\"]},\"opacity\":0.9,\"showlegend\":false,\"textinfo\":\"label+percent\",\"visible\":false},{\"hole\":0.5,\"hoverinfo\":\"label+percent\",\"labels\":[\"No\",\"Maybe\",\"Yes\"],\"title\":{\"font\":{\"family\":\"bold\",\"size\":18},\"text\":\"U.S. distribution<br>of phys_health_interview\"},\"values\":[339,320,92],\"type\":\"pie\",\"domain\":{\"x\":[0.0,0.45],\"y\":[0.55,1.0]},\"textfont\":{\"size\":12},\"marker\":{\"line\":{\"color\":\"#000000\",\"width\":1},\"colors\":[\"#fee3c8\",\"#fdc692\",\"#fda057\",\"#f67824\",\"#e05206\",\"#ad3803\"]},\"opacity\":0.9,\"showlegend\":false,\"textinfo\":\"label+percent\",\"visible\":false},{\"hole\":0.5,\"hoverinfo\":\"label+percent\",\"labels\":[\"Don't know\",\"Yes\",\"No\"],\"title\":{\"font\":{\"family\":\"bold\",\"size\":18},\"text\":\"U.S. distribution<br>of mental_vs_physical\"},\"values\":[363,201,187],\"type\":\"pie\",\"domain\":{\"x\":[0.0,0.45],\"y\":[0.55,1.0]},\"textfont\":{\"size\":12},\"marker\":{\"line\":{\"color\":\"#000000\",\"width\":1},\"colors\":[\"#fee3c8\",\"#fdc692\",\"#fda057\",\"#f67824\",\"#e05206\",\"#ad3803\"]},\"opacity\":0.9,\"showlegend\":false,\"textinfo\":\"label+percent\",\"visible\":false},{\"hole\":0.5,\"hoverinfo\":\"label+percent\",\"labels\":[\"No\",\"Yes\"],\"title\":{\"font\":{\"family\":\"bold\",\"size\":18},\"text\":\"U.S. distribution<br>of obs_consequence\"},\"values\":[662,89],\"type\":\"pie\",\"domain\":{\"x\":[0.0,0.45],\"y\":[0.55,1.0]},\"textfont\":{\"size\":12},\"marker\":{\"line\":{\"color\":\"#000000\",\"width\":1},\"colors\":[\"#fee3c8\",\"#fdc692\",\"#fda057\",\"#f67824\",\"#e05206\",\"#ad3803\"]},\"opacity\":0.9,\"showlegend\":false,\"textinfo\":\"label+percent\",\"visible\":false},{\"hole\":0.5,\"hoverinfo\":\"label+percent\",\"labels\":[\"M\",\"F\",\"other\"],\"title\":{\"font\":{\"family\":\"bold\",\"size\":18},\"text\":\"U.K. distribution<br>of Gender\"},\"values\":[154,26,5],\"type\":\"pie\",\"domain\":{\"x\":[0.55,1.0],\"y\":[0.55,1.0]},\"textfont\":{\"size\":12},\"marker\":{\"line\":{\"color\":\"#000000\",\"width\":1},\"colors\":[\"#fee3c8\",\"#fdc692\",\"#fda057\",\"#f67824\",\"#e05206\",\"#ad3803\"]},\"opacity\":0.9,\"showlegend\":false,\"textinfo\":\"label+percent\",\"visible\":true},{\"hole\":0.5,\"hoverinfo\":\"label+percent\",\"labels\":[\"No\",\"Yes\"],\"title\":{\"font\":{\"family\":\"bold\",\"size\":18},\"text\":\"U.K. distribution<br>of self_employed\"},\"values\":[157,28],\"type\":\"pie\",\"domain\":{\"x\":[0.55,1.0],\"y\":[0.55,1.0]},\"textfont\":{\"size\":12},\"marker\":{\"line\":{\"color\":\"#000000\",\"width\":1},\"colors\":[\"#fee3c8\",\"#fdc692\",\"#fda057\",\"#f67824\",\"#e05206\",\"#ad3803\"]},\"opacity\":0.9,\"showlegend\":false,\"textinfo\":\"label+percent\",\"visible\":false},{\"hole\":0.5,\"hoverinfo\":\"label+percent\",\"labels\":[\"No\",\"Yes\"],\"title\":{\"font\":{\"family\":\"bold\",\"size\":18},\"text\":\"U.K. distribution<br>of family_history\"},\"values\":[127,58],\"type\":\"pie\",\"domain\":{\"x\":[0.55,1.0],\"y\":[0.55,1.0]},\"textfont\":{\"size\":12},\"marker\":{\"line\":{\"color\":\"#000000\",\"width\":1},\"colors\":[\"#fee3c8\",\"#fdc692\",\"#fda057\",\"#f67824\",\"#e05206\",\"#ad3803\"]},\"opacity\":0.9,\"showlegend\":false,\"textinfo\":\"label+percent\",\"visible\":false},{\"hole\":0.5,\"hoverinfo\":\"label+percent\",\"labels\":[\"Yes\",\"No\"],\"title\":{\"font\":{\"family\":\"bold\",\"size\":18},\"text\":\"U.K. distribution<br>of treatment\"},\"values\":[93,92],\"type\":\"pie\",\"domain\":{\"x\":[0.55,1.0],\"y\":[0.55,1.0]},\"textfont\":{\"size\":12},\"marker\":{\"line\":{\"color\":\"#000000\",\"width\":1},\"colors\":[\"#fee3c8\",\"#fdc692\",\"#fda057\",\"#f67824\",\"#e05206\",\"#ad3803\"]},\"opacity\":0.9,\"showlegend\":false,\"textinfo\":\"label+percent\",\"visible\":false},{\"hole\":0.5,\"hoverinfo\":\"label+percent\",\"labels\":[\"Sometimes\",\"Never\",\"Rarely\",\"Often\"],\"title\":{\"font\":{\"family\":\"bold\",\"size\":18},\"text\":\"U.K. distribution<br>of work_interfere\"},\"values\":[95,38,31,21],\"type\":\"pie\",\"domain\":{\"x\":[0.55,1.0],\"y\":[0.55,1.0]},\"textfont\":{\"size\":12},\"marker\":{\"line\":{\"color\":\"#000000\",\"width\":1},\"colors\":[\"#fee3c8\",\"#fdc692\",\"#fda057\",\"#f67824\",\"#e05206\",\"#ad3803\"]},\"opacity\":0.9,\"showlegend\":false,\"textinfo\":\"label+percent\",\"visible\":false},{\"hole\":0.5,\"hoverinfo\":\"label+percent\",\"labels\":[\"6-25\",\"26-100\",\"1-5\",\"More than 1000\",\"100-500\",\"500-1000\"],\"title\":{\"font\":{\"family\":\"bold\",\"size\":18},\"text\":\"U.K. distribution<br>of no_employees\"},\"values\":[58,40,31,29,20,7],\"type\":\"pie\",\"domain\":{\"x\":[0.55,1.0],\"y\":[0.55,1.0]},\"textfont\":{\"size\":12},\"marker\":{\"line\":{\"color\":\"#000000\",\"width\":1},\"colors\":[\"#fee3c8\",\"#fdc692\",\"#fda057\",\"#f67824\",\"#e05206\",\"#ad3803\"]},\"opacity\":0.9,\"showlegend\":false,\"textinfo\":\"label+percent\",\"visible\":false},{\"hole\":0.5,\"hoverinfo\":\"label+percent\",\"labels\":[\"No\",\"Yes\"],\"title\":{\"font\":{\"family\":\"bold\",\"size\":18},\"text\":\"U.K. distribution<br>of remote_work\"},\"values\":[144,41],\"type\":\"pie\",\"domain\":{\"x\":[0.55,1.0],\"y\":[0.55,1.0]},\"textfont\":{\"size\":12},\"marker\":{\"line\":{\"color\":\"#000000\",\"width\":1},\"colors\":[\"#fee3c8\",\"#fdc692\",\"#fda057\",\"#f67824\",\"#e05206\",\"#ad3803\"]},\"opacity\":0.9,\"showlegend\":false,\"textinfo\":\"label+percent\",\"visible\":false},{\"hole\":0.5,\"hoverinfo\":\"label+percent\",\"labels\":[\"Yes\",\"No\"],\"title\":{\"font\":{\"family\":\"bold\",\"size\":18},\"text\":\"U.K. distribution<br>of tech_company\"},\"values\":[139,46],\"type\":\"pie\",\"domain\":{\"x\":[0.55,1.0],\"y\":[0.55,1.0]},\"textfont\":{\"size\":12},\"marker\":{\"line\":{\"color\":\"#000000\",\"width\":1},\"colors\":[\"#fee3c8\",\"#fdc692\",\"#fda057\",\"#f67824\",\"#e05206\",\"#ad3803\"]},\"opacity\":0.9,\"showlegend\":false,\"textinfo\":\"label+percent\",\"visible\":false},{\"hole\":0.5,\"hoverinfo\":\"label+percent\",\"labels\":[\"No\",\"Don't know\",\"Yes\"],\"title\":{\"font\":{\"family\":\"bold\",\"size\":18},\"text\":\"U.K. distribution<br>of benefits\"},\"values\":[93,72,20],\"type\":\"pie\",\"domain\":{\"x\":[0.55,1.0],\"y\":[0.55,1.0]},\"textfont\":{\"size\":12},\"marker\":{\"line\":{\"color\":\"#000000\",\"width\":1},\"colors\":[\"#fee3c8\",\"#fdc692\",\"#fda057\",\"#f67824\",\"#e05206\",\"#ad3803\"]},\"opacity\":0.9,\"showlegend\":false,\"textinfo\":\"label+percent\",\"visible\":false},{\"hole\":0.5,\"hoverinfo\":\"label+percent\",\"labels\":[\"No\",\"Not sure\",\"Yes\"],\"title\":{\"font\":{\"family\":\"bold\",\"size\":18},\"text\":\"U.K. distribution<br>of care_options\"},\"values\":[103,43,39],\"type\":\"pie\",\"domain\":{\"x\":[0.55,1.0],\"y\":[0.55,1.0]},\"textfont\":{\"size\":12},\"marker\":{\"line\":{\"color\":\"#000000\",\"width\":1},\"colors\":[\"#fee3c8\",\"#fdc692\",\"#fda057\",\"#f67824\",\"#e05206\",\"#ad3803\"]},\"opacity\":0.9,\"showlegend\":false,\"textinfo\":\"label+percent\",\"visible\":false},{\"hole\":0.5,\"hoverinfo\":\"label+percent\",\"labels\":[\"No\",\"Yes\",\"Don't know\"],\"title\":{\"font\":{\"family\":\"bold\",\"size\":18},\"text\":\"U.K. distribution<br>of wellness_program\"},\"values\":[151,18,16],\"type\":\"pie\",\"domain\":{\"x\":[0.55,1.0],\"y\":[0.55,1.0]},\"textfont\":{\"size\":12},\"marker\":{\"line\":{\"color\":\"#000000\",\"width\":1},\"colors\":[\"#fee3c8\",\"#fdc692\",\"#fda057\",\"#f67824\",\"#e05206\",\"#ad3803\"]},\"opacity\":0.9,\"showlegend\":false,\"textinfo\":\"label+percent\",\"visible\":false},{\"hole\":0.5,\"hoverinfo\":\"label+percent\",\"labels\":[\"No\",\"Don't know\",\"Yes\"],\"title\":{\"font\":{\"family\":\"bold\",\"size\":18},\"text\":\"U.K. distribution<br>of seek_help\"},\"values\":[117,42,26],\"type\":\"pie\",\"domain\":{\"x\":[0.55,1.0],\"y\":[0.55,1.0]},\"textfont\":{\"size\":12},\"marker\":{\"line\":{\"color\":\"#000000\",\"width\":1},\"colors\":[\"#fee3c8\",\"#fdc692\",\"#fda057\",\"#f67824\",\"#e05206\",\"#ad3803\"]},\"opacity\":0.9,\"showlegend\":false,\"textinfo\":\"label+percent\",\"visible\":false},{\"hole\":0.5,\"hoverinfo\":\"label+percent\",\"labels\":[\"Don't know\",\"Yes\",\"No\"],\"title\":{\"font\":{\"family\":\"bold\",\"size\":18},\"text\":\"U.K. distribution<br>of anonymity\"},\"values\":[123,49,13],\"type\":\"pie\",\"domain\":{\"x\":[0.55,1.0],\"y\":[0.55,1.0]},\"textfont\":{\"size\":12},\"marker\":{\"line\":{\"color\":\"#000000\",\"width\":1},\"colors\":[\"#fee3c8\",\"#fdc692\",\"#fda057\",\"#f67824\",\"#e05206\",\"#ad3803\"]},\"opacity\":0.9,\"showlegend\":false,\"textinfo\":\"label+percent\",\"visible\":false},{\"hole\":0.5,\"hoverinfo\":\"label+percent\",\"labels\":[\"Don't know\",\"Very easy\",\"Somewhat easy\",\"Somewhat difficult\",\"Very difficult\"],\"title\":{\"font\":{\"family\":\"bold\",\"size\":18},\"text\":\"U.K. distribution<br>of leave\"},\"values\":[70,42,40,21,12],\"type\":\"pie\",\"domain\":{\"x\":[0.55,1.0],\"y\":[0.55,1.0]},\"textfont\":{\"size\":12},\"marker\":{\"line\":{\"color\":\"#000000\",\"width\":1},\"colors\":[\"#fee3c8\",\"#fdc692\",\"#fda057\",\"#f67824\",\"#e05206\",\"#ad3803\"]},\"opacity\":0.9,\"showlegend\":false,\"textinfo\":\"label+percent\",\"visible\":false},{\"hole\":0.5,\"hoverinfo\":\"label+percent\",\"labels\":[\"Maybe\",\"No\",\"Yes\"],\"title\":{\"font\":{\"family\":\"bold\",\"size\":18},\"text\":\"U.K. distribution<br>of mental_health_consequence\"},\"values\":[73,69,43],\"type\":\"pie\",\"domain\":{\"x\":[0.55,1.0],\"y\":[0.55,1.0]},\"textfont\":{\"size\":12},\"marker\":{\"line\":{\"color\":\"#000000\",\"width\":1},\"colors\":[\"#fee3c8\",\"#fdc692\",\"#fda057\",\"#f67824\",\"#e05206\",\"#ad3803\"]},\"opacity\":0.9,\"showlegend\":false,\"textinfo\":\"label+percent\",\"visible\":false},{\"hole\":0.5,\"hoverinfo\":\"label+percent\",\"labels\":[\"No\",\"Maybe\",\"Yes\"],\"title\":{\"font\":{\"family\":\"bold\",\"size\":18},\"text\":\"U.K. distribution<br>of phys_health_consequence\"},\"values\":[121,54,10],\"type\":\"pie\",\"domain\":{\"x\":[0.55,1.0],\"y\":[0.55,1.0]},\"textfont\":{\"size\":12},\"marker\":{\"line\":{\"color\":\"#000000\",\"width\":1},\"colors\":[\"#fee3c8\",\"#fdc692\",\"#fda057\",\"#f67824\",\"#e05206\",\"#ad3803\"]},\"opacity\":0.9,\"showlegend\":false,\"textinfo\":\"label+percent\",\"visible\":false},{\"hole\":0.5,\"hoverinfo\":\"label+percent\",\"labels\":[\"Some of them\",\"Yes\",\"No\"],\"title\":{\"font\":{\"family\":\"bold\",\"size\":18},\"text\":\"U.K. distribution<br>of coworkers\"},\"values\":[109,38,38],\"type\":\"pie\",\"domain\":{\"x\":[0.55,1.0],\"y\":[0.55,1.0]},\"textfont\":{\"size\":12},\"marker\":{\"line\":{\"color\":\"#000000\",\"width\":1},\"colors\":[\"#fee3c8\",\"#fdc692\",\"#fda057\",\"#f67824\",\"#e05206\",\"#ad3803\"]},\"opacity\":0.9,\"showlegend\":false,\"textinfo\":\"label+percent\",\"visible\":false},{\"hole\":0.5,\"hoverinfo\":\"label+percent\",\"labels\":[\"Yes\",\"No\",\"Some of them\"],\"title\":{\"font\":{\"family\":\"bold\",\"size\":18},\"text\":\"U.K. distribution<br>of supervisor\"},\"values\":[83,54,48],\"type\":\"pie\",\"domain\":{\"x\":[0.55,1.0],\"y\":[0.55,1.0]},\"textfont\":{\"size\":12},\"marker\":{\"line\":{\"color\":\"#000000\",\"width\":1},\"colors\":[\"#fee3c8\",\"#fdc692\",\"#fda057\",\"#f67824\",\"#e05206\",\"#ad3803\"]},\"opacity\":0.9,\"showlegend\":false,\"textinfo\":\"label+percent\",\"visible\":false},{\"hole\":0.5,\"hoverinfo\":\"label+percent\",\"labels\":[\"No\",\"Maybe\",\"Yes\"],\"title\":{\"font\":{\"family\":\"bold\",\"size\":18},\"text\":\"U.K. distribution<br>of mental_health_interview\"},\"values\":[140,34,11],\"type\":\"pie\",\"domain\":{\"x\":[0.55,1.0],\"y\":[0.55,1.0]},\"textfont\":{\"size\":12},\"marker\":{\"line\":{\"color\":\"#000000\",\"width\":1},\"colors\":[\"#fee3c8\",\"#fdc692\",\"#fda057\",\"#f67824\",\"#e05206\",\"#ad3803\"]},\"opacity\":0.9,\"showlegend\":false,\"textinfo\":\"label+percent\",\"visible\":false},{\"hole\":0.5,\"hoverinfo\":\"label+percent\",\"labels\":[\"Maybe\",\"No\",\"Yes\"],\"title\":{\"font\":{\"family\":\"bold\",\"size\":18},\"text\":\"U.K. distribution<br>of phys_health_interview\"},\"values\":[94,46,45],\"type\":\"pie\",\"domain\":{\"x\":[0.55,1.0],\"y\":[0.55,1.0]},\"textfont\":{\"size\":12},\"marker\":{\"line\":{\"color\":\"#000000\",\"width\":1},\"colors\":[\"#fee3c8\",\"#fdc692\",\"#fda057\",\"#f67824\",\"#e05206\",\"#ad3803\"]},\"opacity\":0.9,\"showlegend\":false,\"textinfo\":\"label+percent\",\"visible\":false},{\"hole\":0.5,\"hoverinfo\":\"label+percent\",\"labels\":[\"Don't know\",\"No\",\"Yes\"],\"title\":{\"font\":{\"family\":\"bold\",\"size\":18},\"text\":\"U.K. distribution<br>of mental_vs_physical\"},\"values\":[75,57,53],\"type\":\"pie\",\"domain\":{\"x\":[0.55,1.0],\"y\":[0.55,1.0]},\"textfont\":{\"size\":12},\"marker\":{\"line\":{\"color\":\"#000000\",\"width\":1},\"colors\":[\"#fee3c8\",\"#fdc692\",\"#fda057\",\"#f67824\",\"#e05206\",\"#ad3803\"]},\"opacity\":0.9,\"showlegend\":false,\"textinfo\":\"label+percent\",\"visible\":false},{\"hole\":0.5,\"hoverinfo\":\"label+percent\",\"labels\":[\"No\",\"Yes\"],\"title\":{\"font\":{\"family\":\"bold\",\"size\":18},\"text\":\"U.K. distribution<br>of obs_consequence\"},\"values\":[148,37],\"type\":\"pie\",\"domain\":{\"x\":[0.55,1.0],\"y\":[0.55,1.0]},\"textfont\":{\"size\":12},\"marker\":{\"line\":{\"color\":\"#000000\",\"width\":1},\"colors\":[\"#fee3c8\",\"#fdc692\",\"#fda057\",\"#f67824\",\"#e05206\",\"#ad3803\"]},\"opacity\":0.9,\"showlegend\":false,\"textinfo\":\"label+percent\",\"visible\":false},{\"hole\":0.5,\"hoverinfo\":\"label+percent\",\"labels\":[\"M\",\"F\",\"other\"],\"title\":{\"font\":{\"family\":\"bold\",\"size\":18},\"text\":\"Canada distribution<br>of Gender\"},\"values\":[56,14,2],\"type\":\"pie\",\"domain\":{\"x\":[0.0,0.45],\"y\":[0.0,0.45]},\"textfont\":{\"size\":12},\"marker\":{\"line\":{\"color\":\"#000000\",\"width\":1},\"colors\":[\"#ededed\",\"#d1d1d1\",\"#adadad\",\"#828282\",\"#5c5c5c\",\"#2b2b2b\"]},\"opacity\":0.9,\"showlegend\":false,\"textinfo\":\"label+percent\",\"visible\":true},{\"hole\":0.5,\"hoverinfo\":\"label+percent\",\"labels\":[\"No\",\"Yes\"],\"title\":{\"font\":{\"family\":\"bold\",\"size\":18},\"text\":\"Canada distribution<br>of self_employed\"},\"values\":[60,12],\"type\":\"pie\",\"domain\":{\"x\":[0.0,0.45],\"y\":[0.0,0.45]},\"textfont\":{\"size\":12},\"marker\":{\"line\":{\"color\":\"#000000\",\"width\":1},\"colors\":[\"#ededed\",\"#d1d1d1\",\"#adadad\",\"#828282\",\"#5c5c5c\",\"#2b2b2b\"]},\"opacity\":0.9,\"showlegend\":false,\"textinfo\":\"label+percent\",\"visible\":false},{\"hole\":0.5,\"hoverinfo\":\"label+percent\",\"labels\":[\"No\",\"Yes\"],\"title\":{\"font\":{\"family\":\"bold\",\"size\":18},\"text\":\"Canada distribution<br>of family_history\"},\"values\":[45,27],\"type\":\"pie\",\"domain\":{\"x\":[0.0,0.45],\"y\":[0.0,0.45]},\"textfont\":{\"size\":12},\"marker\":{\"line\":{\"color\":\"#000000\",\"width\":1},\"colors\":[\"#ededed\",\"#d1d1d1\",\"#adadad\",\"#828282\",\"#5c5c5c\",\"#2b2b2b\"]},\"opacity\":0.9,\"showlegend\":false,\"textinfo\":\"label+percent\",\"visible\":false},{\"hole\":0.5,\"hoverinfo\":\"label+percent\",\"labels\":[\"Yes\",\"No\"],\"title\":{\"font\":{\"family\":\"bold\",\"size\":18},\"text\":\"Canada distribution<br>of treatment\"},\"values\":[37,35],\"type\":\"pie\",\"domain\":{\"x\":[0.0,0.45],\"y\":[0.0,0.45]},\"textfont\":{\"size\":12},\"marker\":{\"line\":{\"color\":\"#000000\",\"width\":1},\"colors\":[\"#ededed\",\"#d1d1d1\",\"#adadad\",\"#828282\",\"#5c5c5c\",\"#2b2b2b\"]},\"opacity\":0.9,\"showlegend\":false,\"textinfo\":\"label+percent\",\"visible\":false},{\"hole\":0.5,\"hoverinfo\":\"label+percent\",\"labels\":[\"Sometimes\",\"Never\",\"Often\",\"Rarely\"],\"title\":{\"font\":{\"family\":\"bold\",\"size\":18},\"text\":\"Canada distribution<br>of work_interfere\"},\"values\":[32,18,13,9],\"type\":\"pie\",\"domain\":{\"x\":[0.0,0.45],\"y\":[0.0,0.45]},\"textfont\":{\"size\":12},\"marker\":{\"line\":{\"color\":\"#000000\",\"width\":1},\"colors\":[\"#ededed\",\"#d1d1d1\",\"#adadad\",\"#828282\",\"#5c5c5c\",\"#2b2b2b\"]},\"opacity\":0.9,\"showlegend\":false,\"textinfo\":\"label+percent\",\"visible\":false},{\"hole\":0.5,\"hoverinfo\":\"label+percent\",\"labels\":[\"6-25\",\"26-100\",\"1-5\",\"100-500\",\"More than 1000\",\"500-1000\"],\"title\":{\"font\":{\"family\":\"bold\",\"size\":18},\"text\":\"Canada distribution<br>of no_employees\"},\"values\":[21,18,11,11,10,1],\"type\":\"pie\",\"domain\":{\"x\":[0.0,0.45],\"y\":[0.0,0.45]},\"textfont\":{\"size\":12},\"marker\":{\"line\":{\"color\":\"#000000\",\"width\":1},\"colors\":[\"#ededed\",\"#d1d1d1\",\"#adadad\",\"#828282\",\"#5c5c5c\",\"#2b2b2b\"]},\"opacity\":0.9,\"showlegend\":false,\"textinfo\":\"label+percent\",\"visible\":false},{\"hole\":0.5,\"hoverinfo\":\"label+percent\",\"labels\":[\"No\",\"Yes\"],\"title\":{\"font\":{\"family\":\"bold\",\"size\":18},\"text\":\"Canada distribution<br>of remote_work\"},\"values\":[50,22],\"type\":\"pie\",\"domain\":{\"x\":[0.0,0.45],\"y\":[0.0,0.45]},\"textfont\":{\"size\":12},\"marker\":{\"line\":{\"color\":\"#000000\",\"width\":1},\"colors\":[\"#ededed\",\"#d1d1d1\",\"#adadad\",\"#828282\",\"#5c5c5c\",\"#2b2b2b\"]},\"opacity\":0.9,\"showlegend\":false,\"textinfo\":\"label+percent\",\"visible\":false},{\"hole\":0.5,\"hoverinfo\":\"label+percent\",\"labels\":[\"Yes\",\"No\"],\"title\":{\"font\":{\"family\":\"bold\",\"size\":18},\"text\":\"Canada distribution<br>of tech_company\"},\"values\":[56,16],\"type\":\"pie\",\"domain\":{\"x\":[0.0,0.45],\"y\":[0.0,0.45]},\"textfont\":{\"size\":12},\"marker\":{\"line\":{\"color\":\"#000000\",\"width\":1},\"colors\":[\"#ededed\",\"#d1d1d1\",\"#adadad\",\"#828282\",\"#5c5c5c\",\"#2b2b2b\"]},\"opacity\":0.9,\"showlegend\":false,\"textinfo\":\"label+percent\",\"visible\":false},{\"hole\":0.5,\"hoverinfo\":\"label+percent\",\"labels\":[\"Yes\",\"Don't know\",\"No\"],\"title\":{\"font\":{\"family\":\"bold\",\"size\":18},\"text\":\"Canada distribution<br>of benefits\"},\"values\":[29,22,21],\"type\":\"pie\",\"domain\":{\"x\":[0.0,0.45],\"y\":[0.0,0.45]},\"textfont\":{\"size\":12},\"marker\":{\"line\":{\"color\":\"#000000\",\"width\":1},\"colors\":[\"#ededed\",\"#d1d1d1\",\"#adadad\",\"#828282\",\"#5c5c5c\",\"#2b2b2b\"]},\"opacity\":0.9,\"showlegend\":false,\"textinfo\":\"label+percent\",\"visible\":false},{\"hole\":0.5,\"hoverinfo\":\"label+percent\",\"labels\":[\"Yes\",\"No\",\"Not sure\"],\"title\":{\"font\":{\"family\":\"bold\",\"size\":18},\"text\":\"Canada distribution<br>of care_options\"},\"values\":[28,22,22],\"type\":\"pie\",\"domain\":{\"x\":[0.0,0.45],\"y\":[0.0,0.45]},\"textfont\":{\"size\":12},\"marker\":{\"line\":{\"color\":\"#000000\",\"width\":1},\"colors\":[\"#ededed\",\"#d1d1d1\",\"#adadad\",\"#828282\",\"#5c5c5c\",\"#2b2b2b\"]},\"opacity\":0.9,\"showlegend\":false,\"textinfo\":\"label+percent\",\"visible\":false},{\"hole\":0.5,\"hoverinfo\":\"label+percent\",\"labels\":[\"No\",\"Yes\",\"Don't know\"],\"title\":{\"font\":{\"family\":\"bold\",\"size\":18},\"text\":\"Canada distribution<br>of wellness_program\"},\"values\":[48,13,11],\"type\":\"pie\",\"domain\":{\"x\":[0.0,0.45],\"y\":[0.0,0.45]},\"textfont\":{\"size\":12},\"marker\":{\"line\":{\"color\":\"#000000\",\"width\":1},\"colors\":[\"#ededed\",\"#d1d1d1\",\"#adadad\",\"#828282\",\"#5c5c5c\",\"#2b2b2b\"]},\"opacity\":0.9,\"showlegend\":false,\"textinfo\":\"label+percent\",\"visible\":false},{\"hole\":0.5,\"hoverinfo\":\"label+percent\",\"labels\":[\"No\",\"Don't know\",\"Yes\"],\"title\":{\"font\":{\"family\":\"bold\",\"size\":18},\"text\":\"Canada distribution<br>of seek_help\"},\"values\":[42,21,9],\"type\":\"pie\",\"domain\":{\"x\":[0.0,0.45],\"y\":[0.0,0.45]},\"textfont\":{\"size\":12},\"marker\":{\"line\":{\"color\":\"#000000\",\"width\":1},\"colors\":[\"#ededed\",\"#d1d1d1\",\"#adadad\",\"#828282\",\"#5c5c5c\",\"#2b2b2b\"]},\"opacity\":0.9,\"showlegend\":false,\"textinfo\":\"label+percent\",\"visible\":false},{\"hole\":0.5,\"hoverinfo\":\"label+percent\",\"labels\":[\"Don't know\",\"Yes\",\"No\"],\"title\":{\"font\":{\"family\":\"bold\",\"size\":18},\"text\":\"Canada distribution<br>of anonymity\"},\"values\":[45,22,5],\"type\":\"pie\",\"domain\":{\"x\":[0.0,0.45],\"y\":[0.0,0.45]},\"textfont\":{\"size\":12},\"marker\":{\"line\":{\"color\":\"#000000\",\"width\":1},\"colors\":[\"#ededed\",\"#d1d1d1\",\"#adadad\",\"#828282\",\"#5c5c5c\",\"#2b2b2b\"]},\"opacity\":0.9,\"showlegend\":false,\"textinfo\":\"label+percent\",\"visible\":false},{\"hole\":0.5,\"hoverinfo\":\"label+percent\",\"labels\":[\"Don't know\",\"Somewhat easy\",\"Somewhat difficult\",\"Very easy\",\"Very difficult\"],\"title\":{\"font\":{\"family\":\"bold\",\"size\":18},\"text\":\"Canada distribution<br>of leave\"},\"values\":[26,18,10,9,9],\"type\":\"pie\",\"domain\":{\"x\":[0.0,0.45],\"y\":[0.0,0.45]},\"textfont\":{\"size\":12},\"marker\":{\"line\":{\"color\":\"#000000\",\"width\":1},\"colors\":[\"#ededed\",\"#d1d1d1\",\"#adadad\",\"#828282\",\"#5c5c5c\",\"#2b2b2b\"]},\"opacity\":0.9,\"showlegend\":false,\"textinfo\":\"label+percent\",\"visible\":false},{\"hole\":0.5,\"hoverinfo\":\"label+percent\",\"labels\":[\"No\",\"Maybe\",\"Yes\"],\"title\":{\"font\":{\"family\":\"bold\",\"size\":18},\"text\":\"Canada distribution<br>of mental_health_consequence\"},\"values\":[31,25,16],\"type\":\"pie\",\"domain\":{\"x\":[0.0,0.45],\"y\":[0.0,0.45]},\"textfont\":{\"size\":12},\"marker\":{\"line\":{\"color\":\"#000000\",\"width\":1},\"colors\":[\"#ededed\",\"#d1d1d1\",\"#adadad\",\"#828282\",\"#5c5c5c\",\"#2b2b2b\"]},\"opacity\":0.9,\"showlegend\":false,\"textinfo\":\"label+percent\",\"visible\":false},{\"hole\":0.5,\"hoverinfo\":\"label+percent\",\"labels\":[\"No\",\"Maybe\",\"Yes\"],\"title\":{\"font\":{\"family\":\"bold\",\"size\":18},\"text\":\"Canada distribution<br>of phys_health_consequence\"},\"values\":[56,14,2],\"type\":\"pie\",\"domain\":{\"x\":[0.0,0.45],\"y\":[0.0,0.45]},\"textfont\":{\"size\":12},\"marker\":{\"line\":{\"color\":\"#000000\",\"width\":1},\"colors\":[\"#ededed\",\"#d1d1d1\",\"#adadad\",\"#828282\",\"#5c5c5c\",\"#2b2b2b\"]},\"opacity\":0.9,\"showlegend\":false,\"textinfo\":\"label+percent\",\"visible\":false},{\"hole\":0.5,\"hoverinfo\":\"label+percent\",\"labels\":[\"Some of them\",\"No\",\"Yes\"],\"title\":{\"font\":{\"family\":\"bold\",\"size\":18},\"text\":\"Canada distribution<br>of coworkers\"},\"values\":[49,12,11],\"type\":\"pie\",\"domain\":{\"x\":[0.0,0.45],\"y\":[0.0,0.45]},\"textfont\":{\"size\":12},\"marker\":{\"line\":{\"color\":\"#000000\",\"width\":1},\"colors\":[\"#ededed\",\"#d1d1d1\",\"#adadad\",\"#828282\",\"#5c5c5c\",\"#2b2b2b\"]},\"opacity\":0.9,\"showlegend\":false,\"textinfo\":\"label+percent\",\"visible\":false},{\"hole\":0.5,\"hoverinfo\":\"label+percent\",\"labels\":[\"Yes\",\"Some of them\",\"No\"],\"title\":{\"font\":{\"family\":\"bold\",\"size\":18},\"text\":\"Canada distribution<br>of supervisor\"},\"values\":[28,24,20],\"type\":\"pie\",\"domain\":{\"x\":[0.0,0.45],\"y\":[0.0,0.45]},\"textfont\":{\"size\":12},\"marker\":{\"line\":{\"color\":\"#000000\",\"width\":1},\"colors\":[\"#ededed\",\"#d1d1d1\",\"#adadad\",\"#828282\",\"#5c5c5c\",\"#2b2b2b\"]},\"opacity\":0.9,\"showlegend\":false,\"textinfo\":\"label+percent\",\"visible\":false},{\"hole\":0.5,\"hoverinfo\":\"label+percent\",\"labels\":[\"No\",\"Maybe\",\"Yes\"],\"title\":{\"font\":{\"family\":\"bold\",\"size\":18},\"text\":\"Canada distribution<br>of mental_health_interview\"},\"values\":[60,10,2],\"type\":\"pie\",\"domain\":{\"x\":[0.0,0.45],\"y\":[0.0,0.45]},\"textfont\":{\"size\":12},\"marker\":{\"line\":{\"color\":\"#000000\",\"width\":1},\"colors\":[\"#ededed\",\"#d1d1d1\",\"#adadad\",\"#828282\",\"#5c5c5c\",\"#2b2b2b\"]},\"opacity\":0.9,\"showlegend\":false,\"textinfo\":\"label+percent\",\"visible\":false},{\"hole\":0.5,\"hoverinfo\":\"label+percent\",\"labels\":[\"Maybe\",\"No\",\"Yes\"],\"title\":{\"font\":{\"family\":\"bold\",\"size\":18},\"text\":\"Canada distribution<br>of phys_health_interview\"},\"values\":[33,30,9],\"type\":\"pie\",\"domain\":{\"x\":[0.0,0.45],\"y\":[0.0,0.45]},\"textfont\":{\"size\":12},\"marker\":{\"line\":{\"color\":\"#000000\",\"width\":1},\"colors\":[\"#ededed\",\"#d1d1d1\",\"#adadad\",\"#828282\",\"#5c5c5c\",\"#2b2b2b\"]},\"opacity\":0.9,\"showlegend\":false,\"textinfo\":\"label+percent\",\"visible\":false},{\"hole\":0.5,\"hoverinfo\":\"label+percent\",\"labels\":[\"Don't know\",\"No\",\"Yes\"],\"title\":{\"font\":{\"family\":\"bold\",\"size\":18},\"text\":\"Canada distribution<br>of mental_vs_physical\"},\"values\":[33,20,19],\"type\":\"pie\",\"domain\":{\"x\":[0.0,0.45],\"y\":[0.0,0.45]},\"textfont\":{\"size\":12},\"marker\":{\"line\":{\"color\":\"#000000\",\"width\":1},\"colors\":[\"#ededed\",\"#d1d1d1\",\"#adadad\",\"#828282\",\"#5c5c5c\",\"#2b2b2b\"]},\"opacity\":0.9,\"showlegend\":false,\"textinfo\":\"label+percent\",\"visible\":false},{\"hole\":0.5,\"hoverinfo\":\"label+percent\",\"labels\":[\"No\",\"Yes\"],\"title\":{\"font\":{\"family\":\"bold\",\"size\":18},\"text\":\"Canada distribution<br>of obs_consequence\"},\"values\":[62,10],\"type\":\"pie\",\"domain\":{\"x\":[0.0,0.45],\"y\":[0.0,0.45]},\"textfont\":{\"size\":12},\"marker\":{\"line\":{\"color\":\"#000000\",\"width\":1},\"colors\":[\"#ededed\",\"#d1d1d1\",\"#adadad\",\"#828282\",\"#5c5c5c\",\"#2b2b2b\"]},\"opacity\":0.9,\"showlegend\":false,\"textinfo\":\"label+percent\",\"visible\":false},{\"hole\":0.5,\"hoverinfo\":\"label+percent\",\"labels\":[\"M\",\"other\",\"F\"],\"title\":{\"font\":{\"family\":\"bold\",\"size\":18},\"text\":\"Germany distribution<br>of Gender\"},\"values\":[42,2,1],\"type\":\"pie\",\"domain\":{\"x\":[0.55,1.0],\"y\":[0.0,0.45]},\"textfont\":{\"size\":12},\"marker\":{\"line\":{\"color\":\"#000000\",\"width\":1},\"colors\":[\"#ededed\",\"#d1d1d1\",\"#adadad\",\"#828282\",\"#5c5c5c\",\"#2b2b2b\"]},\"opacity\":0.9,\"showlegend\":false,\"textinfo\":\"label+percent\",\"visible\":true},{\"hole\":0.5,\"hoverinfo\":\"label+percent\",\"labels\":[\"No\",\"Yes\"],\"title\":{\"font\":{\"family\":\"bold\",\"size\":18},\"text\":\"Germany distribution<br>of self_employed\"},\"values\":[33,12],\"type\":\"pie\",\"domain\":{\"x\":[0.55,1.0],\"y\":[0.0,0.45]},\"textfont\":{\"size\":12},\"marker\":{\"line\":{\"color\":\"#000000\",\"width\":1},\"colors\":[\"#ededed\",\"#d1d1d1\",\"#adadad\",\"#828282\",\"#5c5c5c\",\"#2b2b2b\"]},\"opacity\":0.9,\"showlegend\":false,\"textinfo\":\"label+percent\",\"visible\":false},{\"hole\":0.5,\"hoverinfo\":\"label+percent\",\"labels\":[\"No\",\"Yes\"],\"title\":{\"font\":{\"family\":\"bold\",\"size\":18},\"text\":\"Germany distribution<br>of family_history\"},\"values\":[31,14],\"type\":\"pie\",\"domain\":{\"x\":[0.55,1.0],\"y\":[0.0,0.45]},\"textfont\":{\"size\":12},\"marker\":{\"line\":{\"color\":\"#000000\",\"width\":1},\"colors\":[\"#ededed\",\"#d1d1d1\",\"#adadad\",\"#828282\",\"#5c5c5c\",\"#2b2b2b\"]},\"opacity\":0.9,\"showlegend\":false,\"textinfo\":\"label+percent\",\"visible\":false},{\"hole\":0.5,\"hoverinfo\":\"label+percent\",\"labels\":[\"No\",\"Yes\"],\"title\":{\"font\":{\"family\":\"bold\",\"size\":18},\"text\":\"Germany distribution<br>of treatment\"},\"values\":[24,21],\"type\":\"pie\",\"domain\":{\"x\":[0.55,1.0],\"y\":[0.0,0.45]},\"textfont\":{\"size\":12},\"marker\":{\"line\":{\"color\":\"#000000\",\"width\":1},\"colors\":[\"#ededed\",\"#d1d1d1\",\"#adadad\",\"#828282\",\"#5c5c5c\",\"#2b2b2b\"]},\"opacity\":0.9,\"showlegend\":false,\"textinfo\":\"label+percent\",\"visible\":false},{\"hole\":0.5,\"hoverinfo\":\"label+percent\",\"labels\":[\"Sometimes\",\"Often\",\"Rarely\",\"Never\"],\"title\":{\"font\":{\"family\":\"bold\",\"size\":18},\"text\":\"Germany distribution<br>of work_interfere\"},\"values\":[27,7,6,5],\"type\":\"pie\",\"domain\":{\"x\":[0.55,1.0],\"y\":[0.0,0.45]},\"textfont\":{\"size\":12},\"marker\":{\"line\":{\"color\":\"#000000\",\"width\":1},\"colors\":[\"#ededed\",\"#d1d1d1\",\"#adadad\",\"#828282\",\"#5c5c5c\",\"#2b2b2b\"]},\"opacity\":0.9,\"showlegend\":false,\"textinfo\":\"label+percent\",\"visible\":false},{\"hole\":0.5,\"hoverinfo\":\"label+percent\",\"labels\":[\"6-25\",\"26-100\",\"1-5\",\"100-500\",\"More than 1000\",\"500-1000\"],\"title\":{\"font\":{\"family\":\"bold\",\"size\":18},\"text\":\"Germany distribution<br>of no_employees\"},\"values\":[14,14,7,5,3,2],\"type\":\"pie\",\"domain\":{\"x\":[0.55,1.0],\"y\":[0.0,0.45]},\"textfont\":{\"size\":12},\"marker\":{\"line\":{\"color\":\"#000000\",\"width\":1},\"colors\":[\"#ededed\",\"#d1d1d1\",\"#adadad\",\"#828282\",\"#5c5c5c\",\"#2b2b2b\"]},\"opacity\":0.9,\"showlegend\":false,\"textinfo\":\"label+percent\",\"visible\":false},{\"hole\":0.5,\"hoverinfo\":\"label+percent\",\"labels\":[\"No\",\"Yes\"],\"title\":{\"font\":{\"family\":\"bold\",\"size\":18},\"text\":\"Germany distribution<br>of remote_work\"},\"values\":[29,16],\"type\":\"pie\",\"domain\":{\"x\":[0.55,1.0],\"y\":[0.0,0.45]},\"textfont\":{\"size\":12},\"marker\":{\"line\":{\"color\":\"#000000\",\"width\":1},\"colors\":[\"#ededed\",\"#d1d1d1\",\"#adadad\",\"#828282\",\"#5c5c5c\",\"#2b2b2b\"]},\"opacity\":0.9,\"showlegend\":false,\"textinfo\":\"label+percent\",\"visible\":false},{\"hole\":0.5,\"hoverinfo\":\"label+percent\",\"labels\":[\"Yes\",\"No\"],\"title\":{\"font\":{\"family\":\"bold\",\"size\":18},\"text\":\"Germany distribution<br>of tech_company\"},\"values\":[40,5],\"type\":\"pie\",\"domain\":{\"x\":[0.55,1.0],\"y\":[0.0,0.45]},\"textfont\":{\"size\":12},\"marker\":{\"line\":{\"color\":\"#000000\",\"width\":1},\"colors\":[\"#ededed\",\"#d1d1d1\",\"#adadad\",\"#828282\",\"#5c5c5c\",\"#2b2b2b\"]},\"opacity\":0.9,\"showlegend\":false,\"textinfo\":\"label+percent\",\"visible\":false},{\"hole\":0.5,\"hoverinfo\":\"label+percent\",\"labels\":[\"Don't know\",\"No\",\"Yes\"],\"title\":{\"font\":{\"family\":\"bold\",\"size\":18},\"text\":\"Germany distribution<br>of benefits\"},\"values\":[20,20,5],\"type\":\"pie\",\"domain\":{\"x\":[0.55,1.0],\"y\":[0.0,0.45]},\"textfont\":{\"size\":12},\"marker\":{\"line\":{\"color\":\"#000000\",\"width\":1},\"colors\":[\"#ededed\",\"#d1d1d1\",\"#adadad\",\"#828282\",\"#5c5c5c\",\"#2b2b2b\"]},\"opacity\":0.9,\"showlegend\":false,\"textinfo\":\"label+percent\",\"visible\":false},{\"hole\":0.5,\"hoverinfo\":\"label+percent\",\"labels\":[\"No\",\"Not sure\",\"Yes\"],\"title\":{\"font\":{\"family\":\"bold\",\"size\":18},\"text\":\"Germany distribution<br>of care_options\"},\"values\":[26,11,8],\"type\":\"pie\",\"domain\":{\"x\":[0.55,1.0],\"y\":[0.0,0.45]},\"textfont\":{\"size\":12},\"marker\":{\"line\":{\"color\":\"#000000\",\"width\":1},\"colors\":[\"#ededed\",\"#d1d1d1\",\"#adadad\",\"#828282\",\"#5c5c5c\",\"#2b2b2b\"]},\"opacity\":0.9,\"showlegend\":false,\"textinfo\":\"label+percent\",\"visible\":false},{\"hole\":0.5,\"hoverinfo\":\"label+percent\",\"labels\":[\"No\",\"Don't know\",\"Yes\"],\"title\":{\"font\":{\"family\":\"bold\",\"size\":18},\"text\":\"Germany distribution<br>of wellness_program\"},\"values\":[34,7,4],\"type\":\"pie\",\"domain\":{\"x\":[0.55,1.0],\"y\":[0.0,0.45]},\"textfont\":{\"size\":12},\"marker\":{\"line\":{\"color\":\"#000000\",\"width\":1},\"colors\":[\"#ededed\",\"#d1d1d1\",\"#adadad\",\"#828282\",\"#5c5c5c\",\"#2b2b2b\"]},\"opacity\":0.9,\"showlegend\":false,\"textinfo\":\"label+percent\",\"visible\":false},{\"hole\":0.5,\"hoverinfo\":\"label+percent\",\"labels\":[\"No\",\"Don't know\",\"Yes\"],\"title\":{\"font\":{\"family\":\"bold\",\"size\":18},\"text\":\"Germany distribution<br>of seek_help\"},\"values\":[34,7,4],\"type\":\"pie\",\"domain\":{\"x\":[0.55,1.0],\"y\":[0.0,0.45]},\"textfont\":{\"size\":12},\"marker\":{\"line\":{\"color\":\"#000000\",\"width\":1},\"colors\":[\"#ededed\",\"#d1d1d1\",\"#adadad\",\"#828282\",\"#5c5c5c\",\"#2b2b2b\"]},\"opacity\":0.9,\"showlegend\":false,\"textinfo\":\"label+percent\",\"visible\":false},{\"hole\":0.5,\"hoverinfo\":\"label+percent\",\"labels\":[\"Don't know\",\"Yes\",\"No\"],\"title\":{\"font\":{\"family\":\"bold\",\"size\":18},\"text\":\"Germany distribution<br>of anonymity\"},\"values\":[27,17,1],\"type\":\"pie\",\"domain\":{\"x\":[0.55,1.0],\"y\":[0.0,0.45]},\"textfont\":{\"size\":12},\"marker\":{\"line\":{\"color\":\"#000000\",\"width\":1},\"colors\":[\"#ededed\",\"#d1d1d1\",\"#adadad\",\"#828282\",\"#5c5c5c\",\"#2b2b2b\"]},\"opacity\":0.9,\"showlegend\":false,\"textinfo\":\"label+percent\",\"visible\":false},{\"hole\":0.5,\"hoverinfo\":\"label+percent\",\"labels\":[\"Somewhat easy\",\"Very easy\",\"Somewhat difficult\",\"Don't know\",\"Very difficult\"],\"title\":{\"font\":{\"family\":\"bold\",\"size\":18},\"text\":\"Germany distribution<br>of leave\"},\"values\":[16,13,7,7,2],\"type\":\"pie\",\"domain\":{\"x\":[0.55,1.0],\"y\":[0.0,0.45]},\"textfont\":{\"size\":12},\"marker\":{\"line\":{\"color\":\"#000000\",\"width\":1},\"colors\":[\"#ededed\",\"#d1d1d1\",\"#adadad\",\"#828282\",\"#5c5c5c\",\"#2b2b2b\"]},\"opacity\":0.9,\"showlegend\":false,\"textinfo\":\"label+percent\",\"visible\":false},{\"hole\":0.5,\"hoverinfo\":\"label+percent\",\"labels\":[\"No\",\"Maybe\",\"Yes\"],\"title\":{\"font\":{\"family\":\"bold\",\"size\":18},\"text\":\"Germany distribution<br>of mental_health_consequence\"},\"values\":[28,12,5],\"type\":\"pie\",\"domain\":{\"x\":[0.55,1.0],\"y\":[0.0,0.45]},\"textfont\":{\"size\":12},\"marker\":{\"line\":{\"color\":\"#000000\",\"width\":1},\"colors\":[\"#ededed\",\"#d1d1d1\",\"#adadad\",\"#828282\",\"#5c5c5c\",\"#2b2b2b\"]},\"opacity\":0.9,\"showlegend\":false,\"textinfo\":\"label+percent\",\"visible\":false},{\"hole\":0.5,\"hoverinfo\":\"label+percent\",\"labels\":[\"No\",\"Maybe\",\"Yes\"],\"title\":{\"font\":{\"family\":\"bold\",\"size\":18},\"text\":\"Germany distribution<br>of phys_health_consequence\"},\"values\":[35,7,3],\"type\":\"pie\",\"domain\":{\"x\":[0.55,1.0],\"y\":[0.0,0.45]},\"textfont\":{\"size\":12},\"marker\":{\"line\":{\"color\":\"#000000\",\"width\":1},\"colors\":[\"#ededed\",\"#d1d1d1\",\"#adadad\",\"#828282\",\"#5c5c5c\",\"#2b2b2b\"]},\"opacity\":0.9,\"showlegend\":false,\"textinfo\":\"label+percent\",\"visible\":false},{\"hole\":0.5,\"hoverinfo\":\"label+percent\",\"labels\":[\"Some of them\",\"Yes\",\"No\"],\"title\":{\"font\":{\"family\":\"bold\",\"size\":18},\"text\":\"Germany distribution<br>of coworkers\"},\"values\":[29,13,3],\"type\":\"pie\",\"domain\":{\"x\":[0.55,1.0],\"y\":[0.0,0.45]},\"textfont\":{\"size\":12},\"marker\":{\"line\":{\"color\":\"#000000\",\"width\":1},\"colors\":[\"#ededed\",\"#d1d1d1\",\"#adadad\",\"#828282\",\"#5c5c5c\",\"#2b2b2b\"]},\"opacity\":0.9,\"showlegend\":false,\"textinfo\":\"label+percent\",\"visible\":false},{\"hole\":0.5,\"hoverinfo\":\"label+percent\",\"labels\":[\"Yes\",\"Some of them\",\"No\"],\"title\":{\"font\":{\"family\":\"bold\",\"size\":18},\"text\":\"Germany distribution<br>of supervisor\"},\"values\":[22,14,9],\"type\":\"pie\",\"domain\":{\"x\":[0.55,1.0],\"y\":[0.0,0.45]},\"textfont\":{\"size\":12},\"marker\":{\"line\":{\"color\":\"#000000\",\"width\":1},\"colors\":[\"#ededed\",\"#d1d1d1\",\"#adadad\",\"#828282\",\"#5c5c5c\",\"#2b2b2b\"]},\"opacity\":0.9,\"showlegend\":false,\"textinfo\":\"label+percent\",\"visible\":false},{\"hole\":0.5,\"hoverinfo\":\"label+percent\",\"labels\":[\"No\",\"Maybe\",\"Yes\"],\"title\":{\"font\":{\"family\":\"bold\",\"size\":18},\"text\":\"Germany distribution<br>of mental_health_interview\"},\"values\":[20,19,6],\"type\":\"pie\",\"domain\":{\"x\":[0.55,1.0],\"y\":[0.0,0.45]},\"textfont\":{\"size\":12},\"marker\":{\"line\":{\"color\":\"#000000\",\"width\":1},\"colors\":[\"#ededed\",\"#d1d1d1\",\"#adadad\",\"#828282\",\"#5c5c5c\",\"#2b2b2b\"]},\"opacity\":0.9,\"showlegend\":false,\"textinfo\":\"label+percent\",\"visible\":false},{\"hole\":0.5,\"hoverinfo\":\"label+percent\",\"labels\":[\"Maybe\",\"Yes\",\"No\"],\"title\":{\"font\":{\"family\":\"bold\",\"size\":18},\"text\":\"Germany distribution<br>of phys_health_interview\"},\"values\":[18,16,11],\"type\":\"pie\",\"domain\":{\"x\":[0.55,1.0],\"y\":[0.0,0.45]},\"textfont\":{\"size\":12},\"marker\":{\"line\":{\"color\":\"#000000\",\"width\":1},\"colors\":[\"#ededed\",\"#d1d1d1\",\"#adadad\",\"#828282\",\"#5c5c5c\",\"#2b2b2b\"]},\"opacity\":0.9,\"showlegend\":false,\"textinfo\":\"label+percent\",\"visible\":false},{\"hole\":0.5,\"hoverinfo\":\"label+percent\",\"labels\":[\"Don't know\",\"Yes\",\"No\"],\"title\":{\"font\":{\"family\":\"bold\",\"size\":18},\"text\":\"Germany distribution<br>of mental_vs_physical\"},\"values\":[19,17,9],\"type\":\"pie\",\"domain\":{\"x\":[0.55,1.0],\"y\":[0.0,0.45]},\"textfont\":{\"size\":12},\"marker\":{\"line\":{\"color\":\"#000000\",\"width\":1},\"colors\":[\"#ededed\",\"#d1d1d1\",\"#adadad\",\"#828282\",\"#5c5c5c\",\"#2b2b2b\"]},\"opacity\":0.9,\"showlegend\":false,\"textinfo\":\"label+percent\",\"visible\":false},{\"hole\":0.5,\"hoverinfo\":\"label+percent\",\"labels\":[\"No\",\"Yes\"],\"title\":{\"font\":{\"family\":\"bold\",\"size\":18},\"text\":\"Germany distribution<br>of obs_consequence\"},\"values\":[40,5],\"type\":\"pie\",\"domain\":{\"x\":[0.55,1.0],\"y\":[0.0,0.45]},\"textfont\":{\"size\":12},\"marker\":{\"line\":{\"color\":\"#000000\",\"width\":1},\"colors\":[\"#ededed\",\"#d1d1d1\",\"#adadad\",\"#828282\",\"#5c5c5c\",\"#2b2b2b\"]},\"opacity\":0.9,\"showlegend\":false,\"textinfo\":\"label+percent\",\"visible\":false}],                        {\"template\":{\"data\":{\"histogram2dcontour\":[{\"type\":\"histogram2dcontour\",\"colorbar\":{\"outlinewidth\":0,\"ticks\":\"\"},\"colorscale\":[[0.0,\"#0d0887\"],[0.1111111111111111,\"#46039f\"],[0.2222222222222222,\"#7201a8\"],[0.3333333333333333,\"#9c179e\"],[0.4444444444444444,\"#bd3786\"],[0.5555555555555556,\"#d8576b\"],[0.6666666666666666,\"#ed7953\"],[0.7777777777777778,\"#fb9f3a\"],[0.8888888888888888,\"#fdca26\"],[1.0,\"#f0f921\"]]}],\"choropleth\":[{\"type\":\"choropleth\",\"colorbar\":{\"outlinewidth\":0,\"ticks\":\"\"}}],\"histogram2d\":[{\"type\":\"histogram2d\",\"colorbar\":{\"outlinewidth\":0,\"ticks\":\"\"},\"colorscale\":[[0.0,\"#0d0887\"],[0.1111111111111111,\"#46039f\"],[0.2222222222222222,\"#7201a8\"],[0.3333333333333333,\"#9c179e\"],[0.4444444444444444,\"#bd3786\"],[0.5555555555555556,\"#d8576b\"],[0.6666666666666666,\"#ed7953\"],[0.7777777777777778,\"#fb9f3a\"],[0.8888888888888888,\"#fdca26\"],[1.0,\"#f0f921\"]]}],\"heatmap\":[{\"type\":\"heatmap\",\"colorbar\":{\"outlinewidth\":0,\"ticks\":\"\"},\"colorscale\":[[0.0,\"#0d0887\"],[0.1111111111111111,\"#46039f\"],[0.2222222222222222,\"#7201a8\"],[0.3333333333333333,\"#9c179e\"],[0.4444444444444444,\"#bd3786\"],[0.5555555555555556,\"#d8576b\"],[0.6666666666666666,\"#ed7953\"],[0.7777777777777778,\"#fb9f3a\"],[0.8888888888888888,\"#fdca26\"],[1.0,\"#f0f921\"]]}],\"heatmapgl\":[{\"type\":\"heatmapgl\",\"colorbar\":{\"outlinewidth\":0,\"ticks\":\"\"},\"colorscale\":[[0.0,\"#0d0887\"],[0.1111111111111111,\"#46039f\"],[0.2222222222222222,\"#7201a8\"],[0.3333333333333333,\"#9c179e\"],[0.4444444444444444,\"#bd3786\"],[0.5555555555555556,\"#d8576b\"],[0.6666666666666666,\"#ed7953\"],[0.7777777777777778,\"#fb9f3a\"],[0.8888888888888888,\"#fdca26\"],[1.0,\"#f0f921\"]]}],\"contourcarpet\":[{\"type\":\"contourcarpet\",\"colorbar\":{\"outlinewidth\":0,\"ticks\":\"\"}}],\"contour\":[{\"type\":\"contour\",\"colorbar\":{\"outlinewidth\":0,\"ticks\":\"\"},\"colorscale\":[[0.0,\"#0d0887\"],[0.1111111111111111,\"#46039f\"],[0.2222222222222222,\"#7201a8\"],[0.3333333333333333,\"#9c179e\"],[0.4444444444444444,\"#bd3786\"],[0.5555555555555556,\"#d8576b\"],[0.6666666666666666,\"#ed7953\"],[0.7777777777777778,\"#fb9f3a\"],[0.8888888888888888,\"#fdca26\"],[1.0,\"#f0f921\"]]}],\"surface\":[{\"type\":\"surface\",\"colorbar\":{\"outlinewidth\":0,\"ticks\":\"\"},\"colorscale\":[[0.0,\"#0d0887\"],[0.1111111111111111,\"#46039f\"],[0.2222222222222222,\"#7201a8\"],[0.3333333333333333,\"#9c179e\"],[0.4444444444444444,\"#bd3786\"],[0.5555555555555556,\"#d8576b\"],[0.6666666666666666,\"#ed7953\"],[0.7777777777777778,\"#fb9f3a\"],[0.8888888888888888,\"#fdca26\"],[1.0,\"#f0f921\"]]}],\"mesh3d\":[{\"type\":\"mesh3d\",\"colorbar\":{\"outlinewidth\":0,\"ticks\":\"\"}}],\"scatter\":[{\"fillpattern\":{\"fillmode\":\"overlay\",\"size\":10,\"solidity\":0.2},\"type\":\"scatter\"}],\"parcoords\":[{\"type\":\"parcoords\",\"line\":{\"colorbar\":{\"outlinewidth\":0,\"ticks\":\"\"}}}],\"scatterpolargl\":[{\"type\":\"scatterpolargl\",\"marker\":{\"colorbar\":{\"outlinewidth\":0,\"ticks\":\"\"}}}],\"bar\":[{\"error_x\":{\"color\":\"#2a3f5f\"},\"error_y\":{\"color\":\"#2a3f5f\"},\"marker\":{\"line\":{\"color\":\"#E5ECF6\",\"width\":0.5},\"pattern\":{\"fillmode\":\"overlay\",\"size\":10,\"solidity\":0.2}},\"type\":\"bar\"}],\"scattergeo\":[{\"type\":\"scattergeo\",\"marker\":{\"colorbar\":{\"outlinewidth\":0,\"ticks\":\"\"}}}],\"scatterpolar\":[{\"type\":\"scatterpolar\",\"marker\":{\"colorbar\":{\"outlinewidth\":0,\"ticks\":\"\"}}}],\"histogram\":[{\"marker\":{\"pattern\":{\"fillmode\":\"overlay\",\"size\":10,\"solidity\":0.2}},\"type\":\"histogram\"}],\"scattergl\":[{\"type\":\"scattergl\",\"marker\":{\"colorbar\":{\"outlinewidth\":0,\"ticks\":\"\"}}}],\"scatter3d\":[{\"type\":\"scatter3d\",\"line\":{\"colorbar\":{\"outlinewidth\":0,\"ticks\":\"\"}},\"marker\":{\"colorbar\":{\"outlinewidth\":0,\"ticks\":\"\"}}}],\"scattermapbox\":[{\"type\":\"scattermapbox\",\"marker\":{\"colorbar\":{\"outlinewidth\":0,\"ticks\":\"\"}}}],\"scatterternary\":[{\"type\":\"scatterternary\",\"marker\":{\"colorbar\":{\"outlinewidth\":0,\"ticks\":\"\"}}}],\"scattercarpet\":[{\"type\":\"scattercarpet\",\"marker\":{\"colorbar\":{\"outlinewidth\":0,\"ticks\":\"\"}}}],\"carpet\":[{\"aaxis\":{\"endlinecolor\":\"#2a3f5f\",\"gridcolor\":\"white\",\"linecolor\":\"white\",\"minorgridcolor\":\"white\",\"startlinecolor\":\"#2a3f5f\"},\"baxis\":{\"endlinecolor\":\"#2a3f5f\",\"gridcolor\":\"white\",\"linecolor\":\"white\",\"minorgridcolor\":\"white\",\"startlinecolor\":\"#2a3f5f\"},\"type\":\"carpet\"}],\"table\":[{\"cells\":{\"fill\":{\"color\":\"#EBF0F8\"},\"line\":{\"color\":\"white\"}},\"header\":{\"fill\":{\"color\":\"#C8D4E3\"},\"line\":{\"color\":\"white\"}},\"type\":\"table\"}],\"barpolar\":[{\"marker\":{\"line\":{\"color\":\"#E5ECF6\",\"width\":0.5},\"pattern\":{\"fillmode\":\"overlay\",\"size\":10,\"solidity\":0.2}},\"type\":\"barpolar\"}],\"pie\":[{\"automargin\":true,\"type\":\"pie\"}]},\"layout\":{\"autotypenumbers\":\"strict\",\"colorway\":[\"#636efa\",\"#EF553B\",\"#00cc96\",\"#ab63fa\",\"#FFA15A\",\"#19d3f3\",\"#FF6692\",\"#B6E880\",\"#FF97FF\",\"#FECB52\"],\"font\":{\"color\":\"#2a3f5f\"},\"hovermode\":\"closest\",\"hoverlabel\":{\"align\":\"left\"},\"paper_bgcolor\":\"white\",\"plot_bgcolor\":\"#E5ECF6\",\"polar\":{\"bgcolor\":\"#E5ECF6\",\"angularaxis\":{\"gridcolor\":\"white\",\"linecolor\":\"white\",\"ticks\":\"\"},\"radialaxis\":{\"gridcolor\":\"white\",\"linecolor\":\"white\",\"ticks\":\"\"}},\"ternary\":{\"bgcolor\":\"#E5ECF6\",\"aaxis\":{\"gridcolor\":\"white\",\"linecolor\":\"white\",\"ticks\":\"\"},\"baxis\":{\"gridcolor\":\"white\",\"linecolor\":\"white\",\"ticks\":\"\"},\"caxis\":{\"gridcolor\":\"white\",\"linecolor\":\"white\",\"ticks\":\"\"}},\"coloraxis\":{\"colorbar\":{\"outlinewidth\":0,\"ticks\":\"\"}},\"colorscale\":{\"sequential\":[[0.0,\"#0d0887\"],[0.1111111111111111,\"#46039f\"],[0.2222222222222222,\"#7201a8\"],[0.3333333333333333,\"#9c179e\"],[0.4444444444444444,\"#bd3786\"],[0.5555555555555556,\"#d8576b\"],[0.6666666666666666,\"#ed7953\"],[0.7777777777777778,\"#fb9f3a\"],[0.8888888888888888,\"#fdca26\"],[1.0,\"#f0f921\"]],\"sequentialminus\":[[0.0,\"#0d0887\"],[0.1111111111111111,\"#46039f\"],[0.2222222222222222,\"#7201a8\"],[0.3333333333333333,\"#9c179e\"],[0.4444444444444444,\"#bd3786\"],[0.5555555555555556,\"#d8576b\"],[0.6666666666666666,\"#ed7953\"],[0.7777777777777778,\"#fb9f3a\"],[0.8888888888888888,\"#fdca26\"],[1.0,\"#f0f921\"]],\"diverging\":[[0,\"#8e0152\"],[0.1,\"#c51b7d\"],[0.2,\"#de77ae\"],[0.3,\"#f1b6da\"],[0.4,\"#fde0ef\"],[0.5,\"#f7f7f7\"],[0.6,\"#e6f5d0\"],[0.7,\"#b8e186\"],[0.8,\"#7fbc41\"],[0.9,\"#4d9221\"],[1,\"#276419\"]]},\"xaxis\":{\"gridcolor\":\"white\",\"linecolor\":\"white\",\"ticks\":\"\",\"title\":{\"standoff\":15},\"zerolinecolor\":\"white\",\"automargin\":true,\"zerolinewidth\":2},\"yaxis\":{\"gridcolor\":\"white\",\"linecolor\":\"white\",\"ticks\":\"\",\"title\":{\"standoff\":15},\"zerolinecolor\":\"white\",\"automargin\":true,\"zerolinewidth\":2},\"scene\":{\"xaxis\":{\"backgroundcolor\":\"#E5ECF6\",\"gridcolor\":\"white\",\"linecolor\":\"white\",\"showbackground\":true,\"ticks\":\"\",\"zerolinecolor\":\"white\",\"gridwidth\":2},\"yaxis\":{\"backgroundcolor\":\"#E5ECF6\",\"gridcolor\":\"white\",\"linecolor\":\"white\",\"showbackground\":true,\"ticks\":\"\",\"zerolinecolor\":\"white\",\"gridwidth\":2},\"zaxis\":{\"backgroundcolor\":\"#E5ECF6\",\"gridcolor\":\"white\",\"linecolor\":\"white\",\"showbackground\":true,\"ticks\":\"\",\"zerolinecolor\":\"white\",\"gridwidth\":2}},\"shapedefaults\":{\"line\":{\"color\":\"#2a3f5f\"}},\"annotationdefaults\":{\"arrowcolor\":\"#2a3f5f\",\"arrowhead\":0,\"arrowwidth\":1},\"geo\":{\"bgcolor\":\"white\",\"landcolor\":\"#E5ECF6\",\"subunitcolor\":\"white\",\"showland\":true,\"showlakes\":true,\"lakecolor\":\"white\"},\"title\":{\"x\":0.05},\"mapbox\":{\"style\":\"light\"}}},\"margin\":{\"t\":0,\"b\":0,\"l\":0,\"r\":0},\"font\":{\"family\":\"bold\"},\"paper_bgcolor\":\"#edf2c7\",\"height\":1000,\"updatemenus\":[{\"active\":0,\"buttons\":[{\"args\":[{\"visible\":[true,false,false,false,false,false,false,false,false,false,false,false,false,false,false,false,false,false,false,false,false,false]},{\"title\":\"Gender\"}],\"label\":\"Gender\",\"method\":\"update\"},{\"args\":[{\"visible\":[false,true,false,false,false,false,false,false,false,false,false,false,false,false,false,false,false,false,false,false,false,false]},{\"title\":\"self_employed\"}],\"label\":\"self_employed\",\"method\":\"update\"},{\"args\":[{\"visible\":[false,false,true,false,false,false,false,false,false,false,false,false,false,false,false,false,false,false,false,false,false,false]},{\"title\":\"family_history\"}],\"label\":\"family_history\",\"method\":\"update\"},{\"args\":[{\"visible\":[false,false,false,true,false,false,false,false,false,false,false,false,false,false,false,false,false,false,false,false,false,false]},{\"title\":\"treatment\"}],\"label\":\"treatment\",\"method\":\"update\"},{\"args\":[{\"visible\":[false,false,false,false,true,false,false,false,false,false,false,false,false,false,false,false,false,false,false,false,false,false]},{\"title\":\"work_interfere\"}],\"label\":\"work_interfere\",\"method\":\"update\"},{\"args\":[{\"visible\":[false,false,false,false,false,true,false,false,false,false,false,false,false,false,false,false,false,false,false,false,false,false]},{\"title\":\"no_employees\"}],\"label\":\"no_employees\",\"method\":\"update\"},{\"args\":[{\"visible\":[false,false,false,false,false,false,true,false,false,false,false,false,false,false,false,false,false,false,false,false,false,false]},{\"title\":\"remote_work\"}],\"label\":\"remote_work\",\"method\":\"update\"},{\"args\":[{\"visible\":[false,false,false,false,false,false,false,true,false,false,false,false,false,false,false,false,false,false,false,false,false,false]},{\"title\":\"tech_company\"}],\"label\":\"tech_company\",\"method\":\"update\"},{\"args\":[{\"visible\":[false,false,false,false,false,false,false,false,true,false,false,false,false,false,false,false,false,false,false,false,false,false]},{\"title\":\"benefits\"}],\"label\":\"benefits\",\"method\":\"update\"},{\"args\":[{\"visible\":[false,false,false,false,false,false,false,false,false,true,false,false,false,false,false,false,false,false,false,false,false,false]},{\"title\":\"care_options\"}],\"label\":\"care_options\",\"method\":\"update\"},{\"args\":[{\"visible\":[false,false,false,false,false,false,false,false,false,false,true,false,false,false,false,false,false,false,false,false,false,false]},{\"title\":\"wellness_program\"}],\"label\":\"wellness_program\",\"method\":\"update\"},{\"args\":[{\"visible\":[false,false,false,false,false,false,false,false,false,false,false,true,false,false,false,false,false,false,false,false,false,false]},{\"title\":\"seek_help\"}],\"label\":\"seek_help\",\"method\":\"update\"},{\"args\":[{\"visible\":[false,false,false,false,false,false,false,false,false,false,false,false,true,false,false,false,false,false,false,false,false,false]},{\"title\":\"anonymity\"}],\"label\":\"anonymity\",\"method\":\"update\"},{\"args\":[{\"visible\":[false,false,false,false,false,false,false,false,false,false,false,false,false,true,false,false,false,false,false,false,false,false]},{\"title\":\"leave\"}],\"label\":\"leave\",\"method\":\"update\"},{\"args\":[{\"visible\":[false,false,false,false,false,false,false,false,false,false,false,false,false,false,true,false,false,false,false,false,false,false]},{\"title\":\"mental_health_consequence\"}],\"label\":\"mental_health_consequence\",\"method\":\"update\"},{\"args\":[{\"visible\":[false,false,false,false,false,false,false,false,false,false,false,false,false,false,false,true,false,false,false,false,false,false]},{\"title\":\"phys_health_consequence\"}],\"label\":\"phys_health_consequence\",\"method\":\"update\"},{\"args\":[{\"visible\":[false,false,false,false,false,false,false,false,false,false,false,false,false,false,false,false,true,false,false,false,false,false]},{\"title\":\"coworkers\"}],\"label\":\"coworkers\",\"method\":\"update\"},{\"args\":[{\"visible\":[false,false,false,false,false,false,false,false,false,false,false,false,false,false,false,false,false,true,false,false,false,false]},{\"title\":\"supervisor\"}],\"label\":\"supervisor\",\"method\":\"update\"},{\"args\":[{\"visible\":[false,false,false,false,false,false,false,false,false,false,false,false,false,false,false,false,false,false,true,false,false,false]},{\"title\":\"mental_health_interview\"}],\"label\":\"mental_health_interview\",\"method\":\"update\"},{\"args\":[{\"visible\":[false,false,false,false,false,false,false,false,false,false,false,false,false,false,false,false,false,false,false,true,false,false]},{\"title\":\"phys_health_interview\"}],\"label\":\"phys_health_interview\",\"method\":\"update\"},{\"args\":[{\"visible\":[false,false,false,false,false,false,false,false,false,false,false,false,false,false,false,false,false,false,false,false,true,false]},{\"title\":\"mental_vs_physical\"}],\"label\":\"mental_vs_physical\",\"method\":\"update\"},{\"args\":[{\"visible\":[false,false,false,false,false,false,false,false,false,false,false,false,false,false,false,false,false,false,false,false,false,true]},{\"title\":\"obs_consequence\"}],\"label\":\"obs_consequence\",\"method\":\"update\"}],\"showactive\":true,\"type\":\"dropdown\",\"x\":0.6,\"y\":0.96}],\"annotations\":[{\"align\":\"left\",\"font\":{\"size\":15},\"showarrow\":false,\"text\":\"<b>Choose<br>Column<b> : \",\"x\":0.48,\"y\":1,\"yref\":\"paper\"}]},                        {\"responsive\": true}                    ).then(function(){\n",
       "                            \n",
       "var gd = document.getElementById('dbdb5c94-bf49-4267-8db0-c7ae41d65ebb');\n",
       "var x = new MutationObserver(function (mutations, observer) {{\n",
       "        var display = window.getComputedStyle(gd).display;\n",
       "        if (!display || display === 'none') {{\n",
       "            console.log([gd, 'removed!']);\n",
       "            Plotly.purge(gd);\n",
       "            observer.disconnect();\n",
       "        }}\n",
       "}});\n",
       "\n",
       "// Listen for the removal of the full notebook cells\n",
       "var notebookContainer = gd.closest('#notebook-container');\n",
       "if (notebookContainer) {{\n",
       "    x.observe(notebookContainer, {childList: true});\n",
       "}}\n",
       "\n",
       "// Listen for the clearing of the current output cell\n",
       "var outputEl = gd.closest('.output');\n",
       "if (outputEl) {{\n",
       "    x.observe(outputEl, {childList: true});\n",
       "}}\n",
       "\n",
       "                        })                };                });            </script>        </div>"
      ]
     },
     "metadata": {},
     "output_type": "display_data"
    }
   ],
   "source": [
    "buttons = []\n",
    "i = 0\n",
    "vis = [False] * 22\n",
    "\n",
    "for col in us.columns:\n",
    "    vis[i] = True\n",
    "    buttons.append({'label' : col,\n",
    "             'method' : 'update',\n",
    "             'args'   : [{'visible' : vis},\n",
    "             {'title'  : col}] })\n",
    "    i+=1\n",
    "    vis = [False] * 22\n",
    "\n",
    "fig = make_subplots(rows=2, cols=2,\n",
    "                    specs=[[{'type':'domain'}, {'type':'domain'}], [{'type':'domain'}, {'type':'domain'}]],\n",
    "                    vertical_spacing = 0.1)\n",
    "\n",
    "for col in us.columns:\n",
    "    fig.add_trace(go.Pie(\n",
    "             values = us[col].value_counts(),\n",
    "             labels = us[col].value_counts().index,\n",
    "             title = dict(text = 'U.S. distribution<br>of {}'.format(col),\n",
    "                          font = dict(size=18, family = 'bold'),\n",
    "                          ),\n",
    "             hole = 0.5,\n",
    "             hoverinfo='label+percent',),1,1)\n",
    "    \n",
    "for col in uk.columns:\n",
    "    fig.add_trace(go.Pie(\n",
    "             values = uk[col].value_counts(),\n",
    "             labels = uk[col].value_counts().index,\n",
    "             title = dict(text = 'U.K. distribution<br>of {}'.format(col),\n",
    "                          font = dict(size=18, family = 'bold'),\n",
    "                          ),\n",
    "             hole = 0.5,\n",
    "             hoverinfo='label+percent',),1,2)\n",
    "\n",
    "\n",
    "for col in cd.columns:\n",
    "    fig.add_trace(go.Pie(\n",
    "             values = cd[col].value_counts(),\n",
    "             labels = cd[col].value_counts().index,\n",
    "             title = dict(text = 'Canada distribution<br>of {}'.format(col),\n",
    "                          font = dict(size=18, family = 'bold'),\n",
    "                          ),\n",
    "             hole = 0.5,\n",
    "             hoverinfo='label+percent',),2,1)\n",
    "    \n",
    "for col in gr.columns:\n",
    "    fig.add_trace(go.Pie(\n",
    "             values = gr[col].value_counts(),\n",
    "             labels = gr[col].value_counts().index,\n",
    "             title = dict(text = 'Germany distribution<br>of {}'.format(col),\n",
    "                          font = dict(size=18, family = 'bold'),\n",
    "                          ),\n",
    "             hole = 0.5,\n",
    "             hoverinfo='label+percent',),2,2)\n",
    "\n",
    "fig.update_traces(hoverinfo='label+percent',\n",
    "                  textinfo='label+percent',\n",
    "                  textfont_size=12,\n",
    "                  opacity = 0.9,\n",
    "                  showlegend = False,\n",
    "                  marker = dict(colors = sns.color_palette('Oranges').as_hex(),\n",
    "                              line=dict(color='#000000', width=1)))\n",
    "\n",
    "fig.update_traces(row=2, col=1, hoverinfo='label+percent',\n",
    "                  textinfo='label+percent',\n",
    "                  textfont_size=12,\n",
    "                  opacity = 0.9,\n",
    "                  showlegend = False,\n",
    "                  marker = dict(colors = sns.color_palette('Greys').as_hex(),\n",
    "                              line=dict(color='#000000', width=1)))\n",
    "\n",
    "fig.update_traces(row=2, col=2, hoverinfo='label+percent',\n",
    "                  textinfo='label+percent',\n",
    "                  textfont_size=12,\n",
    "                  opacity = 0.9,\n",
    "                  showlegend = False,\n",
    "                  marker = dict(colors = sns.color_palette('Greys').as_hex(),\n",
    "                              line=dict(color='#000000', width=1)))\n",
    "              \n",
    "\n",
    "fig.update_layout(margin=dict(t=0, b=0, l=0, r=0),\n",
    "                   paper_bgcolor = '#edf2c7',\n",
    "                  height = 1000,\n",
    "                  font_family   = 'bold',\n",
    "                  updatemenus = [dict(\n",
    "                        type = 'dropdown',\n",
    "                        x = 0.60,\n",
    "                        y = 0.96,\n",
    "                        showactive = True,\n",
    "                        active = 0,\n",
    "                        buttons = buttons)],\n",
    "                 annotations=[\n",
    "                             dict(text = \"<b>Choose<br>Column<b> : \",\n",
    "                                  font = dict(size = 15),\n",
    "                             showarrow=False,\n",
    "                             x = 0.48, y = 1, yref = \"paper\", align = \"left\")])\n",
    "\n",
    "for i in range(0,88):\n",
    "    fig.data[i].visible = False\n",
    "\n",
    "fig.data[0].visible = True\n",
    "fig.data[22].visible = True\n",
    "fig.data[44].visible = True\n",
    "fig.data[66].visible = True\n",
    "\n",
    "fig.show()"
   ]
  },
  {
   "cell_type": "code",
   "execution_count": 361,
   "id": "b13c2528",
   "metadata": {},
   "outputs": [],
   "source": [
    "seek = workplace_df[workplace_df.treatment == 'Yes'].drop(['treatment', 'Country', 'Age'], axis=1)\n",
    "dont = workplace_df[workplace_df.treatment == 'No'].drop(['treatment', 'Country', 'Age'], axis=1)"
   ]
  },
  {
   "cell_type": "code",
   "execution_count": 362,
   "id": "4e62d1eb",
   "metadata": {},
   "outputs": [
    {
     "data": {
      "application/vnd.plotly.v1+json": {
       "config": {
        "plotlyServerURL": "https://plot.ly"
       },
       "data": [
        {
         "domain": {
          "x": [
           0,
           0.45
          ],
          "y": [
           0,
           1
          ]
         },
         "hole": 0.5,
         "hoverinfo": "label+percent",
         "labels": [
          "M",
          "F",
          "other"
         ],
         "marker": {
          "colors": [
           "#fedbcc",
           "#fcaf93",
           "#fc8161",
           "#f44f39",
           "#d52221",
           "#aa1016"
          ],
          "line": {
           "color": "#000000",
           "width": 1
          }
         },
         "opacity": 0.8,
         "showlegend": false,
         "textfont": {
          "size": 12
         },
         "textinfo": "label+percent",
         "title": {
          "font": {
           "family": "bold",
           "size": 18
          },
          "text": "No Treatment: <br>Distribution<br>of Gender"
         },
         "type": "pie",
         "values": [
          541,
          77,
          4
         ]
        },
        {
         "domain": {
          "x": [
           0,
           0.45
          ],
          "y": [
           0,
           1
          ]
         },
         "hole": 0.5,
         "hoverinfo": "label+percent",
         "labels": [
          "No",
          "Yes"
         ],
         "marker": {
          "colors": [
           "#fedbcc",
           "#fcaf93",
           "#fc8161",
           "#f44f39",
           "#d52221",
           "#aa1016"
          ],
          "line": {
           "color": "#000000",
           "width": 1
          }
         },
         "opacity": 0.8,
         "showlegend": false,
         "textfont": {
          "size": 12
         },
         "textinfo": "label+percent",
         "title": {
          "font": {
           "family": "bold",
           "size": 18
          },
          "text": "No Treatment: <br>Distribution<br>of self_employed"
         },
         "type": "pie",
         "values": [
          553,
          69
         ],
         "visible": false
        },
        {
         "domain": {
          "x": [
           0,
           0.45
          ],
          "y": [
           0,
           1
          ]
         },
         "hole": 0.5,
         "hoverinfo": "label+percent",
         "labels": [
          "No",
          "Yes"
         ],
         "marker": {
          "colors": [
           "#fedbcc",
           "#fcaf93",
           "#fc8161",
           "#f44f39",
           "#d52221",
           "#aa1016"
          ],
          "line": {
           "color": "#000000",
           "width": 1
          }
         },
         "opacity": 0.8,
         "showlegend": false,
         "textfont": {
          "size": 12
         },
         "textinfo": "label+percent",
         "title": {
          "font": {
           "family": "bold",
           "size": 18
          },
          "text": "No Treatment: <br>Distribution<br>of family_history"
         },
         "type": "pie",
         "values": [
          495,
          127
         ],
         "visible": false
        },
        {
         "domain": {
          "x": [
           0,
           0.45
          ],
          "y": [
           0,
           1
          ]
         },
         "hole": 0.5,
         "hoverinfo": "label+percent",
         "labels": [
          "Sometimes",
          "Never",
          "Rarely",
          "Often"
         ],
         "marker": {
          "colors": [
           "#fedbcc",
           "#fcaf93",
           "#fc8161",
           "#f44f39",
           "#d52221",
           "#aa1016"
          ],
          "line": {
           "color": "#000000",
           "width": 1
          }
         },
         "opacity": 0.8,
         "showlegend": false,
         "textfont": {
          "size": 12
         },
         "textinfo": "label+percent",
         "title": {
          "font": {
           "family": "bold",
           "size": 18
          },
          "text": "No Treatment: <br>Distribution<br>of work_interfere"
         },
         "type": "pie",
         "values": [
          242,
          233,
          91,
          56
         ],
         "visible": false
        },
        {
         "domain": {
          "x": [
           0,
           0.45
          ],
          "y": [
           0,
           1
          ]
         },
         "hole": 0.5,
         "hoverinfo": "label+percent",
         "labels": [
          "6-25",
          "26-100",
          "More than 1000",
          "100-500",
          "1-5",
          "500-1000"
         ],
         "marker": {
          "colors": [
           "#fedbcc",
           "#fcaf93",
           "#fc8161",
           "#f44f39",
           "#d52221",
           "#aa1016"
          ],
          "line": {
           "color": "#000000",
           "width": 1
          }
         },
         "opacity": 0.8,
         "showlegend": false,
         "textfont": {
          "size": 12
         },
         "textinfo": "label+percent",
         "title": {
          "font": {
           "family": "bold",
           "size": 18
          },
          "text": "No Treatment: <br>Distribution<br>of no_employees"
         },
         "type": "pie",
         "values": [
          162,
          139,
          136,
          81,
          71,
          33
         ],
         "visible": false
        },
        {
         "domain": {
          "x": [
           0,
           0.45
          ],
          "y": [
           0,
           1
          ]
         },
         "hole": 0.5,
         "hoverinfo": "label+percent",
         "labels": [
          "No",
          "Yes"
         ],
         "marker": {
          "colors": [
           "#fedbcc",
           "#fcaf93",
           "#fc8161",
           "#f44f39",
           "#d52221",
           "#aa1016"
          ],
          "line": {
           "color": "#000000",
           "width": 1
          }
         },
         "opacity": 0.8,
         "showlegend": false,
         "textfont": {
          "size": 12
         },
         "textinfo": "label+percent",
         "title": {
          "font": {
           "family": "bold",
           "size": 18
          },
          "text": "No Treatment: <br>Distribution<br>of remote_work"
         },
         "type": "pie",
         "values": [
          444,
          178
         ],
         "visible": false
        },
        {
         "domain": {
          "x": [
           0,
           0.45
          ],
          "y": [
           0,
           1
          ]
         },
         "hole": 0.5,
         "hoverinfo": "label+percent",
         "labels": [
          "Yes",
          "No"
         ],
         "marker": {
          "colors": [
           "#fedbcc",
           "#fcaf93",
           "#fc8161",
           "#f44f39",
           "#d52221",
           "#aa1016"
          ],
          "line": {
           "color": "#000000",
           "width": 1
          }
         },
         "opacity": 0.8,
         "showlegend": false,
         "textfont": {
          "size": 12
         },
         "textinfo": "label+percent",
         "title": {
          "font": {
           "family": "bold",
           "size": 18
          },
          "text": "No Treatment: <br>Distribution<br>of tech_company"
         },
         "type": "pie",
         "values": [
          517,
          105
         ],
         "visible": false
        },
        {
         "domain": {
          "x": [
           0,
           0.45
          ],
          "y": [
           0,
           1
          ]
         },
         "hole": 0.5,
         "hoverinfo": "label+percent",
         "labels": [
          "Don't know",
          "No",
          "Yes"
         ],
         "marker": {
          "colors": [
           "#fedbcc",
           "#fcaf93",
           "#fc8161",
           "#f44f39",
           "#d52221",
           "#aa1016"
          ],
          "line": {
           "color": "#000000",
           "width": 1
          }
         },
         "opacity": 0.8,
         "showlegend": false,
         "textfont": {
          "size": 12
         },
         "textinfo": "label+percent",
         "title": {
          "font": {
           "family": "bold",
           "size": 18
          },
          "text": "No Treatment: <br>Distribution<br>of benefits"
         },
         "type": "pie",
         "values": [
          257,
          193,
          172
         ],
         "visible": false
        },
        {
         "domain": {
          "x": [
           0,
           0.45
          ],
          "y": [
           0,
           1
          ]
         },
         "hole": 0.5,
         "hoverinfo": "label+percent",
         "labels": [
          "No",
          "Not sure",
          "Yes"
         ],
         "marker": {
          "colors": [
           "#fedbcc",
           "#fcaf93",
           "#fc8161",
           "#f44f39",
           "#d52221",
           "#aa1016"
          ],
          "line": {
           "color": "#000000",
           "width": 1
          }
         },
         "opacity": 0.8,
         "showlegend": false,
         "textfont": {
          "size": 12
         },
         "textinfo": "label+percent",
         "title": {
          "font": {
           "family": "bold",
           "size": 18
          },
          "text": "No Treatment: <br>Distribution<br>of care_options"
         },
         "type": "pie",
         "values": [
          294,
          191,
          137
         ],
         "visible": false
        },
        {
         "domain": {
          "x": [
           0,
           0.45
          ],
          "y": [
           0,
           1
          ]
         },
         "hole": 0.5,
         "hoverinfo": "label+percent",
         "labels": [
          "No",
          "Don't know",
          "Yes"
         ],
         "marker": {
          "colors": [
           "#fedbcc",
           "#fcaf93",
           "#fc8161",
           "#f44f39",
           "#d52221",
           "#aa1016"
          ],
          "line": {
           "color": "#000000",
           "width": 1
          }
         },
         "opacity": 0.8,
         "showlegend": false,
         "textfont": {
          "size": 12
         },
         "textinfo": "label+percent",
         "title": {
          "font": {
           "family": "bold",
           "size": 18
          },
          "text": "No Treatment: <br>Distribution<br>of wellness_program"
         },
         "type": "pie",
         "values": [
          422,
          107,
          93
         ],
         "visible": false
        },
        {
         "domain": {
          "x": [
           0,
           0.45
          ],
          "y": [
           0,
           1
          ]
         },
         "hole": 0.5,
         "hoverinfo": "label+percent",
         "labels": [
          "No",
          "Don't know",
          "Yes"
         ],
         "marker": {
          "colors": [
           "#fedbcc",
           "#fcaf93",
           "#fc8161",
           "#f44f39",
           "#d52221",
           "#aa1016"
          ],
          "line": {
           "color": "#000000",
           "width": 1
          }
         },
         "opacity": 0.8,
         "showlegend": false,
         "textfont": {
          "size": 12
         },
         "textinfo": "label+percent",
         "title": {
          "font": {
           "family": "bold",
           "size": 18
          },
          "text": "No Treatment: <br>Distribution<br>of seek_help"
         },
         "type": "pie",
         "values": [
          323,
          197,
          102
         ],
         "visible": false
        },
        {
         "domain": {
          "x": [
           0,
           0.45
          ],
          "y": [
           0,
           1
          ]
         },
         "hole": 0.5,
         "hoverinfo": "label+percent",
         "labels": [
          "Don't know",
          "Yes",
          "No"
         ],
         "marker": {
          "colors": [
           "#fedbcc",
           "#fcaf93",
           "#fc8161",
           "#f44f39",
           "#d52221",
           "#aa1016"
          ],
          "line": {
           "color": "#000000",
           "width": 1
          }
         },
         "opacity": 0.8,
         "showlegend": false,
         "textfont": {
          "size": 12
         },
         "textinfo": "label+percent",
         "title": {
          "font": {
           "family": "bold",
           "size": 18
          },
          "text": "No Treatment: <br>Distribution<br>of anonymity"
         },
         "type": "pie",
         "values": [
          448,
          147,
          27
         ],
         "visible": false
        },
        {
         "domain": {
          "x": [
           0,
           0.45
          ],
          "y": [
           0,
           1
          ]
         },
         "hole": 0.5,
         "hoverinfo": "label+percent",
         "labels": [
          "Don't know",
          "Somewhat easy",
          "Very easy",
          "Somewhat difficult",
          "Very difficult"
         ],
         "marker": {
          "colors": [
           "#fedbcc",
           "#fcaf93",
           "#fc8161",
           "#f44f39",
           "#d52221",
           "#aa1016"
          ],
          "line": {
           "color": "#000000",
           "width": 1
          }
         },
         "opacity": 0.8,
         "showlegend": false,
         "textfont": {
          "size": 12
         },
         "textinfo": "label+percent",
         "title": {
          "font": {
           "family": "bold",
           "size": 18
          },
          "text": "No Treatment: <br>Distribution<br>of leave"
         },
         "type": "pie",
         "values": [
          309,
          135,
          103,
          44,
          31
         ],
         "visible": false
        },
        {
         "domain": {
          "x": [
           0,
           0.45
          ],
          "y": [
           0,
           1
          ]
         },
         "hole": 0.5,
         "hoverinfo": "label+percent",
         "labels": [
          "No",
          "Maybe",
          "Yes"
         ],
         "marker": {
          "colors": [
           "#fedbcc",
           "#fcaf93",
           "#fc8161",
           "#f44f39",
           "#d52221",
           "#aa1016"
          ],
          "line": {
           "color": "#000000",
           "width": 1
          }
         },
         "opacity": 0.8,
         "showlegend": false,
         "textfont": {
          "size": 12
         },
         "textinfo": "label+percent",
         "title": {
          "font": {
           "family": "bold",
           "size": 18
          },
          "text": "No Treatment: <br>Distribution<br>of mental_health_consequence"
         },
         "type": "pie",
         "values": [
          280,
          224,
          118
         ],
         "visible": false
        },
        {
         "domain": {
          "x": [
           0,
           0.45
          ],
          "y": [
           0,
           1
          ]
         },
         "hole": 0.5,
         "hoverinfo": "label+percent",
         "labels": [
          "No",
          "Maybe",
          "Yes"
         ],
         "marker": {
          "colors": [
           "#fedbcc",
           "#fcaf93",
           "#fc8161",
           "#f44f39",
           "#d52221",
           "#aa1016"
          ],
          "line": {
           "color": "#000000",
           "width": 1
          }
         },
         "opacity": 0.8,
         "showlegend": false,
         "textfont": {
          "size": 12
         },
         "textinfo": "label+percent",
         "title": {
          "font": {
           "family": "bold",
           "size": 18
          },
          "text": "No Treatment: <br>Distribution<br>of phys_health_consequence"
         },
         "type": "pie",
         "values": [
          470,
          127,
          25
         ],
         "visible": false
        },
        {
         "domain": {
          "x": [
           0,
           0.45
          ],
          "y": [
           0,
           1
          ]
         },
         "hole": 0.5,
         "hoverinfo": "label+percent",
         "labels": [
          "Some of them",
          "No",
          "Yes"
         ],
         "marker": {
          "colors": [
           "#fedbcc",
           "#fcaf93",
           "#fc8161",
           "#f44f39",
           "#d52221",
           "#aa1016"
          ],
          "line": {
           "color": "#000000",
           "width": 1
          }
         },
         "opacity": 0.8,
         "showlegend": false,
         "textfont": {
          "size": 12
         },
         "textinfo": "label+percent",
         "title": {
          "font": {
           "family": "bold",
           "size": 18
          },
          "text": "No Treatment: <br>Distribution<br>of coworkers"
         },
         "type": "pie",
         "values": [
          384,
          141,
          97
         ],
         "visible": false
        },
        {
         "domain": {
          "x": [
           0,
           0.45
          ],
          "y": [
           0,
           1
          ]
         },
         "hole": 0.5,
         "hoverinfo": "label+percent",
         "labels": [
          "Yes",
          "No",
          "Some of them"
         ],
         "marker": {
          "colors": [
           "#fedbcc",
           "#fcaf93",
           "#fc8161",
           "#f44f39",
           "#d52221",
           "#aa1016"
          ],
          "line": {
           "color": "#000000",
           "width": 1
          }
         },
         "opacity": 0.8,
         "showlegend": false,
         "textfont": {
          "size": 12
         },
         "textinfo": "label+percent",
         "title": {
          "font": {
           "family": "bold",
           "size": 18
          },
          "text": "No Treatment: <br>Distribution<br>of supervisor"
         },
         "type": "pie",
         "values": [
          266,
          186,
          170
         ],
         "visible": false
        },
        {
         "domain": {
          "x": [
           0,
           0.45
          ],
          "y": [
           0,
           1
          ]
         },
         "hole": 0.5,
         "hoverinfo": "label+percent",
         "labels": [
          "No",
          "Maybe",
          "Yes"
         ],
         "marker": {
          "colors": [
           "#fedbcc",
           "#fcaf93",
           "#fc8161",
           "#f44f39",
           "#d52221",
           "#aa1016"
          ],
          "line": {
           "color": "#000000",
           "width": 1
          }
         },
         "opacity": 0.8,
         "showlegend": false,
         "textfont": {
          "size": 12
         },
         "textinfo": "label+percent",
         "title": {
          "font": {
           "family": "bold",
           "size": 18
          },
          "text": "No Treatment: <br>Distribution<br>of mental_health_interview"
         },
         "type": "pie",
         "values": [
          479,
          125,
          18
         ],
         "visible": false
        },
        {
         "domain": {
          "x": [
           0,
           0.45
          ],
          "y": [
           0,
           1
          ]
         },
         "hole": 0.5,
         "hoverinfo": "label+percent",
         "labels": [
          "Maybe",
          "No",
          "Yes"
         ],
         "marker": {
          "colors": [
           "#fedbcc",
           "#fcaf93",
           "#fc8161",
           "#f44f39",
           "#d52221",
           "#aa1016"
          ],
          "line": {
           "color": "#000000",
           "width": 1
          }
         },
         "opacity": 0.8,
         "showlegend": false,
         "textfont": {
          "size": 12
         },
         "textinfo": "label+percent",
         "title": {
          "font": {
           "family": "bold",
           "size": 18
          },
          "text": "No Treatment: <br>Distribution<br>of phys_health_interview"
         },
         "type": "pie",
         "values": [
          290,
          241,
          91
         ],
         "visible": false
        },
        {
         "domain": {
          "x": [
           0,
           0.45
          ],
          "y": [
           0,
           1
          ]
         },
         "hole": 0.5,
         "hoverinfo": "label+percent",
         "labels": [
          "Don't know",
          "Yes",
          "No"
         ],
         "marker": {
          "colors": [
           "#fedbcc",
           "#fcaf93",
           "#fc8161",
           "#f44f39",
           "#d52221",
           "#aa1016"
          ],
          "line": {
           "color": "#000000",
           "width": 1
          }
         },
         "opacity": 0.8,
         "showlegend": false,
         "textfont": {
          "size": 12
         },
         "textinfo": "label+percent",
         "title": {
          "font": {
           "family": "bold",
           "size": 18
          },
          "text": "No Treatment: <br>Distribution<br>of mental_vs_physical"
         },
         "type": "pie",
         "values": [
          316,
          168,
          138
         ],
         "visible": false
        },
        {
         "domain": {
          "x": [
           0,
           0.45
          ],
          "y": [
           0,
           1
          ]
         },
         "hole": 0.5,
         "hoverinfo": "label+percent",
         "labels": [
          "No",
          "Yes"
         ],
         "marker": {
          "colors": [
           "#fedbcc",
           "#fcaf93",
           "#fc8161",
           "#f44f39",
           "#d52221",
           "#aa1016"
          ],
          "line": {
           "color": "#000000",
           "width": 1
          }
         },
         "opacity": 0.8,
         "showlegend": false,
         "textfont": {
          "size": 12
         },
         "textinfo": "label+percent",
         "title": {
          "font": {
           "family": "bold",
           "size": 18
          },
          "text": "No Treatment: <br>Distribution<br>of obs_consequence"
         },
         "type": "pie",
         "values": [
          566,
          56
         ],
         "visible": false
        },
        {
         "domain": {
          "x": [
           0.55,
           1
          ],
          "y": [
           0,
           1
          ]
         },
         "hole": 0.5,
         "hoverinfo": "label+percent",
         "labels": [
          "M",
          "F",
          "other"
         ],
         "marker": {
          "colors": [
           "#ecebf4",
           "#d1d2e7",
           "#afaed4",
           "#8d89c0",
           "#705eaa",
           "#572c92"
          ],
          "line": {
           "color": "#000000",
           "width": 1
          }
         },
         "opacity": 0.8,
         "showlegend": false,
         "textfont": {
          "size": 12
         },
         "textinfo": "label+percent",
         "title": {
          "font": {
           "family": "bold",
           "size": 18
          },
          "text": "Seek Treatment: <br>Distribution<br>of Gender"
         },
         "type": "pie",
         "values": [
          450,
          170,
          17
         ],
         "visible": true
        },
        {
         "domain": {
          "x": [
           0.55,
           1
          ],
          "y": [
           0,
           1
          ]
         },
         "hole": 0.5,
         "hoverinfo": "label+percent",
         "labels": [
          "No",
          "Yes"
         ],
         "marker": {
          "colors": [
           "#ecebf4",
           "#d1d2e7",
           "#afaed4",
           "#8d89c0",
           "#705eaa",
           "#572c92"
          ],
          "line": {
           "color": "#000000",
           "width": 1
          }
         },
         "opacity": 0.8,
         "showlegend": false,
         "textfont": {
          "size": 12
         },
         "textinfo": "label+percent",
         "title": {
          "font": {
           "family": "bold",
           "size": 18
          },
          "text": "Seek Treatment: <br>Distribution<br>of self_employed"
         },
         "type": "pie",
         "values": [
          558,
          79
         ],
         "visible": false
        },
        {
         "domain": {
          "x": [
           0.55,
           1
          ],
          "y": [
           0,
           1
          ]
         },
         "hole": 0.5,
         "hoverinfo": "label+percent",
         "labels": [
          "Yes",
          "No"
         ],
         "marker": {
          "colors": [
           "#ecebf4",
           "#d1d2e7",
           "#afaed4",
           "#8d89c0",
           "#705eaa",
           "#572c92"
          ],
          "line": {
           "color": "#000000",
           "width": 1
          }
         },
         "opacity": 0.8,
         "showlegend": false,
         "textfont": {
          "size": 12
         },
         "textinfo": "label+percent",
         "title": {
          "font": {
           "family": "bold",
           "size": 18
          },
          "text": "Seek Treatment: <br>Distribution<br>of family_history"
         },
         "type": "pie",
         "values": [
          365,
          272
         ],
         "visible": false
        },
        {
         "domain": {
          "x": [
           0.55,
           1
          ],
          "y": [
           0,
           1
          ]
         },
         "hole": 0.5,
         "hoverinfo": "label+percent",
         "labels": [
          "Sometimes",
          "Often",
          "Rarely",
          "Never"
         ],
         "marker": {
          "colors": [
           "#ecebf4",
           "#d1d2e7",
           "#afaed4",
           "#8d89c0",
           "#705eaa",
           "#572c92"
          ],
          "line": {
           "color": "#000000",
           "width": 1
          }
         },
         "opacity": 0.8,
         "showlegend": false,
         "textfont": {
          "size": 12
         },
         "textinfo": "label+percent",
         "title": {
          "font": {
           "family": "bold",
           "size": 18
          },
          "text": "Seek Treatment: <br>Distribution<br>of work_interfere"
         },
         "type": "pie",
         "values": [
          360,
          123,
          123,
          31
         ],
         "visible": false
        },
        {
         "domain": {
          "x": [
           0.55,
           1
          ],
          "y": [
           0,
           1
          ]
         },
         "hole": 0.5,
         "hoverinfo": "label+percent",
         "labels": [
          "26-100",
          "More than 1000",
          "6-25",
          "100-500",
          "1-5",
          "500-1000"
         ],
         "marker": {
          "colors": [
           "#ecebf4",
           "#d1d2e7",
           "#afaed4",
           "#8d89c0",
           "#705eaa",
           "#572c92"
          ],
          "line": {
           "color": "#000000",
           "width": 1
          }
         },
         "opacity": 0.8,
         "showlegend": false,
         "textfont": {
          "size": 12
         },
         "textinfo": "label+percent",
         "title": {
          "font": {
           "family": "bold",
           "size": 18
          },
          "text": "Seek Treatment: <br>Distribution<br>of no_employees"
         },
         "type": "pie",
         "values": [
          150,
          146,
          128,
          95,
          91,
          27
         ],
         "visible": false
        },
        {
         "domain": {
          "x": [
           0.55,
           1
          ],
          "y": [
           0,
           1
          ]
         },
         "hole": 0.5,
         "hoverinfo": "label+percent",
         "labels": [
          "No",
          "Yes"
         ],
         "marker": {
          "colors": [
           "#ecebf4",
           "#d1d2e7",
           "#afaed4",
           "#8d89c0",
           "#705eaa",
           "#572c92"
          ],
          "line": {
           "color": "#000000",
           "width": 1
          }
         },
         "opacity": 0.8,
         "showlegend": false,
         "textfont": {
          "size": 12
         },
         "textinfo": "label+percent",
         "title": {
          "font": {
           "family": "bold",
           "size": 18
          },
          "text": "Seek Treatment: <br>Distribution<br>of remote_work"
         },
         "type": "pie",
         "values": [
          439,
          198
         ],
         "visible": false
        },
        {
         "domain": {
          "x": [
           0.55,
           1
          ],
          "y": [
           0,
           1
          ]
         },
         "hole": 0.5,
         "hoverinfo": "label+percent",
         "labels": [
          "Yes",
          "No"
         ],
         "marker": {
          "colors": [
           "#ecebf4",
           "#d1d2e7",
           "#afaed4",
           "#8d89c0",
           "#705eaa",
           "#572c92"
          ],
          "line": {
           "color": "#000000",
           "width": 1
          }
         },
         "opacity": 0.8,
         "showlegend": false,
         "textfont": {
          "size": 12
         },
         "textinfo": "label+percent",
         "title": {
          "font": {
           "family": "bold",
           "size": 18
          },
          "text": "Seek Treatment: <br>Distribution<br>of tech_company"
         },
         "type": "pie",
         "values": [
          514,
          123
         ],
         "visible": false
        },
        {
         "domain": {
          "x": [
           0.55,
           1
          ],
          "y": [
           0,
           1
          ]
         },
         "hole": 0.5,
         "hoverinfo": "label+percent",
         "labels": [
          "Yes",
          "No",
          "Don't know"
         ],
         "marker": {
          "colors": [
           "#ecebf4",
           "#d1d2e7",
           "#afaed4",
           "#8d89c0",
           "#705eaa",
           "#572c92"
          ],
          "line": {
           "color": "#000000",
           "width": 1
          }
         },
         "opacity": 0.8,
         "showlegend": false,
         "textfont": {
          "size": 12
         },
         "textinfo": "label+percent",
         "title": {
          "font": {
           "family": "bold",
           "size": 18
          },
          "text": "Seek Treatment: <br>Distribution<br>of benefits"
         },
         "type": "pie",
         "values": [
          305,
          181,
          151
         ],
         "visible": false
        },
        {
         "domain": {
          "x": [
           0.55,
           1
          ],
          "y": [
           0,
           1
          ]
         },
         "hole": 0.5,
         "hoverinfo": "label+percent",
         "labels": [
          "Yes",
          "No",
          "Not sure"
         ],
         "marker": {
          "colors": [
           "#ecebf4",
           "#d1d2e7",
           "#afaed4",
           "#8d89c0",
           "#705eaa",
           "#572c92"
          ],
          "line": {
           "color": "#000000",
           "width": 1
          }
         },
         "opacity": 0.8,
         "showlegend": false,
         "textfont": {
          "size": 12
         },
         "textinfo": "label+percent",
         "title": {
          "font": {
           "family": "bold",
           "size": 18
          },
          "text": "Seek Treatment: <br>Distribution<br>of care_options"
         },
         "type": "pie",
         "values": [
          307,
          207,
          123
         ],
         "visible": false
        },
        {
         "domain": {
          "x": [
           0.55,
           1
          ],
          "y": [
           0,
           1
          ]
         },
         "hole": 0.5,
         "hoverinfo": "label+percent",
         "labels": [
          "No",
          "Yes",
          "Don't know"
         ],
         "marker": {
          "colors": [
           "#ecebf4",
           "#d1d2e7",
           "#afaed4",
           "#8d89c0",
           "#705eaa",
           "#572c92"
          ],
          "line": {
           "color": "#000000",
           "width": 1
          }
         },
         "opacity": 0.8,
         "showlegend": false,
         "textfont": {
          "size": 12
         },
         "textinfo": "label+percent",
         "title": {
          "font": {
           "family": "bold",
           "size": 18
          },
          "text": "Seek Treatment: <br>Distribution<br>of wellness_program"
         },
         "type": "pie",
         "values": [
          420,
          136,
          81
         ],
         "visible": false
        },
        {
         "domain": {
          "x": [
           0.55,
           1
          ],
          "y": [
           0,
           1
          ]
         },
         "hole": 0.5,
         "hoverinfo": "label+percent",
         "labels": [
          "No",
          "Don't know",
          "Yes"
         ],
         "marker": {
          "colors": [
           "#ecebf4",
           "#d1d2e7",
           "#afaed4",
           "#8d89c0",
           "#705eaa",
           "#572c92"
          ],
          "line": {
           "color": "#000000",
           "width": 1
          }
         },
         "opacity": 0.8,
         "showlegend": false,
         "textfont": {
          "size": 12
         },
         "textinfo": "label+percent",
         "title": {
          "font": {
           "family": "bold",
           "size": 18
          },
          "text": "Seek Treatment: <br>Distribution<br>of seek_help"
         },
         "type": "pie",
         "values": [
          323,
          166,
          148
         ],
         "visible": false
        },
        {
         "domain": {
          "x": [
           0.55,
           1
          ],
          "y": [
           0,
           1
          ]
         },
         "hole": 0.5,
         "hoverinfo": "label+percent",
         "labels": [
          "Don't know",
          "Yes",
          "No"
         ],
         "marker": {
          "colors": [
           "#ecebf4",
           "#d1d2e7",
           "#afaed4",
           "#8d89c0",
           "#705eaa",
           "#572c92"
          ],
          "line": {
           "color": "#000000",
           "width": 1
          }
         },
         "opacity": 0.8,
         "showlegend": false,
         "textfont": {
          "size": 12
         },
         "textinfo": "label+percent",
         "title": {
          "font": {
           "family": "bold",
           "size": 18
          },
          "text": "Seek Treatment: <br>Distribution<br>of anonymity"
         },
         "type": "pie",
         "values": [
          371,
          228,
          38
         ],
         "visible": false
        },
        {
         "domain": {
          "x": [
           0.55,
           1
          ],
          "y": [
           0,
           1
          ]
         },
         "hole": 0.5,
         "hoverinfo": "label+percent",
         "labels": [
          "Don't know",
          "Somewhat easy",
          "Very easy",
          "Somewhat difficult",
          "Very difficult"
         ],
         "marker": {
          "colors": [
           "#ecebf4",
           "#d1d2e7",
           "#afaed4",
           "#8d89c0",
           "#705eaa",
           "#572c92"
          ],
          "line": {
           "color": "#000000",
           "width": 1
          }
         },
         "opacity": 0.8,
         "showlegend": false,
         "textfont": {
          "size": 12
         },
         "textinfo": "label+percent",
         "title": {
          "font": {
           "family": "bold",
           "size": 18
          },
          "text": "Seek Treatment: <br>Distribution<br>of leave"
         },
         "type": "pie",
         "values": [
          254,
          131,
          103,
          82,
          67
         ],
         "visible": false
        },
        {
         "domain": {
          "x": [
           0.55,
           1
          ],
          "y": [
           0,
           1
          ]
         },
         "hole": 0.5,
         "hoverinfo": "label+percent",
         "labels": [
          "Maybe",
          "No",
          "Yes"
         ],
         "marker": {
          "colors": [
           "#ecebf4",
           "#d1d2e7",
           "#afaed4",
           "#8d89c0",
           "#705eaa",
           "#572c92"
          ],
          "line": {
           "color": "#000000",
           "width": 1
          }
         },
         "opacity": 0.8,
         "showlegend": false,
         "textfont": {
          "size": 12
         },
         "textinfo": "label+percent",
         "title": {
          "font": {
           "family": "bold",
           "size": 18
          },
          "text": "Seek Treatment: <br>Distribution<br>of mental_health_consequence"
         },
         "type": "pie",
         "values": [
          253,
          210,
          174
         ],
         "visible": false
        },
        {
         "domain": {
          "x": [
           0.55,
           1
          ],
          "y": [
           0,
           1
          ]
         },
         "hole": 0.5,
         "hoverinfo": "label+percent",
         "labels": [
          "No",
          "Maybe",
          "Yes"
         ],
         "marker": {
          "colors": [
           "#ecebf4",
           "#d1d2e7",
           "#afaed4",
           "#8d89c0",
           "#705eaa",
           "#572c92"
          ],
          "line": {
           "color": "#000000",
           "width": 1
          }
         },
         "opacity": 0.8,
         "showlegend": false,
         "textfont": {
          "size": 12
         },
         "textinfo": "label+percent",
         "title": {
          "font": {
           "family": "bold",
           "size": 18
          },
          "text": "Seek Treatment: <br>Distribution<br>of phys_health_consequence"
         },
         "type": "pie",
         "values": [
          455,
          146,
          36
         ],
         "visible": false
        },
        {
         "domain": {
          "x": [
           0.55,
           1
          ],
          "y": [
           0,
           1
          ]
         },
         "hole": 0.5,
         "hoverinfo": "label+percent",
         "labels": [
          "Some of them",
          "Yes",
          "No"
         ],
         "marker": {
          "colors": [
           "#ecebf4",
           "#d1d2e7",
           "#afaed4",
           "#8d89c0",
           "#705eaa",
           "#572c92"
          ],
          "line": {
           "color": "#000000",
           "width": 1
          }
         },
         "opacity": 0.8,
         "showlegend": false,
         "textfont": {
          "size": 12
         },
         "textinfo": "label+percent",
         "title": {
          "font": {
           "family": "bold",
           "size": 18
          },
          "text": "Seek Treatment: <br>Distribution<br>of coworkers"
         },
         "type": "pie",
         "values": [
          390,
          128,
          119
         ],
         "visible": false
        },
        {
         "domain": {
          "x": [
           0.55,
           1
          ],
          "y": [
           0,
           1
          ]
         },
         "hole": 0.5,
         "hoverinfo": "label+percent",
         "labels": [
          "Yes",
          "No",
          "Some of them"
         ],
         "marker": {
          "colors": [
           "#ecebf4",
           "#d1d2e7",
           "#afaed4",
           "#8d89c0",
           "#705eaa",
           "#572c92"
          ],
          "line": {
           "color": "#000000",
           "width": 1
          }
         },
         "opacity": 0.8,
         "showlegend": false,
         "textfont": {
          "size": 12
         },
         "textinfo": "label+percent",
         "title": {
          "font": {
           "family": "bold",
           "size": 18
          },
          "text": "Seek Treatment: <br>Distribution<br>of supervisor"
         },
         "type": "pie",
         "values": [
          250,
          207,
          180
         ],
         "visible": false
        },
        {
         "domain": {
          "x": [
           0.55,
           1
          ],
          "y": [
           0,
           1
          ]
         },
         "hole": 0.5,
         "hoverinfo": "label+percent",
         "labels": [
          "No",
          "Maybe",
          "Yes"
         ],
         "marker": {
          "colors": [
           "#ecebf4",
           "#d1d2e7",
           "#afaed4",
           "#8d89c0",
           "#705eaa",
           "#572c92"
          ],
          "line": {
           "color": "#000000",
           "width": 1
          }
         },
         "opacity": 0.8,
         "showlegend": false,
         "textfont": {
          "size": 12
         },
         "textinfo": "label+percent",
         "title": {
          "font": {
           "family": "bold",
           "size": 18
          },
          "text": "Seek Treatment: <br>Distribution<br>of mental_health_interview"
         },
         "type": "pie",
         "values": [
          529,
          82,
          26
         ],
         "visible": false
        },
        {
         "domain": {
          "x": [
           0.55,
           1
          ],
          "y": [
           0,
           1
          ]
         },
         "hole": 0.5,
         "hoverinfo": "label+percent",
         "labels": [
          "Maybe",
          "No",
          "Yes"
         ],
         "marker": {
          "colors": [
           "#ecebf4",
           "#d1d2e7",
           "#afaed4",
           "#8d89c0",
           "#705eaa",
           "#572c92"
          ],
          "line": {
           "color": "#000000",
           "width": 1
          }
         },
         "opacity": 0.8,
         "showlegend": false,
         "textfont": {
          "size": 12
         },
         "textinfo": "label+percent",
         "title": {
          "font": {
           "family": "bold",
           "size": 18
          },
          "text": "Seek Treatment: <br>Distribution<br>of phys_health_interview"
         },
         "type": "pie",
         "values": [
          267,
          259,
          111
         ],
         "visible": false
        },
        {
         "domain": {
          "x": [
           0.55,
           1
          ],
          "y": [
           0,
           1
          ]
         },
         "hole": 0.5,
         "hoverinfo": "label+percent",
         "labels": [
          "Don't know",
          "No",
          "Yes"
         ],
         "marker": {
          "colors": [
           "#ecebf4",
           "#d1d2e7",
           "#afaed4",
           "#8d89c0",
           "#705eaa",
           "#572c92"
          ],
          "line": {
           "color": "#000000",
           "width": 1
          }
         },
         "opacity": 0.8,
         "showlegend": false,
         "textfont": {
          "size": 12
         },
         "textinfo": "label+percent",
         "title": {
          "font": {
           "family": "bold",
           "size": 18
          },
          "text": "Seek Treatment: <br>Distribution<br>of mental_vs_physical"
         },
         "type": "pie",
         "values": [
          260,
          202,
          175
         ],
         "visible": false
        },
        {
         "domain": {
          "x": [
           0.55,
           1
          ],
          "y": [
           0,
           1
          ]
         },
         "hole": 0.5,
         "hoverinfo": "label+percent",
         "labels": [
          "No",
          "Yes"
         ],
         "marker": {
          "colors": [
           "#ecebf4",
           "#d1d2e7",
           "#afaed4",
           "#8d89c0",
           "#705eaa",
           "#572c92"
          ],
          "line": {
           "color": "#000000",
           "width": 1
          }
         },
         "opacity": 0.8,
         "showlegend": false,
         "textfont": {
          "size": 12
         },
         "textinfo": "label+percent",
         "title": {
          "font": {
           "family": "bold",
           "size": 18
          },
          "text": "Seek Treatment: <br>Distribution<br>of obs_consequence"
         },
         "type": "pie",
         "values": [
          509,
          128
         ],
         "visible": false
        }
       ],
       "layout": {
        "annotations": [
         {
          "align": "left",
          "font": {
           "size": 15
          },
          "showarrow": false,
          "text": "<b>Choose<br>Column<b> : ",
          "x": 0.5,
          "y": 1.03,
          "yref": "paper"
         }
        ],
        "font": {
         "family": "bold"
        },
        "margin": {
         "b": 0,
         "l": 0,
         "r": 0,
         "t": 0
        },
        "template": {
         "data": {
          "bar": [
           {
            "error_x": {
             "color": "#2a3f5f"
            },
            "error_y": {
             "color": "#2a3f5f"
            },
            "marker": {
             "line": {
              "color": "#E5ECF6",
              "width": 0.5
             },
             "pattern": {
              "fillmode": "overlay",
              "size": 10,
              "solidity": 0.2
             }
            },
            "type": "bar"
           }
          ],
          "barpolar": [
           {
            "marker": {
             "line": {
              "color": "#E5ECF6",
              "width": 0.5
             },
             "pattern": {
              "fillmode": "overlay",
              "size": 10,
              "solidity": 0.2
             }
            },
            "type": "barpolar"
           }
          ],
          "carpet": [
           {
            "aaxis": {
             "endlinecolor": "#2a3f5f",
             "gridcolor": "white",
             "linecolor": "white",
             "minorgridcolor": "white",
             "startlinecolor": "#2a3f5f"
            },
            "baxis": {
             "endlinecolor": "#2a3f5f",
             "gridcolor": "white",
             "linecolor": "white",
             "minorgridcolor": "white",
             "startlinecolor": "#2a3f5f"
            },
            "type": "carpet"
           }
          ],
          "choropleth": [
           {
            "colorbar": {
             "outlinewidth": 0,
             "ticks": ""
            },
            "type": "choropleth"
           }
          ],
          "contour": [
           {
            "colorbar": {
             "outlinewidth": 0,
             "ticks": ""
            },
            "colorscale": [
             [
              0,
              "#0d0887"
             ],
             [
              0.1111111111111111,
              "#46039f"
             ],
             [
              0.2222222222222222,
              "#7201a8"
             ],
             [
              0.3333333333333333,
              "#9c179e"
             ],
             [
              0.4444444444444444,
              "#bd3786"
             ],
             [
              0.5555555555555556,
              "#d8576b"
             ],
             [
              0.6666666666666666,
              "#ed7953"
             ],
             [
              0.7777777777777778,
              "#fb9f3a"
             ],
             [
              0.8888888888888888,
              "#fdca26"
             ],
             [
              1,
              "#f0f921"
             ]
            ],
            "type": "contour"
           }
          ],
          "contourcarpet": [
           {
            "colorbar": {
             "outlinewidth": 0,
             "ticks": ""
            },
            "type": "contourcarpet"
           }
          ],
          "heatmap": [
           {
            "colorbar": {
             "outlinewidth": 0,
             "ticks": ""
            },
            "colorscale": [
             [
              0,
              "#0d0887"
             ],
             [
              0.1111111111111111,
              "#46039f"
             ],
             [
              0.2222222222222222,
              "#7201a8"
             ],
             [
              0.3333333333333333,
              "#9c179e"
             ],
             [
              0.4444444444444444,
              "#bd3786"
             ],
             [
              0.5555555555555556,
              "#d8576b"
             ],
             [
              0.6666666666666666,
              "#ed7953"
             ],
             [
              0.7777777777777778,
              "#fb9f3a"
             ],
             [
              0.8888888888888888,
              "#fdca26"
             ],
             [
              1,
              "#f0f921"
             ]
            ],
            "type": "heatmap"
           }
          ],
          "heatmapgl": [
           {
            "colorbar": {
             "outlinewidth": 0,
             "ticks": ""
            },
            "colorscale": [
             [
              0,
              "#0d0887"
             ],
             [
              0.1111111111111111,
              "#46039f"
             ],
             [
              0.2222222222222222,
              "#7201a8"
             ],
             [
              0.3333333333333333,
              "#9c179e"
             ],
             [
              0.4444444444444444,
              "#bd3786"
             ],
             [
              0.5555555555555556,
              "#d8576b"
             ],
             [
              0.6666666666666666,
              "#ed7953"
             ],
             [
              0.7777777777777778,
              "#fb9f3a"
             ],
             [
              0.8888888888888888,
              "#fdca26"
             ],
             [
              1,
              "#f0f921"
             ]
            ],
            "type": "heatmapgl"
           }
          ],
          "histogram": [
           {
            "marker": {
             "pattern": {
              "fillmode": "overlay",
              "size": 10,
              "solidity": 0.2
             }
            },
            "type": "histogram"
           }
          ],
          "histogram2d": [
           {
            "colorbar": {
             "outlinewidth": 0,
             "ticks": ""
            },
            "colorscale": [
             [
              0,
              "#0d0887"
             ],
             [
              0.1111111111111111,
              "#46039f"
             ],
             [
              0.2222222222222222,
              "#7201a8"
             ],
             [
              0.3333333333333333,
              "#9c179e"
             ],
             [
              0.4444444444444444,
              "#bd3786"
             ],
             [
              0.5555555555555556,
              "#d8576b"
             ],
             [
              0.6666666666666666,
              "#ed7953"
             ],
             [
              0.7777777777777778,
              "#fb9f3a"
             ],
             [
              0.8888888888888888,
              "#fdca26"
             ],
             [
              1,
              "#f0f921"
             ]
            ],
            "type": "histogram2d"
           }
          ],
          "histogram2dcontour": [
           {
            "colorbar": {
             "outlinewidth": 0,
             "ticks": ""
            },
            "colorscale": [
             [
              0,
              "#0d0887"
             ],
             [
              0.1111111111111111,
              "#46039f"
             ],
             [
              0.2222222222222222,
              "#7201a8"
             ],
             [
              0.3333333333333333,
              "#9c179e"
             ],
             [
              0.4444444444444444,
              "#bd3786"
             ],
             [
              0.5555555555555556,
              "#d8576b"
             ],
             [
              0.6666666666666666,
              "#ed7953"
             ],
             [
              0.7777777777777778,
              "#fb9f3a"
             ],
             [
              0.8888888888888888,
              "#fdca26"
             ],
             [
              1,
              "#f0f921"
             ]
            ],
            "type": "histogram2dcontour"
           }
          ],
          "mesh3d": [
           {
            "colorbar": {
             "outlinewidth": 0,
             "ticks": ""
            },
            "type": "mesh3d"
           }
          ],
          "parcoords": [
           {
            "line": {
             "colorbar": {
              "outlinewidth": 0,
              "ticks": ""
             }
            },
            "type": "parcoords"
           }
          ],
          "pie": [
           {
            "automargin": true,
            "type": "pie"
           }
          ],
          "scatter": [
           {
            "fillpattern": {
             "fillmode": "overlay",
             "size": 10,
             "solidity": 0.2
            },
            "type": "scatter"
           }
          ],
          "scatter3d": [
           {
            "line": {
             "colorbar": {
              "outlinewidth": 0,
              "ticks": ""
             }
            },
            "marker": {
             "colorbar": {
              "outlinewidth": 0,
              "ticks": ""
             }
            },
            "type": "scatter3d"
           }
          ],
          "scattercarpet": [
           {
            "marker": {
             "colorbar": {
              "outlinewidth": 0,
              "ticks": ""
             }
            },
            "type": "scattercarpet"
           }
          ],
          "scattergeo": [
           {
            "marker": {
             "colorbar": {
              "outlinewidth": 0,
              "ticks": ""
             }
            },
            "type": "scattergeo"
           }
          ],
          "scattergl": [
           {
            "marker": {
             "colorbar": {
              "outlinewidth": 0,
              "ticks": ""
             }
            },
            "type": "scattergl"
           }
          ],
          "scattermapbox": [
           {
            "marker": {
             "colorbar": {
              "outlinewidth": 0,
              "ticks": ""
             }
            },
            "type": "scattermapbox"
           }
          ],
          "scatterpolar": [
           {
            "marker": {
             "colorbar": {
              "outlinewidth": 0,
              "ticks": ""
             }
            },
            "type": "scatterpolar"
           }
          ],
          "scatterpolargl": [
           {
            "marker": {
             "colorbar": {
              "outlinewidth": 0,
              "ticks": ""
             }
            },
            "type": "scatterpolargl"
           }
          ],
          "scatterternary": [
           {
            "marker": {
             "colorbar": {
              "outlinewidth": 0,
              "ticks": ""
             }
            },
            "type": "scatterternary"
           }
          ],
          "surface": [
           {
            "colorbar": {
             "outlinewidth": 0,
             "ticks": ""
            },
            "colorscale": [
             [
              0,
              "#0d0887"
             ],
             [
              0.1111111111111111,
              "#46039f"
             ],
             [
              0.2222222222222222,
              "#7201a8"
             ],
             [
              0.3333333333333333,
              "#9c179e"
             ],
             [
              0.4444444444444444,
              "#bd3786"
             ],
             [
              0.5555555555555556,
              "#d8576b"
             ],
             [
              0.6666666666666666,
              "#ed7953"
             ],
             [
              0.7777777777777778,
              "#fb9f3a"
             ],
             [
              0.8888888888888888,
              "#fdca26"
             ],
             [
              1,
              "#f0f921"
             ]
            ],
            "type": "surface"
           }
          ],
          "table": [
           {
            "cells": {
             "fill": {
              "color": "#EBF0F8"
             },
             "line": {
              "color": "white"
             }
            },
            "header": {
             "fill": {
              "color": "#C8D4E3"
             },
             "line": {
              "color": "white"
             }
            },
            "type": "table"
           }
          ]
         },
         "layout": {
          "annotationdefaults": {
           "arrowcolor": "#2a3f5f",
           "arrowhead": 0,
           "arrowwidth": 1
          },
          "autotypenumbers": "strict",
          "coloraxis": {
           "colorbar": {
            "outlinewidth": 0,
            "ticks": ""
           }
          },
          "colorscale": {
           "diverging": [
            [
             0,
             "#8e0152"
            ],
            [
             0.1,
             "#c51b7d"
            ],
            [
             0.2,
             "#de77ae"
            ],
            [
             0.3,
             "#f1b6da"
            ],
            [
             0.4,
             "#fde0ef"
            ],
            [
             0.5,
             "#f7f7f7"
            ],
            [
             0.6,
             "#e6f5d0"
            ],
            [
             0.7,
             "#b8e186"
            ],
            [
             0.8,
             "#7fbc41"
            ],
            [
             0.9,
             "#4d9221"
            ],
            [
             1,
             "#276419"
            ]
           ],
           "sequential": [
            [
             0,
             "#0d0887"
            ],
            [
             0.1111111111111111,
             "#46039f"
            ],
            [
             0.2222222222222222,
             "#7201a8"
            ],
            [
             0.3333333333333333,
             "#9c179e"
            ],
            [
             0.4444444444444444,
             "#bd3786"
            ],
            [
             0.5555555555555556,
             "#d8576b"
            ],
            [
             0.6666666666666666,
             "#ed7953"
            ],
            [
             0.7777777777777778,
             "#fb9f3a"
            ],
            [
             0.8888888888888888,
             "#fdca26"
            ],
            [
             1,
             "#f0f921"
            ]
           ],
           "sequentialminus": [
            [
             0,
             "#0d0887"
            ],
            [
             0.1111111111111111,
             "#46039f"
            ],
            [
             0.2222222222222222,
             "#7201a8"
            ],
            [
             0.3333333333333333,
             "#9c179e"
            ],
            [
             0.4444444444444444,
             "#bd3786"
            ],
            [
             0.5555555555555556,
             "#d8576b"
            ],
            [
             0.6666666666666666,
             "#ed7953"
            ],
            [
             0.7777777777777778,
             "#fb9f3a"
            ],
            [
             0.8888888888888888,
             "#fdca26"
            ],
            [
             1,
             "#f0f921"
            ]
           ]
          },
          "colorway": [
           "#636efa",
           "#EF553B",
           "#00cc96",
           "#ab63fa",
           "#FFA15A",
           "#19d3f3",
           "#FF6692",
           "#B6E880",
           "#FF97FF",
           "#FECB52"
          ],
          "font": {
           "color": "#2a3f5f"
          },
          "geo": {
           "bgcolor": "white",
           "lakecolor": "white",
           "landcolor": "#E5ECF6",
           "showlakes": true,
           "showland": true,
           "subunitcolor": "white"
          },
          "hoverlabel": {
           "align": "left"
          },
          "hovermode": "closest",
          "mapbox": {
           "style": "light"
          },
          "paper_bgcolor": "white",
          "plot_bgcolor": "#E5ECF6",
          "polar": {
           "angularaxis": {
            "gridcolor": "white",
            "linecolor": "white",
            "ticks": ""
           },
           "bgcolor": "#E5ECF6",
           "radialaxis": {
            "gridcolor": "white",
            "linecolor": "white",
            "ticks": ""
           }
          },
          "scene": {
           "xaxis": {
            "backgroundcolor": "#E5ECF6",
            "gridcolor": "white",
            "gridwidth": 2,
            "linecolor": "white",
            "showbackground": true,
            "ticks": "",
            "zerolinecolor": "white"
           },
           "yaxis": {
            "backgroundcolor": "#E5ECF6",
            "gridcolor": "white",
            "gridwidth": 2,
            "linecolor": "white",
            "showbackground": true,
            "ticks": "",
            "zerolinecolor": "white"
           },
           "zaxis": {
            "backgroundcolor": "#E5ECF6",
            "gridcolor": "white",
            "gridwidth": 2,
            "linecolor": "white",
            "showbackground": true,
            "ticks": "",
            "zerolinecolor": "white"
           }
          },
          "shapedefaults": {
           "line": {
            "color": "#2a3f5f"
           }
          },
          "ternary": {
           "aaxis": {
            "gridcolor": "white",
            "linecolor": "white",
            "ticks": ""
           },
           "baxis": {
            "gridcolor": "white",
            "linecolor": "white",
            "ticks": ""
           },
           "bgcolor": "#E5ECF6",
           "caxis": {
            "gridcolor": "white",
            "linecolor": "white",
            "ticks": ""
           }
          },
          "title": {
           "x": 0.05
          },
          "xaxis": {
           "automargin": true,
           "gridcolor": "white",
           "linecolor": "white",
           "ticks": "",
           "title": {
            "standoff": 15
           },
           "zerolinecolor": "white",
           "zerolinewidth": 2
          },
          "yaxis": {
           "automargin": true,
           "gridcolor": "white",
           "linecolor": "white",
           "ticks": "",
           "title": {
            "standoff": 15
           },
           "zerolinecolor": "white",
           "zerolinewidth": 2
          }
         }
        },
        "updatemenus": [
         {
          "active": 0,
          "buttons": [
           {
            "args": [
             {
              "visible": [
               true,
               false,
               false,
               false,
               false,
               false,
               false,
               false,
               false,
               false,
               false,
               false,
               false,
               false,
               false,
               false,
               false,
               false,
               false,
               false,
               false
              ]
             },
             {
              "title": "Gender"
             }
            ],
            "label": "Gender",
            "method": "update"
           },
           {
            "args": [
             {
              "visible": [
               false,
               true,
               false,
               false,
               false,
               false,
               false,
               false,
               false,
               false,
               false,
               false,
               false,
               false,
               false,
               false,
               false,
               false,
               false,
               false,
               false
              ]
             },
             {
              "title": "self_employed"
             }
            ],
            "label": "self_employed",
            "method": "update"
           },
           {
            "args": [
             {
              "visible": [
               false,
               false,
               true,
               false,
               false,
               false,
               false,
               false,
               false,
               false,
               false,
               false,
               false,
               false,
               false,
               false,
               false,
               false,
               false,
               false,
               false
              ]
             },
             {
              "title": "family_history"
             }
            ],
            "label": "family_history",
            "method": "update"
           },
           {
            "args": [
             {
              "visible": [
               false,
               false,
               false,
               true,
               false,
               false,
               false,
               false,
               false,
               false,
               false,
               false,
               false,
               false,
               false,
               false,
               false,
               false,
               false,
               false,
               false
              ]
             },
             {
              "title": "work_interfere"
             }
            ],
            "label": "work_interfere",
            "method": "update"
           },
           {
            "args": [
             {
              "visible": [
               false,
               false,
               false,
               false,
               true,
               false,
               false,
               false,
               false,
               false,
               false,
               false,
               false,
               false,
               false,
               false,
               false,
               false,
               false,
               false,
               false
              ]
             },
             {
              "title": "no_employees"
             }
            ],
            "label": "no_employees",
            "method": "update"
           },
           {
            "args": [
             {
              "visible": [
               false,
               false,
               false,
               false,
               false,
               true,
               false,
               false,
               false,
               false,
               false,
               false,
               false,
               false,
               false,
               false,
               false,
               false,
               false,
               false,
               false
              ]
             },
             {
              "title": "remote_work"
             }
            ],
            "label": "remote_work",
            "method": "update"
           },
           {
            "args": [
             {
              "visible": [
               false,
               false,
               false,
               false,
               false,
               false,
               true,
               false,
               false,
               false,
               false,
               false,
               false,
               false,
               false,
               false,
               false,
               false,
               false,
               false,
               false
              ]
             },
             {
              "title": "tech_company"
             }
            ],
            "label": "tech_company",
            "method": "update"
           },
           {
            "args": [
             {
              "visible": [
               false,
               false,
               false,
               false,
               false,
               false,
               false,
               true,
               false,
               false,
               false,
               false,
               false,
               false,
               false,
               false,
               false,
               false,
               false,
               false,
               false
              ]
             },
             {
              "title": "benefits"
             }
            ],
            "label": "benefits",
            "method": "update"
           },
           {
            "args": [
             {
              "visible": [
               false,
               false,
               false,
               false,
               false,
               false,
               false,
               false,
               true,
               false,
               false,
               false,
               false,
               false,
               false,
               false,
               false,
               false,
               false,
               false,
               false
              ]
             },
             {
              "title": "care_options"
             }
            ],
            "label": "care_options",
            "method": "update"
           },
           {
            "args": [
             {
              "visible": [
               false,
               false,
               false,
               false,
               false,
               false,
               false,
               false,
               false,
               true,
               false,
               false,
               false,
               false,
               false,
               false,
               false,
               false,
               false,
               false,
               false
              ]
             },
             {
              "title": "wellness_program"
             }
            ],
            "label": "wellness_program",
            "method": "update"
           },
           {
            "args": [
             {
              "visible": [
               false,
               false,
               false,
               false,
               false,
               false,
               false,
               false,
               false,
               false,
               true,
               false,
               false,
               false,
               false,
               false,
               false,
               false,
               false,
               false,
               false
              ]
             },
             {
              "title": "seek_help"
             }
            ],
            "label": "seek_help",
            "method": "update"
           },
           {
            "args": [
             {
              "visible": [
               false,
               false,
               false,
               false,
               false,
               false,
               false,
               false,
               false,
               false,
               false,
               true,
               false,
               false,
               false,
               false,
               false,
               false,
               false,
               false,
               false
              ]
             },
             {
              "title": "anonymity"
             }
            ],
            "label": "anonymity",
            "method": "update"
           },
           {
            "args": [
             {
              "visible": [
               false,
               false,
               false,
               false,
               false,
               false,
               false,
               false,
               false,
               false,
               false,
               false,
               true,
               false,
               false,
               false,
               false,
               false,
               false,
               false,
               false
              ]
             },
             {
              "title": "leave"
             }
            ],
            "label": "leave",
            "method": "update"
           },
           {
            "args": [
             {
              "visible": [
               false,
               false,
               false,
               false,
               false,
               false,
               false,
               false,
               false,
               false,
               false,
               false,
               false,
               true,
               false,
               false,
               false,
               false,
               false,
               false,
               false
              ]
             },
             {
              "title": "mental_health_consequence"
             }
            ],
            "label": "mental_health_consequence",
            "method": "update"
           },
           {
            "args": [
             {
              "visible": [
               false,
               false,
               false,
               false,
               false,
               false,
               false,
               false,
               false,
               false,
               false,
               false,
               false,
               false,
               true,
               false,
               false,
               false,
               false,
               false,
               false
              ]
             },
             {
              "title": "phys_health_consequence"
             }
            ],
            "label": "phys_health_consequence",
            "method": "update"
           },
           {
            "args": [
             {
              "visible": [
               false,
               false,
               false,
               false,
               false,
               false,
               false,
               false,
               false,
               false,
               false,
               false,
               false,
               false,
               false,
               true,
               false,
               false,
               false,
               false,
               false
              ]
             },
             {
              "title": "coworkers"
             }
            ],
            "label": "coworkers",
            "method": "update"
           },
           {
            "args": [
             {
              "visible": [
               false,
               false,
               false,
               false,
               false,
               false,
               false,
               false,
               false,
               false,
               false,
               false,
               false,
               false,
               false,
               false,
               true,
               false,
               false,
               false,
               false
              ]
             },
             {
              "title": "supervisor"
             }
            ],
            "label": "supervisor",
            "method": "update"
           },
           {
            "args": [
             {
              "visible": [
               false,
               false,
               false,
               false,
               false,
               false,
               false,
               false,
               false,
               false,
               false,
               false,
               false,
               false,
               false,
               false,
               false,
               true,
               false,
               false,
               false
              ]
             },
             {
              "title": "mental_health_interview"
             }
            ],
            "label": "mental_health_interview",
            "method": "update"
           },
           {
            "args": [
             {
              "visible": [
               false,
               false,
               false,
               false,
               false,
               false,
               false,
               false,
               false,
               false,
               false,
               false,
               false,
               false,
               false,
               false,
               false,
               false,
               true,
               false,
               false
              ]
             },
             {
              "title": "phys_health_interview"
             }
            ],
            "label": "phys_health_interview",
            "method": "update"
           },
           {
            "args": [
             {
              "visible": [
               false,
               false,
               false,
               false,
               false,
               false,
               false,
               false,
               false,
               false,
               false,
               false,
               false,
               false,
               false,
               false,
               false,
               false,
               false,
               true,
               false
              ]
             },
             {
              "title": "mental_vs_physical"
             }
            ],
            "label": "mental_vs_physical",
            "method": "update"
           },
           {
            "args": [
             {
              "visible": [
               false,
               false,
               false,
               false,
               false,
               false,
               false,
               false,
               false,
               false,
               false,
               false,
               false,
               false,
               false,
               false,
               false,
               false,
               false,
               false,
               true
              ]
             },
             {
              "title": "obs_consequence"
             }
            ],
            "label": "obs_consequence",
            "method": "update"
           }
          ],
          "showactive": true,
          "type": "dropdown",
          "x": 0.6,
          "y": 0.95
         }
        ]
       }
      },
      "text/html": [
       "<div>                            <div id=\"d91536a0-6dd7-42fc-91f5-797d68021114\" class=\"plotly-graph-div\" style=\"height:525px; width:100%;\"></div>            <script type=\"text/javascript\">                require([\"plotly\"], function(Plotly) {                    window.PLOTLYENV=window.PLOTLYENV || {};                                    if (document.getElementById(\"d91536a0-6dd7-42fc-91f5-797d68021114\")) {                    Plotly.newPlot(                        \"d91536a0-6dd7-42fc-91f5-797d68021114\",                        [{\"hole\":0.5,\"hoverinfo\":\"label+percent\",\"labels\":[\"M\",\"F\",\"other\"],\"title\":{\"font\":{\"family\":\"bold\",\"size\":18},\"text\":\"No Treatment: <br>Distribution<br>of Gender\"},\"values\":[541,77,4],\"type\":\"pie\",\"domain\":{\"x\":[0.0,0.45],\"y\":[0.0,1.0]},\"textfont\":{\"size\":12},\"marker\":{\"line\":{\"color\":\"#000000\",\"width\":1},\"colors\":[\"#fedbcc\",\"#fcaf93\",\"#fc8161\",\"#f44f39\",\"#d52221\",\"#aa1016\"]},\"opacity\":0.8,\"showlegend\":false,\"textinfo\":\"label+percent\"},{\"hole\":0.5,\"hoverinfo\":\"label+percent\",\"labels\":[\"No\",\"Yes\"],\"title\":{\"font\":{\"family\":\"bold\",\"size\":18},\"text\":\"No Treatment: <br>Distribution<br>of self_employed\"},\"values\":[553,69],\"type\":\"pie\",\"domain\":{\"x\":[0.0,0.45],\"y\":[0.0,1.0]},\"textfont\":{\"size\":12},\"marker\":{\"line\":{\"color\":\"#000000\",\"width\":1},\"colors\":[\"#fedbcc\",\"#fcaf93\",\"#fc8161\",\"#f44f39\",\"#d52221\",\"#aa1016\"]},\"opacity\":0.8,\"showlegend\":false,\"textinfo\":\"label+percent\",\"visible\":false},{\"hole\":0.5,\"hoverinfo\":\"label+percent\",\"labels\":[\"No\",\"Yes\"],\"title\":{\"font\":{\"family\":\"bold\",\"size\":18},\"text\":\"No Treatment: <br>Distribution<br>of family_history\"},\"values\":[495,127],\"type\":\"pie\",\"domain\":{\"x\":[0.0,0.45],\"y\":[0.0,1.0]},\"textfont\":{\"size\":12},\"marker\":{\"line\":{\"color\":\"#000000\",\"width\":1},\"colors\":[\"#fedbcc\",\"#fcaf93\",\"#fc8161\",\"#f44f39\",\"#d52221\",\"#aa1016\"]},\"opacity\":0.8,\"showlegend\":false,\"textinfo\":\"label+percent\",\"visible\":false},{\"hole\":0.5,\"hoverinfo\":\"label+percent\",\"labels\":[\"Sometimes\",\"Never\",\"Rarely\",\"Often\"],\"title\":{\"font\":{\"family\":\"bold\",\"size\":18},\"text\":\"No Treatment: <br>Distribution<br>of work_interfere\"},\"values\":[242,233,91,56],\"type\":\"pie\",\"domain\":{\"x\":[0.0,0.45],\"y\":[0.0,1.0]},\"textfont\":{\"size\":12},\"marker\":{\"line\":{\"color\":\"#000000\",\"width\":1},\"colors\":[\"#fedbcc\",\"#fcaf93\",\"#fc8161\",\"#f44f39\",\"#d52221\",\"#aa1016\"]},\"opacity\":0.8,\"showlegend\":false,\"textinfo\":\"label+percent\",\"visible\":false},{\"hole\":0.5,\"hoverinfo\":\"label+percent\",\"labels\":[\"6-25\",\"26-100\",\"More than 1000\",\"100-500\",\"1-5\",\"500-1000\"],\"title\":{\"font\":{\"family\":\"bold\",\"size\":18},\"text\":\"No Treatment: <br>Distribution<br>of no_employees\"},\"values\":[162,139,136,81,71,33],\"type\":\"pie\",\"domain\":{\"x\":[0.0,0.45],\"y\":[0.0,1.0]},\"textfont\":{\"size\":12},\"marker\":{\"line\":{\"color\":\"#000000\",\"width\":1},\"colors\":[\"#fedbcc\",\"#fcaf93\",\"#fc8161\",\"#f44f39\",\"#d52221\",\"#aa1016\"]},\"opacity\":0.8,\"showlegend\":false,\"textinfo\":\"label+percent\",\"visible\":false},{\"hole\":0.5,\"hoverinfo\":\"label+percent\",\"labels\":[\"No\",\"Yes\"],\"title\":{\"font\":{\"family\":\"bold\",\"size\":18},\"text\":\"No Treatment: <br>Distribution<br>of remote_work\"},\"values\":[444,178],\"type\":\"pie\",\"domain\":{\"x\":[0.0,0.45],\"y\":[0.0,1.0]},\"textfont\":{\"size\":12},\"marker\":{\"line\":{\"color\":\"#000000\",\"width\":1},\"colors\":[\"#fedbcc\",\"#fcaf93\",\"#fc8161\",\"#f44f39\",\"#d52221\",\"#aa1016\"]},\"opacity\":0.8,\"showlegend\":false,\"textinfo\":\"label+percent\",\"visible\":false},{\"hole\":0.5,\"hoverinfo\":\"label+percent\",\"labels\":[\"Yes\",\"No\"],\"title\":{\"font\":{\"family\":\"bold\",\"size\":18},\"text\":\"No Treatment: <br>Distribution<br>of tech_company\"},\"values\":[517,105],\"type\":\"pie\",\"domain\":{\"x\":[0.0,0.45],\"y\":[0.0,1.0]},\"textfont\":{\"size\":12},\"marker\":{\"line\":{\"color\":\"#000000\",\"width\":1},\"colors\":[\"#fedbcc\",\"#fcaf93\",\"#fc8161\",\"#f44f39\",\"#d52221\",\"#aa1016\"]},\"opacity\":0.8,\"showlegend\":false,\"textinfo\":\"label+percent\",\"visible\":false},{\"hole\":0.5,\"hoverinfo\":\"label+percent\",\"labels\":[\"Don't know\",\"No\",\"Yes\"],\"title\":{\"font\":{\"family\":\"bold\",\"size\":18},\"text\":\"No Treatment: <br>Distribution<br>of benefits\"},\"values\":[257,193,172],\"type\":\"pie\",\"domain\":{\"x\":[0.0,0.45],\"y\":[0.0,1.0]},\"textfont\":{\"size\":12},\"marker\":{\"line\":{\"color\":\"#000000\",\"width\":1},\"colors\":[\"#fedbcc\",\"#fcaf93\",\"#fc8161\",\"#f44f39\",\"#d52221\",\"#aa1016\"]},\"opacity\":0.8,\"showlegend\":false,\"textinfo\":\"label+percent\",\"visible\":false},{\"hole\":0.5,\"hoverinfo\":\"label+percent\",\"labels\":[\"No\",\"Not sure\",\"Yes\"],\"title\":{\"font\":{\"family\":\"bold\",\"size\":18},\"text\":\"No Treatment: <br>Distribution<br>of care_options\"},\"values\":[294,191,137],\"type\":\"pie\",\"domain\":{\"x\":[0.0,0.45],\"y\":[0.0,1.0]},\"textfont\":{\"size\":12},\"marker\":{\"line\":{\"color\":\"#000000\",\"width\":1},\"colors\":[\"#fedbcc\",\"#fcaf93\",\"#fc8161\",\"#f44f39\",\"#d52221\",\"#aa1016\"]},\"opacity\":0.8,\"showlegend\":false,\"textinfo\":\"label+percent\",\"visible\":false},{\"hole\":0.5,\"hoverinfo\":\"label+percent\",\"labels\":[\"No\",\"Don't know\",\"Yes\"],\"title\":{\"font\":{\"family\":\"bold\",\"size\":18},\"text\":\"No Treatment: <br>Distribution<br>of wellness_program\"},\"values\":[422,107,93],\"type\":\"pie\",\"domain\":{\"x\":[0.0,0.45],\"y\":[0.0,1.0]},\"textfont\":{\"size\":12},\"marker\":{\"line\":{\"color\":\"#000000\",\"width\":1},\"colors\":[\"#fedbcc\",\"#fcaf93\",\"#fc8161\",\"#f44f39\",\"#d52221\",\"#aa1016\"]},\"opacity\":0.8,\"showlegend\":false,\"textinfo\":\"label+percent\",\"visible\":false},{\"hole\":0.5,\"hoverinfo\":\"label+percent\",\"labels\":[\"No\",\"Don't know\",\"Yes\"],\"title\":{\"font\":{\"family\":\"bold\",\"size\":18},\"text\":\"No Treatment: <br>Distribution<br>of seek_help\"},\"values\":[323,197,102],\"type\":\"pie\",\"domain\":{\"x\":[0.0,0.45],\"y\":[0.0,1.0]},\"textfont\":{\"size\":12},\"marker\":{\"line\":{\"color\":\"#000000\",\"width\":1},\"colors\":[\"#fedbcc\",\"#fcaf93\",\"#fc8161\",\"#f44f39\",\"#d52221\",\"#aa1016\"]},\"opacity\":0.8,\"showlegend\":false,\"textinfo\":\"label+percent\",\"visible\":false},{\"hole\":0.5,\"hoverinfo\":\"label+percent\",\"labels\":[\"Don't know\",\"Yes\",\"No\"],\"title\":{\"font\":{\"family\":\"bold\",\"size\":18},\"text\":\"No Treatment: <br>Distribution<br>of anonymity\"},\"values\":[448,147,27],\"type\":\"pie\",\"domain\":{\"x\":[0.0,0.45],\"y\":[0.0,1.0]},\"textfont\":{\"size\":12},\"marker\":{\"line\":{\"color\":\"#000000\",\"width\":1},\"colors\":[\"#fedbcc\",\"#fcaf93\",\"#fc8161\",\"#f44f39\",\"#d52221\",\"#aa1016\"]},\"opacity\":0.8,\"showlegend\":false,\"textinfo\":\"label+percent\",\"visible\":false},{\"hole\":0.5,\"hoverinfo\":\"label+percent\",\"labels\":[\"Don't know\",\"Somewhat easy\",\"Very easy\",\"Somewhat difficult\",\"Very difficult\"],\"title\":{\"font\":{\"family\":\"bold\",\"size\":18},\"text\":\"No Treatment: <br>Distribution<br>of leave\"},\"values\":[309,135,103,44,31],\"type\":\"pie\",\"domain\":{\"x\":[0.0,0.45],\"y\":[0.0,1.0]},\"textfont\":{\"size\":12},\"marker\":{\"line\":{\"color\":\"#000000\",\"width\":1},\"colors\":[\"#fedbcc\",\"#fcaf93\",\"#fc8161\",\"#f44f39\",\"#d52221\",\"#aa1016\"]},\"opacity\":0.8,\"showlegend\":false,\"textinfo\":\"label+percent\",\"visible\":false},{\"hole\":0.5,\"hoverinfo\":\"label+percent\",\"labels\":[\"No\",\"Maybe\",\"Yes\"],\"title\":{\"font\":{\"family\":\"bold\",\"size\":18},\"text\":\"No Treatment: <br>Distribution<br>of mental_health_consequence\"},\"values\":[280,224,118],\"type\":\"pie\",\"domain\":{\"x\":[0.0,0.45],\"y\":[0.0,1.0]},\"textfont\":{\"size\":12},\"marker\":{\"line\":{\"color\":\"#000000\",\"width\":1},\"colors\":[\"#fedbcc\",\"#fcaf93\",\"#fc8161\",\"#f44f39\",\"#d52221\",\"#aa1016\"]},\"opacity\":0.8,\"showlegend\":false,\"textinfo\":\"label+percent\",\"visible\":false},{\"hole\":0.5,\"hoverinfo\":\"label+percent\",\"labels\":[\"No\",\"Maybe\",\"Yes\"],\"title\":{\"font\":{\"family\":\"bold\",\"size\":18},\"text\":\"No Treatment: <br>Distribution<br>of phys_health_consequence\"},\"values\":[470,127,25],\"type\":\"pie\",\"domain\":{\"x\":[0.0,0.45],\"y\":[0.0,1.0]},\"textfont\":{\"size\":12},\"marker\":{\"line\":{\"color\":\"#000000\",\"width\":1},\"colors\":[\"#fedbcc\",\"#fcaf93\",\"#fc8161\",\"#f44f39\",\"#d52221\",\"#aa1016\"]},\"opacity\":0.8,\"showlegend\":false,\"textinfo\":\"label+percent\",\"visible\":false},{\"hole\":0.5,\"hoverinfo\":\"label+percent\",\"labels\":[\"Some of them\",\"No\",\"Yes\"],\"title\":{\"font\":{\"family\":\"bold\",\"size\":18},\"text\":\"No Treatment: <br>Distribution<br>of coworkers\"},\"values\":[384,141,97],\"type\":\"pie\",\"domain\":{\"x\":[0.0,0.45],\"y\":[0.0,1.0]},\"textfont\":{\"size\":12},\"marker\":{\"line\":{\"color\":\"#000000\",\"width\":1},\"colors\":[\"#fedbcc\",\"#fcaf93\",\"#fc8161\",\"#f44f39\",\"#d52221\",\"#aa1016\"]},\"opacity\":0.8,\"showlegend\":false,\"textinfo\":\"label+percent\",\"visible\":false},{\"hole\":0.5,\"hoverinfo\":\"label+percent\",\"labels\":[\"Yes\",\"No\",\"Some of them\"],\"title\":{\"font\":{\"family\":\"bold\",\"size\":18},\"text\":\"No Treatment: <br>Distribution<br>of supervisor\"},\"values\":[266,186,170],\"type\":\"pie\",\"domain\":{\"x\":[0.0,0.45],\"y\":[0.0,1.0]},\"textfont\":{\"size\":12},\"marker\":{\"line\":{\"color\":\"#000000\",\"width\":1},\"colors\":[\"#fedbcc\",\"#fcaf93\",\"#fc8161\",\"#f44f39\",\"#d52221\",\"#aa1016\"]},\"opacity\":0.8,\"showlegend\":false,\"textinfo\":\"label+percent\",\"visible\":false},{\"hole\":0.5,\"hoverinfo\":\"label+percent\",\"labels\":[\"No\",\"Maybe\",\"Yes\"],\"title\":{\"font\":{\"family\":\"bold\",\"size\":18},\"text\":\"No Treatment: <br>Distribution<br>of mental_health_interview\"},\"values\":[479,125,18],\"type\":\"pie\",\"domain\":{\"x\":[0.0,0.45],\"y\":[0.0,1.0]},\"textfont\":{\"size\":12},\"marker\":{\"line\":{\"color\":\"#000000\",\"width\":1},\"colors\":[\"#fedbcc\",\"#fcaf93\",\"#fc8161\",\"#f44f39\",\"#d52221\",\"#aa1016\"]},\"opacity\":0.8,\"showlegend\":false,\"textinfo\":\"label+percent\",\"visible\":false},{\"hole\":0.5,\"hoverinfo\":\"label+percent\",\"labels\":[\"Maybe\",\"No\",\"Yes\"],\"title\":{\"font\":{\"family\":\"bold\",\"size\":18},\"text\":\"No Treatment: <br>Distribution<br>of phys_health_interview\"},\"values\":[290,241,91],\"type\":\"pie\",\"domain\":{\"x\":[0.0,0.45],\"y\":[0.0,1.0]},\"textfont\":{\"size\":12},\"marker\":{\"line\":{\"color\":\"#000000\",\"width\":1},\"colors\":[\"#fedbcc\",\"#fcaf93\",\"#fc8161\",\"#f44f39\",\"#d52221\",\"#aa1016\"]},\"opacity\":0.8,\"showlegend\":false,\"textinfo\":\"label+percent\",\"visible\":false},{\"hole\":0.5,\"hoverinfo\":\"label+percent\",\"labels\":[\"Don't know\",\"Yes\",\"No\"],\"title\":{\"font\":{\"family\":\"bold\",\"size\":18},\"text\":\"No Treatment: <br>Distribution<br>of mental_vs_physical\"},\"values\":[316,168,138],\"type\":\"pie\",\"domain\":{\"x\":[0.0,0.45],\"y\":[0.0,1.0]},\"textfont\":{\"size\":12},\"marker\":{\"line\":{\"color\":\"#000000\",\"width\":1},\"colors\":[\"#fedbcc\",\"#fcaf93\",\"#fc8161\",\"#f44f39\",\"#d52221\",\"#aa1016\"]},\"opacity\":0.8,\"showlegend\":false,\"textinfo\":\"label+percent\",\"visible\":false},{\"hole\":0.5,\"hoverinfo\":\"label+percent\",\"labels\":[\"No\",\"Yes\"],\"title\":{\"font\":{\"family\":\"bold\",\"size\":18},\"text\":\"No Treatment: <br>Distribution<br>of obs_consequence\"},\"values\":[566,56],\"type\":\"pie\",\"domain\":{\"x\":[0.0,0.45],\"y\":[0.0,1.0]},\"textfont\":{\"size\":12},\"marker\":{\"line\":{\"color\":\"#000000\",\"width\":1},\"colors\":[\"#fedbcc\",\"#fcaf93\",\"#fc8161\",\"#f44f39\",\"#d52221\",\"#aa1016\"]},\"opacity\":0.8,\"showlegend\":false,\"textinfo\":\"label+percent\",\"visible\":false},{\"hole\":0.5,\"hoverinfo\":\"label+percent\",\"labels\":[\"M\",\"F\",\"other\"],\"title\":{\"font\":{\"family\":\"bold\",\"size\":18},\"text\":\"Seek Treatment: <br>Distribution<br>of Gender\"},\"values\":[450,170,17],\"type\":\"pie\",\"domain\":{\"x\":[0.55,1.0],\"y\":[0.0,1.0]},\"textfont\":{\"size\":12},\"marker\":{\"line\":{\"color\":\"#000000\",\"width\":1},\"colors\":[\"#ecebf4\",\"#d1d2e7\",\"#afaed4\",\"#8d89c0\",\"#705eaa\",\"#572c92\"]},\"opacity\":0.8,\"showlegend\":false,\"textinfo\":\"label+percent\",\"visible\":true},{\"hole\":0.5,\"hoverinfo\":\"label+percent\",\"labels\":[\"No\",\"Yes\"],\"title\":{\"font\":{\"family\":\"bold\",\"size\":18},\"text\":\"Seek Treatment: <br>Distribution<br>of self_employed\"},\"values\":[558,79],\"type\":\"pie\",\"domain\":{\"x\":[0.55,1.0],\"y\":[0.0,1.0]},\"textfont\":{\"size\":12},\"marker\":{\"line\":{\"color\":\"#000000\",\"width\":1},\"colors\":[\"#ecebf4\",\"#d1d2e7\",\"#afaed4\",\"#8d89c0\",\"#705eaa\",\"#572c92\"]},\"opacity\":0.8,\"showlegend\":false,\"textinfo\":\"label+percent\",\"visible\":false},{\"hole\":0.5,\"hoverinfo\":\"label+percent\",\"labels\":[\"Yes\",\"No\"],\"title\":{\"font\":{\"family\":\"bold\",\"size\":18},\"text\":\"Seek Treatment: <br>Distribution<br>of family_history\"},\"values\":[365,272],\"type\":\"pie\",\"domain\":{\"x\":[0.55,1.0],\"y\":[0.0,1.0]},\"textfont\":{\"size\":12},\"marker\":{\"line\":{\"color\":\"#000000\",\"width\":1},\"colors\":[\"#ecebf4\",\"#d1d2e7\",\"#afaed4\",\"#8d89c0\",\"#705eaa\",\"#572c92\"]},\"opacity\":0.8,\"showlegend\":false,\"textinfo\":\"label+percent\",\"visible\":false},{\"hole\":0.5,\"hoverinfo\":\"label+percent\",\"labels\":[\"Sometimes\",\"Often\",\"Rarely\",\"Never\"],\"title\":{\"font\":{\"family\":\"bold\",\"size\":18},\"text\":\"Seek Treatment: <br>Distribution<br>of work_interfere\"},\"values\":[360,123,123,31],\"type\":\"pie\",\"domain\":{\"x\":[0.55,1.0],\"y\":[0.0,1.0]},\"textfont\":{\"size\":12},\"marker\":{\"line\":{\"color\":\"#000000\",\"width\":1},\"colors\":[\"#ecebf4\",\"#d1d2e7\",\"#afaed4\",\"#8d89c0\",\"#705eaa\",\"#572c92\"]},\"opacity\":0.8,\"showlegend\":false,\"textinfo\":\"label+percent\",\"visible\":false},{\"hole\":0.5,\"hoverinfo\":\"label+percent\",\"labels\":[\"26-100\",\"More than 1000\",\"6-25\",\"100-500\",\"1-5\",\"500-1000\"],\"title\":{\"font\":{\"family\":\"bold\",\"size\":18},\"text\":\"Seek Treatment: <br>Distribution<br>of no_employees\"},\"values\":[150,146,128,95,91,27],\"type\":\"pie\",\"domain\":{\"x\":[0.55,1.0],\"y\":[0.0,1.0]},\"textfont\":{\"size\":12},\"marker\":{\"line\":{\"color\":\"#000000\",\"width\":1},\"colors\":[\"#ecebf4\",\"#d1d2e7\",\"#afaed4\",\"#8d89c0\",\"#705eaa\",\"#572c92\"]},\"opacity\":0.8,\"showlegend\":false,\"textinfo\":\"label+percent\",\"visible\":false},{\"hole\":0.5,\"hoverinfo\":\"label+percent\",\"labels\":[\"No\",\"Yes\"],\"title\":{\"font\":{\"family\":\"bold\",\"size\":18},\"text\":\"Seek Treatment: <br>Distribution<br>of remote_work\"},\"values\":[439,198],\"type\":\"pie\",\"domain\":{\"x\":[0.55,1.0],\"y\":[0.0,1.0]},\"textfont\":{\"size\":12},\"marker\":{\"line\":{\"color\":\"#000000\",\"width\":1},\"colors\":[\"#ecebf4\",\"#d1d2e7\",\"#afaed4\",\"#8d89c0\",\"#705eaa\",\"#572c92\"]},\"opacity\":0.8,\"showlegend\":false,\"textinfo\":\"label+percent\",\"visible\":false},{\"hole\":0.5,\"hoverinfo\":\"label+percent\",\"labels\":[\"Yes\",\"No\"],\"title\":{\"font\":{\"family\":\"bold\",\"size\":18},\"text\":\"Seek Treatment: <br>Distribution<br>of tech_company\"},\"values\":[514,123],\"type\":\"pie\",\"domain\":{\"x\":[0.55,1.0],\"y\":[0.0,1.0]},\"textfont\":{\"size\":12},\"marker\":{\"line\":{\"color\":\"#000000\",\"width\":1},\"colors\":[\"#ecebf4\",\"#d1d2e7\",\"#afaed4\",\"#8d89c0\",\"#705eaa\",\"#572c92\"]},\"opacity\":0.8,\"showlegend\":false,\"textinfo\":\"label+percent\",\"visible\":false},{\"hole\":0.5,\"hoverinfo\":\"label+percent\",\"labels\":[\"Yes\",\"No\",\"Don't know\"],\"title\":{\"font\":{\"family\":\"bold\",\"size\":18},\"text\":\"Seek Treatment: <br>Distribution<br>of benefits\"},\"values\":[305,181,151],\"type\":\"pie\",\"domain\":{\"x\":[0.55,1.0],\"y\":[0.0,1.0]},\"textfont\":{\"size\":12},\"marker\":{\"line\":{\"color\":\"#000000\",\"width\":1},\"colors\":[\"#ecebf4\",\"#d1d2e7\",\"#afaed4\",\"#8d89c0\",\"#705eaa\",\"#572c92\"]},\"opacity\":0.8,\"showlegend\":false,\"textinfo\":\"label+percent\",\"visible\":false},{\"hole\":0.5,\"hoverinfo\":\"label+percent\",\"labels\":[\"Yes\",\"No\",\"Not sure\"],\"title\":{\"font\":{\"family\":\"bold\",\"size\":18},\"text\":\"Seek Treatment: <br>Distribution<br>of care_options\"},\"values\":[307,207,123],\"type\":\"pie\",\"domain\":{\"x\":[0.55,1.0],\"y\":[0.0,1.0]},\"textfont\":{\"size\":12},\"marker\":{\"line\":{\"color\":\"#000000\",\"width\":1},\"colors\":[\"#ecebf4\",\"#d1d2e7\",\"#afaed4\",\"#8d89c0\",\"#705eaa\",\"#572c92\"]},\"opacity\":0.8,\"showlegend\":false,\"textinfo\":\"label+percent\",\"visible\":false},{\"hole\":0.5,\"hoverinfo\":\"label+percent\",\"labels\":[\"No\",\"Yes\",\"Don't know\"],\"title\":{\"font\":{\"family\":\"bold\",\"size\":18},\"text\":\"Seek Treatment: <br>Distribution<br>of wellness_program\"},\"values\":[420,136,81],\"type\":\"pie\",\"domain\":{\"x\":[0.55,1.0],\"y\":[0.0,1.0]},\"textfont\":{\"size\":12},\"marker\":{\"line\":{\"color\":\"#000000\",\"width\":1},\"colors\":[\"#ecebf4\",\"#d1d2e7\",\"#afaed4\",\"#8d89c0\",\"#705eaa\",\"#572c92\"]},\"opacity\":0.8,\"showlegend\":false,\"textinfo\":\"label+percent\",\"visible\":false},{\"hole\":0.5,\"hoverinfo\":\"label+percent\",\"labels\":[\"No\",\"Don't know\",\"Yes\"],\"title\":{\"font\":{\"family\":\"bold\",\"size\":18},\"text\":\"Seek Treatment: <br>Distribution<br>of seek_help\"},\"values\":[323,166,148],\"type\":\"pie\",\"domain\":{\"x\":[0.55,1.0],\"y\":[0.0,1.0]},\"textfont\":{\"size\":12},\"marker\":{\"line\":{\"color\":\"#000000\",\"width\":1},\"colors\":[\"#ecebf4\",\"#d1d2e7\",\"#afaed4\",\"#8d89c0\",\"#705eaa\",\"#572c92\"]},\"opacity\":0.8,\"showlegend\":false,\"textinfo\":\"label+percent\",\"visible\":false},{\"hole\":0.5,\"hoverinfo\":\"label+percent\",\"labels\":[\"Don't know\",\"Yes\",\"No\"],\"title\":{\"font\":{\"family\":\"bold\",\"size\":18},\"text\":\"Seek Treatment: <br>Distribution<br>of anonymity\"},\"values\":[371,228,38],\"type\":\"pie\",\"domain\":{\"x\":[0.55,1.0],\"y\":[0.0,1.0]},\"textfont\":{\"size\":12},\"marker\":{\"line\":{\"color\":\"#000000\",\"width\":1},\"colors\":[\"#ecebf4\",\"#d1d2e7\",\"#afaed4\",\"#8d89c0\",\"#705eaa\",\"#572c92\"]},\"opacity\":0.8,\"showlegend\":false,\"textinfo\":\"label+percent\",\"visible\":false},{\"hole\":0.5,\"hoverinfo\":\"label+percent\",\"labels\":[\"Don't know\",\"Somewhat easy\",\"Very easy\",\"Somewhat difficult\",\"Very difficult\"],\"title\":{\"font\":{\"family\":\"bold\",\"size\":18},\"text\":\"Seek Treatment: <br>Distribution<br>of leave\"},\"values\":[254,131,103,82,67],\"type\":\"pie\",\"domain\":{\"x\":[0.55,1.0],\"y\":[0.0,1.0]},\"textfont\":{\"size\":12},\"marker\":{\"line\":{\"color\":\"#000000\",\"width\":1},\"colors\":[\"#ecebf4\",\"#d1d2e7\",\"#afaed4\",\"#8d89c0\",\"#705eaa\",\"#572c92\"]},\"opacity\":0.8,\"showlegend\":false,\"textinfo\":\"label+percent\",\"visible\":false},{\"hole\":0.5,\"hoverinfo\":\"label+percent\",\"labels\":[\"Maybe\",\"No\",\"Yes\"],\"title\":{\"font\":{\"family\":\"bold\",\"size\":18},\"text\":\"Seek Treatment: <br>Distribution<br>of mental_health_consequence\"},\"values\":[253,210,174],\"type\":\"pie\",\"domain\":{\"x\":[0.55,1.0],\"y\":[0.0,1.0]},\"textfont\":{\"size\":12},\"marker\":{\"line\":{\"color\":\"#000000\",\"width\":1},\"colors\":[\"#ecebf4\",\"#d1d2e7\",\"#afaed4\",\"#8d89c0\",\"#705eaa\",\"#572c92\"]},\"opacity\":0.8,\"showlegend\":false,\"textinfo\":\"label+percent\",\"visible\":false},{\"hole\":0.5,\"hoverinfo\":\"label+percent\",\"labels\":[\"No\",\"Maybe\",\"Yes\"],\"title\":{\"font\":{\"family\":\"bold\",\"size\":18},\"text\":\"Seek Treatment: <br>Distribution<br>of phys_health_consequence\"},\"values\":[455,146,36],\"type\":\"pie\",\"domain\":{\"x\":[0.55,1.0],\"y\":[0.0,1.0]},\"textfont\":{\"size\":12},\"marker\":{\"line\":{\"color\":\"#000000\",\"width\":1},\"colors\":[\"#ecebf4\",\"#d1d2e7\",\"#afaed4\",\"#8d89c0\",\"#705eaa\",\"#572c92\"]},\"opacity\":0.8,\"showlegend\":false,\"textinfo\":\"label+percent\",\"visible\":false},{\"hole\":0.5,\"hoverinfo\":\"label+percent\",\"labels\":[\"Some of them\",\"Yes\",\"No\"],\"title\":{\"font\":{\"family\":\"bold\",\"size\":18},\"text\":\"Seek Treatment: <br>Distribution<br>of coworkers\"},\"values\":[390,128,119],\"type\":\"pie\",\"domain\":{\"x\":[0.55,1.0],\"y\":[0.0,1.0]},\"textfont\":{\"size\":12},\"marker\":{\"line\":{\"color\":\"#000000\",\"width\":1},\"colors\":[\"#ecebf4\",\"#d1d2e7\",\"#afaed4\",\"#8d89c0\",\"#705eaa\",\"#572c92\"]},\"opacity\":0.8,\"showlegend\":false,\"textinfo\":\"label+percent\",\"visible\":false},{\"hole\":0.5,\"hoverinfo\":\"label+percent\",\"labels\":[\"Yes\",\"No\",\"Some of them\"],\"title\":{\"font\":{\"family\":\"bold\",\"size\":18},\"text\":\"Seek Treatment: <br>Distribution<br>of supervisor\"},\"values\":[250,207,180],\"type\":\"pie\",\"domain\":{\"x\":[0.55,1.0],\"y\":[0.0,1.0]},\"textfont\":{\"size\":12},\"marker\":{\"line\":{\"color\":\"#000000\",\"width\":1},\"colors\":[\"#ecebf4\",\"#d1d2e7\",\"#afaed4\",\"#8d89c0\",\"#705eaa\",\"#572c92\"]},\"opacity\":0.8,\"showlegend\":false,\"textinfo\":\"label+percent\",\"visible\":false},{\"hole\":0.5,\"hoverinfo\":\"label+percent\",\"labels\":[\"No\",\"Maybe\",\"Yes\"],\"title\":{\"font\":{\"family\":\"bold\",\"size\":18},\"text\":\"Seek Treatment: <br>Distribution<br>of mental_health_interview\"},\"values\":[529,82,26],\"type\":\"pie\",\"domain\":{\"x\":[0.55,1.0],\"y\":[0.0,1.0]},\"textfont\":{\"size\":12},\"marker\":{\"line\":{\"color\":\"#000000\",\"width\":1},\"colors\":[\"#ecebf4\",\"#d1d2e7\",\"#afaed4\",\"#8d89c0\",\"#705eaa\",\"#572c92\"]},\"opacity\":0.8,\"showlegend\":false,\"textinfo\":\"label+percent\",\"visible\":false},{\"hole\":0.5,\"hoverinfo\":\"label+percent\",\"labels\":[\"Maybe\",\"No\",\"Yes\"],\"title\":{\"font\":{\"family\":\"bold\",\"size\":18},\"text\":\"Seek Treatment: <br>Distribution<br>of phys_health_interview\"},\"values\":[267,259,111],\"type\":\"pie\",\"domain\":{\"x\":[0.55,1.0],\"y\":[0.0,1.0]},\"textfont\":{\"size\":12},\"marker\":{\"line\":{\"color\":\"#000000\",\"width\":1},\"colors\":[\"#ecebf4\",\"#d1d2e7\",\"#afaed4\",\"#8d89c0\",\"#705eaa\",\"#572c92\"]},\"opacity\":0.8,\"showlegend\":false,\"textinfo\":\"label+percent\",\"visible\":false},{\"hole\":0.5,\"hoverinfo\":\"label+percent\",\"labels\":[\"Don't know\",\"No\",\"Yes\"],\"title\":{\"font\":{\"family\":\"bold\",\"size\":18},\"text\":\"Seek Treatment: <br>Distribution<br>of mental_vs_physical\"},\"values\":[260,202,175],\"type\":\"pie\",\"domain\":{\"x\":[0.55,1.0],\"y\":[0.0,1.0]},\"textfont\":{\"size\":12},\"marker\":{\"line\":{\"color\":\"#000000\",\"width\":1},\"colors\":[\"#ecebf4\",\"#d1d2e7\",\"#afaed4\",\"#8d89c0\",\"#705eaa\",\"#572c92\"]},\"opacity\":0.8,\"showlegend\":false,\"textinfo\":\"label+percent\",\"visible\":false},{\"hole\":0.5,\"hoverinfo\":\"label+percent\",\"labels\":[\"No\",\"Yes\"],\"title\":{\"font\":{\"family\":\"bold\",\"size\":18},\"text\":\"Seek Treatment: <br>Distribution<br>of obs_consequence\"},\"values\":[509,128],\"type\":\"pie\",\"domain\":{\"x\":[0.55,1.0],\"y\":[0.0,1.0]},\"textfont\":{\"size\":12},\"marker\":{\"line\":{\"color\":\"#000000\",\"width\":1},\"colors\":[\"#ecebf4\",\"#d1d2e7\",\"#afaed4\",\"#8d89c0\",\"#705eaa\",\"#572c92\"]},\"opacity\":0.8,\"showlegend\":false,\"textinfo\":\"label+percent\",\"visible\":false}],                        {\"template\":{\"data\":{\"histogram2dcontour\":[{\"type\":\"histogram2dcontour\",\"colorbar\":{\"outlinewidth\":0,\"ticks\":\"\"},\"colorscale\":[[0.0,\"#0d0887\"],[0.1111111111111111,\"#46039f\"],[0.2222222222222222,\"#7201a8\"],[0.3333333333333333,\"#9c179e\"],[0.4444444444444444,\"#bd3786\"],[0.5555555555555556,\"#d8576b\"],[0.6666666666666666,\"#ed7953\"],[0.7777777777777778,\"#fb9f3a\"],[0.8888888888888888,\"#fdca26\"],[1.0,\"#f0f921\"]]}],\"choropleth\":[{\"type\":\"choropleth\",\"colorbar\":{\"outlinewidth\":0,\"ticks\":\"\"}}],\"histogram2d\":[{\"type\":\"histogram2d\",\"colorbar\":{\"outlinewidth\":0,\"ticks\":\"\"},\"colorscale\":[[0.0,\"#0d0887\"],[0.1111111111111111,\"#46039f\"],[0.2222222222222222,\"#7201a8\"],[0.3333333333333333,\"#9c179e\"],[0.4444444444444444,\"#bd3786\"],[0.5555555555555556,\"#d8576b\"],[0.6666666666666666,\"#ed7953\"],[0.7777777777777778,\"#fb9f3a\"],[0.8888888888888888,\"#fdca26\"],[1.0,\"#f0f921\"]]}],\"heatmap\":[{\"type\":\"heatmap\",\"colorbar\":{\"outlinewidth\":0,\"ticks\":\"\"},\"colorscale\":[[0.0,\"#0d0887\"],[0.1111111111111111,\"#46039f\"],[0.2222222222222222,\"#7201a8\"],[0.3333333333333333,\"#9c179e\"],[0.4444444444444444,\"#bd3786\"],[0.5555555555555556,\"#d8576b\"],[0.6666666666666666,\"#ed7953\"],[0.7777777777777778,\"#fb9f3a\"],[0.8888888888888888,\"#fdca26\"],[1.0,\"#f0f921\"]]}],\"heatmapgl\":[{\"type\":\"heatmapgl\",\"colorbar\":{\"outlinewidth\":0,\"ticks\":\"\"},\"colorscale\":[[0.0,\"#0d0887\"],[0.1111111111111111,\"#46039f\"],[0.2222222222222222,\"#7201a8\"],[0.3333333333333333,\"#9c179e\"],[0.4444444444444444,\"#bd3786\"],[0.5555555555555556,\"#d8576b\"],[0.6666666666666666,\"#ed7953\"],[0.7777777777777778,\"#fb9f3a\"],[0.8888888888888888,\"#fdca26\"],[1.0,\"#f0f921\"]]}],\"contourcarpet\":[{\"type\":\"contourcarpet\",\"colorbar\":{\"outlinewidth\":0,\"ticks\":\"\"}}],\"contour\":[{\"type\":\"contour\",\"colorbar\":{\"outlinewidth\":0,\"ticks\":\"\"},\"colorscale\":[[0.0,\"#0d0887\"],[0.1111111111111111,\"#46039f\"],[0.2222222222222222,\"#7201a8\"],[0.3333333333333333,\"#9c179e\"],[0.4444444444444444,\"#bd3786\"],[0.5555555555555556,\"#d8576b\"],[0.6666666666666666,\"#ed7953\"],[0.7777777777777778,\"#fb9f3a\"],[0.8888888888888888,\"#fdca26\"],[1.0,\"#f0f921\"]]}],\"surface\":[{\"type\":\"surface\",\"colorbar\":{\"outlinewidth\":0,\"ticks\":\"\"},\"colorscale\":[[0.0,\"#0d0887\"],[0.1111111111111111,\"#46039f\"],[0.2222222222222222,\"#7201a8\"],[0.3333333333333333,\"#9c179e\"],[0.4444444444444444,\"#bd3786\"],[0.5555555555555556,\"#d8576b\"],[0.6666666666666666,\"#ed7953\"],[0.7777777777777778,\"#fb9f3a\"],[0.8888888888888888,\"#fdca26\"],[1.0,\"#f0f921\"]]}],\"mesh3d\":[{\"type\":\"mesh3d\",\"colorbar\":{\"outlinewidth\":0,\"ticks\":\"\"}}],\"scatter\":[{\"fillpattern\":{\"fillmode\":\"overlay\",\"size\":10,\"solidity\":0.2},\"type\":\"scatter\"}],\"parcoords\":[{\"type\":\"parcoords\",\"line\":{\"colorbar\":{\"outlinewidth\":0,\"ticks\":\"\"}}}],\"scatterpolargl\":[{\"type\":\"scatterpolargl\",\"marker\":{\"colorbar\":{\"outlinewidth\":0,\"ticks\":\"\"}}}],\"bar\":[{\"error_x\":{\"color\":\"#2a3f5f\"},\"error_y\":{\"color\":\"#2a3f5f\"},\"marker\":{\"line\":{\"color\":\"#E5ECF6\",\"width\":0.5},\"pattern\":{\"fillmode\":\"overlay\",\"size\":10,\"solidity\":0.2}},\"type\":\"bar\"}],\"scattergeo\":[{\"type\":\"scattergeo\",\"marker\":{\"colorbar\":{\"outlinewidth\":0,\"ticks\":\"\"}}}],\"scatterpolar\":[{\"type\":\"scatterpolar\",\"marker\":{\"colorbar\":{\"outlinewidth\":0,\"ticks\":\"\"}}}],\"histogram\":[{\"marker\":{\"pattern\":{\"fillmode\":\"overlay\",\"size\":10,\"solidity\":0.2}},\"type\":\"histogram\"}],\"scattergl\":[{\"type\":\"scattergl\",\"marker\":{\"colorbar\":{\"outlinewidth\":0,\"ticks\":\"\"}}}],\"scatter3d\":[{\"type\":\"scatter3d\",\"line\":{\"colorbar\":{\"outlinewidth\":0,\"ticks\":\"\"}},\"marker\":{\"colorbar\":{\"outlinewidth\":0,\"ticks\":\"\"}}}],\"scattermapbox\":[{\"type\":\"scattermapbox\",\"marker\":{\"colorbar\":{\"outlinewidth\":0,\"ticks\":\"\"}}}],\"scatterternary\":[{\"type\":\"scatterternary\",\"marker\":{\"colorbar\":{\"outlinewidth\":0,\"ticks\":\"\"}}}],\"scattercarpet\":[{\"type\":\"scattercarpet\",\"marker\":{\"colorbar\":{\"outlinewidth\":0,\"ticks\":\"\"}}}],\"carpet\":[{\"aaxis\":{\"endlinecolor\":\"#2a3f5f\",\"gridcolor\":\"white\",\"linecolor\":\"white\",\"minorgridcolor\":\"white\",\"startlinecolor\":\"#2a3f5f\"},\"baxis\":{\"endlinecolor\":\"#2a3f5f\",\"gridcolor\":\"white\",\"linecolor\":\"white\",\"minorgridcolor\":\"white\",\"startlinecolor\":\"#2a3f5f\"},\"type\":\"carpet\"}],\"table\":[{\"cells\":{\"fill\":{\"color\":\"#EBF0F8\"},\"line\":{\"color\":\"white\"}},\"header\":{\"fill\":{\"color\":\"#C8D4E3\"},\"line\":{\"color\":\"white\"}},\"type\":\"table\"}],\"barpolar\":[{\"marker\":{\"line\":{\"color\":\"#E5ECF6\",\"width\":0.5},\"pattern\":{\"fillmode\":\"overlay\",\"size\":10,\"solidity\":0.2}},\"type\":\"barpolar\"}],\"pie\":[{\"automargin\":true,\"type\":\"pie\"}]},\"layout\":{\"autotypenumbers\":\"strict\",\"colorway\":[\"#636efa\",\"#EF553B\",\"#00cc96\",\"#ab63fa\",\"#FFA15A\",\"#19d3f3\",\"#FF6692\",\"#B6E880\",\"#FF97FF\",\"#FECB52\"],\"font\":{\"color\":\"#2a3f5f\"},\"hovermode\":\"closest\",\"hoverlabel\":{\"align\":\"left\"},\"paper_bgcolor\":\"white\",\"plot_bgcolor\":\"#E5ECF6\",\"polar\":{\"bgcolor\":\"#E5ECF6\",\"angularaxis\":{\"gridcolor\":\"white\",\"linecolor\":\"white\",\"ticks\":\"\"},\"radialaxis\":{\"gridcolor\":\"white\",\"linecolor\":\"white\",\"ticks\":\"\"}},\"ternary\":{\"bgcolor\":\"#E5ECF6\",\"aaxis\":{\"gridcolor\":\"white\",\"linecolor\":\"white\",\"ticks\":\"\"},\"baxis\":{\"gridcolor\":\"white\",\"linecolor\":\"white\",\"ticks\":\"\"},\"caxis\":{\"gridcolor\":\"white\",\"linecolor\":\"white\",\"ticks\":\"\"}},\"coloraxis\":{\"colorbar\":{\"outlinewidth\":0,\"ticks\":\"\"}},\"colorscale\":{\"sequential\":[[0.0,\"#0d0887\"],[0.1111111111111111,\"#46039f\"],[0.2222222222222222,\"#7201a8\"],[0.3333333333333333,\"#9c179e\"],[0.4444444444444444,\"#bd3786\"],[0.5555555555555556,\"#d8576b\"],[0.6666666666666666,\"#ed7953\"],[0.7777777777777778,\"#fb9f3a\"],[0.8888888888888888,\"#fdca26\"],[1.0,\"#f0f921\"]],\"sequentialminus\":[[0.0,\"#0d0887\"],[0.1111111111111111,\"#46039f\"],[0.2222222222222222,\"#7201a8\"],[0.3333333333333333,\"#9c179e\"],[0.4444444444444444,\"#bd3786\"],[0.5555555555555556,\"#d8576b\"],[0.6666666666666666,\"#ed7953\"],[0.7777777777777778,\"#fb9f3a\"],[0.8888888888888888,\"#fdca26\"],[1.0,\"#f0f921\"]],\"diverging\":[[0,\"#8e0152\"],[0.1,\"#c51b7d\"],[0.2,\"#de77ae\"],[0.3,\"#f1b6da\"],[0.4,\"#fde0ef\"],[0.5,\"#f7f7f7\"],[0.6,\"#e6f5d0\"],[0.7,\"#b8e186\"],[0.8,\"#7fbc41\"],[0.9,\"#4d9221\"],[1,\"#276419\"]]},\"xaxis\":{\"gridcolor\":\"white\",\"linecolor\":\"white\",\"ticks\":\"\",\"title\":{\"standoff\":15},\"zerolinecolor\":\"white\",\"automargin\":true,\"zerolinewidth\":2},\"yaxis\":{\"gridcolor\":\"white\",\"linecolor\":\"white\",\"ticks\":\"\",\"title\":{\"standoff\":15},\"zerolinecolor\":\"white\",\"automargin\":true,\"zerolinewidth\":2},\"scene\":{\"xaxis\":{\"backgroundcolor\":\"#E5ECF6\",\"gridcolor\":\"white\",\"linecolor\":\"white\",\"showbackground\":true,\"ticks\":\"\",\"zerolinecolor\":\"white\",\"gridwidth\":2},\"yaxis\":{\"backgroundcolor\":\"#E5ECF6\",\"gridcolor\":\"white\",\"linecolor\":\"white\",\"showbackground\":true,\"ticks\":\"\",\"zerolinecolor\":\"white\",\"gridwidth\":2},\"zaxis\":{\"backgroundcolor\":\"#E5ECF6\",\"gridcolor\":\"white\",\"linecolor\":\"white\",\"showbackground\":true,\"ticks\":\"\",\"zerolinecolor\":\"white\",\"gridwidth\":2}},\"shapedefaults\":{\"line\":{\"color\":\"#2a3f5f\"}},\"annotationdefaults\":{\"arrowcolor\":\"#2a3f5f\",\"arrowhead\":0,\"arrowwidth\":1},\"geo\":{\"bgcolor\":\"white\",\"landcolor\":\"#E5ECF6\",\"subunitcolor\":\"white\",\"showland\":true,\"showlakes\":true,\"lakecolor\":\"white\"},\"title\":{\"x\":0.05},\"mapbox\":{\"style\":\"light\"}}},\"margin\":{\"t\":0,\"b\":0,\"l\":0,\"r\":0},\"font\":{\"family\":\"bold\"},\"updatemenus\":[{\"active\":0,\"buttons\":[{\"args\":[{\"visible\":[true,false,false,false,false,false,false,false,false,false,false,false,false,false,false,false,false,false,false,false,false]},{\"title\":\"Gender\"}],\"label\":\"Gender\",\"method\":\"update\"},{\"args\":[{\"visible\":[false,true,false,false,false,false,false,false,false,false,false,false,false,false,false,false,false,false,false,false,false]},{\"title\":\"self_employed\"}],\"label\":\"self_employed\",\"method\":\"update\"},{\"args\":[{\"visible\":[false,false,true,false,false,false,false,false,false,false,false,false,false,false,false,false,false,false,false,false,false]},{\"title\":\"family_history\"}],\"label\":\"family_history\",\"method\":\"update\"},{\"args\":[{\"visible\":[false,false,false,true,false,false,false,false,false,false,false,false,false,false,false,false,false,false,false,false,false]},{\"title\":\"work_interfere\"}],\"label\":\"work_interfere\",\"method\":\"update\"},{\"args\":[{\"visible\":[false,false,false,false,true,false,false,false,false,false,false,false,false,false,false,false,false,false,false,false,false]},{\"title\":\"no_employees\"}],\"label\":\"no_employees\",\"method\":\"update\"},{\"args\":[{\"visible\":[false,false,false,false,false,true,false,false,false,false,false,false,false,false,false,false,false,false,false,false,false]},{\"title\":\"remote_work\"}],\"label\":\"remote_work\",\"method\":\"update\"},{\"args\":[{\"visible\":[false,false,false,false,false,false,true,false,false,false,false,false,false,false,false,false,false,false,false,false,false]},{\"title\":\"tech_company\"}],\"label\":\"tech_company\",\"method\":\"update\"},{\"args\":[{\"visible\":[false,false,false,false,false,false,false,true,false,false,false,false,false,false,false,false,false,false,false,false,false]},{\"title\":\"benefits\"}],\"label\":\"benefits\",\"method\":\"update\"},{\"args\":[{\"visible\":[false,false,false,false,false,false,false,false,true,false,false,false,false,false,false,false,false,false,false,false,false]},{\"title\":\"care_options\"}],\"label\":\"care_options\",\"method\":\"update\"},{\"args\":[{\"visible\":[false,false,false,false,false,false,false,false,false,true,false,false,false,false,false,false,false,false,false,false,false]},{\"title\":\"wellness_program\"}],\"label\":\"wellness_program\",\"method\":\"update\"},{\"args\":[{\"visible\":[false,false,false,false,false,false,false,false,false,false,true,false,false,false,false,false,false,false,false,false,false]},{\"title\":\"seek_help\"}],\"label\":\"seek_help\",\"method\":\"update\"},{\"args\":[{\"visible\":[false,false,false,false,false,false,false,false,false,false,false,true,false,false,false,false,false,false,false,false,false]},{\"title\":\"anonymity\"}],\"label\":\"anonymity\",\"method\":\"update\"},{\"args\":[{\"visible\":[false,false,false,false,false,false,false,false,false,false,false,false,true,false,false,false,false,false,false,false,false]},{\"title\":\"leave\"}],\"label\":\"leave\",\"method\":\"update\"},{\"args\":[{\"visible\":[false,false,false,false,false,false,false,false,false,false,false,false,false,true,false,false,false,false,false,false,false]},{\"title\":\"mental_health_consequence\"}],\"label\":\"mental_health_consequence\",\"method\":\"update\"},{\"args\":[{\"visible\":[false,false,false,false,false,false,false,false,false,false,false,false,false,false,true,false,false,false,false,false,false]},{\"title\":\"phys_health_consequence\"}],\"label\":\"phys_health_consequence\",\"method\":\"update\"},{\"args\":[{\"visible\":[false,false,false,false,false,false,false,false,false,false,false,false,false,false,false,true,false,false,false,false,false]},{\"title\":\"coworkers\"}],\"label\":\"coworkers\",\"method\":\"update\"},{\"args\":[{\"visible\":[false,false,false,false,false,false,false,false,false,false,false,false,false,false,false,false,true,false,false,false,false]},{\"title\":\"supervisor\"}],\"label\":\"supervisor\",\"method\":\"update\"},{\"args\":[{\"visible\":[false,false,false,false,false,false,false,false,false,false,false,false,false,false,false,false,false,true,false,false,false]},{\"title\":\"mental_health_interview\"}],\"label\":\"mental_health_interview\",\"method\":\"update\"},{\"args\":[{\"visible\":[false,false,false,false,false,false,false,false,false,false,false,false,false,false,false,false,false,false,true,false,false]},{\"title\":\"phys_health_interview\"}],\"label\":\"phys_health_interview\",\"method\":\"update\"},{\"args\":[{\"visible\":[false,false,false,false,false,false,false,false,false,false,false,false,false,false,false,false,false,false,false,true,false]},{\"title\":\"mental_vs_physical\"}],\"label\":\"mental_vs_physical\",\"method\":\"update\"},{\"args\":[{\"visible\":[false,false,false,false,false,false,false,false,false,false,false,false,false,false,false,false,false,false,false,false,true]},{\"title\":\"obs_consequence\"}],\"label\":\"obs_consequence\",\"method\":\"update\"}],\"showactive\":true,\"type\":\"dropdown\",\"x\":0.6,\"y\":0.95}],\"annotations\":[{\"align\":\"left\",\"font\":{\"size\":15},\"showarrow\":false,\"text\":\"<b>Choose<br>Column<b> : \",\"x\":0.5,\"y\":1.03,\"yref\":\"paper\"}]},                        {\"responsive\": true}                    ).then(function(){\n",
       "                            \n",
       "var gd = document.getElementById('d91536a0-6dd7-42fc-91f5-797d68021114');\n",
       "var x = new MutationObserver(function (mutations, observer) {{\n",
       "        var display = window.getComputedStyle(gd).display;\n",
       "        if (!display || display === 'none') {{\n",
       "            console.log([gd, 'removed!']);\n",
       "            Plotly.purge(gd);\n",
       "            observer.disconnect();\n",
       "        }}\n",
       "}});\n",
       "\n",
       "// Listen for the removal of the full notebook cells\n",
       "var notebookContainer = gd.closest('#notebook-container');\n",
       "if (notebookContainer) {{\n",
       "    x.observe(notebookContainer, {childList: true});\n",
       "}}\n",
       "\n",
       "// Listen for the clearing of the current output cell\n",
       "var outputEl = gd.closest('.output');\n",
       "if (outputEl) {{\n",
       "    x.observe(outputEl, {childList: true});\n",
       "}}\n",
       "\n",
       "                        })                };                });            </script>        </div>"
      ]
     },
     "metadata": {},
     "output_type": "display_data"
    }
   ],
   "source": [
    "buttons = []\n",
    "i = 0\n",
    "vis = [False] * 21\n",
    "\n",
    "for col in seek.columns:\n",
    "    vis[i] = True\n",
    "    buttons.append({'label' : col,\n",
    "             'method' : 'update',\n",
    "             'args'   : [{'visible' : vis},\n",
    "             {'title'  : col}] })\n",
    "    i+=1\n",
    "    vis = [False] * 21\n",
    "\n",
    "fig = make_subplots(rows=1, cols=2,\n",
    "                    specs=[[{'type':'domain'}, {'type':'domain'}]])\n",
    "\n",
    "for col in dont.columns:\n",
    "    fig.add_trace(go.Pie(\n",
    "             values = dont[col].value_counts(),\n",
    "             labels = dont[col].value_counts().index,\n",
    "             title = dict(text = 'No Treatment: <br>Distribution<br>of {}'.format(col),\n",
    "                          font = dict(size=18, family = 'bold'),\n",
    "                          ),\n",
    "             hole = 0.5,\n",
    "             hoverinfo='label+percent',),1,1)\n",
    "\n",
    "\n",
    "for col in seek.columns:\n",
    "    fig.add_trace(go.Pie(\n",
    "             values = seek[col].value_counts(),\n",
    "             labels = seek[col].value_counts().index,\n",
    "             title = dict(text = 'Seek Treatment: <br>Distribution<br>of {}'.format(col),\n",
    "                          font = dict(size=18, family = 'bold'),\n",
    "                          ),\n",
    "             hole = 0.5,\n",
    "             hoverinfo='label+percent',),1,2)\n",
    "\n",
    "fig.update_traces(hoverinfo='label+percent',\n",
    "                  textinfo='label+percent',\n",
    "                  textfont_size=12,\n",
    "                  opacity = 0.8,\n",
    "                  showlegend = False,\n",
    "                  marker = dict(colors = sns.color_palette('Reds').as_hex(),\n",
    "                              line=dict(color='#000000', width=1)))\n",
    "\n",
    "fig.update_traces(row=1, col=2, hoverinfo='label+percent',\n",
    "                  textinfo='label+percent',\n",
    "                  textfont_size=12,\n",
    "                  opacity = 0.8,\n",
    "                  showlegend = False,\n",
    "                  marker = dict(colors = sns.color_palette('Purples').as_hex(),\n",
    "                              line=dict(color='#000000', width=1)))\n",
    "              \n",
    "\n",
    "fig.update_layout(margin=dict(t=0, b=0, l=0, r=0),\n",
    "                  font_family   = 'bold',\n",
    "                  updatemenus = [dict(\n",
    "                        type = 'dropdown',\n",
    "                        x = 0.60,\n",
    "                        y = 0.95,\n",
    "                        showactive = True,\n",
    "                        active = 0,\n",
    "                        buttons = buttons)],\n",
    "                 annotations=[\n",
    "                             dict(text = \"<b>Choose<br>Column<b> : \",\n",
    "                                  font = dict(size = 15),\n",
    "                             showarrow=False,\n",
    "                             x = 0.5, y = 1.03, yref = \"paper\", align = \"left\")])\n",
    "\n",
    "for i in range(1,42):\n",
    "    fig.data[i].visible = False\n",
    "fig.data[21].visible = True\n",
    "\n",
    "fig.show()"
   ]
  },
  {
   "cell_type": "code",
   "execution_count": 363,
   "id": "ea8b116c",
   "metadata": {},
   "outputs": [],
   "source": [
    "# Encoding Target\n",
    "\n",
    "workplace_df.treatment = workplace_df.treatment.astype('category')\n",
    "workplace_df.treatment = workplace_df.treatment.cat.codes\n",
    "workplace_df.treatment.value_counts()\n",
    "\n",
    "\n",
    "\n",
    "# Train and Test set\n",
    "\n",
    "X = workplace_df.drop('treatment', axis =1)\n",
    "y = workplace_df.treatment\n",
    "\n",
    "cols = X.columns\n",
    "\n",
    "encoder = LabelEncoder()\n",
    "for col in cols:\n",
    "    encoder.fit(X[col])\n",
    "    X[col] = encoder.transform(X[col])\n",
    "\n",
    "# Splitting\n",
    "\n",
    "X_train, X_test, y_train, y_test = train_test_split(X, y, test_size = 0.2, random_state = 39)\n"
   ]
  },
  {
   "cell_type": "code",
   "execution_count": 364,
   "id": "0240898b",
   "metadata": {},
   "outputs": [
    {
     "name": "stdout",
     "output_type": "stream",
     "text": [
      "\u001b[1mBest parameters : \u001b[0m {'log_reg__C': 0.01, 'log_reg__penalty': 'l2', 'log_reg__solver': 'newton-cg'}\n",
      "\u001b[1mAccuracy : 71.03%\u001b[0m\n",
      "\u001b[1mClassification report : \u001b[0m\n",
      "               precision    recall  f1-score   support\n",
      "\n",
      "           0       0.69      0.71      0.70       120\n",
      "           1       0.73      0.71      0.72       132\n",
      "\n",
      "    accuracy                           0.71       252\n",
      "   macro avg       0.71      0.71      0.71       252\n",
      "weighted avg       0.71      0.71      0.71       252\n",
      "\n",
      "\u001b[1mConfusion Matrix : \u001b[0m\n"
     ]
    },
    {
     "data": {
      "image/png": "[encoded data removed]",
      "text/plain": [
       "<Figure size 512x384 with 2 Axes>"
      ]
     },
     "metadata": {},
     "output_type": "display_data"
    }
   ],
   "source": [
    "from warnings import filterwarnings\n",
    "filterwarnings(\"ignore\")\n",
    "\n",
    "steps = [('scaler', StandardScaler()),\n",
    "         ('log_reg', LogisticRegression())]\n",
    "\n",
    "pipeline = Pipeline(steps)\n",
    "\n",
    "parameters = dict(log_reg__solver = ['newton-cg', 'lbfgs', 'liblinear'],\n",
    "                  log_reg__penalty =  ['l2'],\n",
    "                  log_reg__C = [100, 10, 1.0, 0.1, 0.01])\n",
    "\n",
    "\n",
    "cv = GridSearchCV(pipeline,\n",
    "                  param_grid = parameters,\n",
    "                  cv = 5,\n",
    "                  scoring = 'accuracy',\n",
    "                  n_jobs = -1,\n",
    "                  error_score = 0.0)\n",
    "\n",
    "cv.fit(X_train, y_train)\n",
    "y_pred = cv.predict(X_test)\n",
    "log_accuracy = accuracy_score(y_pred, y_test) * 100\n",
    "\n",
    "print('\\033[1m' +'Best parameters : '+ '\\033[0m', cv.best_params_)\n",
    "print('\\033[1m' +'Accuracy : {:.2f}%'.format(log_accuracy) + '\\033[0m')\n",
    "print('\\033[1m' +'Classification report : '+ '\\033[0m\\n', classification_report(y_test, y_pred))\n",
    "\n",
    "cm = confusion_matrix(y_pred, y_test)\n",
    "print('\\033[1m' +'Confusion Matrix : '+ '\\033[0m')\n",
    "plt.figure(dpi=80)\n",
    "sns.heatmap(cm, cmap = 'RdYlGn',annot = True, fmt='d')\n",
    "plt.show()"
   ]
  }
 ],
 "metadata": {
  "kernelspec": {
   "display_name": "Python 3 (ipykernel)",
   "language": "python",
   "name": "python3"
  },
  "language_info": {
   "codemirror_mode": {
    "name": "ipython",
    "version": 3
   },
   "file_extension": ".py",
   "mimetype": "text/x-python",
   "name": "python",
   "nbconvert_exporter": "python",
   "pygments_lexer": "ipython3",
   "version": "3.9.13"
  }
 },
 "nbformat": 4,
 "nbformat_minor": 5
}
